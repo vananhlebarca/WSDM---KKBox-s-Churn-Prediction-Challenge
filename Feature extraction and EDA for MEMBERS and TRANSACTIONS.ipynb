{
 "cells": [
  {
   "cell_type": "markdown",
   "metadata": {},
   "source": [
    "## **Feature extraction and EDA for MEMBERS and TRANSACTIONS**\n",
    "\n",
    "**1. Members** <br>\n",
    "  1.1 Loading <br>\n",
    "  1.2 Merging with train and test, and filling missing values <br>\n",
    "  1.3 Univariate EDA <br>\n",
    "  1.4 Multivariate EDA <br>\n",
    "  \n",
    "**2. Transactions** <br>\n",
    "  2.1 Loading <br>\n",
    "  2.2 Merging with train and test <br>\n",
    "  2.3 Univariate EDA <br>\n",
    "  2.4 Multivariate EDA <br>\n",
    "  2.5 Featuring and EDA again <br>\n",
    "\n",
    "**Run 1:** train.csv has the cutoff date of 2017/01/31 and sample_submission_v2.csv hase the cutoff date of 2017/03/31<br>\n",
    "> ***Input files:*** \n",
    ">>train.csv <br>\n",
    ">>sample_submission_v2.csv <br>\n",
    ">>members_v3.csv <br>\n",
    ">>transactions.csv <br>\n",
    ">>transactions_v2.csv <br>\n",
    "\n",
    "> ***Output files:***\n",
    ">>*train_trans_mems.csv*<br>\n",
    ">>*test_trans_mems.csv*<br>\n",
    "\n",
    "\n",
    "**Run 2:** train_v2.csv has the cutoff date of 2017/02/28 <br>\n",
    "> ***Input files:*** \n",
    ">>train_v2.csv <br>\n",
    ">>members_v3.csv <br>\n",
    ">>transactions.csv <br>\n",
    ">>transactions_v2.csv <br>\n",
    "\n",
    "> ***Output files:***\n",
    ">>*train_v2_trans_mems.csv*<br>\n"
   ]
  },
  {
   "cell_type": "code",
   "execution_count": 1,
   "metadata": {},
   "outputs": [],
   "source": [
    "import numpy as np\n",
    "import pandas as pd\n",
    "import os\n",
    "import random\n",
    "import matplotlib.pyplot as plt\n",
    "import seaborn as sns\n",
    "%matplotlib inline\n",
    "import gc"
   ]
  },
  {
   "cell_type": "code",
   "execution_count": 3,
   "metadata": {},
   "outputs": [],
   "source": [
    "def change_datatype_numeric(df):\n",
    "    int_cols = list(df.select_dtypes(include=['int64','int32','int16']).columns)\n",
    "    df[int_cols] = df[int_cols].apply(pd.to_numeric,downcast='unsigned')\n",
    "    \n",
    "    float_cols = list(df.select_dtypes(include=['float']).columns)\n",
    "    df[float_cols] = df[float_cols].apply(pd.to_numeric,downcast='float')"
   ]
  },
  {
   "cell_type": "code",
   "execution_count": 4,
   "metadata": {},
   "outputs": [
    {
     "data": {
      "text/plain": [
       "(992931, 2)"
      ]
     },
     "execution_count": 4,
     "metadata": {},
     "output_type": "execute_result"
    }
   ],
   "source": [
    "#---------------------train_v2 -----------------(Note: train.csv has different cut off date, so it will be processed separately)\n",
    "#train = pd.read_csv('..\\\\data\\\\refresh\\\\train_v2.csv')\n",
    "#train.shape\n",
    "\n",
    "train = pd.read_csv('..\\\\data\\\\train.csv')\n",
    "train.shape"
   ]
  },
  {
   "cell_type": "code",
   "execution_count": 5,
   "metadata": {},
   "outputs": [
    {
     "name": "stdout",
     "output_type": "stream",
     "text": [
      "original train accounts for  15.1510009765625 MB\n",
      "changed train accounts for  8.52247142791748 MB\n"
     ]
    }
   ],
   "source": [
    "# Change data type for train\n",
    "train_size = train.memory_usage(index=True).sum()\n",
    "print('original train accounts for ',train_size/ 1024**2, 'MB')\n",
    "\n",
    "change_datatype(train)\n",
    "\n",
    "train_size = train.memory_usage(index=True).sum()\n",
    "print('changed train accounts for ',train_size/ 1024**2, 'MB')"
   ]
  },
  {
   "cell_type": "code",
   "execution_count": 6,
   "metadata": {},
   "outputs": [
    {
     "data": {
      "text/plain": [
       "(907471, 2)"
      ]
     },
     "execution_count": 6,
     "metadata": {},
     "output_type": "execute_result"
    }
   ],
   "source": [
    "#--------test----------------------\n",
    "test = pd.read_csv('..\\\\data\\\\refresh\\\\sample_submission_v2.csv')\n",
    "test.shape"
   ]
  },
  {
   "cell_type": "code",
   "execution_count": 7,
   "metadata": {},
   "outputs": [],
   "source": [
    "change_datatype(test)"
   ]
  },
  {
   "cell_type": "markdown",
   "metadata": {},
   "source": [
    "# 1. Members\n"
   ]
  },
  {
   "cell_type": "markdown",
   "metadata": {},
   "source": [
    "## 1.1 Loading Members"
   ]
  },
  {
   "cell_type": "code",
   "execution_count": 8,
   "metadata": {},
   "outputs": [
    {
     "data": {
      "text/plain": [
       "(6769473, 6)"
      ]
     },
     "execution_count": 8,
     "metadata": {},
     "output_type": "execute_result"
    }
   ],
   "source": [
    "#--------member--------------------\n",
    "members = pd.read_csv('..\\\\data\\\\members_v3.csv')\n",
    "members.shape"
   ]
  },
  {
   "cell_type": "code",
   "execution_count": 9,
   "metadata": {
    "scrolled": true
   },
   "outputs": [
    {
     "name": "stdout",
     "output_type": "stream",
     "text": [
      "<class 'pandas.core.frame.DataFrame'>\n",
      "RangeIndex: 6769473 entries, 0 to 6769472\n",
      "Data columns (total 6 columns):\n",
      "msno                      object\n",
      "city                      int64\n",
      "bd                        int64\n",
      "gender                    object\n",
      "registered_via            int64\n",
      "registration_init_time    int64\n",
      "dtypes: int64(4), object(2)\n",
      "memory usage: 309.9+ MB\n"
     ]
    }
   ],
   "source": [
    "members.info()"
   ]
  },
  {
   "cell_type": "code",
   "execution_count": 10,
   "metadata": {},
   "outputs": [
    {
     "name": "stdout",
     "output_type": "stream",
     "text": [
      "original members account for  309.8819580078125 MB\n",
      "changed members account for  154.9410171508789 MB\n"
     ]
    }
   ],
   "source": [
    "# Change data type for members\n",
    "members_size = members.memory_usage(index=True).sum()\n",
    "print('original members account for ',members_size / 1024**2, 'MB')\n",
    "\n",
    "change_datatype(members)\n",
    "\n",
    "members_size  = members.memory_usage(index=True).sum()\n",
    "print('changed members account for ',members_size / 1024**2, 'MB')"
   ]
  },
  {
   "cell_type": "code",
   "execution_count": 11,
   "metadata": {},
   "outputs": [
    {
     "name": "stdout",
     "output_type": "stream",
     "text": [
      "<class 'pandas.core.frame.DataFrame'>\n",
      "RangeIndex: 6769473 entries, 0 to 6769472\n",
      "Data columns (total 6 columns):\n",
      "msno                      object\n",
      "city                      int8\n",
      "bd                        int16\n",
      "gender                    object\n",
      "registered_via            int8\n",
      "registration_init_time    int32\n",
      "dtypes: int16(1), int32(1), int8(2), object(2)\n",
      "memory usage: 154.9+ MB\n"
     ]
    }
   ],
   "source": [
    "members.info()"
   ]
  },
  {
   "cell_type": "code",
   "execution_count": 12,
   "metadata": {},
   "outputs": [
    {
     "data": {
      "text/plain": [
       "msno                            0\n",
       "city                            0\n",
       "bd                              0\n",
       "gender                    4429505\n",
       "registered_via                  0\n",
       "registration_init_time          0\n",
       "dtype: int64"
      ]
     },
     "execution_count": 12,
     "metadata": {},
     "output_type": "execute_result"
    }
   ],
   "source": [
    "members.isnull().sum()"
   ]
  },
  {
   "cell_type": "code",
   "execution_count": 13,
   "metadata": {},
   "outputs": [],
   "source": [
    "members.fillna('unknown',inplace = True)"
   ]
  },
  {
   "cell_type": "markdown",
   "metadata": {},
   "source": [
    "## 1.2 Merging with train and test"
   ]
  },
  {
   "cell_type": "code",
   "execution_count": 14,
   "metadata": {},
   "outputs": [
    {
     "data": {
      "text/plain": [
       "(992931, 7)"
      ]
     },
     "execution_count": 14,
     "metadata": {},
     "output_type": "execute_result"
    }
   ],
   "source": [
    "train_members = pd.merge(train,members,on='msno',how='left')\n",
    "train_members.shape"
   ]
  },
  {
   "cell_type": "code",
   "execution_count": 15,
   "metadata": {},
   "outputs": [
    {
     "data": {
      "text/plain": [
       "msno                           0\n",
       "is_churn                       0\n",
       "city                      115770\n",
       "bd                        115770\n",
       "gender                    115770\n",
       "registered_via            115770\n",
       "registration_init_time    115770\n",
       "dtype: int64"
      ]
     },
     "execution_count": 15,
     "metadata": {},
     "output_type": "execute_result"
    }
   ],
   "source": [
    "train_members.isnull().sum()"
   ]
  },
  {
   "cell_type": "code",
   "execution_count": 16,
   "metadata": {},
   "outputs": [
    {
     "data": {
      "text/plain": [
       "(907471, 7)"
      ]
     },
     "execution_count": 16,
     "metadata": {},
     "output_type": "execute_result"
    }
   ],
   "source": [
    "test_members = pd.merge(test,members,on='msno',how='left')\n",
    "test_members.shape"
   ]
  },
  {
   "cell_type": "code",
   "execution_count": 17,
   "metadata": {},
   "outputs": [
    {
     "data": {
      "text/plain": [
       "msno                           0\n",
       "is_churn                       0\n",
       "city                      112381\n",
       "bd                        112381\n",
       "gender                    112381\n",
       "registered_via            112381\n",
       "registration_init_time    112381\n",
       "dtype: int64"
      ]
     },
     "execution_count": 17,
     "metadata": {},
     "output_type": "execute_result"
    }
   ],
   "source": [
    "test_members.isnull().sum()"
   ]
  },
  {
   "cell_type": "code",
   "execution_count": 18,
   "metadata": {},
   "outputs": [],
   "source": [
    "all_members = pd.concat([train_members,test_members])"
   ]
  },
  {
   "cell_type": "code",
   "execution_count": 19,
   "metadata": {},
   "outputs": [],
   "source": [
    "train_members['city'].fillna(all_members['city'].mode().values[0],inplace=True)\n",
    "test_members['city'].fillna(all_members['city'].mode().values[0],inplace = True)"
   ]
  },
  {
   "cell_type": "code",
   "execution_count": 20,
   "metadata": {},
   "outputs": [],
   "source": [
    "train_members['bd'].fillna(all_members['bd'].median(),inplace=True)\n",
    "test_members['bd'].fillna(all_members['bd'].median(),inplace = True)"
   ]
  },
  {
   "cell_type": "code",
   "execution_count": 21,
   "metadata": {},
   "outputs": [],
   "source": [
    "train_members['bd'] = train_members['bd'].astype(np.int16,)\n",
    "test_members['bd'] = test_members['bd'].astype(np.int16)"
   ]
  },
  {
   "cell_type": "code",
   "execution_count": 22,
   "metadata": {},
   "outputs": [],
   "source": [
    "train_members['gender'].fillna('unknown',inplace=True)\n",
    "test_members['gender'].fillna('unknown',inplace = True)"
   ]
  },
  {
   "cell_type": "code",
   "execution_count": 23,
   "metadata": {},
   "outputs": [],
   "source": [
    "train_members['registered_via'].fillna(all_members['registered_via'].mode().values[0],inplace=True)\n",
    "test_members['registered_via'].fillna(all_members['registered_via'].mode().values[0],inplace = True)"
   ]
  },
  {
   "cell_type": "code",
   "execution_count": 24,
   "metadata": {},
   "outputs": [],
   "source": [
    "train_members['registration_init_time'].fillna(all_members['registration_init_time'].mode().values[0],inplace=True)\n",
    "test_members['registration_init_time'].fillna(all_members['registration_init_time'].mode().values[0],inplace = True)"
   ]
  },
  {
   "cell_type": "code",
   "execution_count": 25,
   "metadata": {},
   "outputs": [],
   "source": [
    "train_members.iloc[:,[2,3,4,5,6]] = train_members.iloc[:,[2,3,4,5,6]].astype(members.iloc[:,[1,2,3,4,5]].dtypes)\n",
    "test_members.iloc[:,[2,3,4,5,6]] = test_members.iloc[:,[2,3,4,5,6]] .astype(members.iloc[:,[1,2,3,4,5]].dtypes)\n"
   ]
  },
  {
   "cell_type": "code",
   "execution_count": 26,
   "metadata": {},
   "outputs": [
    {
     "data": {
      "text/plain": [
       "46"
      ]
     },
     "execution_count": 26,
     "metadata": {},
     "output_type": "execute_result"
    }
   ],
   "source": [
    "del members\n",
    "gc.collect()"
   ]
  },
  {
   "cell_type": "code",
   "execution_count": 27,
   "metadata": {},
   "outputs": [
    {
     "name": "stdout",
     "output_type": "stream",
     "text": [
      "<class 'pandas.core.frame.DataFrame'>\n",
      "Int64Index: 992931 entries, 0 to 992930\n",
      "Data columns (total 7 columns):\n",
      "msno                      992931 non-null object\n",
      "is_churn                  992931 non-null int8\n",
      "city                      992931 non-null int8\n",
      "bd                        992931 non-null int16\n",
      "gender                    992931 non-null object\n",
      "registered_via            992931 non-null int8\n",
      "registration_init_time    992931 non-null int32\n",
      "dtypes: int16(1), int32(1), int8(3), object(2)\n",
      "memory usage: 31.2+ MB\n"
     ]
    }
   ],
   "source": [
    "train_members.info()"
   ]
  },
  {
   "cell_type": "markdown",
   "metadata": {},
   "source": [
    "## 1.3 Univariate  EDA"
   ]
  },
  {
   "cell_type": "code",
   "execution_count": 28,
   "metadata": {},
   "outputs": [
    {
     "data": {
      "text/plain": [
       "<matplotlib.axes._subplots.AxesSubplot at 0xa8b07f0>"
      ]
     },
     "execution_count": 28,
     "metadata": {},
     "output_type": "execute_result"
    },
    {
     "data": {
      "image/png": "[encoded data removed]",
      "text/plain": [
       "<Figure size 432x288 with 1 Axes>"
      ]
     },
     "metadata": {},
     "output_type": "display_data"
    }
   ],
   "source": [
    "sns.countplot(x='is_churn',data=train_members)"
   ]
  },
  {
   "cell_type": "code",
   "execution_count": 29,
   "metadata": {},
   "outputs": [
    {
     "data": {
      "text/plain": [
       "Text(0.5,1,'city distribution in test set')"
      ]
     },
     "execution_count": 29,
     "metadata": {},
     "output_type": "execute_result"
    },
    {
     "data": {
      "image/png": "[encoded data removed]",
      "text/plain": [
       "<Figure size 576x432 with 2 Axes>"
      ]
     },
     "metadata": {},
     "output_type": "display_data"
    }
   ],
   "source": [
    "fig = plt.figure(figsize=(8,6))\n",
    "ax1 = fig.add_subplot(211)\n",
    "ax2 = fig.add_subplot(212)\n",
    "\n",
    "sns.countplot(x='city',data=train_members, ax=ax1)\n",
    "ax1.set_title('city distribution in train set',pad=-15)\n",
    "\n",
    "sns.countplot(x='city',data=test_members, ax=ax2)\n",
    "ax2.set_title('city distribution in test set',pad=-15)"
   ]
  },
  {
   "cell_type": "code",
   "execution_count": 30,
   "metadata": {},
   "outputs": [
    {
     "data": {
      "text/plain": [
       "Text(0.5,1,'age distribution in test set')"
      ]
     },
     "execution_count": 30,
     "metadata": {},
     "output_type": "execute_result"
    },
    {
     "data": {
      "image/png": "[encoded data removed]",
      "text/plain": [
       "<Figure size 576x432 with 2 Axes>"
      ]
     },
     "metadata": {},
     "output_type": "display_data"
    }
   ],
   "source": [
    "#---bd is age ?\n",
    "fig = plt.figure(figsize=(8,6))\n",
    "ax1 = fig.add_subplot(211)\n",
    "ax2 = fig.add_subplot(212)\n",
    "\n",
    "train_members[(train_members['bd']>=0) & (train_members['bd']<=120)]['bd'].hist(bins=20,ax=ax1)\n",
    "ax1.set_title('age distribution in train set',pad=-15)\n",
    "\n",
    "test_members[(test_members['bd']>=0) & (test_members['bd']<=120)]['bd'].hist(bins=20,ax=ax2)\n",
    "ax2.set_title('age distribution in test set',pad=-15)"
   ]
  },
  {
   "cell_type": "code",
   "execution_count": 31,
   "metadata": {},
   "outputs": [
    {
     "data": {
      "text/plain": [
       "Text(1,1,'test set')"
      ]
     },
     "execution_count": 31,
     "metadata": {},
     "output_type": "execute_result"
    },
    {
     "data": {
      "image/png": "[encoded data removed]",
      "text/plain": [
       "<Figure size 576x432 with 2 Axes>"
      ]
     },
     "metadata": {},
     "output_type": "display_data"
    }
   ],
   "source": [
    "fig = plt.figure(figsize=(8,6))\n",
    "ax1 = fig.add_subplot(211)\n",
    "ax2 = fig.add_subplot(212)\n",
    "\n",
    "sns.countplot(x='gender',data=train_members, ax=ax1)\n",
    "ax1.set_title('train set',pad=0,loc='right')\n",
    "\n",
    "sns.countplot(x='gender',data=test_members, ax=ax2)\n",
    "ax2.set_title('test set',pad=0,loc='right')"
   ]
  },
  {
   "cell_type": "code",
   "execution_count": 32,
   "metadata": {},
   "outputs": [
    {
     "data": {
      "text/plain": [
       "Text(1,1,'test set')"
      ]
     },
     "execution_count": 32,
     "metadata": {},
     "output_type": "execute_result"
    },
    {
     "data": {
      "image/png": "[encoded data removed]",
      "text/plain": [
       "<Figure size 576x432 with 2 Axes>"
      ]
     },
     "metadata": {},
     "output_type": "display_data"
    }
   ],
   "source": [
    "fig = plt.figure(figsize=(8,6))\n",
    "ax1 = fig.add_subplot(211)\n",
    "ax2 = fig.add_subplot(212)\n",
    "\n",
    "sns.countplot(x='registered_via',data=train_members, ax=ax1)\n",
    "ax1.set_title('train set',pad=0,loc='right')\n",
    "\n",
    "sns.countplot(x='registered_via',data=test_members, ax=ax2)\n",
    "ax2.set_title('test set',pad=0,loc='right')"
   ]
  },
  {
   "cell_type": "code",
   "execution_count": 33,
   "metadata": {},
   "outputs": [
    {
     "data": {
      "text/plain": [
       "Text(0.5,1,'test set')"
      ]
     },
     "execution_count": 33,
     "metadata": {},
     "output_type": "execute_result"
    },
    {
     "data": {
      "image/png": "[encoded data removed]",
      "text/plain": [
       "<Figure size 576x432 with 2 Axes>"
      ]
     },
     "metadata": {},
     "output_type": "display_data"
    }
   ],
   "source": [
    "fig = plt.figure(figsize=(8,6))\n",
    "ax1 = fig.add_subplot(211)\n",
    "ax2 = fig.add_subplot(212)\n",
    "\n",
    "train_members['registration_init_time'].hist(bins=13,ax=ax1)\n",
    "ax1.set_title('train set',pad=-15)\n",
    "test_members['registration_init_time'].hist(bins=13,ax=ax2)\n",
    "ax2.set_title('test set',pad=-15)\n"
   ]
  },
  {
   "cell_type": "markdown",
   "metadata": {},
   "source": [
    "## 1.4 Multivariate EDA"
   ]
  },
  {
   "cell_type": "code",
   "execution_count": 34,
   "metadata": {},
   "outputs": [
    {
     "data": {
      "text/plain": [
       "Text(0.5,1,'percentage of users churning in cities')"
      ]
     },
     "execution_count": 34,
     "metadata": {},
     "output_type": "execute_result"
    },
    {
     "data": {
      "image/png": "[encoded data removed]",
      "text/plain": [
       "<Figure size 576x432 with 2 Axes>"
      ]
     },
     "metadata": {},
     "output_type": "display_data"
    }
   ],
   "source": [
    "# 'is_churn' VS 'city'\n",
    "fig = plt.figure(figsize=(8,6))\n",
    "ax1 = fig.add_subplot(211)\n",
    "ax2 = fig.add_subplot(212)\n",
    "\n",
    "sns.countplot(x='city',data=train_members,hue='is_churn',ax=ax1)\n",
    "ax1.set_title('Is_churn in cities',pad=-15)\n",
    "sns.barplot(np.delete(np.arange(1,23,1),1),np.array(train_members.groupby(by='city')['is_churn'].mean()),ax=ax2)\n",
    "ax2.set_title('percentage of users churning in cities',pad=-15)\n"
   ]
  },
  {
   "cell_type": "code",
   "execution_count": 35,
   "metadata": {
    "scrolled": true
   },
   "outputs": [
    {
     "data": {
      "text/plain": [
       "Text(0.5,1,'percentage of users churning using register_via')"
      ]
     },
     "execution_count": 35,
     "metadata": {},
     "output_type": "execute_result"
    },
    {
     "data": {
      "image/png": "[encoded data removed]",
      "text/plain": [
       "<Figure size 576x432 with 2 Axes>"
      ]
     },
     "metadata": {},
     "output_type": "display_data"
    }
   ],
   "source": [
    "# 'is_churn' VS 'registered_via'\n",
    "fig = plt.figure(figsize=(8,6))\n",
    "ax1 = fig.add_subplot(211)\n",
    "ax2 = fig.add_subplot(212)\n",
    "\n",
    "sns.countplot(x='registered_via',data=train_members,hue='is_churn',ax=ax1)\n",
    "ax1.set_title('Is_churn in register methods',pad=0)\n",
    "\n",
    "sns.barplot([3,4,7,9,13],np.array(train_members.groupby(by='registered_via')['is_churn'].mean()),ax=ax2)\n",
    "ax2.set_title('percentage of users churning using register_via',pad=-15)\n"
   ]
  },
  {
   "cell_type": "code",
   "execution_count": 36,
   "metadata": {},
   "outputs": [],
   "source": [
    "#  'is_churn' VS 'year'\n",
    "train_members['registration_init_date']=pd.to_datetime(train_members['registration_init_time'],format='%Y%m%d')\n",
    "test_members['registration_init_date']=pd.to_datetime(test_members['registration_init_time'],format='%Y%m%d')"
   ]
  },
  {
   "cell_type": "code",
   "execution_count": 37,
   "metadata": {},
   "outputs": [],
   "source": [
    "train_members['year'] = pd.DatetimeIndex(train_members['registration_init_date']).year\n",
    "test_members['year'] = pd.DatetimeIndex(test_members['registration_init_date']).year"
   ]
  },
  {
   "cell_type": "code",
   "execution_count": 38,
   "metadata": {},
   "outputs": [],
   "source": [
    "train_members['month'] = pd.DatetimeIndex(train_members['registration_init_date']).month\n",
    "test_members['month'] = pd.DatetimeIndex(test_members['registration_init_date']).month"
   ]
  },
  {
   "cell_type": "code",
   "execution_count": 39,
   "metadata": {},
   "outputs": [
    {
     "data": {
      "text/plain": [
       "Text(0.5,1,'percentage of users churning in years')"
      ]
     },
     "execution_count": 39,
     "metadata": {},
     "output_type": "execute_result"
    },
    {
     "data": {
      "image/png": "[encoded data removed]",
      "text/plain": [
       "<Figure size 576x432 with 2 Axes>"
      ]
     },
     "metadata": {},
     "output_type": "display_data"
    }
   ],
   "source": [
    "fig = plt.figure(figsize=(8,6))\n",
    "ax1 = fig.add_subplot(211)\n",
    "ax2 = fig.add_subplot(212)\n",
    "\n",
    "sns.countplot(x='year',data=train_members,hue='is_churn',ax=ax1)\n",
    "sns.barplot(np.arange(2004,2018,1),np.array(train_members.groupby(by='year')['is_churn'].mean()),ax=ax2)\n",
    "ax2.set_title('percentage of users churning in years',pad=-15)"
   ]
  },
  {
   "cell_type": "code",
   "execution_count": 40,
   "metadata": {},
   "outputs": [
    {
     "data": {
      "text/plain": [
       "<matplotlib.axes._subplots.AxesSubplot at 0xb018da0>"
      ]
     },
     "execution_count": 40,
     "metadata": {},
     "output_type": "execute_result"
    },
    {
     "data": {
      "image/png": "[encoded data removed]",
      "text/plain": [
       "<Figure size 576x432 with 2 Axes>"
      ]
     },
     "metadata": {},
     "output_type": "display_data"
    }
   ],
   "source": [
    "fig = plt.figure(figsize=(8,6))\n",
    "ax1 = fig.add_subplot(211)\n",
    "ax2 = fig.add_subplot(212)\n",
    "\n",
    "sns.countplot(x='month',data=train_members,hue='is_churn',ax=ax1)\n",
    "sns.barplot(np.arange(1,13,1),np.array(train_members.groupby(by='month')['is_churn'].mean()),ax=ax2)"
   ]
  },
  {
   "cell_type": "code",
   "execution_count": 41,
   "metadata": {},
   "outputs": [],
   "source": [
    "data_train = train_members\n",
    "data_test = test_members"
   ]
  },
  {
   "cell_type": "code",
   "execution_count": 42,
   "metadata": {},
   "outputs": [],
   "source": [
    "#data_train = train_members.drop(labels=['registration_init_time','registration_init_date'],axis=1)\n",
    "#data_test = test_members.drop(labels=['registration_init_time','registration_init_date'],axis=1)"
   ]
  },
  {
   "cell_type": "code",
   "execution_count": 43,
   "metadata": {},
   "outputs": [
    {
     "data": {
      "text/plain": [
       "15"
      ]
     },
     "execution_count": 43,
     "metadata": {},
     "output_type": "execute_result"
    }
   ],
   "source": [
    "del train_members, test_members, all_members\n",
    "gc.collect()"
   ]
  },
  {
   "cell_type": "code",
   "execution_count": 44,
   "metadata": {},
   "outputs": [
    {
     "data": {
      "text/html": [
       "<div>\n",
       "<style scoped>\n",
       "    .dataframe tbody tr th:only-of-type {\n",
       "        vertical-align: middle;\n",
       "    }\n",
       "\n",
       "    .dataframe tbody tr th {\n",
       "        vertical-align: top;\n",
       "    }\n",
       "\n",
       "    .dataframe thead th {\n",
       "        text-align: right;\n",
       "    }\n",
       "</style>\n",
       "<table border=\"1\" class=\"dataframe\">\n",
       "  <thead>\n",
       "    <tr style=\"text-align: right;\">\n",
       "      <th></th>\n",
       "      <th>msno</th>\n",
       "      <th>is_churn</th>\n",
       "      <th>city</th>\n",
       "      <th>bd</th>\n",
       "      <th>gender</th>\n",
       "      <th>registered_via</th>\n",
       "      <th>registration_init_time</th>\n",
       "      <th>registration_init_date</th>\n",
       "      <th>year</th>\n",
       "      <th>month</th>\n",
       "    </tr>\n",
       "  </thead>\n",
       "  <tbody>\n",
       "    <tr>\n",
       "      <th>0</th>\n",
       "      <td>waLDQMmcOu2jLDaV1ddDkgCrB/jl6sD66Xzs0Vqax1Y=</td>\n",
       "      <td>1</td>\n",
       "      <td>18</td>\n",
       "      <td>36</td>\n",
       "      <td>female</td>\n",
       "      <td>9</td>\n",
       "      <td>20050406</td>\n",
       "      <td>2005-04-06</td>\n",
       "      <td>2005</td>\n",
       "      <td>4</td>\n",
       "    </tr>\n",
       "    <tr>\n",
       "      <th>1</th>\n",
       "      <td>QA7uiXy8vIbUSPOkCf9RwQ3FsT8jVq2OxDr8zqa7bRQ=</td>\n",
       "      <td>1</td>\n",
       "      <td>10</td>\n",
       "      <td>38</td>\n",
       "      <td>male</td>\n",
       "      <td>9</td>\n",
       "      <td>20050407</td>\n",
       "      <td>2005-04-07</td>\n",
       "      <td>2005</td>\n",
       "      <td>4</td>\n",
       "    </tr>\n",
       "    <tr>\n",
       "      <th>2</th>\n",
       "      <td>fGwBva6hikQmTJzrbz/2Ezjm5Cth5jZUNvXigKK2AFA=</td>\n",
       "      <td>1</td>\n",
       "      <td>11</td>\n",
       "      <td>27</td>\n",
       "      <td>female</td>\n",
       "      <td>9</td>\n",
       "      <td>20051016</td>\n",
       "      <td>2005-10-16</td>\n",
       "      <td>2005</td>\n",
       "      <td>10</td>\n",
       "    </tr>\n",
       "  </tbody>\n",
       "</table>\n",
       "</div>"
      ],
      "text/plain": [
       "                                           msno  is_churn  city  bd  gender  \\\n",
       "0  waLDQMmcOu2jLDaV1ddDkgCrB/jl6sD66Xzs0Vqax1Y=         1    18  36  female   \n",
       "1  QA7uiXy8vIbUSPOkCf9RwQ3FsT8jVq2OxDr8zqa7bRQ=         1    10  38    male   \n",
       "2  fGwBva6hikQmTJzrbz/2Ezjm5Cth5jZUNvXigKK2AFA=         1    11  27  female   \n",
       "\n",
       "   registered_via  registration_init_time registration_init_date  year  month  \n",
       "0               9                20050406             2005-04-06  2005      4  \n",
       "1               9                20050407             2005-04-07  2005      4  \n",
       "2               9                20051016             2005-10-16  2005     10  "
      ]
     },
     "execution_count": 44,
     "metadata": {},
     "output_type": "execute_result"
    }
   ],
   "source": [
    "data_train.head(3)"
   ]
  },
  {
   "cell_type": "markdown",
   "metadata": {},
   "source": [
    "# 2. Transactions"
   ]
  },
  {
   "cell_type": "markdown",
   "metadata": {},
   "source": [
    "## 2.1 Loading Transactions"
   ]
  },
  {
   "cell_type": "code",
   "execution_count": 45,
   "metadata": {},
   "outputs": [
    {
     "data": {
      "text/plain": [
       "(1431009, 9)"
      ]
     },
     "execution_count": 45,
     "metadata": {},
     "output_type": "execute_result"
    }
   ],
   "source": [
    "#----------transaction---------------------\n",
    "transactions_v2 = pd.read_csv('..\\\\data\\\\refresh\\\\transactions_v2.csv')\n",
    "transactions_v2.shape"
   ]
  },
  {
   "cell_type": "code",
   "execution_count": 46,
   "metadata": {},
   "outputs": [
    {
     "data": {
      "text/plain": [
       "(21547746, 9)"
      ]
     },
     "execution_count": 46,
     "metadata": {},
     "output_type": "execute_result"
    }
   ],
   "source": [
    "transactions = pd.read_csv('..\\\\data\\\\transactions.csv')\n",
    "transactions.shape"
   ]
  },
  {
   "cell_type": "code",
   "execution_count": 47,
   "metadata": {},
   "outputs": [],
   "source": [
    "transactions = pd.concat([transactions_v2,transactions])"
   ]
  },
  {
   "cell_type": "code",
   "execution_count": 48,
   "metadata": {},
   "outputs": [
    {
     "data": {
      "text/plain": [
       "7"
      ]
     },
     "execution_count": 48,
     "metadata": {},
     "output_type": "execute_result"
    }
   ],
   "source": [
    "del transactions_v2\n",
    "gc.collect()"
   ]
  },
  {
   "cell_type": "code",
   "execution_count": 49,
   "metadata": {},
   "outputs": [
    {
     "name": "stdout",
     "output_type": "stream",
     "text": [
      "Original transactions account for  1753.139877319336 MB\n",
      "Changed transactions account for  723.1701993942261 MB\n"
     ]
    }
   ],
   "source": [
    "# Change data type for transactions\n",
    "tran = transactions.memory_usage(index=True).sum()\n",
    "print('Original transactions account for ',tran/ 1024**2, 'MB')\n",
    "\n",
    "change_datatype(transactions)\n",
    "\n",
    "tran = transactions.memory_usage(index=True).sum()\n",
    "print('Changed transactions account for ',tran/ 1024**2, 'MB')"
   ]
  },
  {
   "cell_type": "code",
   "execution_count": 50,
   "metadata": {},
   "outputs": [
    {
     "data": {
      "text/html": [
       "<div>\n",
       "<style scoped>\n",
       "    .dataframe tbody tr th:only-of-type {\n",
       "        vertical-align: middle;\n",
       "    }\n",
       "\n",
       "    .dataframe tbody tr th {\n",
       "        vertical-align: top;\n",
       "    }\n",
       "\n",
       "    .dataframe thead th {\n",
       "        text-align: right;\n",
       "    }\n",
       "</style>\n",
       "<table border=\"1\" class=\"dataframe\">\n",
       "  <thead>\n",
       "    <tr style=\"text-align: right;\">\n",
       "      <th></th>\n",
       "      <th>msno</th>\n",
       "      <th>payment_method_id</th>\n",
       "      <th>payment_plan_days</th>\n",
       "      <th>plan_list_price</th>\n",
       "      <th>actual_amount_paid</th>\n",
       "      <th>is_auto_renew</th>\n",
       "      <th>transaction_date</th>\n",
       "      <th>membership_expire_date</th>\n",
       "      <th>is_cancel</th>\n",
       "    </tr>\n",
       "  </thead>\n",
       "  <tbody>\n",
       "    <tr>\n",
       "      <th>0</th>\n",
       "      <td>++6eU4LsQ3UQ20ILS7d99XK8WbiVgbyYL4FUgzZR134=</td>\n",
       "      <td>32</td>\n",
       "      <td>90</td>\n",
       "      <td>298</td>\n",
       "      <td>298</td>\n",
       "      <td>0</td>\n",
       "      <td>20170131</td>\n",
       "      <td>20170504</td>\n",
       "      <td>0</td>\n",
       "    </tr>\n",
       "    <tr>\n",
       "      <th>1</th>\n",
       "      <td>++lvGPJOinuin/8esghpnqdljm6NXS8m8Zwchc7gOeA=</td>\n",
       "      <td>41</td>\n",
       "      <td>30</td>\n",
       "      <td>149</td>\n",
       "      <td>149</td>\n",
       "      <td>1</td>\n",
       "      <td>20150809</td>\n",
       "      <td>20190412</td>\n",
       "      <td>0</td>\n",
       "    </tr>\n",
       "    <tr>\n",
       "      <th>2</th>\n",
       "      <td>+/GXNtXWQVfKrEDqYAzcSw2xSPYMKWNj22m+5XkVQZc=</td>\n",
       "      <td>36</td>\n",
       "      <td>30</td>\n",
       "      <td>180</td>\n",
       "      <td>180</td>\n",
       "      <td>1</td>\n",
       "      <td>20170303</td>\n",
       "      <td>20170422</td>\n",
       "      <td>0</td>\n",
       "    </tr>\n",
       "    <tr>\n",
       "      <th>3</th>\n",
       "      <td>+/w1UrZwyka4C9oNH3+Q8fUf3fD8R3EwWrx57ODIsqk=</td>\n",
       "      <td>36</td>\n",
       "      <td>30</td>\n",
       "      <td>180</td>\n",
       "      <td>180</td>\n",
       "      <td>1</td>\n",
       "      <td>20170329</td>\n",
       "      <td>20170331</td>\n",
       "      <td>1</td>\n",
       "    </tr>\n",
       "    <tr>\n",
       "      <th>4</th>\n",
       "      <td>+00PGzKTYqtnb65mPKPyeHXcZEwqiEzktpQksaaSC3c=</td>\n",
       "      <td>41</td>\n",
       "      <td>30</td>\n",
       "      <td>99</td>\n",
       "      <td>99</td>\n",
       "      <td>1</td>\n",
       "      <td>20170323</td>\n",
       "      <td>20170423</td>\n",
       "      <td>0</td>\n",
       "    </tr>\n",
       "  </tbody>\n",
       "</table>\n",
       "</div>"
      ],
      "text/plain": [
       "                                           msno  payment_method_id  \\\n",
       "0  ++6eU4LsQ3UQ20ILS7d99XK8WbiVgbyYL4FUgzZR134=                 32   \n",
       "1  ++lvGPJOinuin/8esghpnqdljm6NXS8m8Zwchc7gOeA=                 41   \n",
       "2  +/GXNtXWQVfKrEDqYAzcSw2xSPYMKWNj22m+5XkVQZc=                 36   \n",
       "3  +/w1UrZwyka4C9oNH3+Q8fUf3fD8R3EwWrx57ODIsqk=                 36   \n",
       "4  +00PGzKTYqtnb65mPKPyeHXcZEwqiEzktpQksaaSC3c=                 41   \n",
       "\n",
       "   payment_plan_days  plan_list_price  actual_amount_paid  is_auto_renew  \\\n",
       "0                 90              298                 298              0   \n",
       "1                 30              149                 149              1   \n",
       "2                 30              180                 180              1   \n",
       "3                 30              180                 180              1   \n",
       "4                 30               99                  99              1   \n",
       "\n",
       "   transaction_date  membership_expire_date  is_cancel  \n",
       "0          20170131                20170504          0  \n",
       "1          20150809                20190412          0  \n",
       "2          20170303                20170422          0  \n",
       "3          20170329                20170331          1  \n",
       "4          20170323                20170423          0  "
      ]
     },
     "execution_count": 50,
     "metadata": {},
     "output_type": "execute_result"
    }
   ],
   "source": [
    "transactions.head()"
   ]
  },
  {
   "cell_type": "markdown",
   "metadata": {},
   "source": [
    "## 2.2 Merging with train and test set"
   ]
  },
  {
   "cell_type": "code",
   "execution_count": 51,
   "metadata": {},
   "outputs": [
    {
     "data": {
      "text/plain": [
       "(17017504, 10)"
      ]
     },
     "execution_count": 51,
     "metadata": {},
     "output_type": "execute_result"
    }
   ],
   "source": [
    "train_transactions = pd.merge(train,transactions.sort_values(by=['msno','transaction_date']),on='msno',how='left')\n",
    "train_transactions.shape"
   ]
  },
  {
   "cell_type": "code",
   "execution_count": 52,
   "metadata": {},
   "outputs": [
    {
     "data": {
      "text/plain": [
       "(14545180, 10)"
      ]
     },
     "execution_count": 52,
     "metadata": {},
     "output_type": "execute_result"
    }
   ],
   "source": [
    "test_transactions = pd.merge(test,transactions.sort_values(by=['msno','transaction_date']),on='msno',how='left')\n",
    "test_transactions.shape"
   ]
  },
  {
   "cell_type": "code",
   "execution_count": 53,
   "metadata": {},
   "outputs": [
    {
     "data": {
      "text/plain": [
       "msno                      0\n",
       "is_churn                  0\n",
       "payment_method_id         0\n",
       "payment_plan_days         0\n",
       "plan_list_price           0\n",
       "actual_amount_paid        0\n",
       "is_auto_renew             0\n",
       "transaction_date          0\n",
       "membership_expire_date    0\n",
       "is_cancel                 0\n",
       "dtype: int64"
      ]
     },
     "execution_count": 53,
     "metadata": {},
     "output_type": "execute_result"
    }
   ],
   "source": [
    "train_transactions.isnull().sum()"
   ]
  },
  {
   "cell_type": "code",
   "execution_count": 54,
   "metadata": {},
   "outputs": [
    {
     "data": {
      "text/plain": [
       "msno                      0\n",
       "is_churn                  0\n",
       "payment_method_id         0\n",
       "payment_plan_days         0\n",
       "plan_list_price           0\n",
       "actual_amount_paid        0\n",
       "is_auto_renew             0\n",
       "transaction_date          0\n",
       "membership_expire_date    0\n",
       "is_cancel                 0\n",
       "dtype: int64"
      ]
     },
     "execution_count": 54,
     "metadata": {},
     "output_type": "execute_result"
    }
   ],
   "source": [
    "test_transactions.isnull().sum()"
   ]
  },
  {
   "cell_type": "code",
   "execution_count": 55,
   "metadata": {},
   "outputs": [
    {
     "data": {
      "text/plain": [
       "7"
      ]
     },
     "execution_count": 55,
     "metadata": {},
     "output_type": "execute_result"
    }
   ],
   "source": [
    "del transactions\n",
    "gc.collect()"
   ]
  },
  {
   "cell_type": "code",
   "execution_count": 56,
   "metadata": {},
   "outputs": [
    {
     "data": {
      "text/html": [
       "<div>\n",
       "<style scoped>\n",
       "    .dataframe tbody tr th:only-of-type {\n",
       "        vertical-align: middle;\n",
       "    }\n",
       "\n",
       "    .dataframe tbody tr th {\n",
       "        vertical-align: top;\n",
       "    }\n",
       "\n",
       "    .dataframe thead th {\n",
       "        text-align: right;\n",
       "    }\n",
       "</style>\n",
       "<table border=\"1\" class=\"dataframe\">\n",
       "  <thead>\n",
       "    <tr style=\"text-align: right;\">\n",
       "      <th></th>\n",
       "      <th>msno</th>\n",
       "      <th>is_churn</th>\n",
       "      <th>payment_method_id</th>\n",
       "      <th>payment_plan_days</th>\n",
       "      <th>plan_list_price</th>\n",
       "      <th>actual_amount_paid</th>\n",
       "      <th>is_auto_renew</th>\n",
       "      <th>transaction_date</th>\n",
       "      <th>membership_expire_date</th>\n",
       "      <th>is_cancel</th>\n",
       "    </tr>\n",
       "  </thead>\n",
       "  <tbody>\n",
       "    <tr>\n",
       "      <th>0</th>\n",
       "      <td>waLDQMmcOu2jLDaV1ddDkgCrB/jl6sD66Xzs0Vqax1Y=</td>\n",
       "      <td>1</td>\n",
       "      <td>38</td>\n",
       "      <td>7</td>\n",
       "      <td>0</td>\n",
       "      <td>0</td>\n",
       "      <td>0</td>\n",
       "      <td>20161031</td>\n",
       "      <td>20161107</td>\n",
       "      <td>0</td>\n",
       "    </tr>\n",
       "    <tr>\n",
       "      <th>1</th>\n",
       "      <td>waLDQMmcOu2jLDaV1ddDkgCrB/jl6sD66Xzs0Vqax1Y=</td>\n",
       "      <td>1</td>\n",
       "      <td>38</td>\n",
       "      <td>30</td>\n",
       "      <td>149</td>\n",
       "      <td>149</td>\n",
       "      <td>0</td>\n",
       "      <td>20170107</td>\n",
       "      <td>20170206</td>\n",
       "      <td>0</td>\n",
       "    </tr>\n",
       "    <tr>\n",
       "      <th>2</th>\n",
       "      <td>QA7uiXy8vIbUSPOkCf9RwQ3FsT8jVq2OxDr8zqa7bRQ=</td>\n",
       "      <td>1</td>\n",
       "      <td>39</td>\n",
       "      <td>31</td>\n",
       "      <td>149</td>\n",
       "      <td>149</td>\n",
       "      <td>1</td>\n",
       "      <td>20150131</td>\n",
       "      <td>20150321</td>\n",
       "      <td>0</td>\n",
       "    </tr>\n",
       "    <tr>\n",
       "      <th>3</th>\n",
       "      <td>QA7uiXy8vIbUSPOkCf9RwQ3FsT8jVq2OxDr8zqa7bRQ=</td>\n",
       "      <td>1</td>\n",
       "      <td>39</td>\n",
       "      <td>31</td>\n",
       "      <td>149</td>\n",
       "      <td>149</td>\n",
       "      <td>1</td>\n",
       "      <td>20150228</td>\n",
       "      <td>20150421</td>\n",
       "      <td>0</td>\n",
       "    </tr>\n",
       "    <tr>\n",
       "      <th>4</th>\n",
       "      <td>QA7uiXy8vIbUSPOkCf9RwQ3FsT8jVq2OxDr8zqa7bRQ=</td>\n",
       "      <td>1</td>\n",
       "      <td>39</td>\n",
       "      <td>31</td>\n",
       "      <td>149</td>\n",
       "      <td>149</td>\n",
       "      <td>1</td>\n",
       "      <td>20150331</td>\n",
       "      <td>20150521</td>\n",
       "      <td>0</td>\n",
       "    </tr>\n",
       "    <tr>\n",
       "      <th>5</th>\n",
       "      <td>QA7uiXy8vIbUSPOkCf9RwQ3FsT8jVq2OxDr8zqa7bRQ=</td>\n",
       "      <td>1</td>\n",
       "      <td>39</td>\n",
       "      <td>0</td>\n",
       "      <td>0</td>\n",
       "      <td>149</td>\n",
       "      <td>1</td>\n",
       "      <td>20150430</td>\n",
       "      <td>20150621</td>\n",
       "      <td>0</td>\n",
       "    </tr>\n",
       "    <tr>\n",
       "      <th>6</th>\n",
       "      <td>QA7uiXy8vIbUSPOkCf9RwQ3FsT8jVq2OxDr8zqa7bRQ=</td>\n",
       "      <td>1</td>\n",
       "      <td>39</td>\n",
       "      <td>30</td>\n",
       "      <td>149</td>\n",
       "      <td>149</td>\n",
       "      <td>1</td>\n",
       "      <td>20150531</td>\n",
       "      <td>20150721</td>\n",
       "      <td>0</td>\n",
       "    </tr>\n",
       "    <tr>\n",
       "      <th>7</th>\n",
       "      <td>QA7uiXy8vIbUSPOkCf9RwQ3FsT8jVq2OxDr8zqa7bRQ=</td>\n",
       "      <td>1</td>\n",
       "      <td>39</td>\n",
       "      <td>30</td>\n",
       "      <td>149</td>\n",
       "      <td>149</td>\n",
       "      <td>1</td>\n",
       "      <td>20150630</td>\n",
       "      <td>20150821</td>\n",
       "      <td>0</td>\n",
       "    </tr>\n",
       "    <tr>\n",
       "      <th>8</th>\n",
       "      <td>QA7uiXy8vIbUSPOkCf9RwQ3FsT8jVq2OxDr8zqa7bRQ=</td>\n",
       "      <td>1</td>\n",
       "      <td>39</td>\n",
       "      <td>30</td>\n",
       "      <td>149</td>\n",
       "      <td>149</td>\n",
       "      <td>1</td>\n",
       "      <td>20150731</td>\n",
       "      <td>20150921</td>\n",
       "      <td>0</td>\n",
       "    </tr>\n",
       "    <tr>\n",
       "      <th>9</th>\n",
       "      <td>QA7uiXy8vIbUSPOkCf9RwQ3FsT8jVq2OxDr8zqa7bRQ=</td>\n",
       "      <td>1</td>\n",
       "      <td>39</td>\n",
       "      <td>30</td>\n",
       "      <td>149</td>\n",
       "      <td>149</td>\n",
       "      <td>1</td>\n",
       "      <td>20150831</td>\n",
       "      <td>20151021</td>\n",
       "      <td>0</td>\n",
       "    </tr>\n",
       "  </tbody>\n",
       "</table>\n",
       "</div>"
      ],
      "text/plain": [
       "                                           msno  is_churn  payment_method_id  \\\n",
       "0  waLDQMmcOu2jLDaV1ddDkgCrB/jl6sD66Xzs0Vqax1Y=         1                 38   \n",
       "1  waLDQMmcOu2jLDaV1ddDkgCrB/jl6sD66Xzs0Vqax1Y=         1                 38   \n",
       "2  QA7uiXy8vIbUSPOkCf9RwQ3FsT8jVq2OxDr8zqa7bRQ=         1                 39   \n",
       "3  QA7uiXy8vIbUSPOkCf9RwQ3FsT8jVq2OxDr8zqa7bRQ=         1                 39   \n",
       "4  QA7uiXy8vIbUSPOkCf9RwQ3FsT8jVq2OxDr8zqa7bRQ=         1                 39   \n",
       "5  QA7uiXy8vIbUSPOkCf9RwQ3FsT8jVq2OxDr8zqa7bRQ=         1                 39   \n",
       "6  QA7uiXy8vIbUSPOkCf9RwQ3FsT8jVq2OxDr8zqa7bRQ=         1                 39   \n",
       "7  QA7uiXy8vIbUSPOkCf9RwQ3FsT8jVq2OxDr8zqa7bRQ=         1                 39   \n",
       "8  QA7uiXy8vIbUSPOkCf9RwQ3FsT8jVq2OxDr8zqa7bRQ=         1                 39   \n",
       "9  QA7uiXy8vIbUSPOkCf9RwQ3FsT8jVq2OxDr8zqa7bRQ=         1                 39   \n",
       "\n",
       "   payment_plan_days  plan_list_price  actual_amount_paid  is_auto_renew  \\\n",
       "0                  7                0                   0              0   \n",
       "1                 30              149                 149              0   \n",
       "2                 31              149                 149              1   \n",
       "3                 31              149                 149              1   \n",
       "4                 31              149                 149              1   \n",
       "5                  0                0                 149              1   \n",
       "6                 30              149                 149              1   \n",
       "7                 30              149                 149              1   \n",
       "8                 30              149                 149              1   \n",
       "9                 30              149                 149              1   \n",
       "\n",
       "   transaction_date  membership_expire_date  is_cancel  \n",
       "0          20161031                20161107          0  \n",
       "1          20170107                20170206          0  \n",
       "2          20150131                20150321          0  \n",
       "3          20150228                20150421          0  \n",
       "4          20150331                20150521          0  \n",
       "5          20150430                20150621          0  \n",
       "6          20150531                20150721          0  \n",
       "7          20150630                20150821          0  \n",
       "8          20150731                20150921          0  \n",
       "9          20150831                20151021          0  "
      ]
     },
     "execution_count": 56,
     "metadata": {},
     "output_type": "execute_result"
    }
   ],
   "source": [
    "train_transactions.head(10)"
   ]
  },
  {
   "cell_type": "markdown",
   "metadata": {},
   "source": [
    "## 2.3 Univaritate EDA"
   ]
  },
  {
   "cell_type": "code",
   "execution_count": 57,
   "metadata": {},
   "outputs": [
    {
     "data": {
      "text/html": [
       "<div>\n",
       "<style scoped>\n",
       "    .dataframe tbody tr th:only-of-type {\n",
       "        vertical-align: middle;\n",
       "    }\n",
       "\n",
       "    .dataframe tbody tr th {\n",
       "        vertical-align: top;\n",
       "    }\n",
       "\n",
       "    .dataframe thead th {\n",
       "        text-align: right;\n",
       "    }\n",
       "</style>\n",
       "<table border=\"1\" class=\"dataframe\">\n",
       "  <thead>\n",
       "    <tr style=\"text-align: right;\">\n",
       "      <th></th>\n",
       "      <th>is_churn</th>\n",
       "      <th>payment_method_id</th>\n",
       "      <th>payment_plan_days</th>\n",
       "      <th>plan_list_price</th>\n",
       "      <th>actual_amount_paid</th>\n",
       "      <th>is_auto_renew</th>\n",
       "      <th>transaction_date</th>\n",
       "      <th>membership_expire_date</th>\n",
       "      <th>is_cancel</th>\n",
       "    </tr>\n",
       "  </thead>\n",
       "  <tbody>\n",
       "    <tr>\n",
       "      <th>count</th>\n",
       "      <td>1.701750e+07</td>\n",
       "      <td>1.701750e+07</td>\n",
       "      <td>1.701750e+07</td>\n",
       "      <td>1.701750e+07</td>\n",
       "      <td>1.701750e+07</td>\n",
       "      <td>1.701750e+07</td>\n",
       "      <td>1.701750e+07</td>\n",
       "      <td>1.701750e+07</td>\n",
       "      <td>1.701750e+07</td>\n",
       "    </tr>\n",
       "    <tr>\n",
       "      <th>mean</th>\n",
       "      <td>4.268393e-02</td>\n",
       "      <td>3.920199e+01</td>\n",
       "      <td>2.998478e+01</td>\n",
       "      <td>1.325592e+02</td>\n",
       "      <td>1.367956e+02</td>\n",
       "      <td>9.246743e-01</td>\n",
       "      <td>2.015926e+07</td>\n",
       "      <td>2.016041e+07</td>\n",
       "      <td>1.803702e-02</td>\n",
       "    </tr>\n",
       "    <tr>\n",
       "      <th>std</th>\n",
       "      <td>2.021436e-01</td>\n",
       "      <td>3.341173e+00</td>\n",
       "      <td>1.782643e+01</td>\n",
       "      <td>7.951860e+01</td>\n",
       "      <td>7.652553e+01</td>\n",
       "      <td>2.639162e-01</td>\n",
       "      <td>6.631928e+03</td>\n",
       "      <td>7.153574e+03</td>\n",
       "      <td>1.330852e-01</td>\n",
       "    </tr>\n",
       "    <tr>\n",
       "      <th>min</th>\n",
       "      <td>0.000000e+00</td>\n",
       "      <td>2.000000e+00</td>\n",
       "      <td>0.000000e+00</td>\n",
       "      <td>0.000000e+00</td>\n",
       "      <td>0.000000e+00</td>\n",
       "      <td>0.000000e+00</td>\n",
       "      <td>2.015010e+07</td>\n",
       "      <td>1.970010e+07</td>\n",
       "      <td>0.000000e+00</td>\n",
       "    </tr>\n",
       "    <tr>\n",
       "      <th>25%</th>\n",
       "      <td>0.000000e+00</td>\n",
       "      <td>3.900000e+01</td>\n",
       "      <td>3.000000e+01</td>\n",
       "      <td>9.900000e+01</td>\n",
       "      <td>9.900000e+01</td>\n",
       "      <td>1.000000e+00</td>\n",
       "      <td>2.015111e+07</td>\n",
       "      <td>2.015122e+07</td>\n",
       "      <td>0.000000e+00</td>\n",
       "    </tr>\n",
       "    <tr>\n",
       "      <th>50%</th>\n",
       "      <td>0.000000e+00</td>\n",
       "      <td>4.100000e+01</td>\n",
       "      <td>3.000000e+01</td>\n",
       "      <td>1.490000e+02</td>\n",
       "      <td>1.490000e+02</td>\n",
       "      <td>1.000000e+00</td>\n",
       "      <td>2.016061e+07</td>\n",
       "      <td>2.016072e+07</td>\n",
       "      <td>0.000000e+00</td>\n",
       "    </tr>\n",
       "    <tr>\n",
       "      <th>75%</th>\n",
       "      <td>0.000000e+00</td>\n",
       "      <td>4.100000e+01</td>\n",
       "      <td>3.000000e+01</td>\n",
       "      <td>1.490000e+02</td>\n",
       "      <td>1.490000e+02</td>\n",
       "      <td>1.000000e+00</td>\n",
       "      <td>2.016112e+07</td>\n",
       "      <td>2.016122e+07</td>\n",
       "      <td>0.000000e+00</td>\n",
       "    </tr>\n",
       "    <tr>\n",
       "      <th>max</th>\n",
       "      <td>1.000000e+00</td>\n",
       "      <td>4.100000e+01</td>\n",
       "      <td>4.500000e+02</td>\n",
       "      <td>2.000000e+03</td>\n",
       "      <td>2.000000e+03</td>\n",
       "      <td>1.000000e+00</td>\n",
       "      <td>2.017033e+07</td>\n",
       "      <td>2.025100e+07</td>\n",
       "      <td>1.000000e+00</td>\n",
       "    </tr>\n",
       "  </tbody>\n",
       "</table>\n",
       "</div>"
      ],
      "text/plain": [
       "           is_churn  payment_method_id  payment_plan_days  plan_list_price  \\\n",
       "count  1.701750e+07       1.701750e+07       1.701750e+07     1.701750e+07   \n",
       "mean   4.268393e-02       3.920199e+01       2.998478e+01     1.325592e+02   \n",
       "std    2.021436e-01       3.341173e+00       1.782643e+01     7.951860e+01   \n",
       "min    0.000000e+00       2.000000e+00       0.000000e+00     0.000000e+00   \n",
       "25%    0.000000e+00       3.900000e+01       3.000000e+01     9.900000e+01   \n",
       "50%    0.000000e+00       4.100000e+01       3.000000e+01     1.490000e+02   \n",
       "75%    0.000000e+00       4.100000e+01       3.000000e+01     1.490000e+02   \n",
       "max    1.000000e+00       4.100000e+01       4.500000e+02     2.000000e+03   \n",
       "\n",
       "       actual_amount_paid  is_auto_renew  transaction_date  \\\n",
       "count        1.701750e+07   1.701750e+07      1.701750e+07   \n",
       "mean         1.367956e+02   9.246743e-01      2.015926e+07   \n",
       "std          7.652553e+01   2.639162e-01      6.631928e+03   \n",
       "min          0.000000e+00   0.000000e+00      2.015010e+07   \n",
       "25%          9.900000e+01   1.000000e+00      2.015111e+07   \n",
       "50%          1.490000e+02   1.000000e+00      2.016061e+07   \n",
       "75%          1.490000e+02   1.000000e+00      2.016112e+07   \n",
       "max          2.000000e+03   1.000000e+00      2.017033e+07   \n",
       "\n",
       "       membership_expire_date     is_cancel  \n",
       "count            1.701750e+07  1.701750e+07  \n",
       "mean             2.016041e+07  1.803702e-02  \n",
       "std              7.153574e+03  1.330852e-01  \n",
       "min              1.970010e+07  0.000000e+00  \n",
       "25%              2.015122e+07  0.000000e+00  \n",
       "50%              2.016072e+07  0.000000e+00  \n",
       "75%              2.016122e+07  0.000000e+00  \n",
       "max              2.025100e+07  1.000000e+00  "
      ]
     },
     "execution_count": 57,
     "metadata": {},
     "output_type": "execute_result"
    }
   ],
   "source": [
    "train_transactions.describe()"
   ]
  },
  {
   "cell_type": "code",
   "execution_count": 58,
   "metadata": {},
   "outputs": [
    {
     "data": {
      "text/html": [
       "<div>\n",
       "<style scoped>\n",
       "    .dataframe tbody tr th:only-of-type {\n",
       "        vertical-align: middle;\n",
       "    }\n",
       "\n",
       "    .dataframe tbody tr th {\n",
       "        vertical-align: top;\n",
       "    }\n",
       "\n",
       "    .dataframe thead th {\n",
       "        text-align: right;\n",
       "    }\n",
       "</style>\n",
       "<table border=\"1\" class=\"dataframe\">\n",
       "  <thead>\n",
       "    <tr style=\"text-align: right;\">\n",
       "      <th></th>\n",
       "      <th>is_churn</th>\n",
       "      <th>payment_method_id</th>\n",
       "      <th>payment_plan_days</th>\n",
       "      <th>plan_list_price</th>\n",
       "      <th>actual_amount_paid</th>\n",
       "      <th>is_auto_renew</th>\n",
       "      <th>transaction_date</th>\n",
       "      <th>membership_expire_date</th>\n",
       "      <th>is_cancel</th>\n",
       "    </tr>\n",
       "  </thead>\n",
       "  <tbody>\n",
       "    <tr>\n",
       "      <th>count</th>\n",
       "      <td>14545180.0</td>\n",
       "      <td>1.454518e+07</td>\n",
       "      <td>1.454518e+07</td>\n",
       "      <td>1.454518e+07</td>\n",
       "      <td>1.454518e+07</td>\n",
       "      <td>1.454518e+07</td>\n",
       "      <td>1.454518e+07</td>\n",
       "      <td>1.454518e+07</td>\n",
       "      <td>1.454518e+07</td>\n",
       "    </tr>\n",
       "    <tr>\n",
       "      <th>mean</th>\n",
       "      <td>0.0</td>\n",
       "      <td>3.930906e+01</td>\n",
       "      <td>2.994988e+01</td>\n",
       "      <td>1.308508e+02</td>\n",
       "      <td>1.348720e+02</td>\n",
       "      <td>9.221872e-01</td>\n",
       "      <td>2.015949e+07</td>\n",
       "      <td>2.016052e+07</td>\n",
       "      <td>1.607914e-02</td>\n",
       "    </tr>\n",
       "    <tr>\n",
       "      <th>std</th>\n",
       "      <td>0.0</td>\n",
       "      <td>3.267998e+00</td>\n",
       "      <td>1.722883e+01</td>\n",
       "      <td>7.795620e+01</td>\n",
       "      <td>7.515690e+01</td>\n",
       "      <td>2.678768e-01</td>\n",
       "      <td>6.585572e+03</td>\n",
       "      <td>7.175315e+03</td>\n",
       "      <td>1.257800e-01</td>\n",
       "    </tr>\n",
       "    <tr>\n",
       "      <th>min</th>\n",
       "      <td>0.0</td>\n",
       "      <td>2.000000e+00</td>\n",
       "      <td>0.000000e+00</td>\n",
       "      <td>0.000000e+00</td>\n",
       "      <td>0.000000e+00</td>\n",
       "      <td>0.000000e+00</td>\n",
       "      <td>2.015010e+07</td>\n",
       "      <td>1.970010e+07</td>\n",
       "      <td>0.000000e+00</td>\n",
       "    </tr>\n",
       "    <tr>\n",
       "      <th>25%</th>\n",
       "      <td>0.0</td>\n",
       "      <td>3.900000e+01</td>\n",
       "      <td>3.000000e+01</td>\n",
       "      <td>9.900000e+01</td>\n",
       "      <td>9.900000e+01</td>\n",
       "      <td>1.000000e+00</td>\n",
       "      <td>2.015113e+07</td>\n",
       "      <td>2.016010e+07</td>\n",
       "      <td>0.000000e+00</td>\n",
       "    </tr>\n",
       "    <tr>\n",
       "      <th>50%</th>\n",
       "      <td>0.0</td>\n",
       "      <td>4.100000e+01</td>\n",
       "      <td>3.000000e+01</td>\n",
       "      <td>1.490000e+02</td>\n",
       "      <td>1.490000e+02</td>\n",
       "      <td>1.000000e+00</td>\n",
       "      <td>2.016061e+07</td>\n",
       "      <td>2.016072e+07</td>\n",
       "      <td>0.000000e+00</td>\n",
       "    </tr>\n",
       "    <tr>\n",
       "      <th>75%</th>\n",
       "      <td>0.0</td>\n",
       "      <td>4.100000e+01</td>\n",
       "      <td>3.000000e+01</td>\n",
       "      <td>1.490000e+02</td>\n",
       "      <td>1.490000e+02</td>\n",
       "      <td>1.000000e+00</td>\n",
       "      <td>2.016112e+07</td>\n",
       "      <td>2.016122e+07</td>\n",
       "      <td>0.000000e+00</td>\n",
       "    </tr>\n",
       "    <tr>\n",
       "      <th>max</th>\n",
       "      <td>0.0</td>\n",
       "      <td>4.100000e+01</td>\n",
       "      <td>4.500000e+02</td>\n",
       "      <td>2.000000e+03</td>\n",
       "      <td>2.000000e+03</td>\n",
       "      <td>1.000000e+00</td>\n",
       "      <td>2.017033e+07</td>\n",
       "      <td>2.023082e+07</td>\n",
       "      <td>1.000000e+00</td>\n",
       "    </tr>\n",
       "  </tbody>\n",
       "</table>\n",
       "</div>"
      ],
      "text/plain": [
       "         is_churn  payment_method_id  payment_plan_days  plan_list_price  \\\n",
       "count  14545180.0       1.454518e+07       1.454518e+07     1.454518e+07   \n",
       "mean          0.0       3.930906e+01       2.994988e+01     1.308508e+02   \n",
       "std           0.0       3.267998e+00       1.722883e+01     7.795620e+01   \n",
       "min           0.0       2.000000e+00       0.000000e+00     0.000000e+00   \n",
       "25%           0.0       3.900000e+01       3.000000e+01     9.900000e+01   \n",
       "50%           0.0       4.100000e+01       3.000000e+01     1.490000e+02   \n",
       "75%           0.0       4.100000e+01       3.000000e+01     1.490000e+02   \n",
       "max           0.0       4.100000e+01       4.500000e+02     2.000000e+03   \n",
       "\n",
       "       actual_amount_paid  is_auto_renew  transaction_date  \\\n",
       "count        1.454518e+07   1.454518e+07      1.454518e+07   \n",
       "mean         1.348720e+02   9.221872e-01      2.015949e+07   \n",
       "std          7.515690e+01   2.678768e-01      6.585572e+03   \n",
       "min          0.000000e+00   0.000000e+00      2.015010e+07   \n",
       "25%          9.900000e+01   1.000000e+00      2.015113e+07   \n",
       "50%          1.490000e+02   1.000000e+00      2.016061e+07   \n",
       "75%          1.490000e+02   1.000000e+00      2.016112e+07   \n",
       "max          2.000000e+03   1.000000e+00      2.017033e+07   \n",
       "\n",
       "       membership_expire_date     is_cancel  \n",
       "count            1.454518e+07  1.454518e+07  \n",
       "mean             2.016052e+07  1.607914e-02  \n",
       "std              7.175315e+03  1.257800e-01  \n",
       "min              1.970010e+07  0.000000e+00  \n",
       "25%              2.016010e+07  0.000000e+00  \n",
       "50%              2.016072e+07  0.000000e+00  \n",
       "75%              2.016122e+07  0.000000e+00  \n",
       "max              2.023082e+07  1.000000e+00  "
      ]
     },
     "execution_count": 58,
     "metadata": {},
     "output_type": "execute_result"
    }
   ],
   "source": [
    "test_transactions.describe()"
   ]
  },
  {
   "cell_type": "code",
   "execution_count": 59,
   "metadata": {},
   "outputs": [
    {
     "data": {
      "text/plain": [
       "<matplotlib.axes._subplots.AxesSubplot at 0x77807940>"
      ]
     },
     "execution_count": 59,
     "metadata": {},
     "output_type": "execute_result"
    },
    {
     "data": {
      "image/png": "[encoded data removed]",
      "text/plain": [
       "<Figure size 576x432 with 2 Axes>"
      ]
     },
     "metadata": {},
     "output_type": "display_data"
    }
   ],
   "source": [
    "# Payment_method_id\n",
    "fig = plt.figure(figsize=(8,6))\n",
    "ax1 = fig.add_subplot(211)\n",
    "ax2 = fig.add_subplot(212)\n",
    "\n",
    "sns.countplot(x='payment_method_id',data=train_transactions, ax=ax1)\n",
    "sns.countplot(x='payment_method_id',data=test_transactions, ax=ax2)"
   ]
  },
  {
   "cell_type": "code",
   "execution_count": 60,
   "metadata": {},
   "outputs": [
    {
     "data": {
      "text/plain": [
       "<matplotlib.axes._subplots.AxesSubplot at 0x53bbc88>"
      ]
     },
     "execution_count": 60,
     "metadata": {},
     "output_type": "execute_result"
    },
    {
     "data": {
      "image/png": "[encoded data removed]",
      "text/plain": [
       "<Figure size 576x432 with 2 Axes>"
      ]
     },
     "metadata": {},
     "output_type": "display_data"
    }
   ],
   "source": [
    "# Payment_plan_days\n",
    "fig = plt.figure(figsize=(8,6))\n",
    "ax1 = fig.add_subplot(211)\n",
    "ax2 = fig.add_subplot(212)\n",
    "\n",
    "sns.countplot(x='payment_plan_days',data=train_transactions, ax=ax1)\n",
    "sns.countplot(x='payment_plan_days',data=test_transactions, ax=ax2)"
   ]
  },
  {
   "cell_type": "code",
   "execution_count": 61,
   "metadata": {},
   "outputs": [
    {
     "name": "stderr",
     "output_type": "stream",
     "text": [
      "C:\\Users\\kartik\\AppData\\Local\\conda\\conda\\envs\\kaggle\\lib\\site-packages\\matplotlib\\axes\\_axes.py:6462: UserWarning: The 'normed' kwarg is deprecated, and has been replaced by the 'density' kwarg.\n",
      "  warnings.warn(\"The 'normed' kwarg is deprecated, and has been \"\n",
      "C:\\Users\\kartik\\AppData\\Local\\conda\\conda\\envs\\kaggle\\lib\\site-packages\\matplotlib\\axes\\_axes.py:6462: UserWarning: The 'normed' kwarg is deprecated, and has been replaced by the 'density' kwarg.\n",
      "  warnings.warn(\"The 'normed' kwarg is deprecated, and has been \"\n"
     ]
    },
    {
     "data": {
      "text/plain": [
       "<matplotlib.axes._subplots.AxesSubplot at 0x260fc828>"
      ]
     },
     "execution_count": 61,
     "metadata": {},
     "output_type": "execute_result"
    },
    {
     "data": {
      "image/png": "[encoded data removed]",
      "text/plain": [
       "<Figure size 576x432 with 2 Axes>"
      ]
     },
     "metadata": {},
     "output_type": "display_data"
    }
   ],
   "source": [
    "# plan_list_price\n",
    "fig = plt.figure(figsize=(8,6))\n",
    "ax1 = fig.add_subplot(211)\n",
    "ax2 = fig.add_subplot(212)\n",
    "\n",
    "sns.distplot(train_transactions['plan_list_price'], ax=ax1,kde=False,bins=100,color='g')\n",
    "sns.distplot(test_transactions['plan_list_price'], ax=ax2,kde=False,bins =100,color='g')"
   ]
  },
  {
   "cell_type": "code",
   "execution_count": 62,
   "metadata": {
    "scrolled": true
   },
   "outputs": [
    {
     "name": "stderr",
     "output_type": "stream",
     "text": [
      "C:\\Users\\kartik\\AppData\\Local\\conda\\conda\\envs\\kaggle\\lib\\site-packages\\matplotlib\\axes\\_axes.py:6462: UserWarning: The 'normed' kwarg is deprecated, and has been replaced by the 'density' kwarg.\n",
      "  warnings.warn(\"The 'normed' kwarg is deprecated, and has been \"\n",
      "C:\\Users\\kartik\\AppData\\Local\\conda\\conda\\envs\\kaggle\\lib\\site-packages\\matplotlib\\axes\\_axes.py:6462: UserWarning: The 'normed' kwarg is deprecated, and has been replaced by the 'density' kwarg.\n",
      "  warnings.warn(\"The 'normed' kwarg is deprecated, and has been \"\n"
     ]
    },
    {
     "data": {
      "text/plain": [
       "<matplotlib.axes._subplots.AxesSubplot at 0x31821f98>"
      ]
     },
     "execution_count": 62,
     "metadata": {},
     "output_type": "execute_result"
    },
    {
     "data": {
      "image/png": "[encoded data removed]",
      "text/plain": [
       "<Figure size 576x432 with 2 Axes>"
      ]
     },
     "metadata": {},
     "output_type": "display_data"
    }
   ],
   "source": [
    "# discrepancy_paid\n",
    "train_transactions['discrepancy_paid']=train_transactions['plan_list_price']-train_transactions['actual_amount_paid']\n",
    "test_transactions['discrepancy_paid']=test_transactions['plan_list_price']-test_transactions['actual_amount_paid']\n",
    "\n",
    "fig = plt.figure(figsize=(8,6))\n",
    "ax1 = fig.add_subplot(211)\n",
    "ax2 = fig.add_subplot(212)\n",
    "\n",
    "sns.distplot(train_transactions['discrepancy_paid'], ax=ax1,kde=False,bins = 100,color='g')\n",
    "sns.distplot(test_transactions['discrepancy_paid'], ax=ax2,kde=False, bins =100,color='g')"
   ]
  },
  {
   "cell_type": "code",
   "execution_count": 63,
   "metadata": {},
   "outputs": [
    {
     "name": "stdout",
     "output_type": "stream",
     "text": [
      "number of user paid less:  300046\n",
      "number of user paid more:  597666\n"
     ]
    }
   ],
   "source": [
    "print('number of user paid less: ',train_transactions[train_transactions['discrepancy_paid']>0].shape[0])\n",
    "print('number of user paid more: ',train_transactions[train_transactions['discrepancy_paid']<0].shape[0])"
   ]
  },
  {
   "cell_type": "code",
   "execution_count": 64,
   "metadata": {},
   "outputs": [
    {
     "data": {
      "text/plain": [
       "<matplotlib.axes._subplots.AxesSubplot at 0x31ad5860>"
      ]
     },
     "execution_count": 64,
     "metadata": {},
     "output_type": "execute_result"
    },
    {
     "data": {
      "image/png": "[encoded data removed]",
      "text/plain": [
       "<Figure size 576x432 with 2 Axes>"
      ]
     },
     "metadata": {},
     "output_type": "display_data"
    }
   ],
   "source": [
    "# is_auto_renew\n",
    "fig = plt.figure(figsize=(8,6))\n",
    "ax1 = fig.add_subplot(211)\n",
    "ax2 = fig.add_subplot(212)\n",
    "\n",
    "sns.countplot(x='is_auto_renew',data=train_transactions, ax=ax1)\n",
    "sns.countplot(x='is_auto_renew',data=test_transactions, ax=ax2)\n"
   ]
  },
  {
   "cell_type": "code",
   "execution_count": 65,
   "metadata": {},
   "outputs": [
    {
     "data": {
      "text/plain": [
       "<matplotlib.axes._subplots.AxesSubplot at 0x31e37e80>"
      ]
     },
     "execution_count": 65,
     "metadata": {},
     "output_type": "execute_result"
    },
    {
     "data": {
      "image/png": "[encoded data removed]",
      "text/plain": [
       "<Figure size 576x432 with 2 Axes>"
      ]
     },
     "metadata": {},
     "output_type": "display_data"
    }
   ],
   "source": [
    "# is_cancel\n",
    "fig = plt.figure(figsize=(8,6))\n",
    "ax1 = fig.add_subplot(211)\n",
    "ax2 = fig.add_subplot(212)\n",
    "\n",
    "sns.countplot(x='is_cancel',data=train_transactions, ax=ax1)\n",
    "sns.countplot(x='is_cancel',data=test_transactions, ax=ax2)"
   ]
  },
  {
   "cell_type": "markdown",
   "metadata": {},
   "source": [
    "## 2.4 Multivariate EDA"
   ]
  },
  {
   "cell_type": "code",
   "execution_count": 66,
   "metadata": {},
   "outputs": [
    {
     "data": {
      "text/plain": [
       "<matplotlib.axes._subplots.AxesSubplot at 0x31e863c8>"
      ]
     },
     "execution_count": 66,
     "metadata": {},
     "output_type": "execute_result"
    },
    {
     "data": {
      "image/png": "[encoded data removed]",
      "text/plain": [
       "<Figure size 576x432 with 1 Axes>"
      ]
     },
     "metadata": {},
     "output_type": "display_data"
    }
   ],
   "source": [
    "# payment methods VS is_churn\n",
    "\n",
    "fig = plt.figure(figsize=(8,6))\n",
    "ax1 = fig.add_subplot(111)\n",
    "sns.countplot(x='payment_method_id',data=train_transactions,hue='is_churn',ax=ax1)"
   ]
  },
  {
   "cell_type": "code",
   "execution_count": 67,
   "metadata": {},
   "outputs": [
    {
     "data": {
      "text/plain": [
       "<matplotlib.axes._subplots.AxesSubplot at 0x31ee1240>"
      ]
     },
     "execution_count": 67,
     "metadata": {},
     "output_type": "execute_result"
    },
    {
     "data": {
      "image/png": "[encoded data removed]",
      "text/plain": [
       "<Figure size 576x432 with 1 Axes>"
      ]
     },
     "metadata": {},
     "output_type": "display_data"
    }
   ],
   "source": [
    "# payment plan days VS is_churn\n",
    "\n",
    "fig = plt.figure(figsize=(8,6))\n",
    "ax1 = fig.add_subplot(111)\n",
    "sns.countplot(x='payment_plan_days',data=train_transactions,hue='is_churn',ax=ax1)"
   ]
  },
  {
   "cell_type": "code",
   "execution_count": 68,
   "metadata": {},
   "outputs": [
    {
     "data": {
      "text/plain": [
       "Text(0.5,1,'percentage of users churning with and without auto_renew')"
      ]
     },
     "execution_count": 68,
     "metadata": {},
     "output_type": "execute_result"
    },
    {
     "data": {
      "image/png": "[encoded data removed]",
      "text/plain": [
       "<Figure size 576x432 with 2 Axes>"
      ]
     },
     "metadata": {},
     "output_type": "display_data"
    }
   ],
   "source": [
    "# is_auto_renew VS is_churn\n",
    "fig = plt.figure(figsize=(8,6))\n",
    "ax1 = fig.add_subplot(211)\n",
    "ax2 = fig.add_subplot(212)\n",
    "\n",
    "sns.countplot(x='is_auto_renew',data=train_transactions,hue='is_churn',ax=ax1)\n",
    "sns.barplot(['auto_renew=0','auto_renew=1'],np.array(train_transactions.groupby(by='is_auto_renew')['is_churn'].mean()),ax=ax2)\n",
    "ax2.set_title('percentage of users churning with and without auto_renew',pad=-15)"
   ]
  },
  {
   "cell_type": "code",
   "execution_count": 69,
   "metadata": {},
   "outputs": [
    {
     "data": {
      "text/plain": [
       "Text(0.5,1,'percentage of users churning with and without cancel')"
      ]
     },
     "execution_count": 69,
     "metadata": {},
     "output_type": "execute_result"
    },
    {
     "data": {
      "image/png": "[encoded data removed]",
      "text/plain": [
       "<Figure size 576x432 with 2 Axes>"
      ]
     },
     "metadata": {},
     "output_type": "display_data"
    }
   ],
   "source": [
    "# cancel VS is_churn\n",
    "fig = plt.figure(figsize=(8,6))\n",
    "ax1 = fig.add_subplot(211)\n",
    "ax2 = fig.add_subplot(212)\n",
    "\n",
    "sns.countplot(x='is_cancel',data=train_transactions,hue='is_churn',ax=ax1)\n",
    "\n",
    "sns.barplot(['is_cancel=0','is_cancel=1'],np.array(train_transactions.groupby(by='is_cancel')['is_churn'].mean()),ax=ax2)\n",
    "ax2.set_title('percentage of users churning with and without cancel',pad=-15)"
   ]
  },
  {
   "cell_type": "code",
   "execution_count": 70,
   "metadata": {},
   "outputs": [
    {
     "data": {
      "text/plain": [
       "<matplotlib.axes._subplots.AxesSubplot at 0x32755128>"
      ]
     },
     "execution_count": 70,
     "metadata": {},
     "output_type": "execute_result"
    },
    {
     "data": {
      "image/png": "[encoded data removed]",
      "text/plain": [
       "<Figure size 576x432 with 2 Axes>"
      ]
     },
     "metadata": {},
     "output_type": "display_data"
    }
   ],
   "source": [
    "# discrepancy_paid VS is_churn\n",
    "fig = plt.figure(figsize=(8,6))\n",
    "ax1 = fig.add_subplot(211)\n",
    "ax2 = fig.add_subplot(212)\n",
    "\n",
    "train_transactions['is_discrepancy_paid']= train_transactions['discrepancy_paid'].apply(lambda x: 0 if x==0 else (1 if x>0 else -1))\n",
    "test_transactions['is_discrepancy_paid']= test_transactions['discrepancy_paid'].apply(lambda x: 0 if x==0 else (1 if x>0 else -1))\n",
    "\n",
    "sns.countplot(x='is_discrepancy_paid',data=train_transactions,hue='is_churn',ax=ax1)\n",
    "\n",
    "sns.barplot(['paid_more','paid_equal','paid_less'],np.array(train_transactions.groupby(by='is_discrepancy_paid')['is_churn'].mean()),ax=ax2)\n",
    "#ax2.set_title('percentage of users churning in cases of paid_more, paid_equal, and paid_less',pad=-15)"
   ]
  },
  {
   "cell_type": "code",
   "execution_count": 71,
   "metadata": {},
   "outputs": [
    {
     "data": {
      "text/html": [
       "<div>\n",
       "<style scoped>\n",
       "    .dataframe tbody tr th:only-of-type {\n",
       "        vertical-align: middle;\n",
       "    }\n",
       "\n",
       "    .dataframe tbody tr th {\n",
       "        vertical-align: top;\n",
       "    }\n",
       "\n",
       "    .dataframe thead th {\n",
       "        text-align: right;\n",
       "    }\n",
       "</style>\n",
       "<table border=\"1\" class=\"dataframe\">\n",
       "  <thead>\n",
       "    <tr style=\"text-align: right;\">\n",
       "      <th></th>\n",
       "      <th>msno</th>\n",
       "      <th>is_churn</th>\n",
       "      <th>payment_method_id</th>\n",
       "      <th>payment_plan_days</th>\n",
       "      <th>plan_list_price</th>\n",
       "      <th>actual_amount_paid</th>\n",
       "      <th>is_auto_renew</th>\n",
       "      <th>transaction_date</th>\n",
       "      <th>membership_expire_date</th>\n",
       "      <th>is_cancel</th>\n",
       "      <th>discrepancy_paid</th>\n",
       "      <th>is_discrepancy_paid</th>\n",
       "    </tr>\n",
       "  </thead>\n",
       "  <tbody>\n",
       "    <tr>\n",
       "      <th>0</th>\n",
       "      <td>waLDQMmcOu2jLDaV1ddDkgCrB/jl6sD66Xzs0Vqax1Y=</td>\n",
       "      <td>1</td>\n",
       "      <td>38</td>\n",
       "      <td>7</td>\n",
       "      <td>0</td>\n",
       "      <td>0</td>\n",
       "      <td>0</td>\n",
       "      <td>20161031</td>\n",
       "      <td>20161107</td>\n",
       "      <td>0</td>\n",
       "      <td>0</td>\n",
       "      <td>0</td>\n",
       "    </tr>\n",
       "    <tr>\n",
       "      <th>1</th>\n",
       "      <td>waLDQMmcOu2jLDaV1ddDkgCrB/jl6sD66Xzs0Vqax1Y=</td>\n",
       "      <td>1</td>\n",
       "      <td>38</td>\n",
       "      <td>30</td>\n",
       "      <td>149</td>\n",
       "      <td>149</td>\n",
       "      <td>0</td>\n",
       "      <td>20170107</td>\n",
       "      <td>20170206</td>\n",
       "      <td>0</td>\n",
       "      <td>0</td>\n",
       "      <td>0</td>\n",
       "    </tr>\n",
       "    <tr>\n",
       "      <th>2</th>\n",
       "      <td>QA7uiXy8vIbUSPOkCf9RwQ3FsT8jVq2OxDr8zqa7bRQ=</td>\n",
       "      <td>1</td>\n",
       "      <td>39</td>\n",
       "      <td>31</td>\n",
       "      <td>149</td>\n",
       "      <td>149</td>\n",
       "      <td>1</td>\n",
       "      <td>20150131</td>\n",
       "      <td>20150321</td>\n",
       "      <td>0</td>\n",
       "      <td>0</td>\n",
       "      <td>0</td>\n",
       "    </tr>\n",
       "    <tr>\n",
       "      <th>3</th>\n",
       "      <td>QA7uiXy8vIbUSPOkCf9RwQ3FsT8jVq2OxDr8zqa7bRQ=</td>\n",
       "      <td>1</td>\n",
       "      <td>39</td>\n",
       "      <td>31</td>\n",
       "      <td>149</td>\n",
       "      <td>149</td>\n",
       "      <td>1</td>\n",
       "      <td>20150228</td>\n",
       "      <td>20150421</td>\n",
       "      <td>0</td>\n",
       "      <td>0</td>\n",
       "      <td>0</td>\n",
       "    </tr>\n",
       "    <tr>\n",
       "      <th>4</th>\n",
       "      <td>QA7uiXy8vIbUSPOkCf9RwQ3FsT8jVq2OxDr8zqa7bRQ=</td>\n",
       "      <td>1</td>\n",
       "      <td>39</td>\n",
       "      <td>31</td>\n",
       "      <td>149</td>\n",
       "      <td>149</td>\n",
       "      <td>1</td>\n",
       "      <td>20150331</td>\n",
       "      <td>20150521</td>\n",
       "      <td>0</td>\n",
       "      <td>0</td>\n",
       "      <td>0</td>\n",
       "    </tr>\n",
       "  </tbody>\n",
       "</table>\n",
       "</div>"
      ],
      "text/plain": [
       "                                           msno  is_churn  payment_method_id  \\\n",
       "0  waLDQMmcOu2jLDaV1ddDkgCrB/jl6sD66Xzs0Vqax1Y=         1                 38   \n",
       "1  waLDQMmcOu2jLDaV1ddDkgCrB/jl6sD66Xzs0Vqax1Y=         1                 38   \n",
       "2  QA7uiXy8vIbUSPOkCf9RwQ3FsT8jVq2OxDr8zqa7bRQ=         1                 39   \n",
       "3  QA7uiXy8vIbUSPOkCf9RwQ3FsT8jVq2OxDr8zqa7bRQ=         1                 39   \n",
       "4  QA7uiXy8vIbUSPOkCf9RwQ3FsT8jVq2OxDr8zqa7bRQ=         1                 39   \n",
       "\n",
       "   payment_plan_days  plan_list_price  actual_amount_paid  is_auto_renew  \\\n",
       "0                  7                0                   0              0   \n",
       "1                 30              149                 149              0   \n",
       "2                 31              149                 149              1   \n",
       "3                 31              149                 149              1   \n",
       "4                 31              149                 149              1   \n",
       "\n",
       "   transaction_date  membership_expire_date  is_cancel  discrepancy_paid  \\\n",
       "0          20161031                20161107          0                 0   \n",
       "1          20170107                20170206          0                 0   \n",
       "2          20150131                20150321          0                 0   \n",
       "3          20150228                20150421          0                 0   \n",
       "4          20150331                20150521          0                 0   \n",
       "\n",
       "   is_discrepancy_paid  \n",
       "0                    0  \n",
       "1                    0  \n",
       "2                    0  \n",
       "3                    0  \n",
       "4                    0  "
      ]
     },
     "execution_count": 71,
     "metadata": {},
     "output_type": "execute_result"
    }
   ],
   "source": [
    "train_transactions.head()"
   ]
  },
  {
   "cell_type": "markdown",
   "metadata": {},
   "source": [
    "## 2.5 Featuring and EDA again\n"
   ]
  },
  {
   "cell_type": "code",
   "execution_count": 72,
   "metadata": {},
   "outputs": [],
   "source": [
    "cutoff_date_train = ((20170131//10**4)*365 + (20170131%10**4)//10**2*30 + (20170131%10**4)%10**2)\n",
    "#cutoff_date_train = ((20170228//10**4)*365 + (20170228%10**4)//10**2*30 + (20170228%10**4)%10**2)  #\n",
    "cutoff_date_test = ((20170331//10**4)*365 + (20170331%10**4)//10**2*30 + (20170331%10**4)%10**2)"
   ]
  },
  {
   "cell_type": "code",
   "execution_count": 73,
   "metadata": {},
   "outputs": [],
   "source": [
    "# Convert date\n",
    "train_transactions['date_relative']= train_transactions['transaction_date'].apply(lambda x: cutoff_date_train - ((x//10**4)*365 + (x%10**4)//10**2*30 + (x%10**4)%10**2))\n",
    "test_transactions['date_relative']= test_transactions['transaction_date'].apply(lambda x: cutoff_date_test - ((x//10**4)*365 + (x%10**4)//10**2*30 + (x%10**4)%10**2))"
   ]
  },
  {
   "cell_type": "code",
   "execution_count": 74,
   "metadata": {},
   "outputs": [
    {
     "data": {
      "text/html": [
       "<div>\n",
       "<style scoped>\n",
       "    .dataframe tbody tr th:only-of-type {\n",
       "        vertical-align: middle;\n",
       "    }\n",
       "\n",
       "    .dataframe tbody tr th {\n",
       "        vertical-align: top;\n",
       "    }\n",
       "\n",
       "    .dataframe thead th {\n",
       "        text-align: right;\n",
       "    }\n",
       "</style>\n",
       "<table border=\"1\" class=\"dataframe\">\n",
       "  <thead>\n",
       "    <tr style=\"text-align: right;\">\n",
       "      <th></th>\n",
       "      <th>msno</th>\n",
       "      <th>is_churn</th>\n",
       "      <th>city</th>\n",
       "      <th>bd</th>\n",
       "      <th>gender</th>\n",
       "      <th>registered_via</th>\n",
       "      <th>registration_init_time</th>\n",
       "      <th>registration_init_date</th>\n",
       "      <th>year</th>\n",
       "      <th>month</th>\n",
       "    </tr>\n",
       "  </thead>\n",
       "  <tbody>\n",
       "    <tr>\n",
       "      <th>0</th>\n",
       "      <td>waLDQMmcOu2jLDaV1ddDkgCrB/jl6sD66Xzs0Vqax1Y=</td>\n",
       "      <td>1</td>\n",
       "      <td>18</td>\n",
       "      <td>36</td>\n",
       "      <td>female</td>\n",
       "      <td>9</td>\n",
       "      <td>20050406</td>\n",
       "      <td>2005-04-06</td>\n",
       "      <td>2005</td>\n",
       "      <td>4</td>\n",
       "    </tr>\n",
       "    <tr>\n",
       "      <th>1</th>\n",
       "      <td>QA7uiXy8vIbUSPOkCf9RwQ3FsT8jVq2OxDr8zqa7bRQ=</td>\n",
       "      <td>1</td>\n",
       "      <td>10</td>\n",
       "      <td>38</td>\n",
       "      <td>male</td>\n",
       "      <td>9</td>\n",
       "      <td>20050407</td>\n",
       "      <td>2005-04-07</td>\n",
       "      <td>2005</td>\n",
       "      <td>4</td>\n",
       "    </tr>\n",
       "    <tr>\n",
       "      <th>2</th>\n",
       "      <td>fGwBva6hikQmTJzrbz/2Ezjm5Cth5jZUNvXigKK2AFA=</td>\n",
       "      <td>1</td>\n",
       "      <td>11</td>\n",
       "      <td>27</td>\n",
       "      <td>female</td>\n",
       "      <td>9</td>\n",
       "      <td>20051016</td>\n",
       "      <td>2005-10-16</td>\n",
       "      <td>2005</td>\n",
       "      <td>10</td>\n",
       "    </tr>\n",
       "    <tr>\n",
       "      <th>3</th>\n",
       "      <td>mT5V8rEpa+8wuqi6x0DoVd3H5icMKkE9Prt49UlmK+4=</td>\n",
       "      <td>1</td>\n",
       "      <td>13</td>\n",
       "      <td>23</td>\n",
       "      <td>female</td>\n",
       "      <td>9</td>\n",
       "      <td>20051102</td>\n",
       "      <td>2005-11-02</td>\n",
       "      <td>2005</td>\n",
       "      <td>11</td>\n",
       "    </tr>\n",
       "    <tr>\n",
       "      <th>4</th>\n",
       "      <td>XaPhtGLk/5UvvOYHcONTwsnH97P4eGECeq+BARGItRw=</td>\n",
       "      <td>1</td>\n",
       "      <td>3</td>\n",
       "      <td>27</td>\n",
       "      <td>male</td>\n",
       "      <td>9</td>\n",
       "      <td>20051228</td>\n",
       "      <td>2005-12-28</td>\n",
       "      <td>2005</td>\n",
       "      <td>12</td>\n",
       "    </tr>\n",
       "  </tbody>\n",
       "</table>\n",
       "</div>"
      ],
      "text/plain": [
       "                                           msno  is_churn  city  bd  gender  \\\n",
       "0  waLDQMmcOu2jLDaV1ddDkgCrB/jl6sD66Xzs0Vqax1Y=         1    18  36  female   \n",
       "1  QA7uiXy8vIbUSPOkCf9RwQ3FsT8jVq2OxDr8zqa7bRQ=         1    10  38    male   \n",
       "2  fGwBva6hikQmTJzrbz/2Ezjm5Cth5jZUNvXigKK2AFA=         1    11  27  female   \n",
       "3  mT5V8rEpa+8wuqi6x0DoVd3H5icMKkE9Prt49UlmK+4=         1    13  23  female   \n",
       "4  XaPhtGLk/5UvvOYHcONTwsnH97P4eGECeq+BARGItRw=         1     3  27    male   \n",
       "\n",
       "   registered_via  registration_init_time registration_init_date  year  month  \n",
       "0               9                20050406             2005-04-06  2005      4  \n",
       "1               9                20050407             2005-04-07  2005      4  \n",
       "2               9                20051016             2005-10-16  2005     10  \n",
       "3               9                20051102             2005-11-02  2005     11  \n",
       "4               9                20051228             2005-12-28  2005     12  "
      ]
     },
     "execution_count": 74,
     "metadata": {},
     "output_type": "execute_result"
    }
   ],
   "source": [
    "data_train.head()"
   ]
  },
  {
   "cell_type": "code",
   "execution_count": 75,
   "metadata": {},
   "outputs": [],
   "source": [
    "# 1. Number of transactions of each user\n",
    "number = train_transactions['msno'].value_counts()\n",
    "number_train = pd.DataFrame({'msno':number.index, 'total_transactions':number.values})\n",
    "\n",
    "number = test_transactions['msno'].value_counts()\n",
    "number_test = pd.DataFrame({'msno':number.index, 'total_transactions':number.values})"
   ]
  },
  {
   "cell_type": "code",
   "execution_count": 76,
   "metadata": {},
   "outputs": [
    {
     "data": {
      "text/html": [
       "<div>\n",
       "<style scoped>\n",
       "    .dataframe tbody tr th:only-of-type {\n",
       "        vertical-align: middle;\n",
       "    }\n",
       "\n",
       "    .dataframe tbody tr th {\n",
       "        vertical-align: top;\n",
       "    }\n",
       "\n",
       "    .dataframe thead th {\n",
       "        text-align: right;\n",
       "    }\n",
       "</style>\n",
       "<table border=\"1\" class=\"dataframe\">\n",
       "  <thead>\n",
       "    <tr style=\"text-align: right;\">\n",
       "      <th></th>\n",
       "      <th>msno</th>\n",
       "      <th>is_churn</th>\n",
       "      <th>city</th>\n",
       "      <th>bd</th>\n",
       "      <th>gender</th>\n",
       "      <th>registered_via</th>\n",
       "      <th>registration_init_time</th>\n",
       "      <th>registration_init_date</th>\n",
       "      <th>year</th>\n",
       "      <th>month</th>\n",
       "      <th>total_transactions</th>\n",
       "    </tr>\n",
       "  </thead>\n",
       "  <tbody>\n",
       "    <tr>\n",
       "      <th>0</th>\n",
       "      <td>waLDQMmcOu2jLDaV1ddDkgCrB/jl6sD66Xzs0Vqax1Y=</td>\n",
       "      <td>1</td>\n",
       "      <td>18</td>\n",
       "      <td>36</td>\n",
       "      <td>female</td>\n",
       "      <td>9</td>\n",
       "      <td>20050406</td>\n",
       "      <td>2005-04-06</td>\n",
       "      <td>2005</td>\n",
       "      <td>4</td>\n",
       "      <td>2</td>\n",
       "    </tr>\n",
       "    <tr>\n",
       "      <th>1</th>\n",
       "      <td>QA7uiXy8vIbUSPOkCf9RwQ3FsT8jVq2OxDr8zqa7bRQ=</td>\n",
       "      <td>1</td>\n",
       "      <td>10</td>\n",
       "      <td>38</td>\n",
       "      <td>male</td>\n",
       "      <td>9</td>\n",
       "      <td>20050407</td>\n",
       "      <td>2005-04-07</td>\n",
       "      <td>2005</td>\n",
       "      <td>4</td>\n",
       "      <td>23</td>\n",
       "    </tr>\n",
       "    <tr>\n",
       "      <th>2</th>\n",
       "      <td>fGwBva6hikQmTJzrbz/2Ezjm5Cth5jZUNvXigKK2AFA=</td>\n",
       "      <td>1</td>\n",
       "      <td>11</td>\n",
       "      <td>27</td>\n",
       "      <td>female</td>\n",
       "      <td>9</td>\n",
       "      <td>20051016</td>\n",
       "      <td>2005-10-16</td>\n",
       "      <td>2005</td>\n",
       "      <td>10</td>\n",
       "      <td>10</td>\n",
       "    </tr>\n",
       "    <tr>\n",
       "      <th>3</th>\n",
       "      <td>mT5V8rEpa+8wuqi6x0DoVd3H5icMKkE9Prt49UlmK+4=</td>\n",
       "      <td>1</td>\n",
       "      <td>13</td>\n",
       "      <td>23</td>\n",
       "      <td>female</td>\n",
       "      <td>9</td>\n",
       "      <td>20051102</td>\n",
       "      <td>2005-11-02</td>\n",
       "      <td>2005</td>\n",
       "      <td>11</td>\n",
       "      <td>3</td>\n",
       "    </tr>\n",
       "    <tr>\n",
       "      <th>4</th>\n",
       "      <td>XaPhtGLk/5UvvOYHcONTwsnH97P4eGECeq+BARGItRw=</td>\n",
       "      <td>1</td>\n",
       "      <td>3</td>\n",
       "      <td>27</td>\n",
       "      <td>male</td>\n",
       "      <td>9</td>\n",
       "      <td>20051228</td>\n",
       "      <td>2005-12-28</td>\n",
       "      <td>2005</td>\n",
       "      <td>12</td>\n",
       "      <td>9</td>\n",
       "    </tr>\n",
       "  </tbody>\n",
       "</table>\n",
       "</div>"
      ],
      "text/plain": [
       "                                           msno  is_churn  city  bd  gender  \\\n",
       "0  waLDQMmcOu2jLDaV1ddDkgCrB/jl6sD66Xzs0Vqax1Y=         1    18  36  female   \n",
       "1  QA7uiXy8vIbUSPOkCf9RwQ3FsT8jVq2OxDr8zqa7bRQ=         1    10  38    male   \n",
       "2  fGwBva6hikQmTJzrbz/2Ezjm5Cth5jZUNvXigKK2AFA=         1    11  27  female   \n",
       "3  mT5V8rEpa+8wuqi6x0DoVd3H5icMKkE9Prt49UlmK+4=         1    13  23  female   \n",
       "4  XaPhtGLk/5UvvOYHcONTwsnH97P4eGECeq+BARGItRw=         1     3  27    male   \n",
       "\n",
       "   registered_via  registration_init_time registration_init_date  year  month  \\\n",
       "0               9                20050406             2005-04-06  2005      4   \n",
       "1               9                20050407             2005-04-07  2005      4   \n",
       "2               9                20051016             2005-10-16  2005     10   \n",
       "3               9                20051102             2005-11-02  2005     11   \n",
       "4               9                20051228             2005-12-28  2005     12   \n",
       "\n",
       "   total_transactions  \n",
       "0                   2  \n",
       "1                  23  \n",
       "2                  10  \n",
       "3                   3  \n",
       "4                   9  "
      ]
     },
     "execution_count": 76,
     "metadata": {},
     "output_type": "execute_result"
    }
   ],
   "source": [
    "data_train = pd.merge(data_train,number_train,on='msno',how='left')\n",
    "data_train.head()"
   ]
  },
  {
   "cell_type": "code",
   "execution_count": 77,
   "metadata": {},
   "outputs": [
    {
     "data": {
      "text/html": [
       "<div>\n",
       "<style scoped>\n",
       "    .dataframe tbody tr th:only-of-type {\n",
       "        vertical-align: middle;\n",
       "    }\n",
       "\n",
       "    .dataframe tbody tr th {\n",
       "        vertical-align: top;\n",
       "    }\n",
       "\n",
       "    .dataframe thead th {\n",
       "        text-align: right;\n",
       "    }\n",
       "</style>\n",
       "<table border=\"1\" class=\"dataframe\">\n",
       "  <thead>\n",
       "    <tr style=\"text-align: right;\">\n",
       "      <th></th>\n",
       "      <th>msno</th>\n",
       "      <th>is_churn</th>\n",
       "      <th>city</th>\n",
       "      <th>bd</th>\n",
       "      <th>gender</th>\n",
       "      <th>registered_via</th>\n",
       "      <th>registration_init_time</th>\n",
       "      <th>registration_init_date</th>\n",
       "      <th>year</th>\n",
       "      <th>month</th>\n",
       "      <th>total_transactions</th>\n",
       "    </tr>\n",
       "  </thead>\n",
       "  <tbody>\n",
       "    <tr>\n",
       "      <th>0</th>\n",
       "      <td>4n+fXlyJvfQnTeKXTWT507Ll4JVYGrOC8LHCfwBmPE4=</td>\n",
       "      <td>0</td>\n",
       "      <td>1</td>\n",
       "      <td>0</td>\n",
       "      <td>unknown</td>\n",
       "      <td>7</td>\n",
       "      <td>20150718</td>\n",
       "      <td>2015-07-18</td>\n",
       "      <td>2015</td>\n",
       "      <td>7</td>\n",
       "      <td>21</td>\n",
       "    </tr>\n",
       "    <tr>\n",
       "      <th>1</th>\n",
       "      <td>aNmbC1GvFUxQyQUidCVmfbQ0YeCuwkPzEdQ0RwWyeZM=</td>\n",
       "      <td>0</td>\n",
       "      <td>4</td>\n",
       "      <td>28</td>\n",
       "      <td>male</td>\n",
       "      <td>9</td>\n",
       "      <td>20051030</td>\n",
       "      <td>2005-10-30</td>\n",
       "      <td>2005</td>\n",
       "      <td>10</td>\n",
       "      <td>23</td>\n",
       "    </tr>\n",
       "    <tr>\n",
       "      <th>2</th>\n",
       "      <td>rFC9eSG/tMuzpre6cwcMLZHEYM89xY02qcz7HL4//jc=</td>\n",
       "      <td>0</td>\n",
       "      <td>4</td>\n",
       "      <td>34</td>\n",
       "      <td>male</td>\n",
       "      <td>7</td>\n",
       "      <td>20141101</td>\n",
       "      <td>2014-11-01</td>\n",
       "      <td>2014</td>\n",
       "      <td>11</td>\n",
       "      <td>11</td>\n",
       "    </tr>\n",
       "    <tr>\n",
       "      <th>3</th>\n",
       "      <td>WZ59dLyrQcE7ft06MZ5dj40BnlYQY7PHgg/54+HaCSE=</td>\n",
       "      <td>0</td>\n",
       "      <td>1</td>\n",
       "      <td>0</td>\n",
       "      <td>unknown</td>\n",
       "      <td>7</td>\n",
       "      <td>20151009</td>\n",
       "      <td>2015-10-09</td>\n",
       "      <td>2015</td>\n",
       "      <td>10</td>\n",
       "      <td>17</td>\n",
       "    </tr>\n",
       "    <tr>\n",
       "      <th>4</th>\n",
       "      <td>aky/Iv8hMp1/V/yQHLtaVuEmmAxkB5GuasQZePJ7NU4=</td>\n",
       "      <td>0</td>\n",
       "      <td>1</td>\n",
       "      <td>0</td>\n",
       "      <td>unknown</td>\n",
       "      <td>13</td>\n",
       "      <td>20161222</td>\n",
       "      <td>2016-12-22</td>\n",
       "      <td>2016</td>\n",
       "      <td>12</td>\n",
       "      <td>4</td>\n",
       "    </tr>\n",
       "  </tbody>\n",
       "</table>\n",
       "</div>"
      ],
      "text/plain": [
       "                                           msno  is_churn  city  bd   gender  \\\n",
       "0  4n+fXlyJvfQnTeKXTWT507Ll4JVYGrOC8LHCfwBmPE4=         0     1   0  unknown   \n",
       "1  aNmbC1GvFUxQyQUidCVmfbQ0YeCuwkPzEdQ0RwWyeZM=         0     4  28     male   \n",
       "2  rFC9eSG/tMuzpre6cwcMLZHEYM89xY02qcz7HL4//jc=         0     4  34     male   \n",
       "3  WZ59dLyrQcE7ft06MZ5dj40BnlYQY7PHgg/54+HaCSE=         0     1   0  unknown   \n",
       "4  aky/Iv8hMp1/V/yQHLtaVuEmmAxkB5GuasQZePJ7NU4=         0     1   0  unknown   \n",
       "\n",
       "   registered_via  registration_init_time registration_init_date  year  month  \\\n",
       "0               7                20150718             2015-07-18  2015      7   \n",
       "1               9                20051030             2005-10-30  2005     10   \n",
       "2               7                20141101             2014-11-01  2014     11   \n",
       "3               7                20151009             2015-10-09  2015     10   \n",
       "4              13                20161222             2016-12-22  2016     12   \n",
       "\n",
       "   total_transactions  \n",
       "0                  21  \n",
       "1                  23  \n",
       "2                  11  \n",
       "3                  17  \n",
       "4                   4  "
      ]
     },
     "execution_count": 77,
     "metadata": {},
     "output_type": "execute_result"
    }
   ],
   "source": [
    "data_test = pd.merge(data_test,number_test,on='msno',how='left')\n",
    "data_test.head()"
   ]
  },
  {
   "cell_type": "code",
   "execution_count": 78,
   "metadata": {},
   "outputs": [
    {
     "name": "stdout",
     "output_type": "stream",
     "text": [
      "<class 'pandas.core.frame.DataFrame'>\n",
      "Int64Index: 907471 entries, 0 to 907470\n",
      "Data columns (total 11 columns):\n",
      "msno                      907471 non-null object\n",
      "is_churn                  907471 non-null int8\n",
      "city                      907471 non-null int8\n",
      "bd                        907471 non-null int16\n",
      "gender                    907471 non-null object\n",
      "registered_via            907471 non-null int8\n",
      "registration_init_time    907471 non-null int32\n",
      "registration_init_date    907471 non-null datetime64[ns]\n",
      "year                      907471 non-null int64\n",
      "month                     907471 non-null int64\n",
      "total_transactions        907471 non-null int64\n",
      "dtypes: datetime64[ns](1), int16(1), int32(1), int64(3), int8(3), object(2)\n",
      "memory usage: 56.3+ MB\n"
     ]
    }
   ],
   "source": [
    "data_test.info()"
   ]
  },
  {
   "cell_type": "code",
   "execution_count": 79,
   "metadata": {},
   "outputs": [
    {
     "data": {
      "text/plain": [
       "113"
      ]
     },
     "execution_count": 79,
     "metadata": {},
     "output_type": "execute_result"
    }
   ],
   "source": [
    "del number_train, number_test, number\n",
    "gc.collect()"
   ]
  },
  {
   "cell_type": "code",
   "execution_count": 80,
   "metadata": {},
   "outputs": [],
   "source": [
    "# 2.  Number of transactions of each user within 12m \n",
    "number = train_transactions[(train_transactions['date_relative']>=0) & (train_transactions['date_relative']<366)].groupby(by='msno')['date_relative'].apply(lambda x: x.shape[0])\n",
    "number_train = pd.DataFrame({'msno':number.index, 'total_transactions_12m':number.values})\n",
    "\n",
    "number = test_transactions[(test_transactions['date_relative']>=0) & (test_transactions['date_relative']<366)].groupby(by='msno')['date_relative'].apply(lambda x: x.shape[0])\n",
    "number_test = pd.DataFrame({'msno':number.index, 'total_transactions_12m':number.values})\n",
    "\n",
    "data_train = pd.merge(data_train,number_train,on='msno',how='left')\n",
    "data_test = pd.merge(data_test,number_test,on='msno',how='left')\n"
   ]
  },
  {
   "cell_type": "code",
   "execution_count": 81,
   "metadata": {},
   "outputs": [],
   "source": [
    "data_train['total_transactions_12m'].fillna(0, inplace = True)\n",
    "data_test['total_transactions_12m'].fillna(0, inplace = True)\n",
    "\n",
    "#data_train['total_transactions_12m']= data_train['total_transactions_12m'].astype(dtype= 'uint16')\n",
    "#data_test['total_transactions_12m']= data_test['total_transactions_12m'].astype(dtype= 'uint16')"
   ]
  },
  {
   "cell_type": "code",
   "execution_count": 82,
   "metadata": {},
   "outputs": [],
   "source": [
    "#  3.  Number of transactions of each user within 6m \n",
    "number = train_transactions[(train_transactions['date_relative']>=0) & (train_transactions['date_relative']<183)].groupby(by='msno')['date_relative'].apply(lambda x: x.shape[0])\n",
    "number_train = pd.DataFrame({'msno':number.index, 'total_transactions_6m':number.values})\n",
    "\n",
    "number = test_transactions[(test_transactions['date_relative']>=0) & (test_transactions['date_relative']<183)].groupby(by='msno')['date_relative'].apply(lambda x: x.shape[0])\n",
    "number_test = pd.DataFrame({'msno':number.index, 'total_transactions_6m':number.values})\n",
    "\n",
    "data_train = pd.merge(data_train,number_train,on='msno',how='left')\n",
    "data_test = pd.merge(data_test,number_test,on='msno',how='left')"
   ]
  },
  {
   "cell_type": "code",
   "execution_count": 83,
   "metadata": {},
   "outputs": [],
   "source": [
    "data_train['total_transactions_6m'].fillna(0, inplace = True)\n",
    "data_test['total_transactions_6m'].fillna(0, inplace = True)\n",
    "\n",
    "#data_train['total_transactions_6m']= data_train['total_transactions_6m'].astype(dtype= 'uint16')\n",
    "#data_test['total_transactions_6m']= data_test['total_transactions_6m'].astype(dtype= 'uint16')"
   ]
  },
  {
   "cell_type": "code",
   "execution_count": 84,
   "metadata": {},
   "outputs": [],
   "source": [
    "#  4.  Number of transactions of each user within 3m \n",
    "number = train_transactions[(train_transactions['date_relative']>=0) & (train_transactions['date_relative']<92)].groupby(by='msno')['date_relative'].apply(lambda x: x.shape[0])\n",
    "number_train = pd.DataFrame({'msno':number.index, 'total_transactions_3m':number.values})\n",
    "\n",
    "number = test_transactions[(test_transactions['date_relative']>=0) & (test_transactions['date_relative']<92)].groupby(by='msno')['date_relative'].apply(lambda x: x.shape[0])\n",
    "number_test = pd.DataFrame({'msno':number.index, 'total_transactions_3m':number.values})\n",
    "\n",
    "data_train = pd.merge(data_train,number_train,on='msno',how='left')\n",
    "data_test = pd.merge(data_test,number_test,on='msno',how='left')"
   ]
  },
  {
   "cell_type": "code",
   "execution_count": 85,
   "metadata": {},
   "outputs": [],
   "source": [
    "data_train['total_transactions_3m'].fillna(0, inplace = True)\n",
    "data_test['total_transactions_3m'].fillna(0, inplace = True)\n",
    "\n",
    "#data_train['total_transactions_3m']= data_train['total_transactions_3m'].astype(dtype= 'uint16')\n",
    "#data_test['total_transactions_3m']= data_test['total_transactions_3m'].astype(dtype= 'uint16')"
   ]
  },
  {
   "cell_type": "code",
   "execution_count": 86,
   "metadata": {},
   "outputs": [],
   "source": [
    "#5. Latest transactions\n",
    "number = train_transactions[train_transactions['date_relative']>=0].groupby(by='msno')['date_relative'].apply(lambda x: x.min())\n",
    "latest_train = pd.DataFrame({'msno':number.index, 'latest_transactions':number.values})\n",
    "\n",
    "number = test_transactions[test_transactions['date_relative']>=0].groupby(by='msno')['date_relative'].apply(lambda x: x.min())\n",
    "latest_test = pd.DataFrame({'msno':number.index, 'latest_transactions':number.values})\n",
    "\n",
    "data_train = pd.merge(data_train,latest_train,on='msno',how='left')\n",
    "data_test = pd.merge(data_test,latest_test,on='msno',how='left')"
   ]
  },
  {
   "cell_type": "code",
   "execution_count": 88,
   "metadata": {},
   "outputs": [],
   "source": [
    "# 6. Common payment_method_id for each user\n",
    "\n",
    "common = train_transactions[train_transactions['date_relative']>=0].groupby(by='msno')['payment_method_id'].apply(lambda x: x.mode()[0])\n",
    "common_train = pd.DataFrame({'msno':common.index, 'common_payment_method':common.values})\n",
    "\n",
    "common = test_transactions[test_transactions['date_relative']>=0].groupby(by='msno')['payment_method_id'].apply(lambda x: x.mode()[0])\n",
    "common_test = pd.DataFrame({'msno':common.index, 'common_payment_method':common.values})\n"
   ]
  },
  {
   "cell_type": "code",
   "execution_count": 89,
   "metadata": {},
   "outputs": [
    {
     "data": {
      "text/html": [
       "<div>\n",
       "<style scoped>\n",
       "    .dataframe tbody tr th:only-of-type {\n",
       "        vertical-align: middle;\n",
       "    }\n",
       "\n",
       "    .dataframe tbody tr th {\n",
       "        vertical-align: top;\n",
       "    }\n",
       "\n",
       "    .dataframe thead th {\n",
       "        text-align: right;\n",
       "    }\n",
       "</style>\n",
       "<table border=\"1\" class=\"dataframe\">\n",
       "  <thead>\n",
       "    <tr style=\"text-align: right;\">\n",
       "      <th></th>\n",
       "      <th>msno</th>\n",
       "      <th>is_churn</th>\n",
       "      <th>city</th>\n",
       "      <th>bd</th>\n",
       "      <th>gender</th>\n",
       "      <th>registered_via</th>\n",
       "      <th>registration_init_time</th>\n",
       "      <th>registration_init_date</th>\n",
       "      <th>year</th>\n",
       "      <th>month</th>\n",
       "      <th>total_transactions</th>\n",
       "      <th>total_transactions_12m</th>\n",
       "      <th>total_transactions_6m</th>\n",
       "      <th>total_transactions_3m</th>\n",
       "      <th>latest_transactions</th>\n",
       "      <th>common_payment_method</th>\n",
       "    </tr>\n",
       "  </thead>\n",
       "  <tbody>\n",
       "    <tr>\n",
       "      <th>0</th>\n",
       "      <td>waLDQMmcOu2jLDaV1ddDkgCrB/jl6sD66Xzs0Vqax1Y=</td>\n",
       "      <td>1</td>\n",
       "      <td>18</td>\n",
       "      <td>36</td>\n",
       "      <td>female</td>\n",
       "      <td>9</td>\n",
       "      <td>20050406</td>\n",
       "      <td>2005-04-06</td>\n",
       "      <td>2005</td>\n",
       "      <td>4</td>\n",
       "      <td>2</td>\n",
       "      <td>2.0</td>\n",
       "      <td>2.0</td>\n",
       "      <td>1.0</td>\n",
       "      <td>24.0</td>\n",
       "      <td>38.0</td>\n",
       "    </tr>\n",
       "    <tr>\n",
       "      <th>1</th>\n",
       "      <td>QA7uiXy8vIbUSPOkCf9RwQ3FsT8jVq2OxDr8zqa7bRQ=</td>\n",
       "      <td>1</td>\n",
       "      <td>10</td>\n",
       "      <td>38</td>\n",
       "      <td>male</td>\n",
       "      <td>9</td>\n",
       "      <td>20050407</td>\n",
       "      <td>2005-04-07</td>\n",
       "      <td>2005</td>\n",
       "      <td>4</td>\n",
       "      <td>23</td>\n",
       "      <td>11.0</td>\n",
       "      <td>6.0</td>\n",
       "      <td>3.0</td>\n",
       "      <td>0.0</td>\n",
       "      <td>39.0</td>\n",
       "    </tr>\n",
       "    <tr>\n",
       "      <th>2</th>\n",
       "      <td>fGwBva6hikQmTJzrbz/2Ezjm5Cth5jZUNvXigKK2AFA=</td>\n",
       "      <td>1</td>\n",
       "      <td>11</td>\n",
       "      <td>27</td>\n",
       "      <td>female</td>\n",
       "      <td>9</td>\n",
       "      <td>20051016</td>\n",
       "      <td>2005-10-16</td>\n",
       "      <td>2005</td>\n",
       "      <td>10</td>\n",
       "      <td>10</td>\n",
       "      <td>10.0</td>\n",
       "      <td>6.0</td>\n",
       "      <td>3.0</td>\n",
       "      <td>19.0</td>\n",
       "      <td>39.0</td>\n",
       "    </tr>\n",
       "    <tr>\n",
       "      <th>3</th>\n",
       "      <td>mT5V8rEpa+8wuqi6x0DoVd3H5icMKkE9Prt49UlmK+4=</td>\n",
       "      <td>1</td>\n",
       "      <td>13</td>\n",
       "      <td>23</td>\n",
       "      <td>female</td>\n",
       "      <td>9</td>\n",
       "      <td>20051102</td>\n",
       "      <td>2005-11-02</td>\n",
       "      <td>2005</td>\n",
       "      <td>11</td>\n",
       "      <td>3</td>\n",
       "      <td>0.0</td>\n",
       "      <td>0.0</td>\n",
       "      <td>0.0</td>\n",
       "      <td>390.0</td>\n",
       "      <td>17.0</td>\n",
       "    </tr>\n",
       "    <tr>\n",
       "      <th>4</th>\n",
       "      <td>XaPhtGLk/5UvvOYHcONTwsnH97P4eGECeq+BARGItRw=</td>\n",
       "      <td>1</td>\n",
       "      <td>3</td>\n",
       "      <td>27</td>\n",
       "      <td>male</td>\n",
       "      <td>9</td>\n",
       "      <td>20051228</td>\n",
       "      <td>2005-12-28</td>\n",
       "      <td>2005</td>\n",
       "      <td>12</td>\n",
       "      <td>9</td>\n",
       "      <td>7.0</td>\n",
       "      <td>3.0</td>\n",
       "      <td>3.0</td>\n",
       "      <td>3.0</td>\n",
       "      <td>38.0</td>\n",
       "    </tr>\n",
       "  </tbody>\n",
       "</table>\n",
       "</div>"
      ],
      "text/plain": [
       "                                           msno  is_churn  city  bd  gender  \\\n",
       "0  waLDQMmcOu2jLDaV1ddDkgCrB/jl6sD66Xzs0Vqax1Y=         1    18  36  female   \n",
       "1  QA7uiXy8vIbUSPOkCf9RwQ3FsT8jVq2OxDr8zqa7bRQ=         1    10  38    male   \n",
       "2  fGwBva6hikQmTJzrbz/2Ezjm5Cth5jZUNvXigKK2AFA=         1    11  27  female   \n",
       "3  mT5V8rEpa+8wuqi6x0DoVd3H5icMKkE9Prt49UlmK+4=         1    13  23  female   \n",
       "4  XaPhtGLk/5UvvOYHcONTwsnH97P4eGECeq+BARGItRw=         1     3  27    male   \n",
       "\n",
       "   registered_via  registration_init_time registration_init_date  year  month  \\\n",
       "0               9                20050406             2005-04-06  2005      4   \n",
       "1               9                20050407             2005-04-07  2005      4   \n",
       "2               9                20051016             2005-10-16  2005     10   \n",
       "3               9                20051102             2005-11-02  2005     11   \n",
       "4               9                20051228             2005-12-28  2005     12   \n",
       "\n",
       "   total_transactions  total_transactions_12m  total_transactions_6m  \\\n",
       "0                   2                     2.0                    2.0   \n",
       "1                  23                    11.0                    6.0   \n",
       "2                  10                    10.0                    6.0   \n",
       "3                   3                     0.0                    0.0   \n",
       "4                   9                     7.0                    3.0   \n",
       "\n",
       "   total_transactions_3m  latest_transactions  common_payment_method  \n",
       "0                    1.0                 24.0                   38.0  \n",
       "1                    3.0                  0.0                   39.0  \n",
       "2                    3.0                 19.0                   39.0  \n",
       "3                    0.0                390.0                   17.0  \n",
       "4                    3.0                  3.0                   38.0  "
      ]
     },
     "execution_count": 89,
     "metadata": {},
     "output_type": "execute_result"
    }
   ],
   "source": [
    "data_train = pd.merge(data_train,common_train,on='msno',how='left')\n",
    "data_train.head()"
   ]
  },
  {
   "cell_type": "code",
   "execution_count": 90,
   "metadata": {},
   "outputs": [
    {
     "data": {
      "text/html": [
       "<div>\n",
       "<style scoped>\n",
       "    .dataframe tbody tr th:only-of-type {\n",
       "        vertical-align: middle;\n",
       "    }\n",
       "\n",
       "    .dataframe tbody tr th {\n",
       "        vertical-align: top;\n",
       "    }\n",
       "\n",
       "    .dataframe thead th {\n",
       "        text-align: right;\n",
       "    }\n",
       "</style>\n",
       "<table border=\"1\" class=\"dataframe\">\n",
       "  <thead>\n",
       "    <tr style=\"text-align: right;\">\n",
       "      <th></th>\n",
       "      <th>msno</th>\n",
       "      <th>is_churn</th>\n",
       "      <th>city</th>\n",
       "      <th>bd</th>\n",
       "      <th>gender</th>\n",
       "      <th>registered_via</th>\n",
       "      <th>registration_init_time</th>\n",
       "      <th>registration_init_date</th>\n",
       "      <th>year</th>\n",
       "      <th>month</th>\n",
       "      <th>total_transactions</th>\n",
       "      <th>total_transactions_12m</th>\n",
       "      <th>total_transactions_6m</th>\n",
       "      <th>total_transactions_3m</th>\n",
       "      <th>latest_transactions</th>\n",
       "      <th>common_payment_method</th>\n",
       "    </tr>\n",
       "  </thead>\n",
       "  <tbody>\n",
       "    <tr>\n",
       "      <th>0</th>\n",
       "      <td>4n+fXlyJvfQnTeKXTWT507Ll4JVYGrOC8LHCfwBmPE4=</td>\n",
       "      <td>0</td>\n",
       "      <td>1</td>\n",
       "      <td>0</td>\n",
       "      <td>unknown</td>\n",
       "      <td>7</td>\n",
       "      <td>20150718</td>\n",
       "      <td>2015-07-18</td>\n",
       "      <td>2015</td>\n",
       "      <td>7</td>\n",
       "      <td>21</td>\n",
       "      <td>12.0</td>\n",
       "      <td>6.0</td>\n",
       "      <td>3.0</td>\n",
       "      <td>13</td>\n",
       "      <td>41</td>\n",
       "    </tr>\n",
       "    <tr>\n",
       "      <th>1</th>\n",
       "      <td>aNmbC1GvFUxQyQUidCVmfbQ0YeCuwkPzEdQ0RwWyeZM=</td>\n",
       "      <td>0</td>\n",
       "      <td>4</td>\n",
       "      <td>28</td>\n",
       "      <td>male</td>\n",
       "      <td>9</td>\n",
       "      <td>20051030</td>\n",
       "      <td>2005-10-30</td>\n",
       "      <td>2005</td>\n",
       "      <td>10</td>\n",
       "      <td>23</td>\n",
       "      <td>13.0</td>\n",
       "      <td>6.0</td>\n",
       "      <td>3.0</td>\n",
       "      <td>0</td>\n",
       "      <td>34</td>\n",
       "    </tr>\n",
       "    <tr>\n",
       "      <th>2</th>\n",
       "      <td>rFC9eSG/tMuzpre6cwcMLZHEYM89xY02qcz7HL4//jc=</td>\n",
       "      <td>0</td>\n",
       "      <td>4</td>\n",
       "      <td>34</td>\n",
       "      <td>male</td>\n",
       "      <td>7</td>\n",
       "      <td>20141101</td>\n",
       "      <td>2014-11-01</td>\n",
       "      <td>2014</td>\n",
       "      <td>11</td>\n",
       "      <td>11</td>\n",
       "      <td>5.0</td>\n",
       "      <td>5.0</td>\n",
       "      <td>3.0</td>\n",
       "      <td>16</td>\n",
       "      <td>41</td>\n",
       "    </tr>\n",
       "    <tr>\n",
       "      <th>3</th>\n",
       "      <td>WZ59dLyrQcE7ft06MZ5dj40BnlYQY7PHgg/54+HaCSE=</td>\n",
       "      <td>0</td>\n",
       "      <td>1</td>\n",
       "      <td>0</td>\n",
       "      <td>unknown</td>\n",
       "      <td>7</td>\n",
       "      <td>20151009</td>\n",
       "      <td>2015-10-09</td>\n",
       "      <td>2015</td>\n",
       "      <td>10</td>\n",
       "      <td>17</td>\n",
       "      <td>12.0</td>\n",
       "      <td>6.0</td>\n",
       "      <td>3.0</td>\n",
       "      <td>4</td>\n",
       "      <td>41</td>\n",
       "    </tr>\n",
       "    <tr>\n",
       "      <th>4</th>\n",
       "      <td>aky/Iv8hMp1/V/yQHLtaVuEmmAxkB5GuasQZePJ7NU4=</td>\n",
       "      <td>0</td>\n",
       "      <td>1</td>\n",
       "      <td>0</td>\n",
       "      <td>unknown</td>\n",
       "      <td>13</td>\n",
       "      <td>20161222</td>\n",
       "      <td>2016-12-22</td>\n",
       "      <td>2016</td>\n",
       "      <td>12</td>\n",
       "      <td>4</td>\n",
       "      <td>4.0</td>\n",
       "      <td>4.0</td>\n",
       "      <td>3.0</td>\n",
       "      <td>9</td>\n",
       "      <td>30</td>\n",
       "    </tr>\n",
       "  </tbody>\n",
       "</table>\n",
       "</div>"
      ],
      "text/plain": [
       "                                           msno  is_churn  city  bd   gender  \\\n",
       "0  4n+fXlyJvfQnTeKXTWT507Ll4JVYGrOC8LHCfwBmPE4=         0     1   0  unknown   \n",
       "1  aNmbC1GvFUxQyQUidCVmfbQ0YeCuwkPzEdQ0RwWyeZM=         0     4  28     male   \n",
       "2  rFC9eSG/tMuzpre6cwcMLZHEYM89xY02qcz7HL4//jc=         0     4  34     male   \n",
       "3  WZ59dLyrQcE7ft06MZ5dj40BnlYQY7PHgg/54+HaCSE=         0     1   0  unknown   \n",
       "4  aky/Iv8hMp1/V/yQHLtaVuEmmAxkB5GuasQZePJ7NU4=         0     1   0  unknown   \n",
       "\n",
       "   registered_via  registration_init_time registration_init_date  year  month  \\\n",
       "0               7                20150718             2015-07-18  2015      7   \n",
       "1               9                20051030             2005-10-30  2005     10   \n",
       "2               7                20141101             2014-11-01  2014     11   \n",
       "3               7                20151009             2015-10-09  2015     10   \n",
       "4              13                20161222             2016-12-22  2016     12   \n",
       "\n",
       "   total_transactions  total_transactions_12m  total_transactions_6m  \\\n",
       "0                  21                    12.0                    6.0   \n",
       "1                  23                    13.0                    6.0   \n",
       "2                  11                     5.0                    5.0   \n",
       "3                  17                    12.0                    6.0   \n",
       "4                   4                     4.0                    4.0   \n",
       "\n",
       "   total_transactions_3m  latest_transactions  common_payment_method  \n",
       "0                    3.0                   13                     41  \n",
       "1                    3.0                    0                     34  \n",
       "2                    3.0                   16                     41  \n",
       "3                    3.0                    4                     41  \n",
       "4                    3.0                    9                     30  "
      ]
     },
     "execution_count": 90,
     "metadata": {},
     "output_type": "execute_result"
    }
   ],
   "source": [
    "data_test = pd.merge(data_test,common_test,on='msno',how='left')\n",
    "data_test.head()"
   ]
  },
  {
   "cell_type": "code",
   "execution_count": 91,
   "metadata": {},
   "outputs": [
    {
     "data": {
      "text/plain": [
       "msno                         0\n",
       "is_churn                     0\n",
       "city                         0\n",
       "bd                           0\n",
       "gender                       0\n",
       "registered_via               0\n",
       "registration_init_time       0\n",
       "registration_init_date       0\n",
       "year                         0\n",
       "month                        0\n",
       "total_transactions           0\n",
       "total_transactions_12m       0\n",
       "total_transactions_6m        0\n",
       "total_transactions_3m        0\n",
       "latest_transactions       1462\n",
       "common_payment_method     1462\n",
       "dtype: int64"
      ]
     },
     "execution_count": 91,
     "metadata": {},
     "output_type": "execute_result"
    }
   ],
   "source": [
    "data_train.isnull().sum()"
   ]
  },
  {
   "cell_type": "code",
   "execution_count": 92,
   "metadata": {},
   "outputs": [
    {
     "data": {
      "text/plain": [
       "msno                      0\n",
       "is_churn                  0\n",
       "city                      0\n",
       "bd                        0\n",
       "gender                    0\n",
       "registered_via            0\n",
       "registration_init_time    0\n",
       "registration_init_date    0\n",
       "year                      0\n",
       "month                     0\n",
       "total_transactions        0\n",
       "total_transactions_12m    0\n",
       "total_transactions_6m     0\n",
       "total_transactions_3m     0\n",
       "latest_transactions       0\n",
       "common_payment_method     0\n",
       "dtype: int64"
      ]
     },
     "execution_count": 92,
     "metadata": {},
     "output_type": "execute_result"
    }
   ],
   "source": [
    "data_test.isnull().sum()"
   ]
  },
  {
   "cell_type": "code",
   "execution_count": 93,
   "metadata": {},
   "outputs": [
    {
     "data": {
      "text/plain": [
       "35"
      ]
     },
     "execution_count": 93,
     "metadata": {},
     "output_type": "execute_result"
    }
   ],
   "source": [
    "del common, common_train, common_test\n",
    "gc.collect()"
   ]
  },
  {
   "cell_type": "code",
   "execution_count": 94,
   "metadata": {},
   "outputs": [],
   "source": [
    "# 7. number of payment methods of each users\n",
    "\n",
    "number = train_transactions[train_transactions['date_relative']>=0].groupby(by='msno')['payment_method_id'].nunique()\n",
    "number_train = pd.DataFrame({'msno':number.index, 'number_payment_method':number.values})\n",
    "\n",
    "number = test_transactions[test_transactions['date_relative']>=0].groupby(by='msno')['payment_method_id'].nunique()\n",
    "number_test = pd.DataFrame({'msno':number.index, 'number_payment_method':number.values})"
   ]
  },
  {
   "cell_type": "code",
   "execution_count": 95,
   "metadata": {},
   "outputs": [
    {
     "data": {
      "text/html": [
       "<div>\n",
       "<style scoped>\n",
       "    .dataframe tbody tr th:only-of-type {\n",
       "        vertical-align: middle;\n",
       "    }\n",
       "\n",
       "    .dataframe tbody tr th {\n",
       "        vertical-align: top;\n",
       "    }\n",
       "\n",
       "    .dataframe thead th {\n",
       "        text-align: right;\n",
       "    }\n",
       "</style>\n",
       "<table border=\"1\" class=\"dataframe\">\n",
       "  <thead>\n",
       "    <tr style=\"text-align: right;\">\n",
       "      <th></th>\n",
       "      <th>msno</th>\n",
       "      <th>is_churn</th>\n",
       "      <th>city</th>\n",
       "      <th>bd</th>\n",
       "      <th>gender</th>\n",
       "      <th>registered_via</th>\n",
       "      <th>registration_init_time</th>\n",
       "      <th>registration_init_date</th>\n",
       "      <th>year</th>\n",
       "      <th>month</th>\n",
       "      <th>total_transactions</th>\n",
       "      <th>total_transactions_12m</th>\n",
       "      <th>total_transactions_6m</th>\n",
       "      <th>total_transactions_3m</th>\n",
       "      <th>latest_transactions</th>\n",
       "      <th>common_payment_method</th>\n",
       "      <th>number_payment_method</th>\n",
       "    </tr>\n",
       "  </thead>\n",
       "  <tbody>\n",
       "    <tr>\n",
       "      <th>0</th>\n",
       "      <td>waLDQMmcOu2jLDaV1ddDkgCrB/jl6sD66Xzs0Vqax1Y=</td>\n",
       "      <td>1</td>\n",
       "      <td>18</td>\n",
       "      <td>36</td>\n",
       "      <td>female</td>\n",
       "      <td>9</td>\n",
       "      <td>20050406</td>\n",
       "      <td>2005-04-06</td>\n",
       "      <td>2005</td>\n",
       "      <td>4</td>\n",
       "      <td>2</td>\n",
       "      <td>2.0</td>\n",
       "      <td>2.0</td>\n",
       "      <td>1.0</td>\n",
       "      <td>24.0</td>\n",
       "      <td>38.0</td>\n",
       "      <td>1.0</td>\n",
       "    </tr>\n",
       "    <tr>\n",
       "      <th>1</th>\n",
       "      <td>QA7uiXy8vIbUSPOkCf9RwQ3FsT8jVq2OxDr8zqa7bRQ=</td>\n",
       "      <td>1</td>\n",
       "      <td>10</td>\n",
       "      <td>38</td>\n",
       "      <td>male</td>\n",
       "      <td>9</td>\n",
       "      <td>20050407</td>\n",
       "      <td>2005-04-07</td>\n",
       "      <td>2005</td>\n",
       "      <td>4</td>\n",
       "      <td>23</td>\n",
       "      <td>11.0</td>\n",
       "      <td>6.0</td>\n",
       "      <td>3.0</td>\n",
       "      <td>0.0</td>\n",
       "      <td>39.0</td>\n",
       "      <td>2.0</td>\n",
       "    </tr>\n",
       "    <tr>\n",
       "      <th>2</th>\n",
       "      <td>fGwBva6hikQmTJzrbz/2Ezjm5Cth5jZUNvXigKK2AFA=</td>\n",
       "      <td>1</td>\n",
       "      <td>11</td>\n",
       "      <td>27</td>\n",
       "      <td>female</td>\n",
       "      <td>9</td>\n",
       "      <td>20051016</td>\n",
       "      <td>2005-10-16</td>\n",
       "      <td>2005</td>\n",
       "      <td>10</td>\n",
       "      <td>10</td>\n",
       "      <td>10.0</td>\n",
       "      <td>6.0</td>\n",
       "      <td>3.0</td>\n",
       "      <td>19.0</td>\n",
       "      <td>39.0</td>\n",
       "      <td>2.0</td>\n",
       "    </tr>\n",
       "    <tr>\n",
       "      <th>3</th>\n",
       "      <td>mT5V8rEpa+8wuqi6x0DoVd3H5icMKkE9Prt49UlmK+4=</td>\n",
       "      <td>1</td>\n",
       "      <td>13</td>\n",
       "      <td>23</td>\n",
       "      <td>female</td>\n",
       "      <td>9</td>\n",
       "      <td>20051102</td>\n",
       "      <td>2005-11-02</td>\n",
       "      <td>2005</td>\n",
       "      <td>11</td>\n",
       "      <td>3</td>\n",
       "      <td>0.0</td>\n",
       "      <td>0.0</td>\n",
       "      <td>0.0</td>\n",
       "      <td>390.0</td>\n",
       "      <td>17.0</td>\n",
       "      <td>2.0</td>\n",
       "    </tr>\n",
       "    <tr>\n",
       "      <th>4</th>\n",
       "      <td>XaPhtGLk/5UvvOYHcONTwsnH97P4eGECeq+BARGItRw=</td>\n",
       "      <td>1</td>\n",
       "      <td>3</td>\n",
       "      <td>27</td>\n",
       "      <td>male</td>\n",
       "      <td>9</td>\n",
       "      <td>20051228</td>\n",
       "      <td>2005-12-28</td>\n",
       "      <td>2005</td>\n",
       "      <td>12</td>\n",
       "      <td>9</td>\n",
       "      <td>7.0</td>\n",
       "      <td>3.0</td>\n",
       "      <td>3.0</td>\n",
       "      <td>3.0</td>\n",
       "      <td>38.0</td>\n",
       "      <td>1.0</td>\n",
       "    </tr>\n",
       "  </tbody>\n",
       "</table>\n",
       "</div>"
      ],
      "text/plain": [
       "                                           msno  is_churn  city  bd  gender  \\\n",
       "0  waLDQMmcOu2jLDaV1ddDkgCrB/jl6sD66Xzs0Vqax1Y=         1    18  36  female   \n",
       "1  QA7uiXy8vIbUSPOkCf9RwQ3FsT8jVq2OxDr8zqa7bRQ=         1    10  38    male   \n",
       "2  fGwBva6hikQmTJzrbz/2Ezjm5Cth5jZUNvXigKK2AFA=         1    11  27  female   \n",
       "3  mT5V8rEpa+8wuqi6x0DoVd3H5icMKkE9Prt49UlmK+4=         1    13  23  female   \n",
       "4  XaPhtGLk/5UvvOYHcONTwsnH97P4eGECeq+BARGItRw=         1     3  27    male   \n",
       "\n",
       "   registered_via  registration_init_time registration_init_date  year  month  \\\n",
       "0               9                20050406             2005-04-06  2005      4   \n",
       "1               9                20050407             2005-04-07  2005      4   \n",
       "2               9                20051016             2005-10-16  2005     10   \n",
       "3               9                20051102             2005-11-02  2005     11   \n",
       "4               9                20051228             2005-12-28  2005     12   \n",
       "\n",
       "   total_transactions  total_transactions_12m  total_transactions_6m  \\\n",
       "0                   2                     2.0                    2.0   \n",
       "1                  23                    11.0                    6.0   \n",
       "2                  10                    10.0                    6.0   \n",
       "3                   3                     0.0                    0.0   \n",
       "4                   9                     7.0                    3.0   \n",
       "\n",
       "   total_transactions_3m  latest_transactions  common_payment_method  \\\n",
       "0                    1.0                 24.0                   38.0   \n",
       "1                    3.0                  0.0                   39.0   \n",
       "2                    3.0                 19.0                   39.0   \n",
       "3                    0.0                390.0                   17.0   \n",
       "4                    3.0                  3.0                   38.0   \n",
       "\n",
       "   number_payment_method  \n",
       "0                    1.0  \n",
       "1                    2.0  \n",
       "2                    2.0  \n",
       "3                    2.0  \n",
       "4                    1.0  "
      ]
     },
     "execution_count": 95,
     "metadata": {},
     "output_type": "execute_result"
    }
   ],
   "source": [
    "data_train = pd.merge(data_train,number_train,on='msno',how='left')\n",
    "data_train.head()"
   ]
  },
  {
   "cell_type": "code",
   "execution_count": 96,
   "metadata": {},
   "outputs": [
    {
     "data": {
      "text/html": [
       "<div>\n",
       "<style scoped>\n",
       "    .dataframe tbody tr th:only-of-type {\n",
       "        vertical-align: middle;\n",
       "    }\n",
       "\n",
       "    .dataframe tbody tr th {\n",
       "        vertical-align: top;\n",
       "    }\n",
       "\n",
       "    .dataframe thead th {\n",
       "        text-align: right;\n",
       "    }\n",
       "</style>\n",
       "<table border=\"1\" class=\"dataframe\">\n",
       "  <thead>\n",
       "    <tr style=\"text-align: right;\">\n",
       "      <th></th>\n",
       "      <th>msno</th>\n",
       "      <th>is_churn</th>\n",
       "      <th>city</th>\n",
       "      <th>bd</th>\n",
       "      <th>gender</th>\n",
       "      <th>registered_via</th>\n",
       "      <th>registration_init_time</th>\n",
       "      <th>registration_init_date</th>\n",
       "      <th>year</th>\n",
       "      <th>month</th>\n",
       "      <th>total_transactions</th>\n",
       "      <th>total_transactions_12m</th>\n",
       "      <th>total_transactions_6m</th>\n",
       "      <th>total_transactions_3m</th>\n",
       "      <th>latest_transactions</th>\n",
       "      <th>common_payment_method</th>\n",
       "      <th>number_payment_method</th>\n",
       "    </tr>\n",
       "  </thead>\n",
       "  <tbody>\n",
       "    <tr>\n",
       "      <th>0</th>\n",
       "      <td>4n+fXlyJvfQnTeKXTWT507Ll4JVYGrOC8LHCfwBmPE4=</td>\n",
       "      <td>0</td>\n",
       "      <td>1</td>\n",
       "      <td>0</td>\n",
       "      <td>unknown</td>\n",
       "      <td>7</td>\n",
       "      <td>20150718</td>\n",
       "      <td>2015-07-18</td>\n",
       "      <td>2015</td>\n",
       "      <td>7</td>\n",
       "      <td>21</td>\n",
       "      <td>12.0</td>\n",
       "      <td>6.0</td>\n",
       "      <td>3.0</td>\n",
       "      <td>13</td>\n",
       "      <td>41</td>\n",
       "      <td>1</td>\n",
       "    </tr>\n",
       "    <tr>\n",
       "      <th>1</th>\n",
       "      <td>aNmbC1GvFUxQyQUidCVmfbQ0YeCuwkPzEdQ0RwWyeZM=</td>\n",
       "      <td>0</td>\n",
       "      <td>4</td>\n",
       "      <td>28</td>\n",
       "      <td>male</td>\n",
       "      <td>9</td>\n",
       "      <td>20051030</td>\n",
       "      <td>2005-10-30</td>\n",
       "      <td>2005</td>\n",
       "      <td>10</td>\n",
       "      <td>23</td>\n",
       "      <td>13.0</td>\n",
       "      <td>6.0</td>\n",
       "      <td>3.0</td>\n",
       "      <td>0</td>\n",
       "      <td>34</td>\n",
       "      <td>1</td>\n",
       "    </tr>\n",
       "    <tr>\n",
       "      <th>2</th>\n",
       "      <td>rFC9eSG/tMuzpre6cwcMLZHEYM89xY02qcz7HL4//jc=</td>\n",
       "      <td>0</td>\n",
       "      <td>4</td>\n",
       "      <td>34</td>\n",
       "      <td>male</td>\n",
       "      <td>7</td>\n",
       "      <td>20141101</td>\n",
       "      <td>2014-11-01</td>\n",
       "      <td>2014</td>\n",
       "      <td>11</td>\n",
       "      <td>11</td>\n",
       "      <td>5.0</td>\n",
       "      <td>5.0</td>\n",
       "      <td>3.0</td>\n",
       "      <td>16</td>\n",
       "      <td>41</td>\n",
       "      <td>1</td>\n",
       "    </tr>\n",
       "    <tr>\n",
       "      <th>3</th>\n",
       "      <td>WZ59dLyrQcE7ft06MZ5dj40BnlYQY7PHgg/54+HaCSE=</td>\n",
       "      <td>0</td>\n",
       "      <td>1</td>\n",
       "      <td>0</td>\n",
       "      <td>unknown</td>\n",
       "      <td>7</td>\n",
       "      <td>20151009</td>\n",
       "      <td>2015-10-09</td>\n",
       "      <td>2015</td>\n",
       "      <td>10</td>\n",
       "      <td>17</td>\n",
       "      <td>12.0</td>\n",
       "      <td>6.0</td>\n",
       "      <td>3.0</td>\n",
       "      <td>4</td>\n",
       "      <td>41</td>\n",
       "      <td>1</td>\n",
       "    </tr>\n",
       "    <tr>\n",
       "      <th>4</th>\n",
       "      <td>aky/Iv8hMp1/V/yQHLtaVuEmmAxkB5GuasQZePJ7NU4=</td>\n",
       "      <td>0</td>\n",
       "      <td>1</td>\n",
       "      <td>0</td>\n",
       "      <td>unknown</td>\n",
       "      <td>13</td>\n",
       "      <td>20161222</td>\n",
       "      <td>2016-12-22</td>\n",
       "      <td>2016</td>\n",
       "      <td>12</td>\n",
       "      <td>4</td>\n",
       "      <td>4.0</td>\n",
       "      <td>4.0</td>\n",
       "      <td>3.0</td>\n",
       "      <td>9</td>\n",
       "      <td>30</td>\n",
       "      <td>1</td>\n",
       "    </tr>\n",
       "  </tbody>\n",
       "</table>\n",
       "</div>"
      ],
      "text/plain": [
       "                                           msno  is_churn  city  bd   gender  \\\n",
       "0  4n+fXlyJvfQnTeKXTWT507Ll4JVYGrOC8LHCfwBmPE4=         0     1   0  unknown   \n",
       "1  aNmbC1GvFUxQyQUidCVmfbQ0YeCuwkPzEdQ0RwWyeZM=         0     4  28     male   \n",
       "2  rFC9eSG/tMuzpre6cwcMLZHEYM89xY02qcz7HL4//jc=         0     4  34     male   \n",
       "3  WZ59dLyrQcE7ft06MZ5dj40BnlYQY7PHgg/54+HaCSE=         0     1   0  unknown   \n",
       "4  aky/Iv8hMp1/V/yQHLtaVuEmmAxkB5GuasQZePJ7NU4=         0     1   0  unknown   \n",
       "\n",
       "   registered_via  registration_init_time registration_init_date  year  month  \\\n",
       "0               7                20150718             2015-07-18  2015      7   \n",
       "1               9                20051030             2005-10-30  2005     10   \n",
       "2               7                20141101             2014-11-01  2014     11   \n",
       "3               7                20151009             2015-10-09  2015     10   \n",
       "4              13                20161222             2016-12-22  2016     12   \n",
       "\n",
       "   total_transactions  total_transactions_12m  total_transactions_6m  \\\n",
       "0                  21                    12.0                    6.0   \n",
       "1                  23                    13.0                    6.0   \n",
       "2                  11                     5.0                    5.0   \n",
       "3                  17                    12.0                    6.0   \n",
       "4                   4                     4.0                    4.0   \n",
       "\n",
       "   total_transactions_3m  latest_transactions  common_payment_method  \\\n",
       "0                    3.0                   13                     41   \n",
       "1                    3.0                    0                     34   \n",
       "2                    3.0                   16                     41   \n",
       "3                    3.0                    4                     41   \n",
       "4                    3.0                    9                     30   \n",
       "\n",
       "   number_payment_method  \n",
       "0                      1  \n",
       "1                      1  \n",
       "2                      1  \n",
       "3                      1  \n",
       "4                      1  "
      ]
     },
     "execution_count": 96,
     "metadata": {},
     "output_type": "execute_result"
    }
   ],
   "source": [
    "data_test = pd.merge(data_test,number_test,on='msno',how='left')\n",
    "data_test.head()"
   ]
  },
  {
   "cell_type": "code",
   "execution_count": 97,
   "metadata": {},
   "outputs": [
    {
     "data": {
      "text/plain": [
       "56"
      ]
     },
     "execution_count": 97,
     "metadata": {},
     "output_type": "execute_result"
    }
   ],
   "source": [
    "del number, number_train, number_test\n",
    "gc.collect()"
   ]
  },
  {
   "cell_type": "code",
   "execution_count": 100,
   "metadata": {},
   "outputs": [
    {
     "data": {
      "text/plain": [
       "Text(0.5,1,'percentage of users churning wrt number of payment method')"
      ]
     },
     "execution_count": 100,
     "metadata": {},
     "output_type": "execute_result"
    },
    {
     "data": {
      "image/png": "[encoded data removed]",
      "text/plain": [
       "<Figure size 576x432 with 2 Axes>"
      ]
     },
     "metadata": {},
     "output_type": "display_data"
    }
   ],
   "source": [
    "fig = plt.figure(figsize=(8,6))\n",
    "ax1 = fig.add_subplot(211)\n",
    "ax2 = fig.add_subplot(212)\n",
    "\n",
    "sns.countplot(x='number_payment_method',data=data_train,hue='is_churn',ax=ax1)\n",
    "sns.barplot(list(np.arange(1,9,1)),np.array(data_train.groupby(by='number_payment_method')['is_churn'].mean()),ax=ax2)\n",
    "ax2.set_title('percentage of users churning wrt number of payment method',pad=-15)"
   ]
  },
  {
   "cell_type": "code",
   "execution_count": 101,
   "metadata": {},
   "outputs": [],
   "source": [
    "# 8 common payment plan days\n",
    "\n",
    "common = train_transactions[train_transactions['date_relative']>=0].groupby(by='msno')['payment_plan_days'].apply(lambda x: x.mode()[0])\n",
    "common_train = pd.DataFrame({'msno':common.index, 'common_plan_days':common.values})\n",
    "\n",
    "common = test_transactions[test_transactions['date_relative']>=0].groupby(by='msno')['payment_plan_days'].apply(lambda x: x.mode()[0])\n",
    "common_test = pd.DataFrame({'msno':common.index, 'common_plan_days':common.values})"
   ]
  },
  {
   "cell_type": "code",
   "execution_count": 102,
   "metadata": {},
   "outputs": [
    {
     "data": {
      "text/html": [
       "<div>\n",
       "<style scoped>\n",
       "    .dataframe tbody tr th:only-of-type {\n",
       "        vertical-align: middle;\n",
       "    }\n",
       "\n",
       "    .dataframe tbody tr th {\n",
       "        vertical-align: top;\n",
       "    }\n",
       "\n",
       "    .dataframe thead th {\n",
       "        text-align: right;\n",
       "    }\n",
       "</style>\n",
       "<table border=\"1\" class=\"dataframe\">\n",
       "  <thead>\n",
       "    <tr style=\"text-align: right;\">\n",
       "      <th></th>\n",
       "      <th>msno</th>\n",
       "      <th>is_churn</th>\n",
       "      <th>city</th>\n",
       "      <th>bd</th>\n",
       "      <th>gender</th>\n",
       "      <th>registered_via</th>\n",
       "      <th>registration_init_time</th>\n",
       "      <th>registration_init_date</th>\n",
       "      <th>year</th>\n",
       "      <th>month</th>\n",
       "      <th>total_transactions</th>\n",
       "      <th>total_transactions_12m</th>\n",
       "      <th>total_transactions_6m</th>\n",
       "      <th>total_transactions_3m</th>\n",
       "      <th>latest_transactions</th>\n",
       "      <th>common_payment_method</th>\n",
       "      <th>number_payment_method</th>\n",
       "      <th>common_plan_days</th>\n",
       "    </tr>\n",
       "  </thead>\n",
       "  <tbody>\n",
       "    <tr>\n",
       "      <th>0</th>\n",
       "      <td>waLDQMmcOu2jLDaV1ddDkgCrB/jl6sD66Xzs0Vqax1Y=</td>\n",
       "      <td>1</td>\n",
       "      <td>18</td>\n",
       "      <td>36</td>\n",
       "      <td>female</td>\n",
       "      <td>9</td>\n",
       "      <td>20050406</td>\n",
       "      <td>2005-04-06</td>\n",
       "      <td>2005</td>\n",
       "      <td>4</td>\n",
       "      <td>2</td>\n",
       "      <td>2.0</td>\n",
       "      <td>2.0</td>\n",
       "      <td>1.0</td>\n",
       "      <td>24.0</td>\n",
       "      <td>38.0</td>\n",
       "      <td>1.0</td>\n",
       "      <td>7.0</td>\n",
       "    </tr>\n",
       "    <tr>\n",
       "      <th>1</th>\n",
       "      <td>QA7uiXy8vIbUSPOkCf9RwQ3FsT8jVq2OxDr8zqa7bRQ=</td>\n",
       "      <td>1</td>\n",
       "      <td>10</td>\n",
       "      <td>38</td>\n",
       "      <td>male</td>\n",
       "      <td>9</td>\n",
       "      <td>20050407</td>\n",
       "      <td>2005-04-07</td>\n",
       "      <td>2005</td>\n",
       "      <td>4</td>\n",
       "      <td>23</td>\n",
       "      <td>11.0</td>\n",
       "      <td>6.0</td>\n",
       "      <td>3.0</td>\n",
       "      <td>0.0</td>\n",
       "      <td>39.0</td>\n",
       "      <td>2.0</td>\n",
       "      <td>30.0</td>\n",
       "    </tr>\n",
       "    <tr>\n",
       "      <th>2</th>\n",
       "      <td>fGwBva6hikQmTJzrbz/2Ezjm5Cth5jZUNvXigKK2AFA=</td>\n",
       "      <td>1</td>\n",
       "      <td>11</td>\n",
       "      <td>27</td>\n",
       "      <td>female</td>\n",
       "      <td>9</td>\n",
       "      <td>20051016</td>\n",
       "      <td>2005-10-16</td>\n",
       "      <td>2005</td>\n",
       "      <td>10</td>\n",
       "      <td>10</td>\n",
       "      <td>10.0</td>\n",
       "      <td>6.0</td>\n",
       "      <td>3.0</td>\n",
       "      <td>19.0</td>\n",
       "      <td>39.0</td>\n",
       "      <td>2.0</td>\n",
       "      <td>30.0</td>\n",
       "    </tr>\n",
       "    <tr>\n",
       "      <th>3</th>\n",
       "      <td>mT5V8rEpa+8wuqi6x0DoVd3H5icMKkE9Prt49UlmK+4=</td>\n",
       "      <td>1</td>\n",
       "      <td>13</td>\n",
       "      <td>23</td>\n",
       "      <td>female</td>\n",
       "      <td>9</td>\n",
       "      <td>20051102</td>\n",
       "      <td>2005-11-02</td>\n",
       "      <td>2005</td>\n",
       "      <td>11</td>\n",
       "      <td>3</td>\n",
       "      <td>0.0</td>\n",
       "      <td>0.0</td>\n",
       "      <td>0.0</td>\n",
       "      <td>390.0</td>\n",
       "      <td>17.0</td>\n",
       "      <td>2.0</td>\n",
       "      <td>410.0</td>\n",
       "    </tr>\n",
       "    <tr>\n",
       "      <th>4</th>\n",
       "      <td>XaPhtGLk/5UvvOYHcONTwsnH97P4eGECeq+BARGItRw=</td>\n",
       "      <td>1</td>\n",
       "      <td>3</td>\n",
       "      <td>27</td>\n",
       "      <td>male</td>\n",
       "      <td>9</td>\n",
       "      <td>20051228</td>\n",
       "      <td>2005-12-28</td>\n",
       "      <td>2005</td>\n",
       "      <td>12</td>\n",
       "      <td>9</td>\n",
       "      <td>7.0</td>\n",
       "      <td>3.0</td>\n",
       "      <td>3.0</td>\n",
       "      <td>3.0</td>\n",
       "      <td>38.0</td>\n",
       "      <td>1.0</td>\n",
       "      <td>30.0</td>\n",
       "    </tr>\n",
       "  </tbody>\n",
       "</table>\n",
       "</div>"
      ],
      "text/plain": [
       "                                           msno  is_churn  city  bd  gender  \\\n",
       "0  waLDQMmcOu2jLDaV1ddDkgCrB/jl6sD66Xzs0Vqax1Y=         1    18  36  female   \n",
       "1  QA7uiXy8vIbUSPOkCf9RwQ3FsT8jVq2OxDr8zqa7bRQ=         1    10  38    male   \n",
       "2  fGwBva6hikQmTJzrbz/2Ezjm5Cth5jZUNvXigKK2AFA=         1    11  27  female   \n",
       "3  mT5V8rEpa+8wuqi6x0DoVd3H5icMKkE9Prt49UlmK+4=         1    13  23  female   \n",
       "4  XaPhtGLk/5UvvOYHcONTwsnH97P4eGECeq+BARGItRw=         1     3  27    male   \n",
       "\n",
       "   registered_via  registration_init_time registration_init_date  year  month  \\\n",
       "0               9                20050406             2005-04-06  2005      4   \n",
       "1               9                20050407             2005-04-07  2005      4   \n",
       "2               9                20051016             2005-10-16  2005     10   \n",
       "3               9                20051102             2005-11-02  2005     11   \n",
       "4               9                20051228             2005-12-28  2005     12   \n",
       "\n",
       "   total_transactions  total_transactions_12m  total_transactions_6m  \\\n",
       "0                   2                     2.0                    2.0   \n",
       "1                  23                    11.0                    6.0   \n",
       "2                  10                    10.0                    6.0   \n",
       "3                   3                     0.0                    0.0   \n",
       "4                   9                     7.0                    3.0   \n",
       "\n",
       "   total_transactions_3m  latest_transactions  common_payment_method  \\\n",
       "0                    1.0                 24.0                   38.0   \n",
       "1                    3.0                  0.0                   39.0   \n",
       "2                    3.0                 19.0                   39.0   \n",
       "3                    0.0                390.0                   17.0   \n",
       "4                    3.0                  3.0                   38.0   \n",
       "\n",
       "   number_payment_method  common_plan_days  \n",
       "0                    1.0               7.0  \n",
       "1                    2.0              30.0  \n",
       "2                    2.0              30.0  \n",
       "3                    2.0             410.0  \n",
       "4                    1.0              30.0  "
      ]
     },
     "execution_count": 102,
     "metadata": {},
     "output_type": "execute_result"
    }
   ],
   "source": [
    "data_train = pd.merge(data_train,common_train,on='msno',how='left')\n",
    "data_train.head()"
   ]
  },
  {
   "cell_type": "code",
   "execution_count": 103,
   "metadata": {},
   "outputs": [
    {
     "data": {
      "text/html": [
       "<div>\n",
       "<style scoped>\n",
       "    .dataframe tbody tr th:only-of-type {\n",
       "        vertical-align: middle;\n",
       "    }\n",
       "\n",
       "    .dataframe tbody tr th {\n",
       "        vertical-align: top;\n",
       "    }\n",
       "\n",
       "    .dataframe thead th {\n",
       "        text-align: right;\n",
       "    }\n",
       "</style>\n",
       "<table border=\"1\" class=\"dataframe\">\n",
       "  <thead>\n",
       "    <tr style=\"text-align: right;\">\n",
       "      <th></th>\n",
       "      <th>msno</th>\n",
       "      <th>is_churn</th>\n",
       "      <th>city</th>\n",
       "      <th>bd</th>\n",
       "      <th>gender</th>\n",
       "      <th>registered_via</th>\n",
       "      <th>registration_init_time</th>\n",
       "      <th>registration_init_date</th>\n",
       "      <th>year</th>\n",
       "      <th>month</th>\n",
       "      <th>total_transactions</th>\n",
       "      <th>total_transactions_12m</th>\n",
       "      <th>total_transactions_6m</th>\n",
       "      <th>total_transactions_3m</th>\n",
       "      <th>latest_transactions</th>\n",
       "      <th>common_payment_method</th>\n",
       "      <th>number_payment_method</th>\n",
       "      <th>common_plan_days</th>\n",
       "    </tr>\n",
       "  </thead>\n",
       "  <tbody>\n",
       "    <tr>\n",
       "      <th>0</th>\n",
       "      <td>4n+fXlyJvfQnTeKXTWT507Ll4JVYGrOC8LHCfwBmPE4=</td>\n",
       "      <td>0</td>\n",
       "      <td>1</td>\n",
       "      <td>0</td>\n",
       "      <td>unknown</td>\n",
       "      <td>7</td>\n",
       "      <td>20150718</td>\n",
       "      <td>2015-07-18</td>\n",
       "      <td>2015</td>\n",
       "      <td>7</td>\n",
       "      <td>21</td>\n",
       "      <td>12.0</td>\n",
       "      <td>6.0</td>\n",
       "      <td>3.0</td>\n",
       "      <td>13</td>\n",
       "      <td>41</td>\n",
       "      <td>1</td>\n",
       "      <td>30</td>\n",
       "    </tr>\n",
       "    <tr>\n",
       "      <th>1</th>\n",
       "      <td>aNmbC1GvFUxQyQUidCVmfbQ0YeCuwkPzEdQ0RwWyeZM=</td>\n",
       "      <td>0</td>\n",
       "      <td>4</td>\n",
       "      <td>28</td>\n",
       "      <td>male</td>\n",
       "      <td>9</td>\n",
       "      <td>20051030</td>\n",
       "      <td>2005-10-30</td>\n",
       "      <td>2005</td>\n",
       "      <td>10</td>\n",
       "      <td>23</td>\n",
       "      <td>13.0</td>\n",
       "      <td>6.0</td>\n",
       "      <td>3.0</td>\n",
       "      <td>0</td>\n",
       "      <td>34</td>\n",
       "      <td>1</td>\n",
       "      <td>30</td>\n",
       "    </tr>\n",
       "    <tr>\n",
       "      <th>2</th>\n",
       "      <td>rFC9eSG/tMuzpre6cwcMLZHEYM89xY02qcz7HL4//jc=</td>\n",
       "      <td>0</td>\n",
       "      <td>4</td>\n",
       "      <td>34</td>\n",
       "      <td>male</td>\n",
       "      <td>7</td>\n",
       "      <td>20141101</td>\n",
       "      <td>2014-11-01</td>\n",
       "      <td>2014</td>\n",
       "      <td>11</td>\n",
       "      <td>11</td>\n",
       "      <td>5.0</td>\n",
       "      <td>5.0</td>\n",
       "      <td>3.0</td>\n",
       "      <td>16</td>\n",
       "      <td>41</td>\n",
       "      <td>1</td>\n",
       "      <td>30</td>\n",
       "    </tr>\n",
       "    <tr>\n",
       "      <th>3</th>\n",
       "      <td>WZ59dLyrQcE7ft06MZ5dj40BnlYQY7PHgg/54+HaCSE=</td>\n",
       "      <td>0</td>\n",
       "      <td>1</td>\n",
       "      <td>0</td>\n",
       "      <td>unknown</td>\n",
       "      <td>7</td>\n",
       "      <td>20151009</td>\n",
       "      <td>2015-10-09</td>\n",
       "      <td>2015</td>\n",
       "      <td>10</td>\n",
       "      <td>17</td>\n",
       "      <td>12.0</td>\n",
       "      <td>6.0</td>\n",
       "      <td>3.0</td>\n",
       "      <td>4</td>\n",
       "      <td>41</td>\n",
       "      <td>1</td>\n",
       "      <td>30</td>\n",
       "    </tr>\n",
       "    <tr>\n",
       "      <th>4</th>\n",
       "      <td>aky/Iv8hMp1/V/yQHLtaVuEmmAxkB5GuasQZePJ7NU4=</td>\n",
       "      <td>0</td>\n",
       "      <td>1</td>\n",
       "      <td>0</td>\n",
       "      <td>unknown</td>\n",
       "      <td>13</td>\n",
       "      <td>20161222</td>\n",
       "      <td>2016-12-22</td>\n",
       "      <td>2016</td>\n",
       "      <td>12</td>\n",
       "      <td>4</td>\n",
       "      <td>4.0</td>\n",
       "      <td>4.0</td>\n",
       "      <td>3.0</td>\n",
       "      <td>9</td>\n",
       "      <td>30</td>\n",
       "      <td>1</td>\n",
       "      <td>30</td>\n",
       "    </tr>\n",
       "  </tbody>\n",
       "</table>\n",
       "</div>"
      ],
      "text/plain": [
       "                                           msno  is_churn  city  bd   gender  \\\n",
       "0  4n+fXlyJvfQnTeKXTWT507Ll4JVYGrOC8LHCfwBmPE4=         0     1   0  unknown   \n",
       "1  aNmbC1GvFUxQyQUidCVmfbQ0YeCuwkPzEdQ0RwWyeZM=         0     4  28     male   \n",
       "2  rFC9eSG/tMuzpre6cwcMLZHEYM89xY02qcz7HL4//jc=         0     4  34     male   \n",
       "3  WZ59dLyrQcE7ft06MZ5dj40BnlYQY7PHgg/54+HaCSE=         0     1   0  unknown   \n",
       "4  aky/Iv8hMp1/V/yQHLtaVuEmmAxkB5GuasQZePJ7NU4=         0     1   0  unknown   \n",
       "\n",
       "   registered_via  registration_init_time registration_init_date  year  month  \\\n",
       "0               7                20150718             2015-07-18  2015      7   \n",
       "1               9                20051030             2005-10-30  2005     10   \n",
       "2               7                20141101             2014-11-01  2014     11   \n",
       "3               7                20151009             2015-10-09  2015     10   \n",
       "4              13                20161222             2016-12-22  2016     12   \n",
       "\n",
       "   total_transactions  total_transactions_12m  total_transactions_6m  \\\n",
       "0                  21                    12.0                    6.0   \n",
       "1                  23                    13.0                    6.0   \n",
       "2                  11                     5.0                    5.0   \n",
       "3                  17                    12.0                    6.0   \n",
       "4                   4                     4.0                    4.0   \n",
       "\n",
       "   total_transactions_3m  latest_transactions  common_payment_method  \\\n",
       "0                    3.0                   13                     41   \n",
       "1                    3.0                    0                     34   \n",
       "2                    3.0                   16                     41   \n",
       "3                    3.0                    4                     41   \n",
       "4                    3.0                    9                     30   \n",
       "\n",
       "   number_payment_method  common_plan_days  \n",
       "0                      1                30  \n",
       "1                      1                30  \n",
       "2                      1                30  \n",
       "3                      1                30  \n",
       "4                      1                30  "
      ]
     },
     "execution_count": 103,
     "metadata": {},
     "output_type": "execute_result"
    }
   ],
   "source": [
    "data_test = pd.merge(data_test,common_test,on='msno',how='left')\n",
    "data_test.head()"
   ]
  },
  {
   "cell_type": "code",
   "execution_count": 104,
   "metadata": {},
   "outputs": [
    {
     "data": {
      "text/plain": [
       "msno                         0\n",
       "is_churn                     0\n",
       "city                         0\n",
       "bd                           0\n",
       "gender                       0\n",
       "registered_via               0\n",
       "registration_init_time       0\n",
       "registration_init_date       0\n",
       "year                         0\n",
       "month                        0\n",
       "total_transactions           0\n",
       "total_transactions_12m       0\n",
       "total_transactions_6m        0\n",
       "total_transactions_3m        0\n",
       "latest_transactions       1462\n",
       "common_payment_method     1462\n",
       "number_payment_method     1462\n",
       "common_plan_days          1462\n",
       "dtype: int64"
      ]
     },
     "execution_count": 104,
     "metadata": {},
     "output_type": "execute_result"
    }
   ],
   "source": [
    "data_train.isnull().sum()"
   ]
  },
  {
   "cell_type": "code",
   "execution_count": 105,
   "metadata": {},
   "outputs": [
    {
     "data": {
      "text/plain": [
       "msno                      0\n",
       "is_churn                  0\n",
       "city                      0\n",
       "bd                        0\n",
       "gender                    0\n",
       "registered_via            0\n",
       "registration_init_time    0\n",
       "registration_init_date    0\n",
       "year                      0\n",
       "month                     0\n",
       "total_transactions        0\n",
       "total_transactions_12m    0\n",
       "total_transactions_6m     0\n",
       "total_transactions_3m     0\n",
       "latest_transactions       0\n",
       "common_payment_method     0\n",
       "number_payment_method     0\n",
       "common_plan_days          0\n",
       "dtype: int64"
      ]
     },
     "execution_count": 105,
     "metadata": {},
     "output_type": "execute_result"
    }
   ],
   "source": [
    "data_test.isnull().sum()"
   ]
  },
  {
   "cell_type": "code",
   "execution_count": 106,
   "metadata": {},
   "outputs": [
    {
     "data": {
      "text/plain": [
       "706"
      ]
     },
     "execution_count": 106,
     "metadata": {},
     "output_type": "execute_result"
    }
   ],
   "source": [
    "del common, common_train, common_test\n",
    "gc.collect()"
   ]
  },
  {
   "cell_type": "code",
   "execution_count": 107,
   "metadata": {},
   "outputs": [],
   "source": [
    "# 9. latest_ is_ renew_ auto\n",
    "latest = train_transactions[train_transactions['date_relative']>=0].groupby(by='msno')['is_auto_renew'].apply(lambda x: x.iloc[-1])\n",
    "latest_renew_train = pd.DataFrame({'msno':latest.index, 'latest_auto_renew':latest.values})\n",
    "\n",
    "latest = test_transactions[test_transactions['date_relative']>=0].groupby(by='msno')['is_auto_renew'].apply(lambda x: x.iloc[-1])\n",
    "latest_renew_test = pd.DataFrame({'msno':latest.index, 'latest_auto_renew':latest.values})\n"
   ]
  },
  {
   "cell_type": "code",
   "execution_count": 108,
   "metadata": {},
   "outputs": [
    {
     "data": {
      "text/html": [
       "<div>\n",
       "<style scoped>\n",
       "    .dataframe tbody tr th:only-of-type {\n",
       "        vertical-align: middle;\n",
       "    }\n",
       "\n",
       "    .dataframe tbody tr th {\n",
       "        vertical-align: top;\n",
       "    }\n",
       "\n",
       "    .dataframe thead th {\n",
       "        text-align: right;\n",
       "    }\n",
       "</style>\n",
       "<table border=\"1\" class=\"dataframe\">\n",
       "  <thead>\n",
       "    <tr style=\"text-align: right;\">\n",
       "      <th></th>\n",
       "      <th>msno</th>\n",
       "      <th>is_churn</th>\n",
       "      <th>city</th>\n",
       "      <th>bd</th>\n",
       "      <th>gender</th>\n",
       "      <th>registered_via</th>\n",
       "      <th>registration_init_time</th>\n",
       "      <th>registration_init_date</th>\n",
       "      <th>year</th>\n",
       "      <th>month</th>\n",
       "      <th>total_transactions</th>\n",
       "      <th>total_transactions_12m</th>\n",
       "      <th>total_transactions_6m</th>\n",
       "      <th>total_transactions_3m</th>\n",
       "      <th>latest_transactions</th>\n",
       "      <th>common_payment_method</th>\n",
       "      <th>number_payment_method</th>\n",
       "      <th>common_plan_days</th>\n",
       "      <th>latest_auto_renew</th>\n",
       "    </tr>\n",
       "  </thead>\n",
       "  <tbody>\n",
       "    <tr>\n",
       "      <th>0</th>\n",
       "      <td>waLDQMmcOu2jLDaV1ddDkgCrB/jl6sD66Xzs0Vqax1Y=</td>\n",
       "      <td>1</td>\n",
       "      <td>18</td>\n",
       "      <td>36</td>\n",
       "      <td>female</td>\n",
       "      <td>9</td>\n",
       "      <td>20050406</td>\n",
       "      <td>2005-04-06</td>\n",
       "      <td>2005</td>\n",
       "      <td>4</td>\n",
       "      <td>2</td>\n",
       "      <td>2.0</td>\n",
       "      <td>2.0</td>\n",
       "      <td>1.0</td>\n",
       "      <td>24.0</td>\n",
       "      <td>38.0</td>\n",
       "      <td>1.0</td>\n",
       "      <td>7.0</td>\n",
       "      <td>0.0</td>\n",
       "    </tr>\n",
       "    <tr>\n",
       "      <th>1</th>\n",
       "      <td>QA7uiXy8vIbUSPOkCf9RwQ3FsT8jVq2OxDr8zqa7bRQ=</td>\n",
       "      <td>1</td>\n",
       "      <td>10</td>\n",
       "      <td>38</td>\n",
       "      <td>male</td>\n",
       "      <td>9</td>\n",
       "      <td>20050407</td>\n",
       "      <td>2005-04-07</td>\n",
       "      <td>2005</td>\n",
       "      <td>4</td>\n",
       "      <td>23</td>\n",
       "      <td>11.0</td>\n",
       "      <td>6.0</td>\n",
       "      <td>3.0</td>\n",
       "      <td>0.0</td>\n",
       "      <td>39.0</td>\n",
       "      <td>2.0</td>\n",
       "      <td>30.0</td>\n",
       "      <td>1.0</td>\n",
       "    </tr>\n",
       "    <tr>\n",
       "      <th>2</th>\n",
       "      <td>fGwBva6hikQmTJzrbz/2Ezjm5Cth5jZUNvXigKK2AFA=</td>\n",
       "      <td>1</td>\n",
       "      <td>11</td>\n",
       "      <td>27</td>\n",
       "      <td>female</td>\n",
       "      <td>9</td>\n",
       "      <td>20051016</td>\n",
       "      <td>2005-10-16</td>\n",
       "      <td>2005</td>\n",
       "      <td>10</td>\n",
       "      <td>10</td>\n",
       "      <td>10.0</td>\n",
       "      <td>6.0</td>\n",
       "      <td>3.0</td>\n",
       "      <td>19.0</td>\n",
       "      <td>39.0</td>\n",
       "      <td>2.0</td>\n",
       "      <td>30.0</td>\n",
       "      <td>1.0</td>\n",
       "    </tr>\n",
       "    <tr>\n",
       "      <th>3</th>\n",
       "      <td>mT5V8rEpa+8wuqi6x0DoVd3H5icMKkE9Prt49UlmK+4=</td>\n",
       "      <td>1</td>\n",
       "      <td>13</td>\n",
       "      <td>23</td>\n",
       "      <td>female</td>\n",
       "      <td>9</td>\n",
       "      <td>20051102</td>\n",
       "      <td>2005-11-02</td>\n",
       "      <td>2005</td>\n",
       "      <td>11</td>\n",
       "      <td>3</td>\n",
       "      <td>0.0</td>\n",
       "      <td>0.0</td>\n",
       "      <td>0.0</td>\n",
       "      <td>390.0</td>\n",
       "      <td>17.0</td>\n",
       "      <td>2.0</td>\n",
       "      <td>410.0</td>\n",
       "      <td>0.0</td>\n",
       "    </tr>\n",
       "    <tr>\n",
       "      <th>4</th>\n",
       "      <td>XaPhtGLk/5UvvOYHcONTwsnH97P4eGECeq+BARGItRw=</td>\n",
       "      <td>1</td>\n",
       "      <td>3</td>\n",
       "      <td>27</td>\n",
       "      <td>male</td>\n",
       "      <td>9</td>\n",
       "      <td>20051228</td>\n",
       "      <td>2005-12-28</td>\n",
       "      <td>2005</td>\n",
       "      <td>12</td>\n",
       "      <td>9</td>\n",
       "      <td>7.0</td>\n",
       "      <td>3.0</td>\n",
       "      <td>3.0</td>\n",
       "      <td>3.0</td>\n",
       "      <td>38.0</td>\n",
       "      <td>1.0</td>\n",
       "      <td>30.0</td>\n",
       "      <td>0.0</td>\n",
       "    </tr>\n",
       "  </tbody>\n",
       "</table>\n",
       "</div>"
      ],
      "text/plain": [
       "                                           msno  is_churn  city  bd  gender  \\\n",
       "0  waLDQMmcOu2jLDaV1ddDkgCrB/jl6sD66Xzs0Vqax1Y=         1    18  36  female   \n",
       "1  QA7uiXy8vIbUSPOkCf9RwQ3FsT8jVq2OxDr8zqa7bRQ=         1    10  38    male   \n",
       "2  fGwBva6hikQmTJzrbz/2Ezjm5Cth5jZUNvXigKK2AFA=         1    11  27  female   \n",
       "3  mT5V8rEpa+8wuqi6x0DoVd3H5icMKkE9Prt49UlmK+4=         1    13  23  female   \n",
       "4  XaPhtGLk/5UvvOYHcONTwsnH97P4eGECeq+BARGItRw=         1     3  27    male   \n",
       "\n",
       "   registered_via  registration_init_time registration_init_date  year  month  \\\n",
       "0               9                20050406             2005-04-06  2005      4   \n",
       "1               9                20050407             2005-04-07  2005      4   \n",
       "2               9                20051016             2005-10-16  2005     10   \n",
       "3               9                20051102             2005-11-02  2005     11   \n",
       "4               9                20051228             2005-12-28  2005     12   \n",
       "\n",
       "   total_transactions  total_transactions_12m  total_transactions_6m  \\\n",
       "0                   2                     2.0                    2.0   \n",
       "1                  23                    11.0                    6.0   \n",
       "2                  10                    10.0                    6.0   \n",
       "3                   3                     0.0                    0.0   \n",
       "4                   9                     7.0                    3.0   \n",
       "\n",
       "   total_transactions_3m  latest_transactions  common_payment_method  \\\n",
       "0                    1.0                 24.0                   38.0   \n",
       "1                    3.0                  0.0                   39.0   \n",
       "2                    3.0                 19.0                   39.0   \n",
       "3                    0.0                390.0                   17.0   \n",
       "4                    3.0                  3.0                   38.0   \n",
       "\n",
       "   number_payment_method  common_plan_days  latest_auto_renew  \n",
       "0                    1.0               7.0                0.0  \n",
       "1                    2.0              30.0                1.0  \n",
       "2                    2.0              30.0                1.0  \n",
       "3                    2.0             410.0                0.0  \n",
       "4                    1.0              30.0                0.0  "
      ]
     },
     "execution_count": 108,
     "metadata": {},
     "output_type": "execute_result"
    }
   ],
   "source": [
    "data_train = pd.merge(data_train,latest_renew_train,on='msno',how='left')\n",
    "data_train.head()"
   ]
  },
  {
   "cell_type": "code",
   "execution_count": 109,
   "metadata": {},
   "outputs": [
    {
     "data": {
      "text/html": [
       "<div>\n",
       "<style scoped>\n",
       "    .dataframe tbody tr th:only-of-type {\n",
       "        vertical-align: middle;\n",
       "    }\n",
       "\n",
       "    .dataframe tbody tr th {\n",
       "        vertical-align: top;\n",
       "    }\n",
       "\n",
       "    .dataframe thead th {\n",
       "        text-align: right;\n",
       "    }\n",
       "</style>\n",
       "<table border=\"1\" class=\"dataframe\">\n",
       "  <thead>\n",
       "    <tr style=\"text-align: right;\">\n",
       "      <th></th>\n",
       "      <th>msno</th>\n",
       "      <th>is_churn</th>\n",
       "      <th>city</th>\n",
       "      <th>bd</th>\n",
       "      <th>gender</th>\n",
       "      <th>registered_via</th>\n",
       "      <th>registration_init_time</th>\n",
       "      <th>registration_init_date</th>\n",
       "      <th>year</th>\n",
       "      <th>month</th>\n",
       "      <th>total_transactions</th>\n",
       "      <th>total_transactions_12m</th>\n",
       "      <th>total_transactions_6m</th>\n",
       "      <th>total_transactions_3m</th>\n",
       "      <th>latest_transactions</th>\n",
       "      <th>common_payment_method</th>\n",
       "      <th>number_payment_method</th>\n",
       "      <th>common_plan_days</th>\n",
       "      <th>latest_auto_renew</th>\n",
       "    </tr>\n",
       "  </thead>\n",
       "  <tbody>\n",
       "    <tr>\n",
       "      <th>0</th>\n",
       "      <td>4n+fXlyJvfQnTeKXTWT507Ll4JVYGrOC8LHCfwBmPE4=</td>\n",
       "      <td>0</td>\n",
       "      <td>1</td>\n",
       "      <td>0</td>\n",
       "      <td>unknown</td>\n",
       "      <td>7</td>\n",
       "      <td>20150718</td>\n",
       "      <td>2015-07-18</td>\n",
       "      <td>2015</td>\n",
       "      <td>7</td>\n",
       "      <td>21</td>\n",
       "      <td>12.0</td>\n",
       "      <td>6.0</td>\n",
       "      <td>3.0</td>\n",
       "      <td>13</td>\n",
       "      <td>41</td>\n",
       "      <td>1</td>\n",
       "      <td>30</td>\n",
       "      <td>1</td>\n",
       "    </tr>\n",
       "    <tr>\n",
       "      <th>1</th>\n",
       "      <td>aNmbC1GvFUxQyQUidCVmfbQ0YeCuwkPzEdQ0RwWyeZM=</td>\n",
       "      <td>0</td>\n",
       "      <td>4</td>\n",
       "      <td>28</td>\n",
       "      <td>male</td>\n",
       "      <td>9</td>\n",
       "      <td>20051030</td>\n",
       "      <td>2005-10-30</td>\n",
       "      <td>2005</td>\n",
       "      <td>10</td>\n",
       "      <td>23</td>\n",
       "      <td>13.0</td>\n",
       "      <td>6.0</td>\n",
       "      <td>3.0</td>\n",
       "      <td>0</td>\n",
       "      <td>34</td>\n",
       "      <td>1</td>\n",
       "      <td>30</td>\n",
       "      <td>1</td>\n",
       "    </tr>\n",
       "    <tr>\n",
       "      <th>2</th>\n",
       "      <td>rFC9eSG/tMuzpre6cwcMLZHEYM89xY02qcz7HL4//jc=</td>\n",
       "      <td>0</td>\n",
       "      <td>4</td>\n",
       "      <td>34</td>\n",
       "      <td>male</td>\n",
       "      <td>7</td>\n",
       "      <td>20141101</td>\n",
       "      <td>2014-11-01</td>\n",
       "      <td>2014</td>\n",
       "      <td>11</td>\n",
       "      <td>11</td>\n",
       "      <td>5.0</td>\n",
       "      <td>5.0</td>\n",
       "      <td>3.0</td>\n",
       "      <td>16</td>\n",
       "      <td>41</td>\n",
       "      <td>1</td>\n",
       "      <td>30</td>\n",
       "      <td>1</td>\n",
       "    </tr>\n",
       "    <tr>\n",
       "      <th>3</th>\n",
       "      <td>WZ59dLyrQcE7ft06MZ5dj40BnlYQY7PHgg/54+HaCSE=</td>\n",
       "      <td>0</td>\n",
       "      <td>1</td>\n",
       "      <td>0</td>\n",
       "      <td>unknown</td>\n",
       "      <td>7</td>\n",
       "      <td>20151009</td>\n",
       "      <td>2015-10-09</td>\n",
       "      <td>2015</td>\n",
       "      <td>10</td>\n",
       "      <td>17</td>\n",
       "      <td>12.0</td>\n",
       "      <td>6.0</td>\n",
       "      <td>3.0</td>\n",
       "      <td>4</td>\n",
       "      <td>41</td>\n",
       "      <td>1</td>\n",
       "      <td>30</td>\n",
       "      <td>1</td>\n",
       "    </tr>\n",
       "    <tr>\n",
       "      <th>4</th>\n",
       "      <td>aky/Iv8hMp1/V/yQHLtaVuEmmAxkB5GuasQZePJ7NU4=</td>\n",
       "      <td>0</td>\n",
       "      <td>1</td>\n",
       "      <td>0</td>\n",
       "      <td>unknown</td>\n",
       "      <td>13</td>\n",
       "      <td>20161222</td>\n",
       "      <td>2016-12-22</td>\n",
       "      <td>2016</td>\n",
       "      <td>12</td>\n",
       "      <td>4</td>\n",
       "      <td>4.0</td>\n",
       "      <td>4.0</td>\n",
       "      <td>3.0</td>\n",
       "      <td>9</td>\n",
       "      <td>30</td>\n",
       "      <td>1</td>\n",
       "      <td>30</td>\n",
       "      <td>1</td>\n",
       "    </tr>\n",
       "  </tbody>\n",
       "</table>\n",
       "</div>"
      ],
      "text/plain": [
       "                                           msno  is_churn  city  bd   gender  \\\n",
       "0  4n+fXlyJvfQnTeKXTWT507Ll4JVYGrOC8LHCfwBmPE4=         0     1   0  unknown   \n",
       "1  aNmbC1GvFUxQyQUidCVmfbQ0YeCuwkPzEdQ0RwWyeZM=         0     4  28     male   \n",
       "2  rFC9eSG/tMuzpre6cwcMLZHEYM89xY02qcz7HL4//jc=         0     4  34     male   \n",
       "3  WZ59dLyrQcE7ft06MZ5dj40BnlYQY7PHgg/54+HaCSE=         0     1   0  unknown   \n",
       "4  aky/Iv8hMp1/V/yQHLtaVuEmmAxkB5GuasQZePJ7NU4=         0     1   0  unknown   \n",
       "\n",
       "   registered_via  registration_init_time registration_init_date  year  month  \\\n",
       "0               7                20150718             2015-07-18  2015      7   \n",
       "1               9                20051030             2005-10-30  2005     10   \n",
       "2               7                20141101             2014-11-01  2014     11   \n",
       "3               7                20151009             2015-10-09  2015     10   \n",
       "4              13                20161222             2016-12-22  2016     12   \n",
       "\n",
       "   total_transactions  total_transactions_12m  total_transactions_6m  \\\n",
       "0                  21                    12.0                    6.0   \n",
       "1                  23                    13.0                    6.0   \n",
       "2                  11                     5.0                    5.0   \n",
       "3                  17                    12.0                    6.0   \n",
       "4                   4                     4.0                    4.0   \n",
       "\n",
       "   total_transactions_3m  latest_transactions  common_payment_method  \\\n",
       "0                    3.0                   13                     41   \n",
       "1                    3.0                    0                     34   \n",
       "2                    3.0                   16                     41   \n",
       "3                    3.0                    4                     41   \n",
       "4                    3.0                    9                     30   \n",
       "\n",
       "   number_payment_method  common_plan_days  latest_auto_renew  \n",
       "0                      1                30                  1  \n",
       "1                      1                30                  1  \n",
       "2                      1                30                  1  \n",
       "3                      1                30                  1  \n",
       "4                      1                30                  1  "
      ]
     },
     "execution_count": 109,
     "metadata": {},
     "output_type": "execute_result"
    }
   ],
   "source": [
    "data_test = pd.merge(data_test,latest_renew_test,on='msno',how='left')\n",
    "data_test.head()"
   ]
  },
  {
   "cell_type": "code",
   "execution_count": 110,
   "metadata": {},
   "outputs": [
    {
     "data": {
      "text/plain": [
       "Text(0.5,1,'percentage of users churning wrt latest_auto_renew')"
      ]
     },
     "execution_count": 110,
     "metadata": {},
     "output_type": "execute_result"
    },
    {
     "data": {
      "image/png": "[encoded data removed]",
      "text/plain": [
       "<Figure size 576x432 with 2 Axes>"
      ]
     },
     "metadata": {},
     "output_type": "display_data"
    }
   ],
   "source": [
    "fig = plt.figure(figsize=(8,6))\n",
    "ax1 = fig.add_subplot(211)\n",
    "ax2 = fig.add_subplot(212)\n",
    "\n",
    "sns.countplot(x='latest_auto_renew',data=data_train,hue='is_churn',ax=ax1)\n",
    "sns.barplot(['no_auto_renew','auto_renew'],np.array(data_train.groupby(by='latest_auto_renew')['is_churn'].mean()),ax=ax2)\n",
    "ax2.set_title('percentage of users churning wrt latest_auto_renew',pad=-15)"
   ]
  },
  {
   "cell_type": "code",
   "execution_count": 111,
   "metadata": {},
   "outputs": [
    {
     "data": {
      "text/plain": [
       "14"
      ]
     },
     "execution_count": 111,
     "metadata": {},
     "output_type": "execute_result"
    }
   ],
   "source": [
    "del latest, latest_renew_train, latest_renew_test\n",
    "gc.collect()"
   ]
  },
  {
   "cell_type": "code",
   "execution_count": 112,
   "metadata": {},
   "outputs": [],
   "source": [
    "# 10. Rate of auto renew\n",
    "latest = train_transactions[train_transactions['date_relative']>=0].groupby(by='msno')['is_auto_renew'].apply(lambda x: x.mean())\n",
    "latest_renew_train = pd.DataFrame({'msno':latest.index, 'rate_auto_renew':latest.values})\n",
    "\n",
    "latest = test_transactions[test_transactions['date_relative']>=0].groupby(by='msno')['is_auto_renew'].apply(lambda x: x.mean())\n",
    "latest_renew_test = pd.DataFrame({'msno':latest.index, 'rate_auto_renew':latest.values})\n",
    "\n",
    "data_train = pd.merge(data_train,latest_renew_train,on='msno',how='left')\n",
    "data_test = pd.merge(data_test,latest_renew_test,on='msno',how='left')"
   ]
  },
  {
   "cell_type": "code",
   "execution_count": 113,
   "metadata": {},
   "outputs": [],
   "source": [
    "# 11. latest _is_cancel\n",
    "latest = train_transactions[train_transactions['date_relative']>=0].groupby(by='msno')['is_cancel'].apply(lambda x: x.iloc[-1])\n",
    "latest_cancel_train = pd.DataFrame({'msno':latest.index, 'latest_cancel':latest.values})\n",
    "\n",
    "latest = test_transactions[test_transactions['date_relative']>=0].groupby(by='msno')['is_cancel'].apply(lambda x: x.iloc[-1])\n",
    "latest_cancel_test = pd.DataFrame({'msno':latest.index, 'latest_cancel':latest.values})"
   ]
  },
  {
   "cell_type": "code",
   "execution_count": 114,
   "metadata": {},
   "outputs": [
    {
     "data": {
      "text/html": [
       "<div>\n",
       "<style scoped>\n",
       "    .dataframe tbody tr th:only-of-type {\n",
       "        vertical-align: middle;\n",
       "    }\n",
       "\n",
       "    .dataframe tbody tr th {\n",
       "        vertical-align: top;\n",
       "    }\n",
       "\n",
       "    .dataframe thead th {\n",
       "        text-align: right;\n",
       "    }\n",
       "</style>\n",
       "<table border=\"1\" class=\"dataframe\">\n",
       "  <thead>\n",
       "    <tr style=\"text-align: right;\">\n",
       "      <th></th>\n",
       "      <th>msno</th>\n",
       "      <th>is_churn</th>\n",
       "      <th>city</th>\n",
       "      <th>bd</th>\n",
       "      <th>gender</th>\n",
       "      <th>registered_via</th>\n",
       "      <th>registration_init_time</th>\n",
       "      <th>registration_init_date</th>\n",
       "      <th>year</th>\n",
       "      <th>month</th>\n",
       "      <th>...</th>\n",
       "      <th>total_transactions_12m</th>\n",
       "      <th>total_transactions_6m</th>\n",
       "      <th>total_transactions_3m</th>\n",
       "      <th>latest_transactions</th>\n",
       "      <th>common_payment_method</th>\n",
       "      <th>number_payment_method</th>\n",
       "      <th>common_plan_days</th>\n",
       "      <th>latest_auto_renew</th>\n",
       "      <th>rate_auto_renew</th>\n",
       "      <th>latest_cancel</th>\n",
       "    </tr>\n",
       "  </thead>\n",
       "  <tbody>\n",
       "    <tr>\n",
       "      <th>0</th>\n",
       "      <td>waLDQMmcOu2jLDaV1ddDkgCrB/jl6sD66Xzs0Vqax1Y=</td>\n",
       "      <td>1</td>\n",
       "      <td>18</td>\n",
       "      <td>36</td>\n",
       "      <td>female</td>\n",
       "      <td>9</td>\n",
       "      <td>20050406</td>\n",
       "      <td>2005-04-06</td>\n",
       "      <td>2005</td>\n",
       "      <td>4</td>\n",
       "      <td>...</td>\n",
       "      <td>2.0</td>\n",
       "      <td>2.0</td>\n",
       "      <td>1.0</td>\n",
       "      <td>24.0</td>\n",
       "      <td>38.0</td>\n",
       "      <td>1.0</td>\n",
       "      <td>7.0</td>\n",
       "      <td>0.0</td>\n",
       "      <td>0.000000</td>\n",
       "      <td>0.0</td>\n",
       "    </tr>\n",
       "    <tr>\n",
       "      <th>1</th>\n",
       "      <td>QA7uiXy8vIbUSPOkCf9RwQ3FsT8jVq2OxDr8zqa7bRQ=</td>\n",
       "      <td>1</td>\n",
       "      <td>10</td>\n",
       "      <td>38</td>\n",
       "      <td>male</td>\n",
       "      <td>9</td>\n",
       "      <td>20050407</td>\n",
       "      <td>2005-04-07</td>\n",
       "      <td>2005</td>\n",
       "      <td>4</td>\n",
       "      <td>...</td>\n",
       "      <td>11.0</td>\n",
       "      <td>6.0</td>\n",
       "      <td>3.0</td>\n",
       "      <td>0.0</td>\n",
       "      <td>39.0</td>\n",
       "      <td>2.0</td>\n",
       "      <td>30.0</td>\n",
       "      <td>1.0</td>\n",
       "      <td>0.954545</td>\n",
       "      <td>0.0</td>\n",
       "    </tr>\n",
       "    <tr>\n",
       "      <th>2</th>\n",
       "      <td>fGwBva6hikQmTJzrbz/2Ezjm5Cth5jZUNvXigKK2AFA=</td>\n",
       "      <td>1</td>\n",
       "      <td>11</td>\n",
       "      <td>27</td>\n",
       "      <td>female</td>\n",
       "      <td>9</td>\n",
       "      <td>20051016</td>\n",
       "      <td>2005-10-16</td>\n",
       "      <td>2005</td>\n",
       "      <td>10</td>\n",
       "      <td>...</td>\n",
       "      <td>10.0</td>\n",
       "      <td>6.0</td>\n",
       "      <td>3.0</td>\n",
       "      <td>19.0</td>\n",
       "      <td>39.0</td>\n",
       "      <td>2.0</td>\n",
       "      <td>30.0</td>\n",
       "      <td>1.0</td>\n",
       "      <td>0.800000</td>\n",
       "      <td>1.0</td>\n",
       "    </tr>\n",
       "    <tr>\n",
       "      <th>3</th>\n",
       "      <td>mT5V8rEpa+8wuqi6x0DoVd3H5icMKkE9Prt49UlmK+4=</td>\n",
       "      <td>1</td>\n",
       "      <td>13</td>\n",
       "      <td>23</td>\n",
       "      <td>female</td>\n",
       "      <td>9</td>\n",
       "      <td>20051102</td>\n",
       "      <td>2005-11-02</td>\n",
       "      <td>2005</td>\n",
       "      <td>11</td>\n",
       "      <td>...</td>\n",
       "      <td>0.0</td>\n",
       "      <td>0.0</td>\n",
       "      <td>0.0</td>\n",
       "      <td>390.0</td>\n",
       "      <td>17.0</td>\n",
       "      <td>2.0</td>\n",
       "      <td>410.0</td>\n",
       "      <td>0.0</td>\n",
       "      <td>0.000000</td>\n",
       "      <td>0.0</td>\n",
       "    </tr>\n",
       "    <tr>\n",
       "      <th>4</th>\n",
       "      <td>XaPhtGLk/5UvvOYHcONTwsnH97P4eGECeq+BARGItRw=</td>\n",
       "      <td>1</td>\n",
       "      <td>3</td>\n",
       "      <td>27</td>\n",
       "      <td>male</td>\n",
       "      <td>9</td>\n",
       "      <td>20051228</td>\n",
       "      <td>2005-12-28</td>\n",
       "      <td>2005</td>\n",
       "      <td>12</td>\n",
       "      <td>...</td>\n",
       "      <td>7.0</td>\n",
       "      <td>3.0</td>\n",
       "      <td>3.0</td>\n",
       "      <td>3.0</td>\n",
       "      <td>38.0</td>\n",
       "      <td>1.0</td>\n",
       "      <td>30.0</td>\n",
       "      <td>0.0</td>\n",
       "      <td>0.000000</td>\n",
       "      <td>0.0</td>\n",
       "    </tr>\n",
       "  </tbody>\n",
       "</table>\n",
       "<p>5 rows × 21 columns</p>\n",
       "</div>"
      ],
      "text/plain": [
       "                                           msno  is_churn  city  bd  gender  \\\n",
       "0  waLDQMmcOu2jLDaV1ddDkgCrB/jl6sD66Xzs0Vqax1Y=         1    18  36  female   \n",
       "1  QA7uiXy8vIbUSPOkCf9RwQ3FsT8jVq2OxDr8zqa7bRQ=         1    10  38    male   \n",
       "2  fGwBva6hikQmTJzrbz/2Ezjm5Cth5jZUNvXigKK2AFA=         1    11  27  female   \n",
       "3  mT5V8rEpa+8wuqi6x0DoVd3H5icMKkE9Prt49UlmK+4=         1    13  23  female   \n",
       "4  XaPhtGLk/5UvvOYHcONTwsnH97P4eGECeq+BARGItRw=         1     3  27    male   \n",
       "\n",
       "   registered_via  registration_init_time registration_init_date  year  month  \\\n",
       "0               9                20050406             2005-04-06  2005      4   \n",
       "1               9                20050407             2005-04-07  2005      4   \n",
       "2               9                20051016             2005-10-16  2005     10   \n",
       "3               9                20051102             2005-11-02  2005     11   \n",
       "4               9                20051228             2005-12-28  2005     12   \n",
       "\n",
       "       ...        total_transactions_12m  total_transactions_6m  \\\n",
       "0      ...                           2.0                    2.0   \n",
       "1      ...                          11.0                    6.0   \n",
       "2      ...                          10.0                    6.0   \n",
       "3      ...                           0.0                    0.0   \n",
       "4      ...                           7.0                    3.0   \n",
       "\n",
       "   total_transactions_3m  latest_transactions  common_payment_method  \\\n",
       "0                    1.0                 24.0                   38.0   \n",
       "1                    3.0                  0.0                   39.0   \n",
       "2                    3.0                 19.0                   39.0   \n",
       "3                    0.0                390.0                   17.0   \n",
       "4                    3.0                  3.0                   38.0   \n",
       "\n",
       "   number_payment_method  common_plan_days  latest_auto_renew  \\\n",
       "0                    1.0               7.0                0.0   \n",
       "1                    2.0              30.0                1.0   \n",
       "2                    2.0              30.0                1.0   \n",
       "3                    2.0             410.0                0.0   \n",
       "4                    1.0              30.0                0.0   \n",
       "\n",
       "   rate_auto_renew  latest_cancel  \n",
       "0         0.000000            0.0  \n",
       "1         0.954545            0.0  \n",
       "2         0.800000            1.0  \n",
       "3         0.000000            0.0  \n",
       "4         0.000000            0.0  \n",
       "\n",
       "[5 rows x 21 columns]"
      ]
     },
     "execution_count": 114,
     "metadata": {},
     "output_type": "execute_result"
    }
   ],
   "source": [
    "data_train = pd.merge(data_train,latest_cancel_train,on='msno',how='left')\n",
    "data_train.head()"
   ]
  },
  {
   "cell_type": "code",
   "execution_count": 115,
   "metadata": {},
   "outputs": [
    {
     "data": {
      "text/html": [
       "<div>\n",
       "<style scoped>\n",
       "    .dataframe tbody tr th:only-of-type {\n",
       "        vertical-align: middle;\n",
       "    }\n",
       "\n",
       "    .dataframe tbody tr th {\n",
       "        vertical-align: top;\n",
       "    }\n",
       "\n",
       "    .dataframe thead th {\n",
       "        text-align: right;\n",
       "    }\n",
       "</style>\n",
       "<table border=\"1\" class=\"dataframe\">\n",
       "  <thead>\n",
       "    <tr style=\"text-align: right;\">\n",
       "      <th></th>\n",
       "      <th>msno</th>\n",
       "      <th>is_churn</th>\n",
       "      <th>city</th>\n",
       "      <th>bd</th>\n",
       "      <th>gender</th>\n",
       "      <th>registered_via</th>\n",
       "      <th>registration_init_time</th>\n",
       "      <th>registration_init_date</th>\n",
       "      <th>year</th>\n",
       "      <th>month</th>\n",
       "      <th>...</th>\n",
       "      <th>total_transactions_12m</th>\n",
       "      <th>total_transactions_6m</th>\n",
       "      <th>total_transactions_3m</th>\n",
       "      <th>latest_transactions</th>\n",
       "      <th>common_payment_method</th>\n",
       "      <th>number_payment_method</th>\n",
       "      <th>common_plan_days</th>\n",
       "      <th>latest_auto_renew</th>\n",
       "      <th>rate_auto_renew</th>\n",
       "      <th>latest_cancel</th>\n",
       "    </tr>\n",
       "  </thead>\n",
       "  <tbody>\n",
       "    <tr>\n",
       "      <th>0</th>\n",
       "      <td>4n+fXlyJvfQnTeKXTWT507Ll4JVYGrOC8LHCfwBmPE4=</td>\n",
       "      <td>0</td>\n",
       "      <td>1</td>\n",
       "      <td>0</td>\n",
       "      <td>unknown</td>\n",
       "      <td>7</td>\n",
       "      <td>20150718</td>\n",
       "      <td>2015-07-18</td>\n",
       "      <td>2015</td>\n",
       "      <td>7</td>\n",
       "      <td>...</td>\n",
       "      <td>12.0</td>\n",
       "      <td>6.0</td>\n",
       "      <td>3.0</td>\n",
       "      <td>13</td>\n",
       "      <td>41</td>\n",
       "      <td>1</td>\n",
       "      <td>30</td>\n",
       "      <td>1</td>\n",
       "      <td>1.0</td>\n",
       "      <td>0</td>\n",
       "    </tr>\n",
       "    <tr>\n",
       "      <th>1</th>\n",
       "      <td>aNmbC1GvFUxQyQUidCVmfbQ0YeCuwkPzEdQ0RwWyeZM=</td>\n",
       "      <td>0</td>\n",
       "      <td>4</td>\n",
       "      <td>28</td>\n",
       "      <td>male</td>\n",
       "      <td>9</td>\n",
       "      <td>20051030</td>\n",
       "      <td>2005-10-30</td>\n",
       "      <td>2005</td>\n",
       "      <td>10</td>\n",
       "      <td>...</td>\n",
       "      <td>13.0</td>\n",
       "      <td>6.0</td>\n",
       "      <td>3.0</td>\n",
       "      <td>0</td>\n",
       "      <td>34</td>\n",
       "      <td>1</td>\n",
       "      <td>30</td>\n",
       "      <td>1</td>\n",
       "      <td>1.0</td>\n",
       "      <td>0</td>\n",
       "    </tr>\n",
       "    <tr>\n",
       "      <th>2</th>\n",
       "      <td>rFC9eSG/tMuzpre6cwcMLZHEYM89xY02qcz7HL4//jc=</td>\n",
       "      <td>0</td>\n",
       "      <td>4</td>\n",
       "      <td>34</td>\n",
       "      <td>male</td>\n",
       "      <td>7</td>\n",
       "      <td>20141101</td>\n",
       "      <td>2014-11-01</td>\n",
       "      <td>2014</td>\n",
       "      <td>11</td>\n",
       "      <td>...</td>\n",
       "      <td>5.0</td>\n",
       "      <td>5.0</td>\n",
       "      <td>3.0</td>\n",
       "      <td>16</td>\n",
       "      <td>41</td>\n",
       "      <td>1</td>\n",
       "      <td>30</td>\n",
       "      <td>1</td>\n",
       "      <td>1.0</td>\n",
       "      <td>0</td>\n",
       "    </tr>\n",
       "    <tr>\n",
       "      <th>3</th>\n",
       "      <td>WZ59dLyrQcE7ft06MZ5dj40BnlYQY7PHgg/54+HaCSE=</td>\n",
       "      <td>0</td>\n",
       "      <td>1</td>\n",
       "      <td>0</td>\n",
       "      <td>unknown</td>\n",
       "      <td>7</td>\n",
       "      <td>20151009</td>\n",
       "      <td>2015-10-09</td>\n",
       "      <td>2015</td>\n",
       "      <td>10</td>\n",
       "      <td>...</td>\n",
       "      <td>12.0</td>\n",
       "      <td>6.0</td>\n",
       "      <td>3.0</td>\n",
       "      <td>4</td>\n",
       "      <td>41</td>\n",
       "      <td>1</td>\n",
       "      <td>30</td>\n",
       "      <td>1</td>\n",
       "      <td>1.0</td>\n",
       "      <td>0</td>\n",
       "    </tr>\n",
       "    <tr>\n",
       "      <th>4</th>\n",
       "      <td>aky/Iv8hMp1/V/yQHLtaVuEmmAxkB5GuasQZePJ7NU4=</td>\n",
       "      <td>0</td>\n",
       "      <td>1</td>\n",
       "      <td>0</td>\n",
       "      <td>unknown</td>\n",
       "      <td>13</td>\n",
       "      <td>20161222</td>\n",
       "      <td>2016-12-22</td>\n",
       "      <td>2016</td>\n",
       "      <td>12</td>\n",
       "      <td>...</td>\n",
       "      <td>4.0</td>\n",
       "      <td>4.0</td>\n",
       "      <td>3.0</td>\n",
       "      <td>9</td>\n",
       "      <td>30</td>\n",
       "      <td>1</td>\n",
       "      <td>30</td>\n",
       "      <td>1</td>\n",
       "      <td>1.0</td>\n",
       "      <td>0</td>\n",
       "    </tr>\n",
       "  </tbody>\n",
       "</table>\n",
       "<p>5 rows × 21 columns</p>\n",
       "</div>"
      ],
      "text/plain": [
       "                                           msno  is_churn  city  bd   gender  \\\n",
       "0  4n+fXlyJvfQnTeKXTWT507Ll4JVYGrOC8LHCfwBmPE4=         0     1   0  unknown   \n",
       "1  aNmbC1GvFUxQyQUidCVmfbQ0YeCuwkPzEdQ0RwWyeZM=         0     4  28     male   \n",
       "2  rFC9eSG/tMuzpre6cwcMLZHEYM89xY02qcz7HL4//jc=         0     4  34     male   \n",
       "3  WZ59dLyrQcE7ft06MZ5dj40BnlYQY7PHgg/54+HaCSE=         0     1   0  unknown   \n",
       "4  aky/Iv8hMp1/V/yQHLtaVuEmmAxkB5GuasQZePJ7NU4=         0     1   0  unknown   \n",
       "\n",
       "   registered_via  registration_init_time registration_init_date  year  month  \\\n",
       "0               7                20150718             2015-07-18  2015      7   \n",
       "1               9                20051030             2005-10-30  2005     10   \n",
       "2               7                20141101             2014-11-01  2014     11   \n",
       "3               7                20151009             2015-10-09  2015     10   \n",
       "4              13                20161222             2016-12-22  2016     12   \n",
       "\n",
       "       ...        total_transactions_12m  total_transactions_6m  \\\n",
       "0      ...                          12.0                    6.0   \n",
       "1      ...                          13.0                    6.0   \n",
       "2      ...                           5.0                    5.0   \n",
       "3      ...                          12.0                    6.0   \n",
       "4      ...                           4.0                    4.0   \n",
       "\n",
       "   total_transactions_3m  latest_transactions  common_payment_method  \\\n",
       "0                    3.0                   13                     41   \n",
       "1                    3.0                    0                     34   \n",
       "2                    3.0                   16                     41   \n",
       "3                    3.0                    4                     41   \n",
       "4                    3.0                    9                     30   \n",
       "\n",
       "   number_payment_method  common_plan_days  latest_auto_renew  \\\n",
       "0                      1                30                  1   \n",
       "1                      1                30                  1   \n",
       "2                      1                30                  1   \n",
       "3                      1                30                  1   \n",
       "4                      1                30                  1   \n",
       "\n",
       "   rate_auto_renew  latest_cancel  \n",
       "0              1.0              0  \n",
       "1              1.0              0  \n",
       "2              1.0              0  \n",
       "3              1.0              0  \n",
       "4              1.0              0  \n",
       "\n",
       "[5 rows x 21 columns]"
      ]
     },
     "execution_count": 115,
     "metadata": {},
     "output_type": "execute_result"
    }
   ],
   "source": [
    "data_test = pd.merge(data_test,latest_cancel_test,on='msno',how='left')\n",
    "data_test.head()"
   ]
  },
  {
   "cell_type": "code",
   "execution_count": 116,
   "metadata": {},
   "outputs": [
    {
     "data": {
      "text/plain": [
       "Text(0.5,1,'percentage of users churning wrt latest cancel')"
      ]
     },
     "execution_count": 116,
     "metadata": {},
     "output_type": "execute_result"
    },
    {
     "data": {
      "image/png": "[encoded data removed]",
      "text/plain": [
       "<Figure size 576x432 with 2 Axes>"
      ]
     },
     "metadata": {},
     "output_type": "display_data"
    }
   ],
   "source": [
    "fig = plt.figure(figsize=(8,6))\n",
    "ax1 = fig.add_subplot(211)\n",
    "ax2 = fig.add_subplot(212)\n",
    "\n",
    "sns.countplot(x='latest_cancel',data=data_train,hue='is_churn',ax=ax1)\n",
    "sns.barplot(['no_cancel','cancel'],np.array(data_train.groupby(by='latest_cancel')['is_churn'].mean()),ax=ax2)\n",
    "ax2.set_title('percentage of users churning wrt latest cancel',pad=-15)"
   ]
  },
  {
   "cell_type": "code",
   "execution_count": 117,
   "metadata": {},
   "outputs": [
    {
     "data": {
      "text/plain": [
       "21"
      ]
     },
     "execution_count": 117,
     "metadata": {},
     "output_type": "execute_result"
    }
   ],
   "source": [
    "del latest, latest_cancel_train, latest_cancel_test\n",
    "gc.collect()"
   ]
  },
  {
   "cell_type": "code",
   "execution_count": 118,
   "metadata": {},
   "outputs": [],
   "source": [
    "# 12. rate_cancel\n",
    "latest = train_transactions[train_transactions['date_relative']>=0].groupby(by='msno')['is_cancel'].apply(lambda x: x.mean())\n",
    "latest_renew_train = pd.DataFrame({'msno':latest.index, 'rate_cancel':latest.values})\n",
    "\n",
    "latest = test_transactions[test_transactions['date_relative']>=0].groupby(by='msno')['is_cancel'].apply(lambda x: x.mean())\n",
    "latest_renew_test = pd.DataFrame({'msno':latest.index, 'rate_cancel':latest.values})\n",
    "\n",
    "data_train = pd.merge(data_train,latest_renew_train,on='msno',how='left')\n",
    "data_test = pd.merge(data_test,latest_renew_test,on='msno',how='left')\n",
    "\n"
   ]
  },
  {
   "cell_type": "code",
   "execution_count": 119,
   "metadata": {},
   "outputs": [],
   "source": [
    "# sum_of_discrepancy_paid\n",
    "number = train_transactions[train_transactions['date_relative']>=0].groupby(by='msno')['discrepancy_paid'].sum()\n",
    "number_train = pd.DataFrame({'msno':number.index, 'sum_discrepancy_paid':number.values})\n",
    "\n",
    "number = test_transactions[test_transactions['date_relative']>=0].groupby(by='msno')['discrepancy_paid'].sum()\n",
    "number_test = pd.DataFrame({'msno':number.index, 'sum_discrepancy_paid':number.values})\n",
    "\n"
   ]
  },
  {
   "cell_type": "code",
   "execution_count": 120,
   "metadata": {},
   "outputs": [
    {
     "data": {
      "text/html": [
       "<div>\n",
       "<style scoped>\n",
       "    .dataframe tbody tr th:only-of-type {\n",
       "        vertical-align: middle;\n",
       "    }\n",
       "\n",
       "    .dataframe tbody tr th {\n",
       "        vertical-align: top;\n",
       "    }\n",
       "\n",
       "    .dataframe thead th {\n",
       "        text-align: right;\n",
       "    }\n",
       "</style>\n",
       "<table border=\"1\" class=\"dataframe\">\n",
       "  <thead>\n",
       "    <tr style=\"text-align: right;\">\n",
       "      <th></th>\n",
       "      <th>msno</th>\n",
       "      <th>is_churn</th>\n",
       "      <th>city</th>\n",
       "      <th>bd</th>\n",
       "      <th>gender</th>\n",
       "      <th>registered_via</th>\n",
       "      <th>registration_init_time</th>\n",
       "      <th>registration_init_date</th>\n",
       "      <th>year</th>\n",
       "      <th>month</th>\n",
       "      <th>...</th>\n",
       "      <th>total_transactions_3m</th>\n",
       "      <th>latest_transactions</th>\n",
       "      <th>common_payment_method</th>\n",
       "      <th>number_payment_method</th>\n",
       "      <th>common_plan_days</th>\n",
       "      <th>latest_auto_renew</th>\n",
       "      <th>rate_auto_renew</th>\n",
       "      <th>latest_cancel</th>\n",
       "      <th>rate_cancel</th>\n",
       "      <th>sum_discrepancy_paid</th>\n",
       "    </tr>\n",
       "  </thead>\n",
       "  <tbody>\n",
       "    <tr>\n",
       "      <th>0</th>\n",
       "      <td>waLDQMmcOu2jLDaV1ddDkgCrB/jl6sD66Xzs0Vqax1Y=</td>\n",
       "      <td>1</td>\n",
       "      <td>18</td>\n",
       "      <td>36</td>\n",
       "      <td>female</td>\n",
       "      <td>9</td>\n",
       "      <td>20050406</td>\n",
       "      <td>2005-04-06</td>\n",
       "      <td>2005</td>\n",
       "      <td>4</td>\n",
       "      <td>...</td>\n",
       "      <td>1.0</td>\n",
       "      <td>24.0</td>\n",
       "      <td>38.0</td>\n",
       "      <td>1.0</td>\n",
       "      <td>7.0</td>\n",
       "      <td>0.0</td>\n",
       "      <td>0.000000</td>\n",
       "      <td>0.0</td>\n",
       "      <td>0.000000</td>\n",
       "      <td>0.0</td>\n",
       "    </tr>\n",
       "    <tr>\n",
       "      <th>1</th>\n",
       "      <td>QA7uiXy8vIbUSPOkCf9RwQ3FsT8jVq2OxDr8zqa7bRQ=</td>\n",
       "      <td>1</td>\n",
       "      <td>10</td>\n",
       "      <td>38</td>\n",
       "      <td>male</td>\n",
       "      <td>9</td>\n",
       "      <td>20050407</td>\n",
       "      <td>2005-04-07</td>\n",
       "      <td>2005</td>\n",
       "      <td>4</td>\n",
       "      <td>...</td>\n",
       "      <td>3.0</td>\n",
       "      <td>0.0</td>\n",
       "      <td>39.0</td>\n",
       "      <td>2.0</td>\n",
       "      <td>30.0</td>\n",
       "      <td>1.0</td>\n",
       "      <td>0.954545</td>\n",
       "      <td>0.0</td>\n",
       "      <td>0.045455</td>\n",
       "      <td>-149.0</td>\n",
       "    </tr>\n",
       "    <tr>\n",
       "      <th>2</th>\n",
       "      <td>fGwBva6hikQmTJzrbz/2Ezjm5Cth5jZUNvXigKK2AFA=</td>\n",
       "      <td>1</td>\n",
       "      <td>11</td>\n",
       "      <td>27</td>\n",
       "      <td>female</td>\n",
       "      <td>9</td>\n",
       "      <td>20051016</td>\n",
       "      <td>2005-10-16</td>\n",
       "      <td>2005</td>\n",
       "      <td>10</td>\n",
       "      <td>...</td>\n",
       "      <td>3.0</td>\n",
       "      <td>19.0</td>\n",
       "      <td>39.0</td>\n",
       "      <td>2.0</td>\n",
       "      <td>30.0</td>\n",
       "      <td>1.0</td>\n",
       "      <td>0.800000</td>\n",
       "      <td>1.0</td>\n",
       "      <td>0.100000</td>\n",
       "      <td>0.0</td>\n",
       "    </tr>\n",
       "    <tr>\n",
       "      <th>3</th>\n",
       "      <td>mT5V8rEpa+8wuqi6x0DoVd3H5icMKkE9Prt49UlmK+4=</td>\n",
       "      <td>1</td>\n",
       "      <td>13</td>\n",
       "      <td>23</td>\n",
       "      <td>female</td>\n",
       "      <td>9</td>\n",
       "      <td>20051102</td>\n",
       "      <td>2005-11-02</td>\n",
       "      <td>2005</td>\n",
       "      <td>11</td>\n",
       "      <td>...</td>\n",
       "      <td>0.0</td>\n",
       "      <td>390.0</td>\n",
       "      <td>17.0</td>\n",
       "      <td>2.0</td>\n",
       "      <td>410.0</td>\n",
       "      <td>0.0</td>\n",
       "      <td>0.000000</td>\n",
       "      <td>0.0</td>\n",
       "      <td>0.000000</td>\n",
       "      <td>0.0</td>\n",
       "    </tr>\n",
       "    <tr>\n",
       "      <th>4</th>\n",
       "      <td>XaPhtGLk/5UvvOYHcONTwsnH97P4eGECeq+BARGItRw=</td>\n",
       "      <td>1</td>\n",
       "      <td>3</td>\n",
       "      <td>27</td>\n",
       "      <td>male</td>\n",
       "      <td>9</td>\n",
       "      <td>20051228</td>\n",
       "      <td>2005-12-28</td>\n",
       "      <td>2005</td>\n",
       "      <td>12</td>\n",
       "      <td>...</td>\n",
       "      <td>3.0</td>\n",
       "      <td>3.0</td>\n",
       "      <td>38.0</td>\n",
       "      <td>1.0</td>\n",
       "      <td>30.0</td>\n",
       "      <td>0.0</td>\n",
       "      <td>0.000000</td>\n",
       "      <td>0.0</td>\n",
       "      <td>0.000000</td>\n",
       "      <td>0.0</td>\n",
       "    </tr>\n",
       "  </tbody>\n",
       "</table>\n",
       "<p>5 rows × 23 columns</p>\n",
       "</div>"
      ],
      "text/plain": [
       "                                           msno  is_churn  city  bd  gender  \\\n",
       "0  waLDQMmcOu2jLDaV1ddDkgCrB/jl6sD66Xzs0Vqax1Y=         1    18  36  female   \n",
       "1  QA7uiXy8vIbUSPOkCf9RwQ3FsT8jVq2OxDr8zqa7bRQ=         1    10  38    male   \n",
       "2  fGwBva6hikQmTJzrbz/2Ezjm5Cth5jZUNvXigKK2AFA=         1    11  27  female   \n",
       "3  mT5V8rEpa+8wuqi6x0DoVd3H5icMKkE9Prt49UlmK+4=         1    13  23  female   \n",
       "4  XaPhtGLk/5UvvOYHcONTwsnH97P4eGECeq+BARGItRw=         1     3  27    male   \n",
       "\n",
       "   registered_via  registration_init_time registration_init_date  year  month  \\\n",
       "0               9                20050406             2005-04-06  2005      4   \n",
       "1               9                20050407             2005-04-07  2005      4   \n",
       "2               9                20051016             2005-10-16  2005     10   \n",
       "3               9                20051102             2005-11-02  2005     11   \n",
       "4               9                20051228             2005-12-28  2005     12   \n",
       "\n",
       "           ...           total_transactions_3m  latest_transactions  \\\n",
       "0          ...                             1.0                 24.0   \n",
       "1          ...                             3.0                  0.0   \n",
       "2          ...                             3.0                 19.0   \n",
       "3          ...                             0.0                390.0   \n",
       "4          ...                             3.0                  3.0   \n",
       "\n",
       "   common_payment_method  number_payment_method  common_plan_days  \\\n",
       "0                   38.0                    1.0               7.0   \n",
       "1                   39.0                    2.0              30.0   \n",
       "2                   39.0                    2.0              30.0   \n",
       "3                   17.0                    2.0             410.0   \n",
       "4                   38.0                    1.0              30.0   \n",
       "\n",
       "   latest_auto_renew  rate_auto_renew  latest_cancel  rate_cancel  \\\n",
       "0                0.0         0.000000            0.0     0.000000   \n",
       "1                1.0         0.954545            0.0     0.045455   \n",
       "2                1.0         0.800000            1.0     0.100000   \n",
       "3                0.0         0.000000            0.0     0.000000   \n",
       "4                0.0         0.000000            0.0     0.000000   \n",
       "\n",
       "   sum_discrepancy_paid  \n",
       "0                   0.0  \n",
       "1                -149.0  \n",
       "2                   0.0  \n",
       "3                   0.0  \n",
       "4                   0.0  \n",
       "\n",
       "[5 rows x 23 columns]"
      ]
     },
     "execution_count": 120,
     "metadata": {},
     "output_type": "execute_result"
    }
   ],
   "source": [
    "data_train = pd.merge(data_train,number_train,on='msno',how='left')\n",
    "data_train.head()"
   ]
  },
  {
   "cell_type": "code",
   "execution_count": 121,
   "metadata": {},
   "outputs": [
    {
     "data": {
      "text/html": [
       "<div>\n",
       "<style scoped>\n",
       "    .dataframe tbody tr th:only-of-type {\n",
       "        vertical-align: middle;\n",
       "    }\n",
       "\n",
       "    .dataframe tbody tr th {\n",
       "        vertical-align: top;\n",
       "    }\n",
       "\n",
       "    .dataframe thead th {\n",
       "        text-align: right;\n",
       "    }\n",
       "</style>\n",
       "<table border=\"1\" class=\"dataframe\">\n",
       "  <thead>\n",
       "    <tr style=\"text-align: right;\">\n",
       "      <th></th>\n",
       "      <th>msno</th>\n",
       "      <th>is_churn</th>\n",
       "      <th>city</th>\n",
       "      <th>bd</th>\n",
       "      <th>gender</th>\n",
       "      <th>registered_via</th>\n",
       "      <th>registration_init_time</th>\n",
       "      <th>registration_init_date</th>\n",
       "      <th>year</th>\n",
       "      <th>month</th>\n",
       "      <th>...</th>\n",
       "      <th>total_transactions_3m</th>\n",
       "      <th>latest_transactions</th>\n",
       "      <th>common_payment_method</th>\n",
       "      <th>number_payment_method</th>\n",
       "      <th>common_plan_days</th>\n",
       "      <th>latest_auto_renew</th>\n",
       "      <th>rate_auto_renew</th>\n",
       "      <th>latest_cancel</th>\n",
       "      <th>rate_cancel</th>\n",
       "      <th>sum_discrepancy_paid</th>\n",
       "    </tr>\n",
       "  </thead>\n",
       "  <tbody>\n",
       "    <tr>\n",
       "      <th>0</th>\n",
       "      <td>4n+fXlyJvfQnTeKXTWT507Ll4JVYGrOC8LHCfwBmPE4=</td>\n",
       "      <td>0</td>\n",
       "      <td>1</td>\n",
       "      <td>0</td>\n",
       "      <td>unknown</td>\n",
       "      <td>7</td>\n",
       "      <td>20150718</td>\n",
       "      <td>2015-07-18</td>\n",
       "      <td>2015</td>\n",
       "      <td>7</td>\n",
       "      <td>...</td>\n",
       "      <td>3.0</td>\n",
       "      <td>13</td>\n",
       "      <td>41</td>\n",
       "      <td>1</td>\n",
       "      <td>30</td>\n",
       "      <td>1</td>\n",
       "      <td>1.0</td>\n",
       "      <td>0</td>\n",
       "      <td>0.000000</td>\n",
       "      <td>0</td>\n",
       "    </tr>\n",
       "    <tr>\n",
       "      <th>1</th>\n",
       "      <td>aNmbC1GvFUxQyQUidCVmfbQ0YeCuwkPzEdQ0RwWyeZM=</td>\n",
       "      <td>0</td>\n",
       "      <td>4</td>\n",
       "      <td>28</td>\n",
       "      <td>male</td>\n",
       "      <td>9</td>\n",
       "      <td>20051030</td>\n",
       "      <td>2005-10-30</td>\n",
       "      <td>2005</td>\n",
       "      <td>10</td>\n",
       "      <td>...</td>\n",
       "      <td>3.0</td>\n",
       "      <td>0</td>\n",
       "      <td>34</td>\n",
       "      <td>1</td>\n",
       "      <td>30</td>\n",
       "      <td>1</td>\n",
       "      <td>1.0</td>\n",
       "      <td>0</td>\n",
       "      <td>0.000000</td>\n",
       "      <td>-894</td>\n",
       "    </tr>\n",
       "    <tr>\n",
       "      <th>2</th>\n",
       "      <td>rFC9eSG/tMuzpre6cwcMLZHEYM89xY02qcz7HL4//jc=</td>\n",
       "      <td>0</td>\n",
       "      <td>4</td>\n",
       "      <td>34</td>\n",
       "      <td>male</td>\n",
       "      <td>7</td>\n",
       "      <td>20141101</td>\n",
       "      <td>2014-11-01</td>\n",
       "      <td>2014</td>\n",
       "      <td>11</td>\n",
       "      <td>...</td>\n",
       "      <td>3.0</td>\n",
       "      <td>16</td>\n",
       "      <td>41</td>\n",
       "      <td>1</td>\n",
       "      <td>30</td>\n",
       "      <td>1</td>\n",
       "      <td>1.0</td>\n",
       "      <td>0</td>\n",
       "      <td>0.181818</td>\n",
       "      <td>239</td>\n",
       "    </tr>\n",
       "    <tr>\n",
       "      <th>3</th>\n",
       "      <td>WZ59dLyrQcE7ft06MZ5dj40BnlYQY7PHgg/54+HaCSE=</td>\n",
       "      <td>0</td>\n",
       "      <td>1</td>\n",
       "      <td>0</td>\n",
       "      <td>unknown</td>\n",
       "      <td>7</td>\n",
       "      <td>20151009</td>\n",
       "      <td>2015-10-09</td>\n",
       "      <td>2015</td>\n",
       "      <td>10</td>\n",
       "      <td>...</td>\n",
       "      <td>3.0</td>\n",
       "      <td>4</td>\n",
       "      <td>41</td>\n",
       "      <td>1</td>\n",
       "      <td>30</td>\n",
       "      <td>1</td>\n",
       "      <td>1.0</td>\n",
       "      <td>0</td>\n",
       "      <td>0.000000</td>\n",
       "      <td>0</td>\n",
       "    </tr>\n",
       "    <tr>\n",
       "      <th>4</th>\n",
       "      <td>aky/Iv8hMp1/V/yQHLtaVuEmmAxkB5GuasQZePJ7NU4=</td>\n",
       "      <td>0</td>\n",
       "      <td>1</td>\n",
       "      <td>0</td>\n",
       "      <td>unknown</td>\n",
       "      <td>13</td>\n",
       "      <td>20161222</td>\n",
       "      <td>2016-12-22</td>\n",
       "      <td>2016</td>\n",
       "      <td>12</td>\n",
       "      <td>...</td>\n",
       "      <td>3.0</td>\n",
       "      <td>9</td>\n",
       "      <td>30</td>\n",
       "      <td>1</td>\n",
       "      <td>30</td>\n",
       "      <td>1</td>\n",
       "      <td>1.0</td>\n",
       "      <td>0</td>\n",
       "      <td>0.000000</td>\n",
       "      <td>0</td>\n",
       "    </tr>\n",
       "  </tbody>\n",
       "</table>\n",
       "<p>5 rows × 23 columns</p>\n",
       "</div>"
      ],
      "text/plain": [
       "                                           msno  is_churn  city  bd   gender  \\\n",
       "0  4n+fXlyJvfQnTeKXTWT507Ll4JVYGrOC8LHCfwBmPE4=         0     1   0  unknown   \n",
       "1  aNmbC1GvFUxQyQUidCVmfbQ0YeCuwkPzEdQ0RwWyeZM=         0     4  28     male   \n",
       "2  rFC9eSG/tMuzpre6cwcMLZHEYM89xY02qcz7HL4//jc=         0     4  34     male   \n",
       "3  WZ59dLyrQcE7ft06MZ5dj40BnlYQY7PHgg/54+HaCSE=         0     1   0  unknown   \n",
       "4  aky/Iv8hMp1/V/yQHLtaVuEmmAxkB5GuasQZePJ7NU4=         0     1   0  unknown   \n",
       "\n",
       "   registered_via  registration_init_time registration_init_date  year  month  \\\n",
       "0               7                20150718             2015-07-18  2015      7   \n",
       "1               9                20051030             2005-10-30  2005     10   \n",
       "2               7                20141101             2014-11-01  2014     11   \n",
       "3               7                20151009             2015-10-09  2015     10   \n",
       "4              13                20161222             2016-12-22  2016     12   \n",
       "\n",
       "           ...           total_transactions_3m  latest_transactions  \\\n",
       "0          ...                             3.0                   13   \n",
       "1          ...                             3.0                    0   \n",
       "2          ...                             3.0                   16   \n",
       "3          ...                             3.0                    4   \n",
       "4          ...                             3.0                    9   \n",
       "\n",
       "   common_payment_method  number_payment_method  common_plan_days  \\\n",
       "0                     41                      1                30   \n",
       "1                     34                      1                30   \n",
       "2                     41                      1                30   \n",
       "3                     41                      1                30   \n",
       "4                     30                      1                30   \n",
       "\n",
       "   latest_auto_renew  rate_auto_renew  latest_cancel  rate_cancel  \\\n",
       "0                  1              1.0              0     0.000000   \n",
       "1                  1              1.0              0     0.000000   \n",
       "2                  1              1.0              0     0.181818   \n",
       "3                  1              1.0              0     0.000000   \n",
       "4                  1              1.0              0     0.000000   \n",
       "\n",
       "   sum_discrepancy_paid  \n",
       "0                     0  \n",
       "1                  -894  \n",
       "2                   239  \n",
       "3                     0  \n",
       "4                     0  \n",
       "\n",
       "[5 rows x 23 columns]"
      ]
     },
     "execution_count": 121,
     "metadata": {},
     "output_type": "execute_result"
    }
   ],
   "source": [
    "data_test = pd.merge(data_test,number_test,on='msno',how='left')\n",
    "data_test.head()"
   ]
  },
  {
   "cell_type": "code",
   "execution_count": 122,
   "metadata": {},
   "outputs": [
    {
     "data": {
      "text/plain": [
       "56"
      ]
     },
     "execution_count": 122,
     "metadata": {},
     "output_type": "execute_result"
    }
   ],
   "source": [
    "del number, number_train, number_test\n",
    "gc.collect()"
   ]
  },
  {
   "cell_type": "code",
   "execution_count": 124,
   "metadata": {},
   "outputs": [
    {
     "data": {
      "text/html": [
       "<div>\n",
       "<style scoped>\n",
       "    .dataframe tbody tr th:only-of-type {\n",
       "        vertical-align: middle;\n",
       "    }\n",
       "\n",
       "    .dataframe tbody tr th {\n",
       "        vertical-align: top;\n",
       "    }\n",
       "\n",
       "    .dataframe thead th {\n",
       "        text-align: right;\n",
       "    }\n",
       "</style>\n",
       "<table border=\"1\" class=\"dataframe\">\n",
       "  <thead>\n",
       "    <tr style=\"text-align: right;\">\n",
       "      <th></th>\n",
       "      <th>is_churn</th>\n",
       "      <th>sum_discrepancy_paid</th>\n",
       "    </tr>\n",
       "  </thead>\n",
       "  <tbody>\n",
       "    <tr>\n",
       "      <th>is_churn</th>\n",
       "      <td>1.000000</td>\n",
       "      <td>0.053982</td>\n",
       "    </tr>\n",
       "    <tr>\n",
       "      <th>sum_discrepancy_paid</th>\n",
       "      <td>0.053982</td>\n",
       "      <td>1.000000</td>\n",
       "    </tr>\n",
       "  </tbody>\n",
       "</table>\n",
       "</div>"
      ],
      "text/plain": [
       "                      is_churn  sum_discrepancy_paid\n",
       "is_churn              1.000000              0.053982\n",
       "sum_discrepancy_paid  0.053982              1.000000"
      ]
     },
     "execution_count": 124,
     "metadata": {},
     "output_type": "execute_result"
    }
   ],
   "source": [
    "data_train[['is_churn','sum_discrepancy_paid']].corr()"
   ]
  },
  {
   "cell_type": "code",
   "execution_count": 125,
   "metadata": {},
   "outputs": [
    {
     "data": {
      "text/plain": [
       "(992931, 23)"
      ]
     },
     "execution_count": 125,
     "metadata": {},
     "output_type": "execute_result"
    }
   ],
   "source": [
    "data_train.shape"
   ]
  },
  {
   "cell_type": "code",
   "execution_count": 126,
   "metadata": {},
   "outputs": [
    {
     "data": {
      "text/plain": [
       "msno                         0\n",
       "is_churn                     0\n",
       "city                         0\n",
       "bd                           0\n",
       "gender                       0\n",
       "registered_via               0\n",
       "registration_init_time       0\n",
       "registration_init_date       0\n",
       "year                         0\n",
       "month                        0\n",
       "total_transactions           0\n",
       "total_transactions_12m       0\n",
       "total_transactions_6m        0\n",
       "total_transactions_3m        0\n",
       "latest_transactions       1462\n",
       "common_payment_method     1462\n",
       "number_payment_method     1462\n",
       "common_plan_days          1462\n",
       "latest_auto_renew         1462\n",
       "rate_auto_renew           1462\n",
       "latest_cancel             1462\n",
       "rate_cancel               1462\n",
       "sum_discrepancy_paid      1462\n",
       "dtype: int64"
      ]
     },
     "execution_count": 126,
     "metadata": {},
     "output_type": "execute_result"
    }
   ],
   "source": [
    "data_train.isnull().sum()"
   ]
  },
  {
   "cell_type": "code",
   "execution_count": 127,
   "metadata": {},
   "outputs": [
    {
     "data": {
      "text/html": [
       "<div>\n",
       "<style scoped>\n",
       "    .dataframe tbody tr th:only-of-type {\n",
       "        vertical-align: middle;\n",
       "    }\n",
       "\n",
       "    .dataframe tbody tr th {\n",
       "        vertical-align: top;\n",
       "    }\n",
       "\n",
       "    .dataframe thead th {\n",
       "        text-align: right;\n",
       "    }\n",
       "</style>\n",
       "<table border=\"1\" class=\"dataframe\">\n",
       "  <thead>\n",
       "    <tr style=\"text-align: right;\">\n",
       "      <th></th>\n",
       "      <th>msno</th>\n",
       "      <th>is_churn</th>\n",
       "      <th>city</th>\n",
       "      <th>bd</th>\n",
       "      <th>gender</th>\n",
       "      <th>registered_via</th>\n",
       "      <th>registration_init_time</th>\n",
       "      <th>registration_init_date</th>\n",
       "      <th>year</th>\n",
       "      <th>month</th>\n",
       "      <th>...</th>\n",
       "      <th>total_transactions_3m</th>\n",
       "      <th>latest_transactions</th>\n",
       "      <th>common_payment_method</th>\n",
       "      <th>number_payment_method</th>\n",
       "      <th>common_plan_days</th>\n",
       "      <th>latest_auto_renew</th>\n",
       "      <th>rate_auto_renew</th>\n",
       "      <th>latest_cancel</th>\n",
       "      <th>rate_cancel</th>\n",
       "      <th>sum_discrepancy_paid</th>\n",
       "    </tr>\n",
       "  </thead>\n",
       "  <tbody>\n",
       "    <tr>\n",
       "      <th>0</th>\n",
       "      <td>4n+fXlyJvfQnTeKXTWT507Ll4JVYGrOC8LHCfwBmPE4=</td>\n",
       "      <td>0</td>\n",
       "      <td>1</td>\n",
       "      <td>0</td>\n",
       "      <td>unknown</td>\n",
       "      <td>7</td>\n",
       "      <td>20150718</td>\n",
       "      <td>2015-07-18</td>\n",
       "      <td>2015</td>\n",
       "      <td>7</td>\n",
       "      <td>...</td>\n",
       "      <td>3.0</td>\n",
       "      <td>13</td>\n",
       "      <td>41</td>\n",
       "      <td>1</td>\n",
       "      <td>30</td>\n",
       "      <td>1</td>\n",
       "      <td>1.0</td>\n",
       "      <td>0</td>\n",
       "      <td>0.000000</td>\n",
       "      <td>0</td>\n",
       "    </tr>\n",
       "    <tr>\n",
       "      <th>1</th>\n",
       "      <td>aNmbC1GvFUxQyQUidCVmfbQ0YeCuwkPzEdQ0RwWyeZM=</td>\n",
       "      <td>0</td>\n",
       "      <td>4</td>\n",
       "      <td>28</td>\n",
       "      <td>male</td>\n",
       "      <td>9</td>\n",
       "      <td>20051030</td>\n",
       "      <td>2005-10-30</td>\n",
       "      <td>2005</td>\n",
       "      <td>10</td>\n",
       "      <td>...</td>\n",
       "      <td>3.0</td>\n",
       "      <td>0</td>\n",
       "      <td>34</td>\n",
       "      <td>1</td>\n",
       "      <td>30</td>\n",
       "      <td>1</td>\n",
       "      <td>1.0</td>\n",
       "      <td>0</td>\n",
       "      <td>0.000000</td>\n",
       "      <td>-894</td>\n",
       "    </tr>\n",
       "    <tr>\n",
       "      <th>2</th>\n",
       "      <td>rFC9eSG/tMuzpre6cwcMLZHEYM89xY02qcz7HL4//jc=</td>\n",
       "      <td>0</td>\n",
       "      <td>4</td>\n",
       "      <td>34</td>\n",
       "      <td>male</td>\n",
       "      <td>7</td>\n",
       "      <td>20141101</td>\n",
       "      <td>2014-11-01</td>\n",
       "      <td>2014</td>\n",
       "      <td>11</td>\n",
       "      <td>...</td>\n",
       "      <td>3.0</td>\n",
       "      <td>16</td>\n",
       "      <td>41</td>\n",
       "      <td>1</td>\n",
       "      <td>30</td>\n",
       "      <td>1</td>\n",
       "      <td>1.0</td>\n",
       "      <td>0</td>\n",
       "      <td>0.181818</td>\n",
       "      <td>239</td>\n",
       "    </tr>\n",
       "    <tr>\n",
       "      <th>3</th>\n",
       "      <td>WZ59dLyrQcE7ft06MZ5dj40BnlYQY7PHgg/54+HaCSE=</td>\n",
       "      <td>0</td>\n",
       "      <td>1</td>\n",
       "      <td>0</td>\n",
       "      <td>unknown</td>\n",
       "      <td>7</td>\n",
       "      <td>20151009</td>\n",
       "      <td>2015-10-09</td>\n",
       "      <td>2015</td>\n",
       "      <td>10</td>\n",
       "      <td>...</td>\n",
       "      <td>3.0</td>\n",
       "      <td>4</td>\n",
       "      <td>41</td>\n",
       "      <td>1</td>\n",
       "      <td>30</td>\n",
       "      <td>1</td>\n",
       "      <td>1.0</td>\n",
       "      <td>0</td>\n",
       "      <td>0.000000</td>\n",
       "      <td>0</td>\n",
       "    </tr>\n",
       "    <tr>\n",
       "      <th>4</th>\n",
       "      <td>aky/Iv8hMp1/V/yQHLtaVuEmmAxkB5GuasQZePJ7NU4=</td>\n",
       "      <td>0</td>\n",
       "      <td>1</td>\n",
       "      <td>0</td>\n",
       "      <td>unknown</td>\n",
       "      <td>13</td>\n",
       "      <td>20161222</td>\n",
       "      <td>2016-12-22</td>\n",
       "      <td>2016</td>\n",
       "      <td>12</td>\n",
       "      <td>...</td>\n",
       "      <td>3.0</td>\n",
       "      <td>9</td>\n",
       "      <td>30</td>\n",
       "      <td>1</td>\n",
       "      <td>30</td>\n",
       "      <td>1</td>\n",
       "      <td>1.0</td>\n",
       "      <td>0</td>\n",
       "      <td>0.000000</td>\n",
       "      <td>0</td>\n",
       "    </tr>\n",
       "  </tbody>\n",
       "</table>\n",
       "<p>5 rows × 23 columns</p>\n",
       "</div>"
      ],
      "text/plain": [
       "                                           msno  is_churn  city  bd   gender  \\\n",
       "0  4n+fXlyJvfQnTeKXTWT507Ll4JVYGrOC8LHCfwBmPE4=         0     1   0  unknown   \n",
       "1  aNmbC1GvFUxQyQUidCVmfbQ0YeCuwkPzEdQ0RwWyeZM=         0     4  28     male   \n",
       "2  rFC9eSG/tMuzpre6cwcMLZHEYM89xY02qcz7HL4//jc=         0     4  34     male   \n",
       "3  WZ59dLyrQcE7ft06MZ5dj40BnlYQY7PHgg/54+HaCSE=         0     1   0  unknown   \n",
       "4  aky/Iv8hMp1/V/yQHLtaVuEmmAxkB5GuasQZePJ7NU4=         0     1   0  unknown   \n",
       "\n",
       "   registered_via  registration_init_time registration_init_date  year  month  \\\n",
       "0               7                20150718             2015-07-18  2015      7   \n",
       "1               9                20051030             2005-10-30  2005     10   \n",
       "2               7                20141101             2014-11-01  2014     11   \n",
       "3               7                20151009             2015-10-09  2015     10   \n",
       "4              13                20161222             2016-12-22  2016     12   \n",
       "\n",
       "           ...           total_transactions_3m  latest_transactions  \\\n",
       "0          ...                             3.0                   13   \n",
       "1          ...                             3.0                    0   \n",
       "2          ...                             3.0                   16   \n",
       "3          ...                             3.0                    4   \n",
       "4          ...                             3.0                    9   \n",
       "\n",
       "   common_payment_method  number_payment_method  common_plan_days  \\\n",
       "0                     41                      1                30   \n",
       "1                     34                      1                30   \n",
       "2                     41                      1                30   \n",
       "3                     41                      1                30   \n",
       "4                     30                      1                30   \n",
       "\n",
       "   latest_auto_renew  rate_auto_renew  latest_cancel  rate_cancel  \\\n",
       "0                  1              1.0              0     0.000000   \n",
       "1                  1              1.0              0     0.000000   \n",
       "2                  1              1.0              0     0.181818   \n",
       "3                  1              1.0              0     0.000000   \n",
       "4                  1              1.0              0     0.000000   \n",
       "\n",
       "   sum_discrepancy_paid  \n",
       "0                     0  \n",
       "1                  -894  \n",
       "2                   239  \n",
       "3                     0  \n",
       "4                     0  \n",
       "\n",
       "[5 rows x 23 columns]"
      ]
     },
     "execution_count": 127,
     "metadata": {},
     "output_type": "execute_result"
    }
   ],
   "source": [
    "data_test.head()"
   ]
  },
  {
   "cell_type": "code",
   "execution_count": 128,
   "metadata": {},
   "outputs": [
    {
     "data": {
      "text/plain": [
       "msno                      0\n",
       "is_churn                  0\n",
       "city                      0\n",
       "bd                        0\n",
       "gender                    0\n",
       "registered_via            0\n",
       "registration_init_time    0\n",
       "registration_init_date    0\n",
       "year                      0\n",
       "month                     0\n",
       "total_transactions        0\n",
       "total_transactions_12m    0\n",
       "total_transactions_6m     0\n",
       "total_transactions_3m     0\n",
       "latest_transactions       0\n",
       "common_payment_method     0\n",
       "number_payment_method     0\n",
       "common_plan_days          0\n",
       "latest_auto_renew         0\n",
       "rate_auto_renew           0\n",
       "latest_cancel             0\n",
       "rate_cancel               0\n",
       "sum_discrepancy_paid      0\n",
       "dtype: int64"
      ]
     },
     "execution_count": 128,
     "metadata": {},
     "output_type": "execute_result"
    }
   ],
   "source": [
    "data_test.isnull().sum()"
   ]
  },
  {
   "cell_type": "code",
   "execution_count": 129,
   "metadata": {},
   "outputs": [
    {
     "data": {
      "text/plain": [
       "28"
      ]
     },
     "execution_count": 129,
     "metadata": {},
     "output_type": "execute_result"
    }
   ],
   "source": [
    "del train_transactions, test_transactions\n",
    "gc.collect()"
   ]
  },
  {
   "cell_type": "code",
   "execution_count": 130,
   "metadata": {},
   "outputs": [
    {
     "data": {
      "text/plain": [
       "14"
      ]
     },
     "execution_count": 130,
     "metadata": {},
     "output_type": "execute_result"
    }
   ],
   "source": [
    "del train, test\n",
    "gc.collect()"
   ]
  },
  {
   "cell_type": "code",
   "execution_count": 131,
   "metadata": {},
   "outputs": [],
   "source": [
    "data_train.fillna(0, inplace = True)"
   ]
  },
  {
   "cell_type": "code",
   "execution_count": 132,
   "metadata": {},
   "outputs": [
    {
     "data": {
      "text/plain": [
       "msno                      0\n",
       "is_churn                  0\n",
       "city                      0\n",
       "bd                        0\n",
       "gender                    0\n",
       "registered_via            0\n",
       "registration_init_time    0\n",
       "registration_init_date    0\n",
       "year                      0\n",
       "month                     0\n",
       "total_transactions        0\n",
       "total_transactions_12m    0\n",
       "total_transactions_6m     0\n",
       "total_transactions_3m     0\n",
       "latest_transactions       0\n",
       "common_payment_method     0\n",
       "number_payment_method     0\n",
       "common_plan_days          0\n",
       "latest_auto_renew         0\n",
       "rate_auto_renew           0\n",
       "latest_cancel             0\n",
       "rate_cancel               0\n",
       "sum_discrepancy_paid      0\n",
       "dtype: int64"
      ]
     },
     "execution_count": 132,
     "metadata": {},
     "output_type": "execute_result"
    }
   ],
   "source": [
    "data_train.isnull().sum()"
   ]
  },
  {
   "cell_type": "code",
   "execution_count": 133,
   "metadata": {},
   "outputs": [],
   "source": [
    "change_datatype_numeric(data_train)\n",
    "change_datatype_numeric(data_test)"
   ]
  },
  {
   "cell_type": "code",
   "execution_count": 134,
   "metadata": {},
   "outputs": [
    {
     "name": "stdout",
     "output_type": "stream",
     "text": [
      "<class 'pandas.core.frame.DataFrame'>\n",
      "Int64Index: 992931 entries, 0 to 992930\n",
      "Data columns (total 23 columns):\n",
      "msno                      992931 non-null object\n",
      "is_churn                  992931 non-null int8\n",
      "city                      992931 non-null int8\n",
      "bd                        992931 non-null int16\n",
      "gender                    992931 non-null object\n",
      "registered_via            992931 non-null int8\n",
      "registration_init_time    992931 non-null uint32\n",
      "registration_init_date    992931 non-null datetime64[ns]\n",
      "year                      992931 non-null uint16\n",
      "month                     992931 non-null uint8\n",
      "total_transactions        992931 non-null uint8\n",
      "total_transactions_12m    992931 non-null float32\n",
      "total_transactions_6m     992931 non-null float32\n",
      "total_transactions_3m     992931 non-null float32\n",
      "latest_transactions       992931 non-null float32\n",
      "common_payment_method     992931 non-null float32\n",
      "number_payment_method     992931 non-null float32\n",
      "common_plan_days          992931 non-null float32\n",
      "latest_auto_renew         992931 non-null float32\n",
      "rate_auto_renew           992931 non-null float32\n",
      "latest_cancel             992931 non-null float32\n",
      "rate_cancel               992931 non-null float32\n",
      "sum_discrepancy_paid      992931 non-null float32\n",
      "dtypes: datetime64[ns](1), float32(12), int16(1), int8(3), object(2), uint16(1), uint32(1), uint8(2)\n",
      "memory usage: 88.1+ MB\n"
     ]
    }
   ],
   "source": [
    "data_train.info()"
   ]
  },
  {
   "cell_type": "code",
   "execution_count": 135,
   "metadata": {},
   "outputs": [
    {
     "name": "stdout",
     "output_type": "stream",
     "text": [
      "<class 'pandas.core.frame.DataFrame'>\n",
      "Int64Index: 907471 entries, 0 to 907470\n",
      "Data columns (total 23 columns):\n",
      "msno                      907471 non-null object\n",
      "is_churn                  907471 non-null int8\n",
      "city                      907471 non-null int8\n",
      "bd                        907471 non-null int16\n",
      "gender                    907471 non-null object\n",
      "registered_via            907471 non-null int8\n",
      "registration_init_time    907471 non-null uint32\n",
      "registration_init_date    907471 non-null datetime64[ns]\n",
      "year                      907471 non-null uint16\n",
      "month                     907471 non-null uint8\n",
      "total_transactions        907471 non-null uint8\n",
      "total_transactions_12m    907471 non-null float32\n",
      "total_transactions_6m     907471 non-null float32\n",
      "total_transactions_3m     907471 non-null float32\n",
      "latest_transactions       907471 non-null uint16\n",
      "common_payment_method     907471 non-null uint8\n",
      "number_payment_method     907471 non-null uint8\n",
      "common_plan_days          907471 non-null uint16\n",
      "latest_auto_renew         907471 non-null uint8\n",
      "rate_auto_renew           907471 non-null float32\n",
      "latest_cancel             907471 non-null uint8\n",
      "rate_cancel               907471 non-null float32\n",
      "sum_discrepancy_paid      907471 non-null int16\n",
      "dtypes: datetime64[ns](1), float32(5), int16(2), int8(3), object(2), uint16(3), uint32(1), uint8(6)\n",
      "memory usage: 64.9+ MB\n"
     ]
    }
   ],
   "source": [
    "data_test.info()"
   ]
  },
  {
   "cell_type": "code",
   "execution_count": 136,
   "metadata": {},
   "outputs": [
    {
     "data": {
      "text/html": [
       "<div>\n",
       "<style scoped>\n",
       "    .dataframe tbody tr th:only-of-type {\n",
       "        vertical-align: middle;\n",
       "    }\n",
       "\n",
       "    .dataframe tbody tr th {\n",
       "        vertical-align: top;\n",
       "    }\n",
       "\n",
       "    .dataframe thead th {\n",
       "        text-align: right;\n",
       "    }\n",
       "</style>\n",
       "<table border=\"1\" class=\"dataframe\">\n",
       "  <thead>\n",
       "    <tr style=\"text-align: right;\">\n",
       "      <th></th>\n",
       "      <th>msno</th>\n",
       "      <th>is_churn</th>\n",
       "      <th>city</th>\n",
       "      <th>bd</th>\n",
       "      <th>gender</th>\n",
       "      <th>registered_via</th>\n",
       "      <th>registration_init_time</th>\n",
       "      <th>registration_init_date</th>\n",
       "      <th>year</th>\n",
       "      <th>month</th>\n",
       "      <th>...</th>\n",
       "      <th>total_transactions_3m</th>\n",
       "      <th>latest_transactions</th>\n",
       "      <th>common_payment_method</th>\n",
       "      <th>number_payment_method</th>\n",
       "      <th>common_plan_days</th>\n",
       "      <th>latest_auto_renew</th>\n",
       "      <th>rate_auto_renew</th>\n",
       "      <th>latest_cancel</th>\n",
       "      <th>rate_cancel</th>\n",
       "      <th>sum_discrepancy_paid</th>\n",
       "    </tr>\n",
       "  </thead>\n",
       "  <tbody>\n",
       "    <tr>\n",
       "      <th>0</th>\n",
       "      <td>4n+fXlyJvfQnTeKXTWT507Ll4JVYGrOC8LHCfwBmPE4=</td>\n",
       "      <td>0</td>\n",
       "      <td>1</td>\n",
       "      <td>0</td>\n",
       "      <td>unknown</td>\n",
       "      <td>7</td>\n",
       "      <td>20150718</td>\n",
       "      <td>2015-07-18</td>\n",
       "      <td>2015</td>\n",
       "      <td>7</td>\n",
       "      <td>...</td>\n",
       "      <td>3.0</td>\n",
       "      <td>13</td>\n",
       "      <td>41</td>\n",
       "      <td>1</td>\n",
       "      <td>30</td>\n",
       "      <td>1</td>\n",
       "      <td>1.0</td>\n",
       "      <td>0</td>\n",
       "      <td>0.000000</td>\n",
       "      <td>0</td>\n",
       "    </tr>\n",
       "    <tr>\n",
       "      <th>1</th>\n",
       "      <td>aNmbC1GvFUxQyQUidCVmfbQ0YeCuwkPzEdQ0RwWyeZM=</td>\n",
       "      <td>0</td>\n",
       "      <td>4</td>\n",
       "      <td>28</td>\n",
       "      <td>male</td>\n",
       "      <td>9</td>\n",
       "      <td>20051030</td>\n",
       "      <td>2005-10-30</td>\n",
       "      <td>2005</td>\n",
       "      <td>10</td>\n",
       "      <td>...</td>\n",
       "      <td>3.0</td>\n",
       "      <td>0</td>\n",
       "      <td>34</td>\n",
       "      <td>1</td>\n",
       "      <td>30</td>\n",
       "      <td>1</td>\n",
       "      <td>1.0</td>\n",
       "      <td>0</td>\n",
       "      <td>0.000000</td>\n",
       "      <td>-894</td>\n",
       "    </tr>\n",
       "    <tr>\n",
       "      <th>2</th>\n",
       "      <td>rFC9eSG/tMuzpre6cwcMLZHEYM89xY02qcz7HL4//jc=</td>\n",
       "      <td>0</td>\n",
       "      <td>4</td>\n",
       "      <td>34</td>\n",
       "      <td>male</td>\n",
       "      <td>7</td>\n",
       "      <td>20141101</td>\n",
       "      <td>2014-11-01</td>\n",
       "      <td>2014</td>\n",
       "      <td>11</td>\n",
       "      <td>...</td>\n",
       "      <td>3.0</td>\n",
       "      <td>16</td>\n",
       "      <td>41</td>\n",
       "      <td>1</td>\n",
       "      <td>30</td>\n",
       "      <td>1</td>\n",
       "      <td>1.0</td>\n",
       "      <td>0</td>\n",
       "      <td>0.181818</td>\n",
       "      <td>239</td>\n",
       "    </tr>\n",
       "    <tr>\n",
       "      <th>3</th>\n",
       "      <td>WZ59dLyrQcE7ft06MZ5dj40BnlYQY7PHgg/54+HaCSE=</td>\n",
       "      <td>0</td>\n",
       "      <td>1</td>\n",
       "      <td>0</td>\n",
       "      <td>unknown</td>\n",
       "      <td>7</td>\n",
       "      <td>20151009</td>\n",
       "      <td>2015-10-09</td>\n",
       "      <td>2015</td>\n",
       "      <td>10</td>\n",
       "      <td>...</td>\n",
       "      <td>3.0</td>\n",
       "      <td>4</td>\n",
       "      <td>41</td>\n",
       "      <td>1</td>\n",
       "      <td>30</td>\n",
       "      <td>1</td>\n",
       "      <td>1.0</td>\n",
       "      <td>0</td>\n",
       "      <td>0.000000</td>\n",
       "      <td>0</td>\n",
       "    </tr>\n",
       "    <tr>\n",
       "      <th>4</th>\n",
       "      <td>aky/Iv8hMp1/V/yQHLtaVuEmmAxkB5GuasQZePJ7NU4=</td>\n",
       "      <td>0</td>\n",
       "      <td>1</td>\n",
       "      <td>0</td>\n",
       "      <td>unknown</td>\n",
       "      <td>13</td>\n",
       "      <td>20161222</td>\n",
       "      <td>2016-12-22</td>\n",
       "      <td>2016</td>\n",
       "      <td>12</td>\n",
       "      <td>...</td>\n",
       "      <td>3.0</td>\n",
       "      <td>9</td>\n",
       "      <td>30</td>\n",
       "      <td>1</td>\n",
       "      <td>30</td>\n",
       "      <td>1</td>\n",
       "      <td>1.0</td>\n",
       "      <td>0</td>\n",
       "      <td>0.000000</td>\n",
       "      <td>0</td>\n",
       "    </tr>\n",
       "  </tbody>\n",
       "</table>\n",
       "<p>5 rows × 23 columns</p>\n",
       "</div>"
      ],
      "text/plain": [
       "                                           msno  is_churn  city  bd   gender  \\\n",
       "0  4n+fXlyJvfQnTeKXTWT507Ll4JVYGrOC8LHCfwBmPE4=         0     1   0  unknown   \n",
       "1  aNmbC1GvFUxQyQUidCVmfbQ0YeCuwkPzEdQ0RwWyeZM=         0     4  28     male   \n",
       "2  rFC9eSG/tMuzpre6cwcMLZHEYM89xY02qcz7HL4//jc=         0     4  34     male   \n",
       "3  WZ59dLyrQcE7ft06MZ5dj40BnlYQY7PHgg/54+HaCSE=         0     1   0  unknown   \n",
       "4  aky/Iv8hMp1/V/yQHLtaVuEmmAxkB5GuasQZePJ7NU4=         0     1   0  unknown   \n",
       "\n",
       "   registered_via  registration_init_time registration_init_date  year  month  \\\n",
       "0               7                20150718             2015-07-18  2015      7   \n",
       "1               9                20051030             2005-10-30  2005     10   \n",
       "2               7                20141101             2014-11-01  2014     11   \n",
       "3               7                20151009             2015-10-09  2015     10   \n",
       "4              13                20161222             2016-12-22  2016     12   \n",
       "\n",
       "           ...           total_transactions_3m  latest_transactions  \\\n",
       "0          ...                             3.0                   13   \n",
       "1          ...                             3.0                    0   \n",
       "2          ...                             3.0                   16   \n",
       "3          ...                             3.0                    4   \n",
       "4          ...                             3.0                    9   \n",
       "\n",
       "   common_payment_method  number_payment_method  common_plan_days  \\\n",
       "0                     41                      1                30   \n",
       "1                     34                      1                30   \n",
       "2                     41                      1                30   \n",
       "3                     41                      1                30   \n",
       "4                     30                      1                30   \n",
       "\n",
       "   latest_auto_renew  rate_auto_renew  latest_cancel  rate_cancel  \\\n",
       "0                  1              1.0              0     0.000000   \n",
       "1                  1              1.0              0     0.000000   \n",
       "2                  1              1.0              0     0.181818   \n",
       "3                  1              1.0              0     0.000000   \n",
       "4                  1              1.0              0     0.000000   \n",
       "\n",
       "   sum_discrepancy_paid  \n",
       "0                     0  \n",
       "1                  -894  \n",
       "2                   239  \n",
       "3                     0  \n",
       "4                     0  \n",
       "\n",
       "[5 rows x 23 columns]"
      ]
     },
     "execution_count": 136,
     "metadata": {},
     "output_type": "execute_result"
    }
   ],
   "source": [
    "data_test.head()"
   ]
  },
  {
   "cell_type": "code",
   "execution_count": 137,
   "metadata": {
    "scrolled": true
   },
   "outputs": [
    {
     "data": {
      "text/plain": [
       "<matplotlib.axes._subplots.AxesSubplot at 0x16868d30>"
      ]
     },
     "execution_count": 137,
     "metadata": {},
     "output_type": "execute_result"
    },
    {
     "data": {
      "image/png": "[encoded data removed]",
      "text/plain": [
       "<Figure size 864x648 with 2 Axes>"
      ]
     },
     "metadata": {},
     "output_type": "display_data"
    }
   ],
   "source": [
    "fig = plt.figure(figsize=(12,9))\n",
    "ax1 = fig.add_subplot(111)\n",
    "sns.heatmap(data_train.corr(), annot=True,ax=ax1)"
   ]
  },
  {
   "cell_type": "code",
   "execution_count": 148,
   "metadata": {},
   "outputs": [
    {
     "name": "stdout",
     "output_type": "stream",
     "text": [
      "<class 'pandas.core.frame.DataFrame'>\n",
      "Int64Index: 992931 entries, 0 to 992930\n",
      "Data columns (total 23 columns):\n",
      "msno                      992931 non-null object\n",
      "is_churn                  992931 non-null int8\n",
      "city                      992931 non-null int8\n",
      "bd                        992931 non-null int16\n",
      "gender                    992931 non-null object\n",
      "registered_via            992931 non-null int8\n",
      "registration_init_time    992931 non-null uint32\n",
      "registration_init_date    992931 non-null datetime64[ns]\n",
      "year                      992931 non-null uint16\n",
      "month                     992931 non-null uint8\n",
      "total_transactions        992931 non-null uint8\n",
      "total_transactions_12m    992931 non-null float32\n",
      "total_transactions_6m     992931 non-null float32\n",
      "total_transactions_3m     992931 non-null float32\n",
      "latest_transactions       992931 non-null uint16\n",
      "common_payment_method     992931 non-null uint8\n",
      "number_payment_method     992931 non-null uint8\n",
      "common_plan_days          992931 non-null uint16\n",
      "latest_auto_renew         992931 non-null uint8\n",
      "rate_auto_renew           992931 non-null float32\n",
      "latest_cancel             992931 non-null uint8\n",
      "rate_cancel               992931 non-null float32\n",
      "sum_discrepancy_paid      992931 non-null int16\n",
      "dtypes: datetime64[ns](1), float32(5), int16(2), int8(3), object(2), uint16(3), uint32(1), uint8(6)\n",
      "memory usage: 71.0+ MB\n"
     ]
    }
   ],
   "source": [
    "data_train.info()"
   ]
  },
  {
   "cell_type": "code",
   "execution_count": 139,
   "metadata": {},
   "outputs": [
    {
     "name": "stdout",
     "output_type": "stream",
     "text": [
      "<class 'pandas.core.frame.DataFrame'>\n",
      "Int64Index: 907471 entries, 0 to 907470\n",
      "Data columns (total 23 columns):\n",
      "msno                      907471 non-null object\n",
      "is_churn                  907471 non-null int8\n",
      "city                      907471 non-null int8\n",
      "bd                        907471 non-null int16\n",
      "gender                    907471 non-null object\n",
      "registered_via            907471 non-null int8\n",
      "registration_init_time    907471 non-null uint32\n",
      "registration_init_date    907471 non-null datetime64[ns]\n",
      "year                      907471 non-null uint16\n",
      "month                     907471 non-null uint8\n",
      "total_transactions        907471 non-null uint8\n",
      "total_transactions_12m    907471 non-null float32\n",
      "total_transactions_6m     907471 non-null float32\n",
      "total_transactions_3m     907471 non-null float32\n",
      "latest_transactions       907471 non-null uint16\n",
      "common_payment_method     907471 non-null uint8\n",
      "number_payment_method     907471 non-null uint8\n",
      "common_plan_days          907471 non-null uint16\n",
      "latest_auto_renew         907471 non-null uint8\n",
      "rate_auto_renew           907471 non-null float32\n",
      "latest_cancel             907471 non-null uint8\n",
      "rate_cancel               907471 non-null float32\n",
      "sum_discrepancy_paid      907471 non-null int16\n",
      "dtypes: datetime64[ns](1), float32(5), int16(2), int8(3), object(2), uint16(3), uint32(1), uint8(6)\n",
      "memory usage: 64.9+ MB\n"
     ]
    }
   ],
   "source": [
    "data_test.info()"
   ]
  },
  {
   "cell_type": "code",
   "execution_count": 140,
   "metadata": {},
   "outputs": [
    {
     "data": {
      "text/html": [
       "<div>\n",
       "<style scoped>\n",
       "    .dataframe tbody tr th:only-of-type {\n",
       "        vertical-align: middle;\n",
       "    }\n",
       "\n",
       "    .dataframe tbody tr th {\n",
       "        vertical-align: top;\n",
       "    }\n",
       "\n",
       "    .dataframe thead th {\n",
       "        text-align: right;\n",
       "    }\n",
       "</style>\n",
       "<table border=\"1\" class=\"dataframe\">\n",
       "  <thead>\n",
       "    <tr style=\"text-align: right;\">\n",
       "      <th></th>\n",
       "      <th>is_churn</th>\n",
       "      <th>city</th>\n",
       "      <th>bd</th>\n",
       "      <th>registered_via</th>\n",
       "      <th>registration_init_time</th>\n",
       "      <th>year</th>\n",
       "      <th>month</th>\n",
       "      <th>total_transactions</th>\n",
       "      <th>total_transactions_12m</th>\n",
       "      <th>total_transactions_6m</th>\n",
       "      <th>total_transactions_3m</th>\n",
       "      <th>latest_transactions</th>\n",
       "      <th>common_payment_method</th>\n",
       "      <th>number_payment_method</th>\n",
       "      <th>common_plan_days</th>\n",
       "      <th>latest_auto_renew</th>\n",
       "      <th>rate_auto_renew</th>\n",
       "      <th>latest_cancel</th>\n",
       "      <th>rate_cancel</th>\n",
       "      <th>sum_discrepancy_paid</th>\n",
       "    </tr>\n",
       "  </thead>\n",
       "  <tbody>\n",
       "    <tr>\n",
       "      <th>count</th>\n",
       "      <td>992931.000000</td>\n",
       "      <td>992931.000000</td>\n",
       "      <td>992931.000000</td>\n",
       "      <td>992931.000000</td>\n",
       "      <td>9.929310e+05</td>\n",
       "      <td>992931.000000</td>\n",
       "      <td>992931.000000</td>\n",
       "      <td>992931.000000</td>\n",
       "      <td>992931.000000</td>\n",
       "      <td>992931.000000</td>\n",
       "      <td>992931.000000</td>\n",
       "      <td>992931.000000</td>\n",
       "      <td>992931.000000</td>\n",
       "      <td>992931.000000</td>\n",
       "      <td>992931.000000</td>\n",
       "      <td>992931.000000</td>\n",
       "      <td>992931.000000</td>\n",
       "      <td>992931.000000</td>\n",
       "      <td>992931.000000</td>\n",
       "      <td>992931.000000</td>\n",
       "    </tr>\n",
       "    <tr>\n",
       "      <th>mean</th>\n",
       "      <td>0.063923</td>\n",
       "      <td>5.313078</td>\n",
       "      <td>11.885317</td>\n",
       "      <td>6.921579</td>\n",
       "      <td>2.013446e+07</td>\n",
       "      <td>2013.374302</td>\n",
       "      <td>7.042706</td>\n",
       "      <td>17.138657</td>\n",
       "      <td>9.508527</td>\n",
       "      <td>5.336593</td>\n",
       "      <td>2.742604</td>\n",
       "      <td>18.209106</td>\n",
       "      <td>38.688778</td>\n",
       "      <td>1.165818</td>\n",
       "      <td>33.068264</td>\n",
       "      <td>0.886155</td>\n",
       "      <td>0.873609</td>\n",
       "      <td>0.013717</td>\n",
       "      <td>0.013839</td>\n",
       "      <td>-73.561356</td>\n",
       "    </tr>\n",
       "    <tr>\n",
       "      <th>std</th>\n",
       "      <td>0.244616</td>\n",
       "      <td>6.237399</td>\n",
       "      <td>19.495340</td>\n",
       "      <td>1.790204</td>\n",
       "      <td>2.858687e+04</td>\n",
       "      <td>2.857988</td>\n",
       "      <td>3.559668</td>\n",
       "      <td>8.450392</td>\n",
       "      <td>3.801936</td>\n",
       "      <td>1.605622</td>\n",
       "      <td>0.742938</td>\n",
       "      <td>41.415253</td>\n",
       "      <td>3.858701</td>\n",
       "      <td>0.471481</td>\n",
       "      <td>30.682898</td>\n",
       "      <td>0.318832</td>\n",
       "      <td>0.312363</td>\n",
       "      <td>0.115534</td>\n",
       "      <td>0.035772</td>\n",
       "      <td>220.619690</td>\n",
       "    </tr>\n",
       "    <tr>\n",
       "      <th>min</th>\n",
       "      <td>0.000000</td>\n",
       "      <td>1.000000</td>\n",
       "      <td>-3152.000000</td>\n",
       "      <td>3.000000</td>\n",
       "      <td>2.004033e+07</td>\n",
       "      <td>2004.000000</td>\n",
       "      <td>1.000000</td>\n",
       "      <td>1.000000</td>\n",
       "      <td>0.000000</td>\n",
       "      <td>0.000000</td>\n",
       "      <td>0.000000</td>\n",
       "      <td>0.000000</td>\n",
       "      <td>0.000000</td>\n",
       "      <td>0.000000</td>\n",
       "      <td>0.000000</td>\n",
       "      <td>0.000000</td>\n",
       "      <td>0.000000</td>\n",
       "      <td>0.000000</td>\n",
       "      <td>0.000000</td>\n",
       "      <td>-2086.000000</td>\n",
       "    </tr>\n",
       "    <tr>\n",
       "      <th>25%</th>\n",
       "      <td>0.000000</td>\n",
       "      <td>1.000000</td>\n",
       "      <td>0.000000</td>\n",
       "      <td>7.000000</td>\n",
       "      <td>2.012063e+07</td>\n",
       "      <td>2012.000000</td>\n",
       "      <td>4.000000</td>\n",
       "      <td>10.000000</td>\n",
       "      <td>7.000000</td>\n",
       "      <td>5.000000</td>\n",
       "      <td>3.000000</td>\n",
       "      <td>4.000000</td>\n",
       "      <td>38.000000</td>\n",
       "      <td>1.000000</td>\n",
       "      <td>30.000000</td>\n",
       "      <td>1.000000</td>\n",
       "      <td>1.000000</td>\n",
       "      <td>0.000000</td>\n",
       "      <td>0.000000</td>\n",
       "      <td>-149.000000</td>\n",
       "    </tr>\n",
       "    <tr>\n",
       "      <th>50%</th>\n",
       "      <td>0.000000</td>\n",
       "      <td>1.000000</td>\n",
       "      <td>0.000000</td>\n",
       "      <td>7.000000</td>\n",
       "      <td>2.015012e+07</td>\n",
       "      <td>2015.000000</td>\n",
       "      <td>8.000000</td>\n",
       "      <td>18.000000</td>\n",
       "      <td>12.000000</td>\n",
       "      <td>6.000000</td>\n",
       "      <td>3.000000</td>\n",
       "      <td>13.000000</td>\n",
       "      <td>41.000000</td>\n",
       "      <td>1.000000</td>\n",
       "      <td>30.000000</td>\n",
       "      <td>1.000000</td>\n",
       "      <td>1.000000</td>\n",
       "      <td>0.000000</td>\n",
       "      <td>0.000000</td>\n",
       "      <td>0.000000</td>\n",
       "    </tr>\n",
       "    <tr>\n",
       "      <th>75%</th>\n",
       "      <td>0.000000</td>\n",
       "      <td>10.000000</td>\n",
       "      <td>26.000000</td>\n",
       "      <td>7.000000</td>\n",
       "      <td>2.015112e+07</td>\n",
       "      <td>2015.000000</td>\n",
       "      <td>10.000000</td>\n",
       "      <td>24.000000</td>\n",
       "      <td>12.000000</td>\n",
       "      <td>6.000000</td>\n",
       "      <td>3.000000</td>\n",
       "      <td>22.000000</td>\n",
       "      <td>41.000000</td>\n",
       "      <td>1.000000</td>\n",
       "      <td>30.000000</td>\n",
       "      <td>1.000000</td>\n",
       "      <td>1.000000</td>\n",
       "      <td>0.000000</td>\n",
       "      <td>0.000000</td>\n",
       "      <td>0.000000</td>\n",
       "    </tr>\n",
       "    <tr>\n",
       "      <th>max</th>\n",
       "      <td>1.000000</td>\n",
       "      <td>22.000000</td>\n",
       "      <td>2016.000000</td>\n",
       "      <td>13.000000</td>\n",
       "      <td>2.017033e+07</td>\n",
       "      <td>2017.000000</td>\n",
       "      <td>12.000000</td>\n",
       "      <td>244.000000</td>\n",
       "      <td>244.000000</td>\n",
       "      <td>180.000000</td>\n",
       "      <td>64.000000</td>\n",
       "      <td>759.000000</td>\n",
       "      <td>41.000000</td>\n",
       "      <td>8.000000</td>\n",
       "      <td>450.000000</td>\n",
       "      <td>1.000000</td>\n",
       "      <td>1.000000</td>\n",
       "      <td>1.000000</td>\n",
       "      <td>1.000000</td>\n",
       "      <td>1599.000000</td>\n",
       "    </tr>\n",
       "  </tbody>\n",
       "</table>\n",
       "</div>"
      ],
      "text/plain": [
       "            is_churn           city             bd  registered_via  \\\n",
       "count  992931.000000  992931.000000  992931.000000   992931.000000   \n",
       "mean        0.063923       5.313078      11.885317        6.921579   \n",
       "std         0.244616       6.237399      19.495340        1.790204   \n",
       "min         0.000000       1.000000   -3152.000000        3.000000   \n",
       "25%         0.000000       1.000000       0.000000        7.000000   \n",
       "50%         0.000000       1.000000       0.000000        7.000000   \n",
       "75%         0.000000      10.000000      26.000000        7.000000   \n",
       "max         1.000000      22.000000    2016.000000       13.000000   \n",
       "\n",
       "       registration_init_time           year          month  \\\n",
       "count            9.929310e+05  992931.000000  992931.000000   \n",
       "mean             2.013446e+07    2013.374302       7.042706   \n",
       "std              2.858687e+04       2.857988       3.559668   \n",
       "min              2.004033e+07    2004.000000       1.000000   \n",
       "25%              2.012063e+07    2012.000000       4.000000   \n",
       "50%              2.015012e+07    2015.000000       8.000000   \n",
       "75%              2.015112e+07    2015.000000      10.000000   \n",
       "max              2.017033e+07    2017.000000      12.000000   \n",
       "\n",
       "       total_transactions  total_transactions_12m  total_transactions_6m  \\\n",
       "count       992931.000000           992931.000000          992931.000000   \n",
       "mean            17.138657                9.508527               5.336593   \n",
       "std              8.450392                3.801936               1.605622   \n",
       "min              1.000000                0.000000               0.000000   \n",
       "25%             10.000000                7.000000               5.000000   \n",
       "50%             18.000000               12.000000               6.000000   \n",
       "75%             24.000000               12.000000               6.000000   \n",
       "max            244.000000              244.000000             180.000000   \n",
       "\n",
       "       total_transactions_3m  latest_transactions  common_payment_method  \\\n",
       "count          992931.000000        992931.000000          992931.000000   \n",
       "mean                2.742604            18.209106              38.688778   \n",
       "std                 0.742938            41.415253               3.858701   \n",
       "min                 0.000000             0.000000               0.000000   \n",
       "25%                 3.000000             4.000000              38.000000   \n",
       "50%                 3.000000            13.000000              41.000000   \n",
       "75%                 3.000000            22.000000              41.000000   \n",
       "max                64.000000           759.000000              41.000000   \n",
       "\n",
       "       number_payment_method  common_plan_days  latest_auto_renew  \\\n",
       "count          992931.000000     992931.000000      992931.000000   \n",
       "mean                1.165818         33.068264           0.886155   \n",
       "std                 0.471481         30.682898           0.318832   \n",
       "min                 0.000000          0.000000           0.000000   \n",
       "25%                 1.000000         30.000000           1.000000   \n",
       "50%                 1.000000         30.000000           1.000000   \n",
       "75%                 1.000000         30.000000           1.000000   \n",
       "max                 8.000000        450.000000           1.000000   \n",
       "\n",
       "       rate_auto_renew  latest_cancel    rate_cancel  sum_discrepancy_paid  \n",
       "count    992931.000000  992931.000000  992931.000000         992931.000000  \n",
       "mean          0.873609       0.013717       0.013839            -73.561356  \n",
       "std           0.312363       0.115534       0.035772            220.619690  \n",
       "min           0.000000       0.000000       0.000000          -2086.000000  \n",
       "25%           1.000000       0.000000       0.000000           -149.000000  \n",
       "50%           1.000000       0.000000       0.000000              0.000000  \n",
       "75%           1.000000       0.000000       0.000000              0.000000  \n",
       "max           1.000000       1.000000       1.000000           1599.000000  "
      ]
     },
     "execution_count": 140,
     "metadata": {},
     "output_type": "execute_result"
    }
   ],
   "source": [
    "data_train.describe()"
   ]
  },
  {
   "cell_type": "code",
   "execution_count": 141,
   "metadata": {},
   "outputs": [],
   "source": [
    "data_train['latest_cancel']=data_train['latest_cancel'].astype(dtype = 'uint8')"
   ]
  },
  {
   "cell_type": "code",
   "execution_count": 142,
   "metadata": {},
   "outputs": [],
   "source": [
    "data_train['sum_discrepancy_paid']=data_train['sum_discrepancy_paid'].astype(dtype = 'int16')"
   ]
  },
  {
   "cell_type": "code",
   "execution_count": 143,
   "metadata": {},
   "outputs": [],
   "source": [
    "data_train['latest_auto_renew']=data_train['latest_auto_renew'].astype(dtype = 'uint8')"
   ]
  },
  {
   "cell_type": "code",
   "execution_count": 144,
   "metadata": {},
   "outputs": [],
   "source": [
    "data_train['common_plan_days']=data_train['common_plan_days'].astype(dtype = 'uint16')"
   ]
  },
  {
   "cell_type": "code",
   "execution_count": 145,
   "metadata": {},
   "outputs": [],
   "source": [
    "data_train['number_payment_method']=data_train['number_payment_method'].astype(dtype = 'uint8')"
   ]
  },
  {
   "cell_type": "code",
   "execution_count": 146,
   "metadata": {},
   "outputs": [],
   "source": [
    "data_train['common_payment_method']=data_train['common_payment_method'].astype(dtype = 'uint8')"
   ]
  },
  {
   "cell_type": "code",
   "execution_count": 147,
   "metadata": {},
   "outputs": [],
   "source": [
    "data_train['latest_transactions']=data_train['latest_transactions'].astype(dtype = 'uint16')"
   ]
  },
  {
   "cell_type": "code",
   "execution_count": 149,
   "metadata": {},
   "outputs": [],
   "source": [
    "data_test.to_csv('features\\\\test_trans_mems.csv',index=False)\n",
    "data_train.to_csv('features\\\\train_trans_mems.csv',index=False)"
   ]
  },
  {
   "cell_type": "code",
   "execution_count": null,
   "metadata": {},
   "outputs": [],
   "source": []
  }
 ],
 "metadata": {
  "kernelspec": {
   "display_name": "Python 3",
   "language": "python",
   "name": "python3"
  },
  "language_info": {
   "codemirror_mode": {
    "name": "ipython",
    "version": 3
   },
   "file_extension": ".py",
   "mimetype": "text/x-python",
   "name": "python",
   "nbconvert_exporter": "python",
   "pygments_lexer": "ipython3",
   "version": "3.5.5"
  }
 },
 "nbformat": 4,
 "nbformat_minor": 2
}
