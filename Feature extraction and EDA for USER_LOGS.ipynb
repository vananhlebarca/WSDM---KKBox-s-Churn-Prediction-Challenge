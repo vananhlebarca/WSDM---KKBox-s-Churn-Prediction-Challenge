{
 "cells": [
  {
   "cell_type": "markdown",
   "metadata": {},
   "source": [
    "## **Feature extraction and EDA for USER_LOGS**\n",
    "\n",
    "**1. Loading datasets** <br>\n",
    "**2. Feature extraction and EDA** <br>\n",
    "\n",
    "**Run 1:** train.csv has the cutoff date of 2017/01/31 and sample_submission_v2.csv hase the cutoff date of 2017/03/31<br>\n",
    "> ***Input files:*** \n",
    ">>train.csv <br>\n",
    ">>sample_submission_v2.csv <br>\n",
    ">>user_logs.csv <br>\n",
    ">>user_logs_v2.csv <br>\n",
    "\n",
    "> ***Output files:***\n",
    ">> *train_logs_part1.csv* <br>\n",
    ">> *train_logs_part2.csv* <br>\n",
    ">> *train_logs_part3.csv* <br>\n",
    ">> *train_logs_part4.csv*<br>\n",
    ">> *test_logs_part1.csv* <br>\n",
    ">> *test_logs_part2.csv* <br>\n",
    ">> *test_logs_part3.csv* <br>\n",
    ">> *test_logs_part4.csv* <br>\n",
    "\n",
    "**Run 2:** train_v2.csv has the cutoff date of 2017/02/28 <br>\n",
    "> ***Input files:*** \n",
    ">>train_v2.csv <br>\n",
    ">>user_logs.csv <br>\n",
    ">>user_logs_v2.csv <br>\n",
    "\n",
    "> ***Output files:***\n",
    ">> *train_logs_v2_part1.csv* <br>\n",
    ">> *train_logs_v2_part2.csv* <br>\n",
    ">> *train_logs_v2_part3.csv* <br>\n",
    ">> *train_logs_v2_part4.csv*<br>"
   ]
  },
  {
   "cell_type": "code",
   "execution_count": 1,
   "metadata": {},
   "outputs": [],
   "source": [
    "import numpy as np\n",
    "import pandas as pd\n",
    "import os\n",
    "import random\n",
    "import matplotlib.pyplot as plt\n",
    "import seaborn as sns\n",
    "%matplotlib inline\n",
    "import gc"
   ]
  },
  {
   "cell_type": "code",
   "execution_count": 2,
   "metadata": {},
   "outputs": [],
   "source": [
    "def change_datatype_numeric(df):\n",
    "    int_cols = list(df.select_dtypes(include=['int64','int32','int16']).columns)\n",
    "    df[int_cols] = df[int_cols].apply(pd.to_numeric,downcast='unsigned')\n",
    "    \n",
    "    float_cols = list(df.select_dtypes(include=['float']).columns)\n",
    "    df[float_cols] = df[float_cols].apply(pd.to_numeric,downcast='float')\n",
    "    "
   ]
  },
  {
   "cell_type": "code",
   "execution_count": 3,
   "metadata": {},
   "outputs": [],
   "source": [
    "def change_datatype_object(df,cols=[]):\n",
    "    for col in cols:\n",
    "        df[col] = df[col].astype('category')\n",
    "        "
   ]
  },
  {
   "cell_type": "markdown",
   "metadata": {},
   "source": [
    "## 1. Loading datasets"
   ]
  },
  {
   "cell_type": "code",
   "execution_count": 4,
   "metadata": {},
   "outputs": [
    {
     "data": {
      "text/plain": [
       "(992931, 2)"
      ]
     },
     "execution_count": 4,
     "metadata": {},
     "output_type": "execute_result"
    }
   ],
   "source": [
    "#---------------------train_v2 -----------------(Note: train.csv has different cut off date, so it will be processed separately)\n",
    "#train = pd.read_csv('..\\\\data\\\\refresh\\\\train_v2.csv')\n",
    "#train.shape\n",
    "\n",
    "train = pd.read_csv('..\\\\data\\\\train.csv')\n",
    "train.shape"
   ]
  },
  {
   "cell_type": "code",
   "execution_count": 5,
   "metadata": {},
   "outputs": [
    {
     "name": "stdout",
     "output_type": "stream",
     "text": [
      "original train accounts for  15.1510009765625 MB\n",
      "changed train accounts for  8.52247142791748 MB\n"
     ]
    }
   ],
   "source": [
    "# Change data type for train\n",
    "train_size = train.memory_usage(index=True).sum()\n",
    "print('original train accounts for ',train_size/ 1024**2, 'MB')\n",
    "\n",
    "change_datatype_numeric(train)\n",
    "\n",
    "train_size = train.memory_usage(index=True).sum()\n",
    "print('changed train accounts for ',train_size/ 1024**2, 'MB')"
   ]
  },
  {
   "cell_type": "code",
   "execution_count": 6,
   "metadata": {},
   "outputs": [
    {
     "data": {
      "text/plain": [
       "(907471, 2)"
      ]
     },
     "execution_count": 6,
     "metadata": {},
     "output_type": "execute_result"
    }
   ],
   "source": [
    "#--------test----------------------\n",
    "test = pd.read_csv('..\\\\data\\\\refresh\\\\sample_submission_v2.csv')\n",
    "test.shape"
   ]
  },
  {
   "cell_type": "code",
   "execution_count": 7,
   "metadata": {},
   "outputs": [
    {
     "name": "stdout",
     "output_type": "stream",
     "text": [
      "original test accounts for  13.84698486328125 MB\n",
      "changed test accounts for  7.788962364196777 MB\n"
     ]
    }
   ],
   "source": [
    "# Change data type for train\n",
    "test_size = test.memory_usage(index=True).sum()\n",
    "print('original test accounts for ',test_size/ 1024**2, 'MB')\n",
    "\n",
    "change_datatype_numeric(test)\n",
    "\n",
    "test_size = test.memory_usage(index=True).sum()\n",
    "print('changed test accounts for ',test_size/ 1024**2, 'MB')"
   ]
  },
  {
   "cell_type": "code",
   "execution_count": 8,
   "metadata": {},
   "outputs": [
    {
     "name": "stdout",
     "output_type": "stream",
     "text": [
      "<class 'pandas.core.frame.DataFrame'>\n",
      "RangeIndex: 992931 entries, 0 to 992930\n",
      "Data columns (total 2 columns):\n",
      "msno        992931 non-null object\n",
      "is_churn    992931 non-null uint8\n",
      "dtypes: object(1), uint8(1)\n",
      "memory usage: 8.5+ MB\n"
     ]
    }
   ],
   "source": [
    "train.info()"
   ]
  },
  {
   "cell_type": "code",
   "execution_count": 9,
   "metadata": {},
   "outputs": [],
   "source": [
    "data_train = train"
   ]
  },
  {
   "cell_type": "code",
   "execution_count": 10,
   "metadata": {},
   "outputs": [],
   "source": [
    "data_test= test"
   ]
  },
  {
   "cell_type": "markdown",
   "metadata": {},
   "source": [
    "### User_logs at the first glance\n"
   ]
  },
  {
   "cell_type": "code",
   "execution_count": 11,
   "metadata": {
    "scrolled": true
   },
   "outputs": [
    {
     "data": {
      "text/html": [
       "<div>\n",
       "<style scoped>\n",
       "    .dataframe tbody tr th:only-of-type {\n",
       "        vertical-align: middle;\n",
       "    }\n",
       "\n",
       "    .dataframe tbody tr th {\n",
       "        vertical-align: top;\n",
       "    }\n",
       "\n",
       "    .dataframe thead th {\n",
       "        text-align: right;\n",
       "    }\n",
       "</style>\n",
       "<table border=\"1\" class=\"dataframe\">\n",
       "  <thead>\n",
       "    <tr style=\"text-align: right;\">\n",
       "      <th></th>\n",
       "      <th>msno</th>\n",
       "      <th>date</th>\n",
       "      <th>num_25</th>\n",
       "      <th>num_50</th>\n",
       "      <th>num_75</th>\n",
       "      <th>num_985</th>\n",
       "      <th>num_100</th>\n",
       "      <th>num_unq</th>\n",
       "      <th>total_secs</th>\n",
       "    </tr>\n",
       "  </thead>\n",
       "  <tbody>\n",
       "    <tr>\n",
       "      <th>0</th>\n",
       "      <td>u9E91QDTvHLq6NXjEaWv8u4QIqhrHk72kE+w31Gnhdg=</td>\n",
       "      <td>20170331</td>\n",
       "      <td>8</td>\n",
       "      <td>4</td>\n",
       "      <td>0</td>\n",
       "      <td>1</td>\n",
       "      <td>21</td>\n",
       "      <td>18</td>\n",
       "      <td>6309.273</td>\n",
       "    </tr>\n",
       "    <tr>\n",
       "      <th>1</th>\n",
       "      <td>nTeWW/eOZA/UHKdD5L7DEqKKFTjaAj3ALLPoAWsU8n0=</td>\n",
       "      <td>20170330</td>\n",
       "      <td>2</td>\n",
       "      <td>2</td>\n",
       "      <td>1</td>\n",
       "      <td>0</td>\n",
       "      <td>9</td>\n",
       "      <td>11</td>\n",
       "      <td>2390.699</td>\n",
       "    </tr>\n",
       "    <tr>\n",
       "      <th>2</th>\n",
       "      <td>2UqkWXwZbIjs03dHLU9KHJNNEvEkZVzm69f3jCS+uLI=</td>\n",
       "      <td>20170331</td>\n",
       "      <td>52</td>\n",
       "      <td>3</td>\n",
       "      <td>5</td>\n",
       "      <td>3</td>\n",
       "      <td>84</td>\n",
       "      <td>110</td>\n",
       "      <td>23203.337</td>\n",
       "    </tr>\n",
       "    <tr>\n",
       "      <th>3</th>\n",
       "      <td>ycwLc+m2O0a85jSLALtr941AaZt9ai8Qwlg9n0Nql5U=</td>\n",
       "      <td>20170331</td>\n",
       "      <td>176</td>\n",
       "      <td>4</td>\n",
       "      <td>2</td>\n",
       "      <td>2</td>\n",
       "      <td>19</td>\n",
       "      <td>191</td>\n",
       "      <td>7100.454</td>\n",
       "    </tr>\n",
       "    <tr>\n",
       "      <th>4</th>\n",
       "      <td>EGcbTofOSOkMmQyN1NMLxHEXJ1yV3t/JdhGwQ9wXjnI=</td>\n",
       "      <td>20170331</td>\n",
       "      <td>2</td>\n",
       "      <td>1</td>\n",
       "      <td>0</td>\n",
       "      <td>1</td>\n",
       "      <td>112</td>\n",
       "      <td>93</td>\n",
       "      <td>28401.558</td>\n",
       "    </tr>\n",
       "  </tbody>\n",
       "</table>\n",
       "</div>"
      ],
      "text/plain": [
       "                                           msno      date  num_25  num_50  \\\n",
       "0  u9E91QDTvHLq6NXjEaWv8u4QIqhrHk72kE+w31Gnhdg=  20170331       8       4   \n",
       "1  nTeWW/eOZA/UHKdD5L7DEqKKFTjaAj3ALLPoAWsU8n0=  20170330       2       2   \n",
       "2  2UqkWXwZbIjs03dHLU9KHJNNEvEkZVzm69f3jCS+uLI=  20170331      52       3   \n",
       "3  ycwLc+m2O0a85jSLALtr941AaZt9ai8Qwlg9n0Nql5U=  20170331     176       4   \n",
       "4  EGcbTofOSOkMmQyN1NMLxHEXJ1yV3t/JdhGwQ9wXjnI=  20170331       2       1   \n",
       "\n",
       "   num_75  num_985  num_100  num_unq  total_secs  \n",
       "0       0        1       21       18    6309.273  \n",
       "1       1        0        9       11    2390.699  \n",
       "2       5        3       84      110   23203.337  \n",
       "3       2        2       19      191    7100.454  \n",
       "4       0        1      112       93   28401.558  "
      ]
     },
     "execution_count": 11,
     "metadata": {},
     "output_type": "execute_result"
    }
   ],
   "source": [
    "# Quick look the user_logs data\n",
    "user_logs2 = pd.read_csv('..\\\\data\\\\refresh\\\\user_logs_v2.csv',nrows=10)\n",
    "user_logs2.head(5)"
   ]
  },
  {
   "cell_type": "code",
   "execution_count": 12,
   "metadata": {},
   "outputs": [],
   "source": [
    "# Original datatypes (which is defined by inverting user_logs2 in separate notebook)\n",
    "original_column_types = {'date': 'int64',\n",
    "                         'msno': 'object',\n",
    "                         'num_100': 'int64',\n",
    "                         'num_25': 'int64',\n",
    "                         'num_50': 'int64',\n",
    "                         'num_75': 'int64',\n",
    "                         'num_985': 'int64',\n",
    "                         'num_unq': 'int64',\n",
    "                         'total_secs': 'float64'}"
   ]
  },
  {
   "cell_type": "code",
   "execution_count": 13,
   "metadata": {},
   "outputs": [],
   "source": [
    "# New_datatypes (which is defined by inverting user_logs2 in separate notebook)\n",
    "new_column_types = {'date': 'uint32',\n",
    "                     'msno': 'category',\n",
    "                     'num_100': 'uint16',\n",
    "                     'num_25': 'uint16',\n",
    "                     'num_50': 'uint16',\n",
    "                     'num_75': 'uint16',\n",
    "                     'num_985': 'uint16',\n",
    "                     'num_unq': 'uint16',\n",
    "                     'total_secs': 'float32'}\n"
   ]
  },
  {
   "cell_type": "code",
   "execution_count": 14,
   "metadata": {},
   "outputs": [],
   "source": [
    "# modified__datatypes (which is for avoiding error since the columns may contain NA )\n",
    "modified_column_types = {'date': 'float32',\n",
    "                     'msno': 'category',\n",
    "                     'num_100': 'float32',\n",
    "                     'num_25': 'float32',\n",
    "                     'num_50': 'float32',\n",
    "                     'num_75': 'float32',\n",
    "                     'num_985': 'float32',\n",
    "                     'num_unq': 'float32',\n",
    "                     'total_secs': 'float32'}\n"
   ]
  },
  {
   "cell_type": "code",
   "execution_count": 15,
   "metadata": {},
   "outputs": [
    {
     "data": {
      "text/plain": [
       "18"
      ]
     },
     "execution_count": 15,
     "metadata": {},
     "output_type": "execute_result"
    }
   ],
   "source": [
    "del user_logs2\n",
    "gc.collect()"
   ]
  },
  {
   "cell_type": "markdown",
   "metadata": {},
   "source": [
    "## 2. Feature extraction and EDA"
   ]
  },
  {
   "cell_type": "markdown",
   "metadata": {},
   "source": [
    "### 2.1 Featuring num_25 and general"
   ]
  },
  {
   "cell_type": "code",
   "execution_count": 16,
   "metadata": {},
   "outputs": [],
   "source": [
    "cols = ['msno','date','num_25']"
   ]
  },
  {
   "cell_type": "code",
   "execution_count": 17,
   "metadata": {},
   "outputs": [],
   "source": [
    "user_logs1 = pd.read_csv('..\\\\data\\\\user_logs.csv',dtype=modified_column_types, usecols=cols)"
   ]
  },
  {
   "cell_type": "code",
   "execution_count": 18,
   "metadata": {},
   "outputs": [
    {
     "data": {
      "text/plain": [
       "(103105024, 3)"
      ]
     },
     "execution_count": 18,
     "metadata": {},
     "output_type": "execute_result"
    }
   ],
   "source": [
    "user_logs1.shape"
   ]
  },
  {
   "cell_type": "code",
   "execution_count": 19,
   "metadata": {},
   "outputs": [],
   "source": [
    "user_logs = pd.read_csv('..\\\\data\\\\refresh\\\\user_logs_v2.csv',dtype=modified_column_types, usecols=cols)"
   ]
  },
  {
   "cell_type": "code",
   "execution_count": 20,
   "metadata": {},
   "outputs": [
    {
     "data": {
      "text/plain": [
       "(18396362, 3)"
      ]
     },
     "execution_count": 20,
     "metadata": {},
     "output_type": "execute_result"
    }
   ],
   "source": [
    "user_logs.shape"
   ]
  },
  {
   "cell_type": "code",
   "execution_count": 21,
   "metadata": {},
   "outputs": [],
   "source": [
    "user_logs = user_logs.append(user_logs1, ignore_index=True)"
   ]
  },
  {
   "cell_type": "code",
   "execution_count": 22,
   "metadata": {},
   "outputs": [
    {
     "data": {
      "text/plain": [
       "12222"
      ]
     },
     "execution_count": 22,
     "metadata": {},
     "output_type": "execute_result"
    }
   ],
   "source": [
    "del user_logs1\n",
    "gc.collect()"
   ]
  },
  {
   "cell_type": "code",
   "execution_count": 23,
   "metadata": {},
   "outputs": [
    {
     "data": {
      "text/plain": [
       "msno      0\n",
       "date      1\n",
       "num_25    1\n",
       "dtype: int64"
      ]
     },
     "execution_count": 23,
     "metadata": {},
     "output_type": "execute_result"
    }
   ],
   "source": [
    "user_logs.isnull().sum()"
   ]
  },
  {
   "cell_type": "code",
   "execution_count": 24,
   "metadata": {},
   "outputs": [
    {
     "data": {
      "text/plain": [
       "(121501386, 3)"
      ]
     },
     "execution_count": 24,
     "metadata": {},
     "output_type": "execute_result"
    }
   ],
   "source": [
    "user_logs.shape"
   ]
  },
  {
   "cell_type": "code",
   "execution_count": 25,
   "metadata": {},
   "outputs": [],
   "source": [
    "user_logs.fillna(value = 0, inplace=True)"
   ]
  },
  {
   "cell_type": "code",
   "execution_count": 26,
   "metadata": {},
   "outputs": [
    {
     "name": "stdout",
     "output_type": "stream",
     "text": [
      "<class 'pandas.core.frame.DataFrame'>\n",
      "RangeIndex: 121501386 entries, 0 to 121501385\n",
      "Data columns (total 3 columns):\n",
      "msno      object\n",
      "date      float32\n",
      "num_25    float32\n",
      "dtypes: float32(2), object(1)\n",
      "memory usage: 1.8+ GB\n"
     ]
    }
   ],
   "source": [
    "user_logs.info()"
   ]
  },
  {
   "cell_type": "code",
   "execution_count": 27,
   "metadata": {},
   "outputs": [],
   "source": [
    "user_logs['date'] = user_logs['date'].astype(dtype='uint32')\n",
    "user_logs['num_25'] = user_logs['num_25'].astype(dtype='uint16')"
   ]
  },
  {
   "cell_type": "code",
   "execution_count": 28,
   "metadata": {},
   "outputs": [],
   "source": [
    "#user_logs['msno'].value_counts()"
   ]
  },
  {
   "cell_type": "code",
   "execution_count": 29,
   "metadata": {},
   "outputs": [
    {
     "data": {
      "text/plain": [
       "(78004433, 4)"
      ]
     },
     "execution_count": 29,
     "metadata": {},
     "output_type": "execute_result"
    }
   ],
   "source": [
    "train_logs = pd.merge(train,user_logs.sort_values(by=['msno','date']),on='msno',how='left')\n",
    "train_logs.shape"
   ]
  },
  {
   "cell_type": "code",
   "execution_count": 30,
   "metadata": {},
   "outputs": [
    {
     "data": {
      "text/plain": [
       "msno             0\n",
       "is_churn         0\n",
       "date        159018\n",
       "num_25      159018\n",
       "dtype: int64"
      ]
     },
     "execution_count": 30,
     "metadata": {},
     "output_type": "execute_result"
    }
   ],
   "source": [
    "train_logs.isnull().sum()"
   ]
  },
  {
   "cell_type": "code",
   "execution_count": 31,
   "metadata": {},
   "outputs": [
    {
     "data": {
      "text/plain": [
       "(65630941, 4)"
      ]
     },
     "execution_count": 31,
     "metadata": {},
     "output_type": "execute_result"
    }
   ],
   "source": [
    "test_logs = pd.merge(test,user_logs.sort_values(by=['msno','date']),on='msno',how='left')\n",
    "test_logs.shape"
   ]
  },
  {
   "cell_type": "code",
   "execution_count": 32,
   "metadata": {},
   "outputs": [
    {
     "data": {
      "text/plain": [
       "msno             0\n",
       "is_churn         0\n",
       "date        151741\n",
       "num_25      151741\n",
       "dtype: int64"
      ]
     },
     "execution_count": 32,
     "metadata": {},
     "output_type": "execute_result"
    }
   ],
   "source": [
    "test_logs.isnull().sum()"
   ]
  },
  {
   "cell_type": "code",
   "execution_count": 33,
   "metadata": {},
   "outputs": [
    {
     "data": {
      "text/plain": [
       "14"
      ]
     },
     "execution_count": 33,
     "metadata": {},
     "output_type": "execute_result"
    }
   ],
   "source": [
    "del user_logs\n",
    "gc.collect()"
   ]
  },
  {
   "cell_type": "code",
   "execution_count": 34,
   "metadata": {},
   "outputs": [],
   "source": [
    "# filling missing value for date and num_25\n",
    "\n",
    "train_logs['date'].fillna(value=0, inplace = True) #### should fill with registration date? or zeros\n",
    "test_logs['date'].fillna(value= 0, inplace = True)\n",
    "\n",
    "train_logs['num_25'].fillna(value=0, inplace = True)\n",
    "test_logs['num_25'].fillna(value=0, inplace = True)"
   ]
  },
  {
   "cell_type": "code",
   "execution_count": 35,
   "metadata": {},
   "outputs": [],
   "source": [
    "# castdown datatypes\n",
    "train_logs['date'] = train_logs['date'].astype(dtype='uint32')\n",
    "test_logs['date'] = test_logs['date'].astype(dtype='uint32')\n",
    "\n",
    "train_logs['num_25'] = train_logs['num_25'].astype(dtype='uint16')\n",
    "test_logs['num_25'] = test_logs['num_25'].astype(dtype='uint16')"
   ]
  },
  {
   "cell_type": "code",
   "execution_count": 36,
   "metadata": {},
   "outputs": [],
   "source": [
    "cutoff_date_train = ((20170131//10**4)*365 + (20170131%10**4)//10**2*30 + (20170131%10**4)%10**2)\n",
    "#cutoff_date_train = ((20170228//10**4)*365 + (20170228%10**4)//10**2*30 + (20170228%10**4)%10**2)  #-----------------\n",
    "cutoff_date_test = ((20170331//10**4)*365 + (20170331%10**4)//10**2*30 + (20170331%10**4)%10**2)"
   ]
  },
  {
   "cell_type": "code",
   "execution_count": 37,
   "metadata": {},
   "outputs": [],
   "source": [
    "# Convert date\n",
    "train_logs['date_relative']= train_logs['date'].apply(lambda x: cutoff_date_train - ((x//10**4)*365 + (x%10**4)//10**2*30 + (x%10**4)%10**2))\n",
    "test_logs['date_relative']= test_logs['date'].apply(lambda x: cutoff_date_test - ((x//10**4)*365 + (x%10**4)//10**2*30 + (x%10**4)%10**2))"
   ]
  },
  {
   "cell_type": "markdown",
   "metadata": {},
   "source": [
    "### *2.1.1. common streaming*"
   ]
  },
  {
   "cell_type": "code",
   "execution_count": 38,
   "metadata": {},
   "outputs": [],
   "source": [
    "# 1. total of days streaming\n",
    "\n",
    "number = train_logs[train_logs['date_relative']>=0].groupby(by='msno')['date_relative'].apply(lambda x: x.shape[0])\n",
    "number_train = pd.DataFrame({'msno':number.index, 'total_day_streaming':number.values})\n",
    "\n",
    "number = test_logs[test_logs['date_relative']>=0].groupby(by='msno')['date_relative'].apply(lambda x: x.shape[0])\n",
    "number_test = pd.DataFrame({'msno':number.index, 'total_day_streaming':number.values})"
   ]
  },
  {
   "cell_type": "code",
   "execution_count": 39,
   "metadata": {},
   "outputs": [
    {
     "data": {
      "text/html": [
       "<div>\n",
       "<style scoped>\n",
       "    .dataframe tbody tr th:only-of-type {\n",
       "        vertical-align: middle;\n",
       "    }\n",
       "\n",
       "    .dataframe tbody tr th {\n",
       "        vertical-align: top;\n",
       "    }\n",
       "\n",
       "    .dataframe thead th {\n",
       "        text-align: right;\n",
       "    }\n",
       "</style>\n",
       "<table border=\"1\" class=\"dataframe\">\n",
       "  <thead>\n",
       "    <tr style=\"text-align: right;\">\n",
       "      <th></th>\n",
       "      <th>msno</th>\n",
       "      <th>is_churn</th>\n",
       "      <th>total_day_streaming</th>\n",
       "    </tr>\n",
       "  </thead>\n",
       "  <tbody>\n",
       "    <tr>\n",
       "      <th>0</th>\n",
       "      <td>waLDQMmcOu2jLDaV1ddDkgCrB/jl6sD66Xzs0Vqax1Y=</td>\n",
       "      <td>1</td>\n",
       "      <td>5.0</td>\n",
       "    </tr>\n",
       "    <tr>\n",
       "      <th>1</th>\n",
       "      <td>QA7uiXy8vIbUSPOkCf9RwQ3FsT8jVq2OxDr8zqa7bRQ=</td>\n",
       "      <td>1</td>\n",
       "      <td>130.0</td>\n",
       "    </tr>\n",
       "    <tr>\n",
       "      <th>2</th>\n",
       "      <td>fGwBva6hikQmTJzrbz/2Ezjm5Cth5jZUNvXigKK2AFA=</td>\n",
       "      <td>1</td>\n",
       "      <td>63.0</td>\n",
       "    </tr>\n",
       "    <tr>\n",
       "      <th>3</th>\n",
       "      <td>mT5V8rEpa+8wuqi6x0DoVd3H5icMKkE9Prt49UlmK+4=</td>\n",
       "      <td>1</td>\n",
       "      <td>190.0</td>\n",
       "    </tr>\n",
       "    <tr>\n",
       "      <th>4</th>\n",
       "      <td>XaPhtGLk/5UvvOYHcONTwsnH97P4eGECeq+BARGItRw=</td>\n",
       "      <td>1</td>\n",
       "      <td>186.0</td>\n",
       "    </tr>\n",
       "  </tbody>\n",
       "</table>\n",
       "</div>"
      ],
      "text/plain": [
       "                                           msno  is_churn  total_day_streaming\n",
       "0  waLDQMmcOu2jLDaV1ddDkgCrB/jl6sD66Xzs0Vqax1Y=         1                  5.0\n",
       "1  QA7uiXy8vIbUSPOkCf9RwQ3FsT8jVq2OxDr8zqa7bRQ=         1                130.0\n",
       "2  fGwBva6hikQmTJzrbz/2Ezjm5Cth5jZUNvXigKK2AFA=         1                 63.0\n",
       "3  mT5V8rEpa+8wuqi6x0DoVd3H5icMKkE9Prt49UlmK+4=         1                190.0\n",
       "4  XaPhtGLk/5UvvOYHcONTwsnH97P4eGECeq+BARGItRw=         1                186.0"
      ]
     },
     "execution_count": 39,
     "metadata": {},
     "output_type": "execute_result"
    }
   ],
   "source": [
    "data_train = pd.merge(data_train,number_train,on='msno',how='left')\n",
    "data_train.head()"
   ]
  },
  {
   "cell_type": "code",
   "execution_count": 40,
   "metadata": {},
   "outputs": [
    {
     "data": {
      "text/html": [
       "<div>\n",
       "<style scoped>\n",
       "    .dataframe tbody tr th:only-of-type {\n",
       "        vertical-align: middle;\n",
       "    }\n",
       "\n",
       "    .dataframe tbody tr th {\n",
       "        vertical-align: top;\n",
       "    }\n",
       "\n",
       "    .dataframe thead th {\n",
       "        text-align: right;\n",
       "    }\n",
       "</style>\n",
       "<table border=\"1\" class=\"dataframe\">\n",
       "  <thead>\n",
       "    <tr style=\"text-align: right;\">\n",
       "      <th></th>\n",
       "      <th>msno</th>\n",
       "      <th>is_churn</th>\n",
       "      <th>total_day_streaming</th>\n",
       "    </tr>\n",
       "  </thead>\n",
       "  <tbody>\n",
       "    <tr>\n",
       "      <th>0</th>\n",
       "      <td>4n+fXlyJvfQnTeKXTWT507Ll4JVYGrOC8LHCfwBmPE4=</td>\n",
       "      <td>0</td>\n",
       "      <td>1.0</td>\n",
       "    </tr>\n",
       "    <tr>\n",
       "      <th>1</th>\n",
       "      <td>aNmbC1GvFUxQyQUidCVmfbQ0YeCuwkPzEdQ0RwWyeZM=</td>\n",
       "      <td>0</td>\n",
       "      <td>240.0</td>\n",
       "    </tr>\n",
       "    <tr>\n",
       "      <th>2</th>\n",
       "      <td>rFC9eSG/tMuzpre6cwcMLZHEYM89xY02qcz7HL4//jc=</td>\n",
       "      <td>0</td>\n",
       "      <td>36.0</td>\n",
       "    </tr>\n",
       "    <tr>\n",
       "      <th>3</th>\n",
       "      <td>WZ59dLyrQcE7ft06MZ5dj40BnlYQY7PHgg/54+HaCSE=</td>\n",
       "      <td>0</td>\n",
       "      <td>1.0</td>\n",
       "    </tr>\n",
       "    <tr>\n",
       "      <th>4</th>\n",
       "      <td>aky/Iv8hMp1/V/yQHLtaVuEmmAxkB5GuasQZePJ7NU4=</td>\n",
       "      <td>0</td>\n",
       "      <td>7.0</td>\n",
       "    </tr>\n",
       "  </tbody>\n",
       "</table>\n",
       "</div>"
      ],
      "text/plain": [
       "                                           msno  is_churn  total_day_streaming\n",
       "0  4n+fXlyJvfQnTeKXTWT507Ll4JVYGrOC8LHCfwBmPE4=         0                  1.0\n",
       "1  aNmbC1GvFUxQyQUidCVmfbQ0YeCuwkPzEdQ0RwWyeZM=         0                240.0\n",
       "2  rFC9eSG/tMuzpre6cwcMLZHEYM89xY02qcz7HL4//jc=         0                 36.0\n",
       "3  WZ59dLyrQcE7ft06MZ5dj40BnlYQY7PHgg/54+HaCSE=         0                  1.0\n",
       "4  aky/Iv8hMp1/V/yQHLtaVuEmmAxkB5GuasQZePJ7NU4=         0                  7.0"
      ]
     },
     "execution_count": 40,
     "metadata": {},
     "output_type": "execute_result"
    }
   ],
   "source": [
    "data_test = pd.merge(data_test,number_test,on='msno',how='left')\n",
    "data_test.head()"
   ]
  },
  {
   "cell_type": "code",
   "execution_count": 41,
   "metadata": {},
   "outputs": [],
   "source": [
    "data_train['total_day_streaming'].fillna(0, inplace = True)\n",
    "data_test['total_day_streaming'].fillna(0, inplace = True)\n",
    "\n",
    "data_train['total_day_streaming']= data_train['total_day_streaming'].astype(dtype= 'uint16')\n",
    "data_test['total_day_streaming']= data_test['total_day_streaming'].astype(dtype= 'uint16')"
   ]
  },
  {
   "cell_type": "code",
   "execution_count": 42,
   "metadata": {},
   "outputs": [
    {
     "name": "stderr",
     "output_type": "stream",
     "text": [
      "C:\\Users\\kartik\\AppData\\Local\\conda\\conda\\envs\\kaggle\\lib\\site-packages\\matplotlib\\axes\\_axes.py:6462: UserWarning: The 'normed' kwarg is deprecated, and has been replaced by the 'density' kwarg.\n",
      "  warnings.warn(\"The 'normed' kwarg is deprecated, and has been \"\n",
      "C:\\Users\\kartik\\AppData\\Local\\conda\\conda\\envs\\kaggle\\lib\\site-packages\\matplotlib\\axes\\_axes.py:6462: UserWarning: The 'normed' kwarg is deprecated, and has been replaced by the 'density' kwarg.\n",
      "  warnings.warn(\"The 'normed' kwarg is deprecated, and has been \"\n"
     ]
    },
    {
     "data": {
      "text/plain": [
       "<matplotlib.axes._subplots.AxesSubplot at 0x73e03358>"
      ]
     },
     "execution_count": 42,
     "metadata": {},
     "output_type": "execute_result"
    },
    {
     "data": {
      "image/png": "[encoded data removed]",
      "text/plain": [
       "<Figure size 576x432 with 1 Axes>"
      ]
     },
     "metadata": {},
     "output_type": "display_data"
    }
   ],
   "source": [
    "fig = plt.figure(figsize=(8,6))\n",
    "ax1 = fig.add_subplot(111)\n",
    "\n",
    "\n",
    "sns.distplot(data_train[data_train['is_churn']==0]['total_day_streaming'], kde = False, color = 'g', ax=ax1)\n",
    "sns.distplot(data_train[data_train['is_churn']==1]['total_day_streaming'], kde = False, color = 'r', ax=ax1)\n"
   ]
  },
  {
   "cell_type": "code",
   "execution_count": 43,
   "metadata": {},
   "outputs": [],
   "source": [
    "# 2. Latest day streaming from cut off date \n",
    "number = train_logs[train_logs['date_relative']>=0].groupby(by='msno')['date_relative'].apply(lambda x: x.iloc[-1])\n",
    "latest_train = pd.DataFrame({'msno':number.index, 'latest_days_streaming':number.values})\n",
    "\n",
    "number = test_logs[test_logs['date_relative']>=0].groupby(by='msno')['date_relative'].apply(lambda x: x.iloc[-1])\n",
    "latest_test = pd.DataFrame({'msno':number.index, 'latest_days_streaming':number.values})\n",
    "\n",
    "data_train = pd.merge(data_train,latest_train,on='msno',how='left')\n",
    "data_test = pd.merge(data_test,latest_test,on='msno',how='left')"
   ]
  },
  {
   "cell_type": "code",
   "execution_count": 44,
   "metadata": {},
   "outputs": [],
   "source": [
    "data_train['latest_days_streaming'].fillna(0, inplace = True)\n",
    "data_test['latest_days_streaming'].fillna(0, inplace = True)\n",
    "\n",
    "data_train['latest_days_streaming']= data_train['latest_days_streaming'].astype(dtype= 'uint16')\n",
    "data_test['latest_days_streaming']= data_test['latest_days_streaming'].astype(dtype= 'uint16')"
   ]
  },
  {
   "cell_type": "code",
   "execution_count": 45,
   "metadata": {},
   "outputs": [],
   "source": [
    "# 3. number of days stream within 1 month from cutoff date (20170228)\n",
    "number = train_logs[(train_logs['date_relative']>=0) & (train_logs['date_relative']<31)].groupby(by='msno')['date_relative'].apply(lambda x: x.shape[0])\n",
    "number_train = pd.DataFrame({'msno':number.index, 'days_streaming_1m_1st':number.values})\n",
    "\n",
    "number = test_logs[(test_logs['date_relative']>=0) & (test_logs['date_relative']<31)].groupby(by='msno')['date_relative'].apply(lambda x: x.shape[0])\n",
    "number_test = pd.DataFrame({'msno':number.index, 'days_streaming_1m_1st':number.values})\n"
   ]
  },
  {
   "cell_type": "code",
   "execution_count": 46,
   "metadata": {},
   "outputs": [
    {
     "data": {
      "text/html": [
       "<div>\n",
       "<style scoped>\n",
       "    .dataframe tbody tr th:only-of-type {\n",
       "        vertical-align: middle;\n",
       "    }\n",
       "\n",
       "    .dataframe tbody tr th {\n",
       "        vertical-align: top;\n",
       "    }\n",
       "\n",
       "    .dataframe thead th {\n",
       "        text-align: right;\n",
       "    }\n",
       "</style>\n",
       "<table border=\"1\" class=\"dataframe\">\n",
       "  <thead>\n",
       "    <tr style=\"text-align: right;\">\n",
       "      <th></th>\n",
       "      <th>msno</th>\n",
       "      <th>is_churn</th>\n",
       "      <th>total_day_streaming</th>\n",
       "      <th>latest_days_streaming</th>\n",
       "      <th>days_streaming_1m_1st</th>\n",
       "    </tr>\n",
       "  </thead>\n",
       "  <tbody>\n",
       "    <tr>\n",
       "      <th>0</th>\n",
       "      <td>waLDQMmcOu2jLDaV1ddDkgCrB/jl6sD66Xzs0Vqax1Y=</td>\n",
       "      <td>1</td>\n",
       "      <td>5</td>\n",
       "      <td>3</td>\n",
       "      <td>5.0</td>\n",
       "    </tr>\n",
       "    <tr>\n",
       "      <th>1</th>\n",
       "      <td>QA7uiXy8vIbUSPOkCf9RwQ3FsT8jVq2OxDr8zqa7bRQ=</td>\n",
       "      <td>1</td>\n",
       "      <td>130</td>\n",
       "      <td>162</td>\n",
       "      <td>NaN</td>\n",
       "    </tr>\n",
       "    <tr>\n",
       "      <th>2</th>\n",
       "      <td>fGwBva6hikQmTJzrbz/2Ezjm5Cth5jZUNvXigKK2AFA=</td>\n",
       "      <td>1</td>\n",
       "      <td>63</td>\n",
       "      <td>3</td>\n",
       "      <td>7.0</td>\n",
       "    </tr>\n",
       "    <tr>\n",
       "      <th>3</th>\n",
       "      <td>mT5V8rEpa+8wuqi6x0DoVd3H5icMKkE9Prt49UlmK+4=</td>\n",
       "      <td>1</td>\n",
       "      <td>190</td>\n",
       "      <td>7</td>\n",
       "      <td>13.0</td>\n",
       "    </tr>\n",
       "    <tr>\n",
       "      <th>4</th>\n",
       "      <td>XaPhtGLk/5UvvOYHcONTwsnH97P4eGECeq+BARGItRw=</td>\n",
       "      <td>1</td>\n",
       "      <td>186</td>\n",
       "      <td>46</td>\n",
       "      <td>NaN</td>\n",
       "    </tr>\n",
       "  </tbody>\n",
       "</table>\n",
       "</div>"
      ],
      "text/plain": [
       "                                           msno  is_churn  \\\n",
       "0  waLDQMmcOu2jLDaV1ddDkgCrB/jl6sD66Xzs0Vqax1Y=         1   \n",
       "1  QA7uiXy8vIbUSPOkCf9RwQ3FsT8jVq2OxDr8zqa7bRQ=         1   \n",
       "2  fGwBva6hikQmTJzrbz/2Ezjm5Cth5jZUNvXigKK2AFA=         1   \n",
       "3  mT5V8rEpa+8wuqi6x0DoVd3H5icMKkE9Prt49UlmK+4=         1   \n",
       "4  XaPhtGLk/5UvvOYHcONTwsnH97P4eGECeq+BARGItRw=         1   \n",
       "\n",
       "   total_day_streaming  latest_days_streaming  days_streaming_1m_1st  \n",
       "0                    5                      3                    5.0  \n",
       "1                  130                    162                    NaN  \n",
       "2                   63                      3                    7.0  \n",
       "3                  190                      7                   13.0  \n",
       "4                  186                     46                    NaN  "
      ]
     },
     "execution_count": 46,
     "metadata": {},
     "output_type": "execute_result"
    }
   ],
   "source": [
    "data_train = pd.merge(data_train,number_train,on='msno',how='left')\n",
    "data_train.head()"
   ]
  },
  {
   "cell_type": "code",
   "execution_count": 47,
   "metadata": {},
   "outputs": [
    {
     "data": {
      "text/html": [
       "<div>\n",
       "<style scoped>\n",
       "    .dataframe tbody tr th:only-of-type {\n",
       "        vertical-align: middle;\n",
       "    }\n",
       "\n",
       "    .dataframe tbody tr th {\n",
       "        vertical-align: top;\n",
       "    }\n",
       "\n",
       "    .dataframe thead th {\n",
       "        text-align: right;\n",
       "    }\n",
       "</style>\n",
       "<table border=\"1\" class=\"dataframe\">\n",
       "  <thead>\n",
       "    <tr style=\"text-align: right;\">\n",
       "      <th></th>\n",
       "      <th>msno</th>\n",
       "      <th>is_churn</th>\n",
       "      <th>total_day_streaming</th>\n",
       "      <th>latest_days_streaming</th>\n",
       "      <th>days_streaming_1m_1st</th>\n",
       "    </tr>\n",
       "  </thead>\n",
       "  <tbody>\n",
       "    <tr>\n",
       "      <th>0</th>\n",
       "      <td>4n+fXlyJvfQnTeKXTWT507Ll4JVYGrOC8LHCfwBmPE4=</td>\n",
       "      <td>0</td>\n",
       "      <td>1</td>\n",
       "      <td>15430</td>\n",
       "      <td>NaN</td>\n",
       "    </tr>\n",
       "    <tr>\n",
       "      <th>1</th>\n",
       "      <td>aNmbC1GvFUxQyQUidCVmfbQ0YeCuwkPzEdQ0RwWyeZM=</td>\n",
       "      <td>0</td>\n",
       "      <td>240</td>\n",
       "      <td>1</td>\n",
       "      <td>29.0</td>\n",
       "    </tr>\n",
       "    <tr>\n",
       "      <th>2</th>\n",
       "      <td>rFC9eSG/tMuzpre6cwcMLZHEYM89xY02qcz7HL4//jc=</td>\n",
       "      <td>0</td>\n",
       "      <td>36</td>\n",
       "      <td>3</td>\n",
       "      <td>9.0</td>\n",
       "    </tr>\n",
       "    <tr>\n",
       "      <th>3</th>\n",
       "      <td>WZ59dLyrQcE7ft06MZ5dj40BnlYQY7PHgg/54+HaCSE=</td>\n",
       "      <td>0</td>\n",
       "      <td>1</td>\n",
       "      <td>15430</td>\n",
       "      <td>NaN</td>\n",
       "    </tr>\n",
       "    <tr>\n",
       "      <th>4</th>\n",
       "      <td>aky/Iv8hMp1/V/yQHLtaVuEmmAxkB5GuasQZePJ7NU4=</td>\n",
       "      <td>0</td>\n",
       "      <td>7</td>\n",
       "      <td>45</td>\n",
       "      <td>NaN</td>\n",
       "    </tr>\n",
       "  </tbody>\n",
       "</table>\n",
       "</div>"
      ],
      "text/plain": [
       "                                           msno  is_churn  \\\n",
       "0  4n+fXlyJvfQnTeKXTWT507Ll4JVYGrOC8LHCfwBmPE4=         0   \n",
       "1  aNmbC1GvFUxQyQUidCVmfbQ0YeCuwkPzEdQ0RwWyeZM=         0   \n",
       "2  rFC9eSG/tMuzpre6cwcMLZHEYM89xY02qcz7HL4//jc=         0   \n",
       "3  WZ59dLyrQcE7ft06MZ5dj40BnlYQY7PHgg/54+HaCSE=         0   \n",
       "4  aky/Iv8hMp1/V/yQHLtaVuEmmAxkB5GuasQZePJ7NU4=         0   \n",
       "\n",
       "   total_day_streaming  latest_days_streaming  days_streaming_1m_1st  \n",
       "0                    1                  15430                    NaN  \n",
       "1                  240                      1                   29.0  \n",
       "2                   36                      3                    9.0  \n",
       "3                    1                  15430                    NaN  \n",
       "4                    7                     45                    NaN  "
      ]
     },
     "execution_count": 47,
     "metadata": {},
     "output_type": "execute_result"
    }
   ],
   "source": [
    "data_test = pd.merge(data_test,number_test,on='msno',how='left')\n",
    "data_test.head()"
   ]
  },
  {
   "cell_type": "code",
   "execution_count": 48,
   "metadata": {},
   "outputs": [],
   "source": [
    "data_train['days_streaming_1m_1st'].fillna(0, inplace = True)\n",
    "data_test['days_streaming_1m_1st'].fillna(0, inplace = True)"
   ]
  },
  {
   "cell_type": "code",
   "execution_count": 49,
   "metadata": {},
   "outputs": [],
   "source": [
    "data_train['days_streaming_1m_1st']= data_train['days_streaming_1m_1st'].astype(dtype= 'uint8')\n",
    "data_test['days_streaming_1m_1st']= data_test['days_streaming_1m_1st'].astype(dtype= 'uint8')"
   ]
  },
  {
   "cell_type": "code",
   "execution_count": 50,
   "metadata": {},
   "outputs": [
    {
     "data": {
      "text/plain": [
       "msno                     0\n",
       "is_churn                 0\n",
       "total_day_streaming      0\n",
       "latest_days_streaming    0\n",
       "days_streaming_1m_1st    0\n",
       "dtype: int64"
      ]
     },
     "execution_count": 50,
     "metadata": {},
     "output_type": "execute_result"
    }
   ],
   "source": [
    "data_train.isnull().sum()"
   ]
  },
  {
   "cell_type": "code",
   "execution_count": 51,
   "metadata": {},
   "outputs": [
    {
     "data": {
      "text/html": [
       "<div>\n",
       "<style scoped>\n",
       "    .dataframe tbody tr th:only-of-type {\n",
       "        vertical-align: middle;\n",
       "    }\n",
       "\n",
       "    .dataframe tbody tr th {\n",
       "        vertical-align: top;\n",
       "    }\n",
       "\n",
       "    .dataframe thead th {\n",
       "        text-align: right;\n",
       "    }\n",
       "</style>\n",
       "<table border=\"1\" class=\"dataframe\">\n",
       "  <thead>\n",
       "    <tr style=\"text-align: right;\">\n",
       "      <th></th>\n",
       "      <th>msno</th>\n",
       "      <th>is_churn</th>\n",
       "      <th>total_day_streaming</th>\n",
       "      <th>latest_days_streaming</th>\n",
       "      <th>days_streaming_1m_1st</th>\n",
       "      <th>days_streaming_1m_2nd</th>\n",
       "    </tr>\n",
       "  </thead>\n",
       "  <tbody>\n",
       "    <tr>\n",
       "      <th>0</th>\n",
       "      <td>4n+fXlyJvfQnTeKXTWT507Ll4JVYGrOC8LHCfwBmPE4=</td>\n",
       "      <td>0</td>\n",
       "      <td>1</td>\n",
       "      <td>15430</td>\n",
       "      <td>0</td>\n",
       "      <td>NaN</td>\n",
       "    </tr>\n",
       "    <tr>\n",
       "      <th>1</th>\n",
       "      <td>aNmbC1GvFUxQyQUidCVmfbQ0YeCuwkPzEdQ0RwWyeZM=</td>\n",
       "      <td>0</td>\n",
       "      <td>240</td>\n",
       "      <td>1</td>\n",
       "      <td>29</td>\n",
       "      <td>1.0</td>\n",
       "    </tr>\n",
       "    <tr>\n",
       "      <th>2</th>\n",
       "      <td>rFC9eSG/tMuzpre6cwcMLZHEYM89xY02qcz7HL4//jc=</td>\n",
       "      <td>0</td>\n",
       "      <td>36</td>\n",
       "      <td>3</td>\n",
       "      <td>9</td>\n",
       "      <td>4.0</td>\n",
       "    </tr>\n",
       "    <tr>\n",
       "      <th>3</th>\n",
       "      <td>WZ59dLyrQcE7ft06MZ5dj40BnlYQY7PHgg/54+HaCSE=</td>\n",
       "      <td>0</td>\n",
       "      <td>1</td>\n",
       "      <td>15430</td>\n",
       "      <td>0</td>\n",
       "      <td>NaN</td>\n",
       "    </tr>\n",
       "    <tr>\n",
       "      <th>4</th>\n",
       "      <td>aky/Iv8hMp1/V/yQHLtaVuEmmAxkB5GuasQZePJ7NU4=</td>\n",
       "      <td>0</td>\n",
       "      <td>7</td>\n",
       "      <td>45</td>\n",
       "      <td>0</td>\n",
       "      <td>1.0</td>\n",
       "    </tr>\n",
       "  </tbody>\n",
       "</table>\n",
       "</div>"
      ],
      "text/plain": [
       "                                           msno  is_churn  \\\n",
       "0  4n+fXlyJvfQnTeKXTWT507Ll4JVYGrOC8LHCfwBmPE4=         0   \n",
       "1  aNmbC1GvFUxQyQUidCVmfbQ0YeCuwkPzEdQ0RwWyeZM=         0   \n",
       "2  rFC9eSG/tMuzpre6cwcMLZHEYM89xY02qcz7HL4//jc=         0   \n",
       "3  WZ59dLyrQcE7ft06MZ5dj40BnlYQY7PHgg/54+HaCSE=         0   \n",
       "4  aky/Iv8hMp1/V/yQHLtaVuEmmAxkB5GuasQZePJ7NU4=         0   \n",
       "\n",
       "   total_day_streaming  latest_days_streaming  days_streaming_1m_1st  \\\n",
       "0                    1                  15430                      0   \n",
       "1                  240                      1                     29   \n",
       "2                   36                      3                      9   \n",
       "3                    1                  15430                      0   \n",
       "4                    7                     45                      0   \n",
       "\n",
       "   days_streaming_1m_2nd  \n",
       "0                    NaN  \n",
       "1                    1.0  \n",
       "2                    4.0  \n",
       "3                    NaN  \n",
       "4                    1.0  "
      ]
     },
     "execution_count": 51,
     "metadata": {},
     "output_type": "execute_result"
    }
   ],
   "source": [
    "# 4. number of days stream within 1 month, the second month from cutoff date (20170228)\n",
    "number = train_logs[(train_logs['date_relative']>=31) & (train_logs['date_relative']<62)].groupby(by='msno')['date_relative'].apply(lambda x: x.shape[0])\n",
    "number_train = pd.DataFrame({'msno':number.index, 'days_streaming_1m_2nd':number.values})\n",
    "\n",
    "number = test_logs[(test_logs['date_relative']>=31) & (test_logs['date_relative']<62)].groupby(by='msno')['date_relative'].apply(lambda x: x.shape[0])\n",
    "number_test = pd.DataFrame({'msno':number.index, 'days_streaming_1m_2nd':number.values})\n",
    "\n",
    "data_train = pd.merge(data_train,number_train,on='msno',how='left')\n",
    "data_train.head()\n",
    "\n",
    "data_test = pd.merge(data_test,number_test,on='msno',how='left')\n",
    "data_test.head()"
   ]
  },
  {
   "cell_type": "code",
   "execution_count": 52,
   "metadata": {},
   "outputs": [],
   "source": [
    "data_train['days_streaming_1m_2nd'].fillna(0, inplace = True)\n",
    "data_test['days_streaming_1m_2nd'].fillna(0, inplace = True)"
   ]
  },
  {
   "cell_type": "code",
   "execution_count": 53,
   "metadata": {},
   "outputs": [],
   "source": [
    "data_train['days_streaming_1m_2nd']= data_train['days_streaming_1m_2nd'].astype(dtype= 'uint8')\n",
    "data_test['days_streaming_1m_2nd']= data_test['days_streaming_1m_2nd'].astype(dtype= 'uint8')"
   ]
  },
  {
   "cell_type": "code",
   "execution_count": 54,
   "metadata": {},
   "outputs": [],
   "source": [
    "# 5. trend in days streaming\n",
    "data_train['days_streaming_trend']= (data_train['days_streaming_1m_1st'] - data_train['days_streaming_1m_2nd'])/( data_train['days_streaming_1m_2nd'] + 0.001)\n",
    "\n",
    "data_test['days_streaming_trend']= (data_test['days_streaming_1m_1st'] - data_test['days_streaming_1m_2nd'])/( data_test['days_streaming_1m_2nd'] + 0.001)\n"
   ]
  },
  {
   "cell_type": "code",
   "execution_count": 55,
   "metadata": {},
   "outputs": [
    {
     "data": {
      "text/html": [
       "<div>\n",
       "<style scoped>\n",
       "    .dataframe tbody tr th:only-of-type {\n",
       "        vertical-align: middle;\n",
       "    }\n",
       "\n",
       "    .dataframe tbody tr th {\n",
       "        vertical-align: top;\n",
       "    }\n",
       "\n",
       "    .dataframe thead th {\n",
       "        text-align: right;\n",
       "    }\n",
       "</style>\n",
       "<table border=\"1\" class=\"dataframe\">\n",
       "  <thead>\n",
       "    <tr style=\"text-align: right;\">\n",
       "      <th></th>\n",
       "      <th>msno</th>\n",
       "      <th>is_churn</th>\n",
       "      <th>total_day_streaming</th>\n",
       "      <th>latest_days_streaming</th>\n",
       "      <th>days_streaming_1m_1st</th>\n",
       "      <th>days_streaming_1m_2nd</th>\n",
       "      <th>days_streaming_trend</th>\n",
       "    </tr>\n",
       "  </thead>\n",
       "  <tbody>\n",
       "    <tr>\n",
       "      <th>0</th>\n",
       "      <td>waLDQMmcOu2jLDaV1ddDkgCrB/jl6sD66Xzs0Vqax1Y=</td>\n",
       "      <td>1</td>\n",
       "      <td>5</td>\n",
       "      <td>3</td>\n",
       "      <td>5</td>\n",
       "      <td>0</td>\n",
       "      <td>5000.000000</td>\n",
       "    </tr>\n",
       "    <tr>\n",
       "      <th>1</th>\n",
       "      <td>QA7uiXy8vIbUSPOkCf9RwQ3FsT8jVq2OxDr8zqa7bRQ=</td>\n",
       "      <td>1</td>\n",
       "      <td>130</td>\n",
       "      <td>162</td>\n",
       "      <td>0</td>\n",
       "      <td>0</td>\n",
       "      <td>0.000000</td>\n",
       "    </tr>\n",
       "    <tr>\n",
       "      <th>2</th>\n",
       "      <td>fGwBva6hikQmTJzrbz/2Ezjm5Cth5jZUNvXigKK2AFA=</td>\n",
       "      <td>1</td>\n",
       "      <td>63</td>\n",
       "      <td>3</td>\n",
       "      <td>7</td>\n",
       "      <td>0</td>\n",
       "      <td>7000.000000</td>\n",
       "    </tr>\n",
       "    <tr>\n",
       "      <th>3</th>\n",
       "      <td>mT5V8rEpa+8wuqi6x0DoVd3H5icMKkE9Prt49UlmK+4=</td>\n",
       "      <td>1</td>\n",
       "      <td>190</td>\n",
       "      <td>7</td>\n",
       "      <td>13</td>\n",
       "      <td>0</td>\n",
       "      <td>13000.000000</td>\n",
       "    </tr>\n",
       "    <tr>\n",
       "      <th>4</th>\n",
       "      <td>XaPhtGLk/5UvvOYHcONTwsnH97P4eGECeq+BARGItRw=</td>\n",
       "      <td>1</td>\n",
       "      <td>186</td>\n",
       "      <td>46</td>\n",
       "      <td>0</td>\n",
       "      <td>12</td>\n",
       "      <td>20.331639</td>\n",
       "    </tr>\n",
       "  </tbody>\n",
       "</table>\n",
       "</div>"
      ],
      "text/plain": [
       "                                           msno  is_churn  \\\n",
       "0  waLDQMmcOu2jLDaV1ddDkgCrB/jl6sD66Xzs0Vqax1Y=         1   \n",
       "1  QA7uiXy8vIbUSPOkCf9RwQ3FsT8jVq2OxDr8zqa7bRQ=         1   \n",
       "2  fGwBva6hikQmTJzrbz/2Ezjm5Cth5jZUNvXigKK2AFA=         1   \n",
       "3  mT5V8rEpa+8wuqi6x0DoVd3H5icMKkE9Prt49UlmK+4=         1   \n",
       "4  XaPhtGLk/5UvvOYHcONTwsnH97P4eGECeq+BARGItRw=         1   \n",
       "\n",
       "   total_day_streaming  latest_days_streaming  days_streaming_1m_1st  \\\n",
       "0                    5                      3                      5   \n",
       "1                  130                    162                      0   \n",
       "2                   63                      3                      7   \n",
       "3                  190                      7                     13   \n",
       "4                  186                     46                      0   \n",
       "\n",
       "   days_streaming_1m_2nd  days_streaming_trend  \n",
       "0                      0           5000.000000  \n",
       "1                      0              0.000000  \n",
       "2                      0           7000.000000  \n",
       "3                      0          13000.000000  \n",
       "4                     12             20.331639  "
      ]
     },
     "execution_count": 55,
     "metadata": {},
     "output_type": "execute_result"
    }
   ],
   "source": [
    "data_train.head()"
   ]
  },
  {
   "cell_type": "code",
   "execution_count": 56,
   "metadata": {},
   "outputs": [],
   "source": [
    "# 6.  number of days stream within 3 month from cutoff date (20170228)\n",
    "\n",
    "number = train_logs[(train_logs['date_relative']>=0) & (train_logs['date_relative']<92)].groupby(by='msno')['date_relative'].apply(lambda x: x.shape[0])\n",
    "number_train = pd.DataFrame({'msno':number.index, 'days_streaming_3m':number.values})\n",
    "\n",
    "number = test_logs[(test_logs['date_relative']>=0) & (test_logs['date_relative']<92)].groupby(by='msno')['date_relative'].apply(lambda x: x.shape[0])\n",
    "number_test = pd.DataFrame({'msno':number.index, 'days_streaming_3m':number.values})\n",
    "\n"
   ]
  },
  {
   "cell_type": "code",
   "execution_count": 57,
   "metadata": {},
   "outputs": [
    {
     "data": {
      "text/html": [
       "<div>\n",
       "<style scoped>\n",
       "    .dataframe tbody tr th:only-of-type {\n",
       "        vertical-align: middle;\n",
       "    }\n",
       "\n",
       "    .dataframe tbody tr th {\n",
       "        vertical-align: top;\n",
       "    }\n",
       "\n",
       "    .dataframe thead th {\n",
       "        text-align: right;\n",
       "    }\n",
       "</style>\n",
       "<table border=\"1\" class=\"dataframe\">\n",
       "  <thead>\n",
       "    <tr style=\"text-align: right;\">\n",
       "      <th></th>\n",
       "      <th>msno</th>\n",
       "      <th>is_churn</th>\n",
       "      <th>total_day_streaming</th>\n",
       "      <th>latest_days_streaming</th>\n",
       "      <th>days_streaming_1m_1st</th>\n",
       "      <th>days_streaming_1m_2nd</th>\n",
       "      <th>days_streaming_trend</th>\n",
       "      <th>days_streaming_3m</th>\n",
       "    </tr>\n",
       "  </thead>\n",
       "  <tbody>\n",
       "    <tr>\n",
       "      <th>0</th>\n",
       "      <td>waLDQMmcOu2jLDaV1ddDkgCrB/jl6sD66Xzs0Vqax1Y=</td>\n",
       "      <td>1</td>\n",
       "      <td>5</td>\n",
       "      <td>3</td>\n",
       "      <td>5</td>\n",
       "      <td>0</td>\n",
       "      <td>5000.000000</td>\n",
       "      <td>5.0</td>\n",
       "    </tr>\n",
       "    <tr>\n",
       "      <th>1</th>\n",
       "      <td>QA7uiXy8vIbUSPOkCf9RwQ3FsT8jVq2OxDr8zqa7bRQ=</td>\n",
       "      <td>1</td>\n",
       "      <td>130</td>\n",
       "      <td>162</td>\n",
       "      <td>0</td>\n",
       "      <td>0</td>\n",
       "      <td>0.000000</td>\n",
       "      <td>NaN</td>\n",
       "    </tr>\n",
       "    <tr>\n",
       "      <th>2</th>\n",
       "      <td>fGwBva6hikQmTJzrbz/2Ezjm5Cth5jZUNvXigKK2AFA=</td>\n",
       "      <td>1</td>\n",
       "      <td>63</td>\n",
       "      <td>3</td>\n",
       "      <td>7</td>\n",
       "      <td>0</td>\n",
       "      <td>7000.000000</td>\n",
       "      <td>7.0</td>\n",
       "    </tr>\n",
       "    <tr>\n",
       "      <th>3</th>\n",
       "      <td>mT5V8rEpa+8wuqi6x0DoVd3H5icMKkE9Prt49UlmK+4=</td>\n",
       "      <td>1</td>\n",
       "      <td>190</td>\n",
       "      <td>7</td>\n",
       "      <td>13</td>\n",
       "      <td>0</td>\n",
       "      <td>13000.000000</td>\n",
       "      <td>26.0</td>\n",
       "    </tr>\n",
       "    <tr>\n",
       "      <th>4</th>\n",
       "      <td>XaPhtGLk/5UvvOYHcONTwsnH97P4eGECeq+BARGItRw=</td>\n",
       "      <td>1</td>\n",
       "      <td>186</td>\n",
       "      <td>46</td>\n",
       "      <td>0</td>\n",
       "      <td>12</td>\n",
       "      <td>20.331639</td>\n",
       "      <td>13.0</td>\n",
       "    </tr>\n",
       "  </tbody>\n",
       "</table>\n",
       "</div>"
      ],
      "text/plain": [
       "                                           msno  is_churn  \\\n",
       "0  waLDQMmcOu2jLDaV1ddDkgCrB/jl6sD66Xzs0Vqax1Y=         1   \n",
       "1  QA7uiXy8vIbUSPOkCf9RwQ3FsT8jVq2OxDr8zqa7bRQ=         1   \n",
       "2  fGwBva6hikQmTJzrbz/2Ezjm5Cth5jZUNvXigKK2AFA=         1   \n",
       "3  mT5V8rEpa+8wuqi6x0DoVd3H5icMKkE9Prt49UlmK+4=         1   \n",
       "4  XaPhtGLk/5UvvOYHcONTwsnH97P4eGECeq+BARGItRw=         1   \n",
       "\n",
       "   total_day_streaming  latest_days_streaming  days_streaming_1m_1st  \\\n",
       "0                    5                      3                      5   \n",
       "1                  130                    162                      0   \n",
       "2                   63                      3                      7   \n",
       "3                  190                      7                     13   \n",
       "4                  186                     46                      0   \n",
       "\n",
       "   days_streaming_1m_2nd  days_streaming_trend  days_streaming_3m  \n",
       "0                      0           5000.000000                5.0  \n",
       "1                      0              0.000000                NaN  \n",
       "2                      0           7000.000000                7.0  \n",
       "3                      0          13000.000000               26.0  \n",
       "4                     12             20.331639               13.0  "
      ]
     },
     "execution_count": 57,
     "metadata": {},
     "output_type": "execute_result"
    }
   ],
   "source": [
    "data_train = pd.merge(data_train,number_train,on='msno',how='left')\n",
    "data_train.head()"
   ]
  },
  {
   "cell_type": "code",
   "execution_count": 58,
   "metadata": {},
   "outputs": [
    {
     "data": {
      "text/html": [
       "<div>\n",
       "<style scoped>\n",
       "    .dataframe tbody tr th:only-of-type {\n",
       "        vertical-align: middle;\n",
       "    }\n",
       "\n",
       "    .dataframe tbody tr th {\n",
       "        vertical-align: top;\n",
       "    }\n",
       "\n",
       "    .dataframe thead th {\n",
       "        text-align: right;\n",
       "    }\n",
       "</style>\n",
       "<table border=\"1\" class=\"dataframe\">\n",
       "  <thead>\n",
       "    <tr style=\"text-align: right;\">\n",
       "      <th></th>\n",
       "      <th>msno</th>\n",
       "      <th>is_churn</th>\n",
       "      <th>total_day_streaming</th>\n",
       "      <th>latest_days_streaming</th>\n",
       "      <th>days_streaming_1m_1st</th>\n",
       "      <th>days_streaming_1m_2nd</th>\n",
       "      <th>days_streaming_trend</th>\n",
       "      <th>days_streaming_3m</th>\n",
       "    </tr>\n",
       "  </thead>\n",
       "  <tbody>\n",
       "    <tr>\n",
       "      <th>0</th>\n",
       "      <td>4n+fXlyJvfQnTeKXTWT507Ll4JVYGrOC8LHCfwBmPE4=</td>\n",
       "      <td>0</td>\n",
       "      <td>1</td>\n",
       "      <td>15430</td>\n",
       "      <td>0</td>\n",
       "      <td>0</td>\n",
       "      <td>0.000000</td>\n",
       "      <td>NaN</td>\n",
       "    </tr>\n",
       "    <tr>\n",
       "      <th>1</th>\n",
       "      <td>aNmbC1GvFUxQyQUidCVmfbQ0YeCuwkPzEdQ0RwWyeZM=</td>\n",
       "      <td>0</td>\n",
       "      <td>240</td>\n",
       "      <td>1</td>\n",
       "      <td>29</td>\n",
       "      <td>1</td>\n",
       "      <td>27.972028</td>\n",
       "      <td>44.0</td>\n",
       "    </tr>\n",
       "    <tr>\n",
       "      <th>2</th>\n",
       "      <td>rFC9eSG/tMuzpre6cwcMLZHEYM89xY02qcz7HL4//jc=</td>\n",
       "      <td>0</td>\n",
       "      <td>36</td>\n",
       "      <td>3</td>\n",
       "      <td>9</td>\n",
       "      <td>4</td>\n",
       "      <td>1.249688</td>\n",
       "      <td>24.0</td>\n",
       "    </tr>\n",
       "    <tr>\n",
       "      <th>3</th>\n",
       "      <td>WZ59dLyrQcE7ft06MZ5dj40BnlYQY7PHgg/54+HaCSE=</td>\n",
       "      <td>0</td>\n",
       "      <td>1</td>\n",
       "      <td>15430</td>\n",
       "      <td>0</td>\n",
       "      <td>0</td>\n",
       "      <td>0.000000</td>\n",
       "      <td>NaN</td>\n",
       "    </tr>\n",
       "    <tr>\n",
       "      <th>4</th>\n",
       "      <td>aky/Iv8hMp1/V/yQHLtaVuEmmAxkB5GuasQZePJ7NU4=</td>\n",
       "      <td>0</td>\n",
       "      <td>7</td>\n",
       "      <td>45</td>\n",
       "      <td>0</td>\n",
       "      <td>1</td>\n",
       "      <td>254.745255</td>\n",
       "      <td>7.0</td>\n",
       "    </tr>\n",
       "  </tbody>\n",
       "</table>\n",
       "</div>"
      ],
      "text/plain": [
       "                                           msno  is_churn  \\\n",
       "0  4n+fXlyJvfQnTeKXTWT507Ll4JVYGrOC8LHCfwBmPE4=         0   \n",
       "1  aNmbC1GvFUxQyQUidCVmfbQ0YeCuwkPzEdQ0RwWyeZM=         0   \n",
       "2  rFC9eSG/tMuzpre6cwcMLZHEYM89xY02qcz7HL4//jc=         0   \n",
       "3  WZ59dLyrQcE7ft06MZ5dj40BnlYQY7PHgg/54+HaCSE=         0   \n",
       "4  aky/Iv8hMp1/V/yQHLtaVuEmmAxkB5GuasQZePJ7NU4=         0   \n",
       "\n",
       "   total_day_streaming  latest_days_streaming  days_streaming_1m_1st  \\\n",
       "0                    1                  15430                      0   \n",
       "1                  240                      1                     29   \n",
       "2                   36                      3                      9   \n",
       "3                    1                  15430                      0   \n",
       "4                    7                     45                      0   \n",
       "\n",
       "   days_streaming_1m_2nd  days_streaming_trend  days_streaming_3m  \n",
       "0                      0              0.000000                NaN  \n",
       "1                      1             27.972028               44.0  \n",
       "2                      4              1.249688               24.0  \n",
       "3                      0              0.000000                NaN  \n",
       "4                      1            254.745255                7.0  "
      ]
     },
     "execution_count": 58,
     "metadata": {},
     "output_type": "execute_result"
    }
   ],
   "source": [
    "data_test = pd.merge(data_test,number_test,on='msno',how='left')\n",
    "data_test.head()"
   ]
  },
  {
   "cell_type": "code",
   "execution_count": 59,
   "metadata": {},
   "outputs": [],
   "source": [
    "data_train['days_streaming_3m'].fillna(0, inplace = True)\n",
    "data_test['days_streaming_3m'].fillna(0, inplace = True)"
   ]
  },
  {
   "cell_type": "code",
   "execution_count": 60,
   "metadata": {},
   "outputs": [],
   "source": [
    "data_train['days_streaming_3m']= data_train['days_streaming_3m'].astype(dtype= 'uint8')\n",
    "data_test['days_streaming_3m']= data_test['days_streaming_3m'].astype(dtype= 'uint8')"
   ]
  },
  {
   "cell_type": "code",
   "execution_count": 61,
   "metadata": {},
   "outputs": [
    {
     "name": "stderr",
     "output_type": "stream",
     "text": [
      "C:\\Users\\kartik\\AppData\\Local\\conda\\conda\\envs\\kaggle\\lib\\site-packages\\matplotlib\\axes\\_axes.py:6462: UserWarning: The 'normed' kwarg is deprecated, and has been replaced by the 'density' kwarg.\n",
      "  warnings.warn(\"The 'normed' kwarg is deprecated, and has been \"\n",
      "C:\\Users\\kartik\\AppData\\Local\\conda\\conda\\envs\\kaggle\\lib\\site-packages\\matplotlib\\axes\\_axes.py:6462: UserWarning: The 'normed' kwarg is deprecated, and has been replaced by the 'density' kwarg.\n",
      "  warnings.warn(\"The 'normed' kwarg is deprecated, and has been \"\n"
     ]
    },
    {
     "data": {
      "text/plain": [
       "<matplotlib.axes._subplots.AxesSubplot at 0x109f16dd8>"
      ]
     },
     "execution_count": 61,
     "metadata": {},
     "output_type": "execute_result"
    },
    {
     "data": {
      "image/png": "[encoded data removed]",
      "text/plain": [
       "<Figure size 576x432 with 1 Axes>"
      ]
     },
     "metadata": {},
     "output_type": "display_data"
    }
   ],
   "source": [
    "fig = plt.figure(figsize=(8,6))\n",
    "ax1 = fig.add_subplot(111)\n",
    "\n",
    "\n",
    "sns.distplot(data_train[data_train['is_churn']==0]['days_streaming_3m'], kde = False, color = 'g', ax=ax1)\n",
    "sns.distplot(data_train[data_train['is_churn']==1]['days_streaming_3m'], kde = False, color = 'r', ax=ax1)\n"
   ]
  },
  {
   "cell_type": "code",
   "execution_count": 62,
   "metadata": {},
   "outputs": [],
   "source": [
    "# 7. number of days stream within 6 month from cutoff date \n",
    "\n",
    "number = train_logs[(train_logs['date_relative']>=0) & (train_logs['date_relative']<183)].groupby(by='msno')['date_relative'].apply(lambda x: x.shape[0])\n",
    "number_train = pd.DataFrame({'msno':number.index, 'days_streaming_6m':number.values})\n",
    "\n",
    "number = test_logs[(test_logs['date_relative']>=0) & (test_logs['date_relative']<183)].groupby(by='msno')['date_relative'].apply(lambda x: x.shape[0])\n",
    "number_test = pd.DataFrame({'msno':number.index, 'days_streaming_6m':number.values})\n",
    "\n"
   ]
  },
  {
   "cell_type": "code",
   "execution_count": 63,
   "metadata": {},
   "outputs": [
    {
     "data": {
      "text/html": [
       "<div>\n",
       "<style scoped>\n",
       "    .dataframe tbody tr th:only-of-type {\n",
       "        vertical-align: middle;\n",
       "    }\n",
       "\n",
       "    .dataframe tbody tr th {\n",
       "        vertical-align: top;\n",
       "    }\n",
       "\n",
       "    .dataframe thead th {\n",
       "        text-align: right;\n",
       "    }\n",
       "</style>\n",
       "<table border=\"1\" class=\"dataframe\">\n",
       "  <thead>\n",
       "    <tr style=\"text-align: right;\">\n",
       "      <th></th>\n",
       "      <th>msno</th>\n",
       "      <th>is_churn</th>\n",
       "      <th>total_day_streaming</th>\n",
       "      <th>latest_days_streaming</th>\n",
       "      <th>days_streaming_1m_1st</th>\n",
       "      <th>days_streaming_1m_2nd</th>\n",
       "      <th>days_streaming_trend</th>\n",
       "      <th>days_streaming_3m</th>\n",
       "      <th>days_streaming_6m</th>\n",
       "    </tr>\n",
       "  </thead>\n",
       "  <tbody>\n",
       "    <tr>\n",
       "      <th>0</th>\n",
       "      <td>waLDQMmcOu2jLDaV1ddDkgCrB/jl6sD66Xzs0Vqax1Y=</td>\n",
       "      <td>1</td>\n",
       "      <td>5</td>\n",
       "      <td>3</td>\n",
       "      <td>5</td>\n",
       "      <td>0</td>\n",
       "      <td>5000.000000</td>\n",
       "      <td>5</td>\n",
       "      <td>5.0</td>\n",
       "    </tr>\n",
       "    <tr>\n",
       "      <th>1</th>\n",
       "      <td>QA7uiXy8vIbUSPOkCf9RwQ3FsT8jVq2OxDr8zqa7bRQ=</td>\n",
       "      <td>1</td>\n",
       "      <td>130</td>\n",
       "      <td>162</td>\n",
       "      <td>0</td>\n",
       "      <td>0</td>\n",
       "      <td>0.000000</td>\n",
       "      <td>0</td>\n",
       "      <td>13.0</td>\n",
       "    </tr>\n",
       "    <tr>\n",
       "      <th>2</th>\n",
       "      <td>fGwBva6hikQmTJzrbz/2Ezjm5Cth5jZUNvXigKK2AFA=</td>\n",
       "      <td>1</td>\n",
       "      <td>63</td>\n",
       "      <td>3</td>\n",
       "      <td>7</td>\n",
       "      <td>0</td>\n",
       "      <td>7000.000000</td>\n",
       "      <td>7</td>\n",
       "      <td>21.0</td>\n",
       "    </tr>\n",
       "    <tr>\n",
       "      <th>3</th>\n",
       "      <td>mT5V8rEpa+8wuqi6x0DoVd3H5icMKkE9Prt49UlmK+4=</td>\n",
       "      <td>1</td>\n",
       "      <td>190</td>\n",
       "      <td>7</td>\n",
       "      <td>13</td>\n",
       "      <td>0</td>\n",
       "      <td>13000.000000</td>\n",
       "      <td>26</td>\n",
       "      <td>41.0</td>\n",
       "    </tr>\n",
       "    <tr>\n",
       "      <th>4</th>\n",
       "      <td>XaPhtGLk/5UvvOYHcONTwsnH97P4eGECeq+BARGItRw=</td>\n",
       "      <td>1</td>\n",
       "      <td>186</td>\n",
       "      <td>46</td>\n",
       "      <td>0</td>\n",
       "      <td>12</td>\n",
       "      <td>20.331639</td>\n",
       "      <td>13</td>\n",
       "      <td>39.0</td>\n",
       "    </tr>\n",
       "  </tbody>\n",
       "</table>\n",
       "</div>"
      ],
      "text/plain": [
       "                                           msno  is_churn  \\\n",
       "0  waLDQMmcOu2jLDaV1ddDkgCrB/jl6sD66Xzs0Vqax1Y=         1   \n",
       "1  QA7uiXy8vIbUSPOkCf9RwQ3FsT8jVq2OxDr8zqa7bRQ=         1   \n",
       "2  fGwBva6hikQmTJzrbz/2Ezjm5Cth5jZUNvXigKK2AFA=         1   \n",
       "3  mT5V8rEpa+8wuqi6x0DoVd3H5icMKkE9Prt49UlmK+4=         1   \n",
       "4  XaPhtGLk/5UvvOYHcONTwsnH97P4eGECeq+BARGItRw=         1   \n",
       "\n",
       "   total_day_streaming  latest_days_streaming  days_streaming_1m_1st  \\\n",
       "0                    5                      3                      5   \n",
       "1                  130                    162                      0   \n",
       "2                   63                      3                      7   \n",
       "3                  190                      7                     13   \n",
       "4                  186                     46                      0   \n",
       "\n",
       "   days_streaming_1m_2nd  days_streaming_trend  days_streaming_3m  \\\n",
       "0                      0           5000.000000                  5   \n",
       "1                      0              0.000000                  0   \n",
       "2                      0           7000.000000                  7   \n",
       "3                      0          13000.000000                 26   \n",
       "4                     12             20.331639                 13   \n",
       "\n",
       "   days_streaming_6m  \n",
       "0                5.0  \n",
       "1               13.0  \n",
       "2               21.0  \n",
       "3               41.0  \n",
       "4               39.0  "
      ]
     },
     "execution_count": 63,
     "metadata": {},
     "output_type": "execute_result"
    }
   ],
   "source": [
    "data_train = pd.merge(data_train,number_train,on='msno',how='left')\n",
    "data_train.head()"
   ]
  },
  {
   "cell_type": "code",
   "execution_count": 64,
   "metadata": {},
   "outputs": [
    {
     "data": {
      "text/html": [
       "<div>\n",
       "<style scoped>\n",
       "    .dataframe tbody tr th:only-of-type {\n",
       "        vertical-align: middle;\n",
       "    }\n",
       "\n",
       "    .dataframe tbody tr th {\n",
       "        vertical-align: top;\n",
       "    }\n",
       "\n",
       "    .dataframe thead th {\n",
       "        text-align: right;\n",
       "    }\n",
       "</style>\n",
       "<table border=\"1\" class=\"dataframe\">\n",
       "  <thead>\n",
       "    <tr style=\"text-align: right;\">\n",
       "      <th></th>\n",
       "      <th>msno</th>\n",
       "      <th>is_churn</th>\n",
       "      <th>total_day_streaming</th>\n",
       "      <th>latest_days_streaming</th>\n",
       "      <th>days_streaming_1m_1st</th>\n",
       "      <th>days_streaming_1m_2nd</th>\n",
       "      <th>days_streaming_trend</th>\n",
       "      <th>days_streaming_3m</th>\n",
       "      <th>days_streaming_6m</th>\n",
       "    </tr>\n",
       "  </thead>\n",
       "  <tbody>\n",
       "    <tr>\n",
       "      <th>0</th>\n",
       "      <td>4n+fXlyJvfQnTeKXTWT507Ll4JVYGrOC8LHCfwBmPE4=</td>\n",
       "      <td>0</td>\n",
       "      <td>1</td>\n",
       "      <td>15430</td>\n",
       "      <td>0</td>\n",
       "      <td>0</td>\n",
       "      <td>0.000000</td>\n",
       "      <td>0</td>\n",
       "      <td>NaN</td>\n",
       "    </tr>\n",
       "    <tr>\n",
       "      <th>1</th>\n",
       "      <td>aNmbC1GvFUxQyQUidCVmfbQ0YeCuwkPzEdQ0RwWyeZM=</td>\n",
       "      <td>0</td>\n",
       "      <td>240</td>\n",
       "      <td>1</td>\n",
       "      <td>29</td>\n",
       "      <td>1</td>\n",
       "      <td>27.972028</td>\n",
       "      <td>44</td>\n",
       "      <td>71.0</td>\n",
       "    </tr>\n",
       "    <tr>\n",
       "      <th>2</th>\n",
       "      <td>rFC9eSG/tMuzpre6cwcMLZHEYM89xY02qcz7HL4//jc=</td>\n",
       "      <td>0</td>\n",
       "      <td>36</td>\n",
       "      <td>3</td>\n",
       "      <td>9</td>\n",
       "      <td>4</td>\n",
       "      <td>1.249688</td>\n",
       "      <td>24</td>\n",
       "      <td>24.0</td>\n",
       "    </tr>\n",
       "    <tr>\n",
       "      <th>3</th>\n",
       "      <td>WZ59dLyrQcE7ft06MZ5dj40BnlYQY7PHgg/54+HaCSE=</td>\n",
       "      <td>0</td>\n",
       "      <td>1</td>\n",
       "      <td>15430</td>\n",
       "      <td>0</td>\n",
       "      <td>0</td>\n",
       "      <td>0.000000</td>\n",
       "      <td>0</td>\n",
       "      <td>NaN</td>\n",
       "    </tr>\n",
       "    <tr>\n",
       "      <th>4</th>\n",
       "      <td>aky/Iv8hMp1/V/yQHLtaVuEmmAxkB5GuasQZePJ7NU4=</td>\n",
       "      <td>0</td>\n",
       "      <td>7</td>\n",
       "      <td>45</td>\n",
       "      <td>0</td>\n",
       "      <td>1</td>\n",
       "      <td>254.745255</td>\n",
       "      <td>7</td>\n",
       "      <td>7.0</td>\n",
       "    </tr>\n",
       "  </tbody>\n",
       "</table>\n",
       "</div>"
      ],
      "text/plain": [
       "                                           msno  is_churn  \\\n",
       "0  4n+fXlyJvfQnTeKXTWT507Ll4JVYGrOC8LHCfwBmPE4=         0   \n",
       "1  aNmbC1GvFUxQyQUidCVmfbQ0YeCuwkPzEdQ0RwWyeZM=         0   \n",
       "2  rFC9eSG/tMuzpre6cwcMLZHEYM89xY02qcz7HL4//jc=         0   \n",
       "3  WZ59dLyrQcE7ft06MZ5dj40BnlYQY7PHgg/54+HaCSE=         0   \n",
       "4  aky/Iv8hMp1/V/yQHLtaVuEmmAxkB5GuasQZePJ7NU4=         0   \n",
       "\n",
       "   total_day_streaming  latest_days_streaming  days_streaming_1m_1st  \\\n",
       "0                    1                  15430                      0   \n",
       "1                  240                      1                     29   \n",
       "2                   36                      3                      9   \n",
       "3                    1                  15430                      0   \n",
       "4                    7                     45                      0   \n",
       "\n",
       "   days_streaming_1m_2nd  days_streaming_trend  days_streaming_3m  \\\n",
       "0                      0              0.000000                  0   \n",
       "1                      1             27.972028                 44   \n",
       "2                      4              1.249688                 24   \n",
       "3                      0              0.000000                  0   \n",
       "4                      1            254.745255                  7   \n",
       "\n",
       "   days_streaming_6m  \n",
       "0                NaN  \n",
       "1               71.0  \n",
       "2               24.0  \n",
       "3                NaN  \n",
       "4                7.0  "
      ]
     },
     "execution_count": 64,
     "metadata": {},
     "output_type": "execute_result"
    }
   ],
   "source": [
    "data_test = pd.merge(data_test,number_test,on='msno',how='left')\n",
    "data_test.head()"
   ]
  },
  {
   "cell_type": "code",
   "execution_count": 65,
   "metadata": {},
   "outputs": [],
   "source": [
    "data_train['days_streaming_6m'].fillna(0, inplace = True)\n",
    "data_test['days_streaming_6m'].fillna(0, inplace = True)"
   ]
  },
  {
   "cell_type": "code",
   "execution_count": 66,
   "metadata": {},
   "outputs": [],
   "source": [
    "data_train['days_streaming_6m']= data_train['days_streaming_6m'].astype(dtype= 'uint8')\n",
    "data_test['days_streaming_6m']= data_test['days_streaming_6m'].astype(dtype= 'uint8')"
   ]
  },
  {
   "cell_type": "code",
   "execution_count": 67,
   "metadata": {},
   "outputs": [
    {
     "name": "stderr",
     "output_type": "stream",
     "text": [
      "C:\\Users\\kartik\\AppData\\Local\\conda\\conda\\envs\\kaggle\\lib\\site-packages\\matplotlib\\axes\\_axes.py:6462: UserWarning: The 'normed' kwarg is deprecated, and has been replaced by the 'density' kwarg.\n",
      "  warnings.warn(\"The 'normed' kwarg is deprecated, and has been \"\n",
      "C:\\Users\\kartik\\AppData\\Local\\conda\\conda\\envs\\kaggle\\lib\\site-packages\\matplotlib\\axes\\_axes.py:6462: UserWarning: The 'normed' kwarg is deprecated, and has been replaced by the 'density' kwarg.\n",
      "  warnings.warn(\"The 'normed' kwarg is deprecated, and has been \"\n"
     ]
    },
    {
     "data": {
      "text/plain": [
       "<matplotlib.axes._subplots.AxesSubplot at 0x109f16cf8>"
      ]
     },
     "execution_count": 67,
     "metadata": {},
     "output_type": "execute_result"
    },
    {
     "data": {
      "image/png": "[encoded data removed]",
      "text/plain": [
       "<Figure size 576x432 with 1 Axes>"
      ]
     },
     "metadata": {},
     "output_type": "display_data"
    }
   ],
   "source": [
    "fig = plt.figure(figsize=(8,6))\n",
    "ax1 = fig.add_subplot(111)\n",
    "\n",
    "\n",
    "sns.distplot(data_train[data_train['is_churn']==0]['days_streaming_6m'], kde = False, color = 'g', ax=ax1)\n",
    "sns.distplot(data_train[data_train['is_churn']==1]['days_streaming_6m'], kde = False, color = 'r', ax=ax1)"
   ]
  },
  {
   "cell_type": "code",
   "execution_count": 68,
   "metadata": {},
   "outputs": [],
   "source": [
    "# 8. number of days stream within 12 month from cutoff date \n",
    "\n",
    "number = train_logs[(train_logs['date_relative']>=0) & (train_logs['date_relative']<366)].groupby(by='msno')['date_relative'].apply(lambda x: x.shape[0])\n",
    "number_train = pd.DataFrame({'msno':number.index, 'days_streaming_12m':number.values})\n",
    "\n",
    "number = test_logs[(test_logs['date_relative']>=0) & (test_logs['date_relative']<366)].groupby(by='msno')['date_relative'].apply(lambda x: x.shape[0])\n",
    "number_test = pd.DataFrame({'msno':number.index, 'days_streaming_12m':number.values})"
   ]
  },
  {
   "cell_type": "code",
   "execution_count": 69,
   "metadata": {},
   "outputs": [
    {
     "data": {
      "text/html": [
       "<div>\n",
       "<style scoped>\n",
       "    .dataframe tbody tr th:only-of-type {\n",
       "        vertical-align: middle;\n",
       "    }\n",
       "\n",
       "    .dataframe tbody tr th {\n",
       "        vertical-align: top;\n",
       "    }\n",
       "\n",
       "    .dataframe thead th {\n",
       "        text-align: right;\n",
       "    }\n",
       "</style>\n",
       "<table border=\"1\" class=\"dataframe\">\n",
       "  <thead>\n",
       "    <tr style=\"text-align: right;\">\n",
       "      <th></th>\n",
       "      <th>msno</th>\n",
       "      <th>is_churn</th>\n",
       "      <th>total_day_streaming</th>\n",
       "      <th>latest_days_streaming</th>\n",
       "      <th>days_streaming_1m_1st</th>\n",
       "      <th>days_streaming_1m_2nd</th>\n",
       "      <th>days_streaming_trend</th>\n",
       "      <th>days_streaming_3m</th>\n",
       "      <th>days_streaming_6m</th>\n",
       "      <th>days_streaming_12m</th>\n",
       "    </tr>\n",
       "  </thead>\n",
       "  <tbody>\n",
       "    <tr>\n",
       "      <th>0</th>\n",
       "      <td>waLDQMmcOu2jLDaV1ddDkgCrB/jl6sD66Xzs0Vqax1Y=</td>\n",
       "      <td>1</td>\n",
       "      <td>5</td>\n",
       "      <td>3</td>\n",
       "      <td>5</td>\n",
       "      <td>0</td>\n",
       "      <td>5000.000000</td>\n",
       "      <td>5</td>\n",
       "      <td>5</td>\n",
       "      <td>5.0</td>\n",
       "    </tr>\n",
       "    <tr>\n",
       "      <th>1</th>\n",
       "      <td>QA7uiXy8vIbUSPOkCf9RwQ3FsT8jVq2OxDr8zqa7bRQ=</td>\n",
       "      <td>1</td>\n",
       "      <td>130</td>\n",
       "      <td>162</td>\n",
       "      <td>0</td>\n",
       "      <td>0</td>\n",
       "      <td>0.000000</td>\n",
       "      <td>0</td>\n",
       "      <td>13</td>\n",
       "      <td>39.0</td>\n",
       "    </tr>\n",
       "    <tr>\n",
       "      <th>2</th>\n",
       "      <td>fGwBva6hikQmTJzrbz/2Ezjm5Cth5jZUNvXigKK2AFA=</td>\n",
       "      <td>1</td>\n",
       "      <td>63</td>\n",
       "      <td>3</td>\n",
       "      <td>7</td>\n",
       "      <td>0</td>\n",
       "      <td>7000.000000</td>\n",
       "      <td>7</td>\n",
       "      <td>21</td>\n",
       "      <td>63.0</td>\n",
       "    </tr>\n",
       "    <tr>\n",
       "      <th>3</th>\n",
       "      <td>mT5V8rEpa+8wuqi6x0DoVd3H5icMKkE9Prt49UlmK+4=</td>\n",
       "      <td>1</td>\n",
       "      <td>190</td>\n",
       "      <td>7</td>\n",
       "      <td>13</td>\n",
       "      <td>0</td>\n",
       "      <td>13000.000000</td>\n",
       "      <td>26</td>\n",
       "      <td>41</td>\n",
       "      <td>91.0</td>\n",
       "    </tr>\n",
       "    <tr>\n",
       "      <th>4</th>\n",
       "      <td>XaPhtGLk/5UvvOYHcONTwsnH97P4eGECeq+BARGItRw=</td>\n",
       "      <td>1</td>\n",
       "      <td>186</td>\n",
       "      <td>46</td>\n",
       "      <td>0</td>\n",
       "      <td>12</td>\n",
       "      <td>20.331639</td>\n",
       "      <td>13</td>\n",
       "      <td>39</td>\n",
       "      <td>91.0</td>\n",
       "    </tr>\n",
       "  </tbody>\n",
       "</table>\n",
       "</div>"
      ],
      "text/plain": [
       "                                           msno  is_churn  \\\n",
       "0  waLDQMmcOu2jLDaV1ddDkgCrB/jl6sD66Xzs0Vqax1Y=         1   \n",
       "1  QA7uiXy8vIbUSPOkCf9RwQ3FsT8jVq2OxDr8zqa7bRQ=         1   \n",
       "2  fGwBva6hikQmTJzrbz/2Ezjm5Cth5jZUNvXigKK2AFA=         1   \n",
       "3  mT5V8rEpa+8wuqi6x0DoVd3H5icMKkE9Prt49UlmK+4=         1   \n",
       "4  XaPhtGLk/5UvvOYHcONTwsnH97P4eGECeq+BARGItRw=         1   \n",
       "\n",
       "   total_day_streaming  latest_days_streaming  days_streaming_1m_1st  \\\n",
       "0                    5                      3                      5   \n",
       "1                  130                    162                      0   \n",
       "2                   63                      3                      7   \n",
       "3                  190                      7                     13   \n",
       "4                  186                     46                      0   \n",
       "\n",
       "   days_streaming_1m_2nd  days_streaming_trend  days_streaming_3m  \\\n",
       "0                      0           5000.000000                  5   \n",
       "1                      0              0.000000                  0   \n",
       "2                      0           7000.000000                  7   \n",
       "3                      0          13000.000000                 26   \n",
       "4                     12             20.331639                 13   \n",
       "\n",
       "   days_streaming_6m  days_streaming_12m  \n",
       "0                  5                 5.0  \n",
       "1                 13                39.0  \n",
       "2                 21                63.0  \n",
       "3                 41                91.0  \n",
       "4                 39                91.0  "
      ]
     },
     "execution_count": 69,
     "metadata": {},
     "output_type": "execute_result"
    }
   ],
   "source": [
    "data_train = pd.merge(data_train,number_train,on='msno',how='left')\n",
    "data_train.head()"
   ]
  },
  {
   "cell_type": "code",
   "execution_count": 70,
   "metadata": {},
   "outputs": [
    {
     "data": {
      "text/html": [
       "<div>\n",
       "<style scoped>\n",
       "    .dataframe tbody tr th:only-of-type {\n",
       "        vertical-align: middle;\n",
       "    }\n",
       "\n",
       "    .dataframe tbody tr th {\n",
       "        vertical-align: top;\n",
       "    }\n",
       "\n",
       "    .dataframe thead th {\n",
       "        text-align: right;\n",
       "    }\n",
       "</style>\n",
       "<table border=\"1\" class=\"dataframe\">\n",
       "  <thead>\n",
       "    <tr style=\"text-align: right;\">\n",
       "      <th></th>\n",
       "      <th>msno</th>\n",
       "      <th>is_churn</th>\n",
       "      <th>total_day_streaming</th>\n",
       "      <th>latest_days_streaming</th>\n",
       "      <th>days_streaming_1m_1st</th>\n",
       "      <th>days_streaming_1m_2nd</th>\n",
       "      <th>days_streaming_trend</th>\n",
       "      <th>days_streaming_3m</th>\n",
       "      <th>days_streaming_6m</th>\n",
       "      <th>days_streaming_12m</th>\n",
       "    </tr>\n",
       "  </thead>\n",
       "  <tbody>\n",
       "    <tr>\n",
       "      <th>0</th>\n",
       "      <td>4n+fXlyJvfQnTeKXTWT507Ll4JVYGrOC8LHCfwBmPE4=</td>\n",
       "      <td>0</td>\n",
       "      <td>1</td>\n",
       "      <td>15430</td>\n",
       "      <td>0</td>\n",
       "      <td>0</td>\n",
       "      <td>0.000000</td>\n",
       "      <td>0</td>\n",
       "      <td>0</td>\n",
       "      <td>NaN</td>\n",
       "    </tr>\n",
       "    <tr>\n",
       "      <th>1</th>\n",
       "      <td>aNmbC1GvFUxQyQUidCVmfbQ0YeCuwkPzEdQ0RwWyeZM=</td>\n",
       "      <td>0</td>\n",
       "      <td>240</td>\n",
       "      <td>1</td>\n",
       "      <td>29</td>\n",
       "      <td>1</td>\n",
       "      <td>27.972028</td>\n",
       "      <td>44</td>\n",
       "      <td>71</td>\n",
       "      <td>114.0</td>\n",
       "    </tr>\n",
       "    <tr>\n",
       "      <th>2</th>\n",
       "      <td>rFC9eSG/tMuzpre6cwcMLZHEYM89xY02qcz7HL4//jc=</td>\n",
       "      <td>0</td>\n",
       "      <td>36</td>\n",
       "      <td>3</td>\n",
       "      <td>9</td>\n",
       "      <td>4</td>\n",
       "      <td>1.249688</td>\n",
       "      <td>24</td>\n",
       "      <td>24</td>\n",
       "      <td>24.0</td>\n",
       "    </tr>\n",
       "    <tr>\n",
       "      <th>3</th>\n",
       "      <td>WZ59dLyrQcE7ft06MZ5dj40BnlYQY7PHgg/54+HaCSE=</td>\n",
       "      <td>0</td>\n",
       "      <td>1</td>\n",
       "      <td>15430</td>\n",
       "      <td>0</td>\n",
       "      <td>0</td>\n",
       "      <td>0.000000</td>\n",
       "      <td>0</td>\n",
       "      <td>0</td>\n",
       "      <td>NaN</td>\n",
       "    </tr>\n",
       "    <tr>\n",
       "      <th>4</th>\n",
       "      <td>aky/Iv8hMp1/V/yQHLtaVuEmmAxkB5GuasQZePJ7NU4=</td>\n",
       "      <td>0</td>\n",
       "      <td>7</td>\n",
       "      <td>45</td>\n",
       "      <td>0</td>\n",
       "      <td>1</td>\n",
       "      <td>254.745255</td>\n",
       "      <td>7</td>\n",
       "      <td>7</td>\n",
       "      <td>7.0</td>\n",
       "    </tr>\n",
       "  </tbody>\n",
       "</table>\n",
       "</div>"
      ],
      "text/plain": [
       "                                           msno  is_churn  \\\n",
       "0  4n+fXlyJvfQnTeKXTWT507Ll4JVYGrOC8LHCfwBmPE4=         0   \n",
       "1  aNmbC1GvFUxQyQUidCVmfbQ0YeCuwkPzEdQ0RwWyeZM=         0   \n",
       "2  rFC9eSG/tMuzpre6cwcMLZHEYM89xY02qcz7HL4//jc=         0   \n",
       "3  WZ59dLyrQcE7ft06MZ5dj40BnlYQY7PHgg/54+HaCSE=         0   \n",
       "4  aky/Iv8hMp1/V/yQHLtaVuEmmAxkB5GuasQZePJ7NU4=         0   \n",
       "\n",
       "   total_day_streaming  latest_days_streaming  days_streaming_1m_1st  \\\n",
       "0                    1                  15430                      0   \n",
       "1                  240                      1                     29   \n",
       "2                   36                      3                      9   \n",
       "3                    1                  15430                      0   \n",
       "4                    7                     45                      0   \n",
       "\n",
       "   days_streaming_1m_2nd  days_streaming_trend  days_streaming_3m  \\\n",
       "0                      0              0.000000                  0   \n",
       "1                      1             27.972028                 44   \n",
       "2                      4              1.249688                 24   \n",
       "3                      0              0.000000                  0   \n",
       "4                      1            254.745255                  7   \n",
       "\n",
       "   days_streaming_6m  days_streaming_12m  \n",
       "0                  0                 NaN  \n",
       "1                 71               114.0  \n",
       "2                 24                24.0  \n",
       "3                  0                 NaN  \n",
       "4                  7                 7.0  "
      ]
     },
     "execution_count": 70,
     "metadata": {},
     "output_type": "execute_result"
    }
   ],
   "source": [
    "data_test = pd.merge(data_test,number_test,on='msno',how='left')\n",
    "data_test.head()"
   ]
  },
  {
   "cell_type": "code",
   "execution_count": 71,
   "metadata": {},
   "outputs": [],
   "source": [
    "data_train['days_streaming_12m'].fillna(0, inplace = True)\n",
    "data_test['days_streaming_12m'].fillna(0, inplace = True)"
   ]
  },
  {
   "cell_type": "code",
   "execution_count": 72,
   "metadata": {},
   "outputs": [],
   "source": [
    "data_train['days_streaming_12m']= data_train['days_streaming_12m'].astype(dtype= 'uint8')\n",
    "data_test['days_streaming_12m']= data_test['days_streaming_12m'].astype(dtype= 'uint8')"
   ]
  },
  {
   "cell_type": "code",
   "execution_count": 73,
   "metadata": {},
   "outputs": [
    {
     "name": "stderr",
     "output_type": "stream",
     "text": [
      "C:\\Users\\kartik\\AppData\\Local\\conda\\conda\\envs\\kaggle\\lib\\site-packages\\matplotlib\\axes\\_axes.py:6462: UserWarning: The 'normed' kwarg is deprecated, and has been replaced by the 'density' kwarg.\n",
      "  warnings.warn(\"The 'normed' kwarg is deprecated, and has been \"\n",
      "C:\\Users\\kartik\\AppData\\Local\\conda\\conda\\envs\\kaggle\\lib\\site-packages\\matplotlib\\axes\\_axes.py:6462: UserWarning: The 'normed' kwarg is deprecated, and has been replaced by the 'density' kwarg.\n",
      "  warnings.warn(\"The 'normed' kwarg is deprecated, and has been \"\n"
     ]
    },
    {
     "data": {
      "text/plain": [
       "<matplotlib.axes._subplots.AxesSubplot at 0x2a4d9c18>"
      ]
     },
     "execution_count": 73,
     "metadata": {},
     "output_type": "execute_result"
    },
    {
     "data": {
      "image/png": "[encoded data removed]",
      "text/plain": [
       "<Figure size 576x432 with 1 Axes>"
      ]
     },
     "metadata": {},
     "output_type": "display_data"
    }
   ],
   "source": [
    "fig = plt.figure(figsize=(8,6))\n",
    "ax1 = fig.add_subplot(111)\n",
    "\n",
    "\n",
    "sns.distplot(data_train[data_train['is_churn']==0]['days_streaming_12m'], kde = False, color = 'g', ax=ax1)\n",
    "sns.distplot(data_train[data_train['is_churn']==1]['days_streaming_12m'], kde = False, color = 'r', ax=ax1)"
   ]
  },
  {
   "cell_type": "code",
   "execution_count": 74,
   "metadata": {},
   "outputs": [],
   "source": [
    "\n",
    "data_test.to_csv('features\\\\test_logs_part1.csv',index=False)\n",
    "data_train.to_csv('features\\\\train_logs_part1.csv',index=False)\n"
   ]
  },
  {
   "cell_type": "code",
   "execution_count": 75,
   "metadata": {},
   "outputs": [
    {
     "data": {
      "text/html": [
       "<div>\n",
       "<style scoped>\n",
       "    .dataframe tbody tr th:only-of-type {\n",
       "        vertical-align: middle;\n",
       "    }\n",
       "\n",
       "    .dataframe tbody tr th {\n",
       "        vertical-align: top;\n",
       "    }\n",
       "\n",
       "    .dataframe thead th {\n",
       "        text-align: right;\n",
       "    }\n",
       "</style>\n",
       "<table border=\"1\" class=\"dataframe\">\n",
       "  <thead>\n",
       "    <tr style=\"text-align: right;\">\n",
       "      <th></th>\n",
       "      <th>is_churn</th>\n",
       "      <th>total_day_streaming</th>\n",
       "      <th>latest_days_streaming</th>\n",
       "      <th>days_streaming_1m_1st</th>\n",
       "      <th>days_streaming_1m_2nd</th>\n",
       "      <th>days_streaming_trend</th>\n",
       "      <th>days_streaming_3m</th>\n",
       "      <th>days_streaming_6m</th>\n",
       "      <th>days_streaming_12m</th>\n",
       "    </tr>\n",
       "  </thead>\n",
       "  <tbody>\n",
       "    <tr>\n",
       "      <th>count</th>\n",
       "      <td>992931.000000</td>\n",
       "      <td>992931.000000</td>\n",
       "      <td>992931.000000</td>\n",
       "      <td>992931.000000</td>\n",
       "      <td>992931.000000</td>\n",
       "      <td>992931.000000</td>\n",
       "      <td>992931.000000</td>\n",
       "      <td>992931.000000</td>\n",
       "      <td>992931.000000</td>\n",
       "    </tr>\n",
       "    <tr>\n",
       "      <th>mean</th>\n",
       "      <td>0.063923</td>\n",
       "      <td>62.008461</td>\n",
       "      <td>2506.113386</td>\n",
       "      <td>3.498154</td>\n",
       "      <td>3.093417</td>\n",
       "      <td>1927.770739</td>\n",
       "      <td>9.917869</td>\n",
       "      <td>19.706242</td>\n",
       "      <td>36.311817</td>\n",
       "    </tr>\n",
       "    <tr>\n",
       "      <th>std</th>\n",
       "      <td>0.244616</td>\n",
       "      <td>58.609652</td>\n",
       "      <td>5618.090992</td>\n",
       "      <td>4.777553</td>\n",
       "      <td>4.570463</td>\n",
       "      <td>4247.804722</td>\n",
       "      <td>8.805252</td>\n",
       "      <td>16.503578</td>\n",
       "      <td>31.123763</td>\n",
       "    </tr>\n",
       "    <tr>\n",
       "      <th>min</th>\n",
       "      <td>0.000000</td>\n",
       "      <td>0.000000</td>\n",
       "      <td>0.000000</td>\n",
       "      <td>0.000000</td>\n",
       "      <td>0.000000</td>\n",
       "      <td>0.000000</td>\n",
       "      <td>0.000000</td>\n",
       "      <td>0.000000</td>\n",
       "      <td>0.000000</td>\n",
       "    </tr>\n",
       "    <tr>\n",
       "      <th>25%</th>\n",
       "      <td>0.000000</td>\n",
       "      <td>10.000000</td>\n",
       "      <td>5.000000</td>\n",
       "      <td>0.000000</td>\n",
       "      <td>0.000000</td>\n",
       "      <td>0.000000</td>\n",
       "      <td>0.000000</td>\n",
       "      <td>0.000000</td>\n",
       "      <td>5.000000</td>\n",
       "    </tr>\n",
       "    <tr>\n",
       "      <th>50%</th>\n",
       "      <td>0.000000</td>\n",
       "      <td>44.000000</td>\n",
       "      <td>31.000000</td>\n",
       "      <td>0.000000</td>\n",
       "      <td>0.000000</td>\n",
       "      <td>10.989011</td>\n",
       "      <td>13.000000</td>\n",
       "      <td>17.000000</td>\n",
       "      <td>30.000000</td>\n",
       "    </tr>\n",
       "    <tr>\n",
       "      <th>75%</th>\n",
       "      <td>0.000000</td>\n",
       "      <td>104.000000</td>\n",
       "      <td>126.000000</td>\n",
       "      <td>7.000000</td>\n",
       "      <td>6.000000</td>\n",
       "      <td>62.984254</td>\n",
       "      <td>14.000000</td>\n",
       "      <td>36.000000</td>\n",
       "      <td>65.000000</td>\n",
       "    </tr>\n",
       "    <tr>\n",
       "      <th>max</th>\n",
       "      <td>1.000000</td>\n",
       "      <td>221.000000</td>\n",
       "      <td>15370.000000</td>\n",
       "      <td>16.000000</td>\n",
       "      <td>16.000000</td>\n",
       "      <td>14000.000000</td>\n",
       "      <td>38.000000</td>\n",
       "      <td>63.000000</td>\n",
       "      <td>112.000000</td>\n",
       "    </tr>\n",
       "  </tbody>\n",
       "</table>\n",
       "</div>"
      ],
      "text/plain": [
       "            is_churn  total_day_streaming  latest_days_streaming  \\\n",
       "count  992931.000000        992931.000000          992931.000000   \n",
       "mean        0.063923            62.008461            2506.113386   \n",
       "std         0.244616            58.609652            5618.090992   \n",
       "min         0.000000             0.000000               0.000000   \n",
       "25%         0.000000            10.000000               5.000000   \n",
       "50%         0.000000            44.000000              31.000000   \n",
       "75%         0.000000           104.000000             126.000000   \n",
       "max         1.000000           221.000000           15370.000000   \n",
       "\n",
       "       days_streaming_1m_1st  days_streaming_1m_2nd  days_streaming_trend  \\\n",
       "count          992931.000000          992931.000000         992931.000000   \n",
       "mean                3.498154               3.093417           1927.770739   \n",
       "std                 4.777553               4.570463           4247.804722   \n",
       "min                 0.000000               0.000000              0.000000   \n",
       "25%                 0.000000               0.000000              0.000000   \n",
       "50%                 0.000000               0.000000             10.989011   \n",
       "75%                 7.000000               6.000000             62.984254   \n",
       "max                16.000000              16.000000          14000.000000   \n",
       "\n",
       "       days_streaming_3m  days_streaming_6m  days_streaming_12m  \n",
       "count      992931.000000      992931.000000       992931.000000  \n",
       "mean            9.917869          19.706242           36.311817  \n",
       "std             8.805252          16.503578           31.123763  \n",
       "min             0.000000           0.000000            0.000000  \n",
       "25%             0.000000           0.000000            5.000000  \n",
       "50%            13.000000          17.000000           30.000000  \n",
       "75%            14.000000          36.000000           65.000000  \n",
       "max            38.000000          63.000000          112.000000  "
      ]
     },
     "execution_count": 75,
     "metadata": {},
     "output_type": "execute_result"
    }
   ],
   "source": [
    "data_train.describe()"
   ]
  },
  {
   "cell_type": "code",
   "execution_count": 76,
   "metadata": {},
   "outputs": [
    {
     "data": {
      "text/plain": [
       "99"
      ]
     },
     "execution_count": 76,
     "metadata": {},
     "output_type": "execute_result"
    }
   ],
   "source": [
    "del data_train, data_test\n",
    "gc.collect()"
   ]
  },
  {
   "cell_type": "markdown",
   "metadata": {},
   "source": [
    "### * 2.1.2. Num_25*"
   ]
  },
  {
   "cell_type": "code",
   "execution_count": 77,
   "metadata": {},
   "outputs": [],
   "source": [
    "data_train = train\n",
    "data_test = test"
   ]
  },
  {
   "cell_type": "code",
   "execution_count": 78,
   "metadata": {},
   "outputs": [],
   "source": [
    "# 1. number of song 25% in 1st month\n",
    "\n",
    "latest = train_logs[(train_logs['date_relative']>=0) & (train_logs['date_relative']<31)].groupby(by='msno')['num_25'].apply(lambda x: x.sum())\n",
    "latest_train = pd.DataFrame({'msno':latest.index, 'num_25_1m_1st':latest.values})\n",
    "\n",
    "latest = test_logs[(test_logs['date_relative']>=0) & (test_logs['date_relative']<31)].groupby(by='msno')['num_25'].apply(lambda x: x.sum())\n",
    "latest_test = pd.DataFrame({'msno':latest.index, 'num_25_1m_1st':latest.values})\n",
    "\n",
    "data_train = pd.merge(data_train,latest_train,on='msno',how='left')\n",
    "data_test = pd.merge(data_test,latest_test,on='msno',how='left')"
   ]
  },
  {
   "cell_type": "code",
   "execution_count": 79,
   "metadata": {},
   "outputs": [],
   "source": [
    "data_train['num_25_1m_1st'].fillna(0, inplace = True)\n",
    "data_test['num_25_1m_1st'].fillna(0, inplace = True)\n",
    "\n",
    "data_train['num_25_1m_1st']= data_train['num_25_1m_1st'].astype(dtype= 'uint32')\n",
    "data_test['num_25_1m_1st']= data_test['num_25_1m_1st'].astype(dtype= 'uint32')"
   ]
  },
  {
   "cell_type": "code",
   "execution_count": 80,
   "metadata": {},
   "outputs": [
    {
     "name": "stderr",
     "output_type": "stream",
     "text": [
      "C:\\Users\\kartik\\AppData\\Local\\conda\\conda\\envs\\kaggle\\lib\\site-packages\\matplotlib\\axes\\_axes.py:6462: UserWarning: The 'normed' kwarg is deprecated, and has been replaced by the 'density' kwarg.\n",
      "  warnings.warn(\"The 'normed' kwarg is deprecated, and has been \"\n",
      "C:\\Users\\kartik\\AppData\\Local\\conda\\conda\\envs\\kaggle\\lib\\site-packages\\matplotlib\\axes\\_axes.py:6462: UserWarning: The 'normed' kwarg is deprecated, and has been replaced by the 'density' kwarg.\n",
      "  warnings.warn(\"The 'normed' kwarg is deprecated, and has been \"\n"
     ]
    },
    {
     "data": {
      "text/plain": [
       "<matplotlib.axes._subplots.AxesSubplot at 0x6dd1e7b8>"
      ]
     },
     "execution_count": 80,
     "metadata": {},
     "output_type": "execute_result"
    },
    {
     "data": {
      "image/png": "[encoded data removed]",
      "text/plain": [
       "<Figure size 576x432 with 1 Axes>"
      ]
     },
     "metadata": {},
     "output_type": "display_data"
    }
   ],
   "source": [
    "fig = plt.figure(figsize=(8,6))\n",
    "ax1 = fig.add_subplot(111)\n",
    "\n",
    "\n",
    "sns.distplot(data_train[data_train['is_churn']==0]['num_25_1m_1st'], kde = False, color = 'g', ax=ax1)\n",
    "sns.distplot(data_train[data_train['is_churn']==1]['num_25_1m_1st'], kde = False, color = 'r', ax=ax1)"
   ]
  },
  {
   "cell_type": "code",
   "execution_count": 81,
   "metadata": {},
   "outputs": [
    {
     "name": "stdout",
     "output_type": "stream",
     "text": [
      "<class 'pandas.core.frame.DataFrame'>\n",
      "Int64Index: 992931 entries, 0 to 992930\n",
      "Data columns (total 3 columns):\n",
      "msno             992931 non-null object\n",
      "is_churn         992931 non-null uint8\n",
      "num_25_1m_1st    992931 non-null uint32\n",
      "dtypes: object(1), uint32(1), uint8(1)\n",
      "memory usage: 19.9+ MB\n"
     ]
    }
   ],
   "source": [
    "data_train.info()"
   ]
  },
  {
   "cell_type": "code",
   "execution_count": 82,
   "metadata": {},
   "outputs": [],
   "source": [
    "# 2. number of song 25% in 2nd month\n",
    "latest = train_logs[(train_logs['date_relative']>=31) & (train_logs['date_relative']<62)].groupby(by='msno')['num_25'].apply(lambda x: x.sum())\n",
    "latest_train = pd.DataFrame({'msno':latest.index, 'num_25_1m_2nd':latest.values})\n",
    "\n",
    "latest = test_logs[(test_logs['date_relative']>=31) & (test_logs['date_relative']<62)].groupby(by='msno')['num_25'].apply(lambda x: x.sum())\n",
    "latest_test = pd.DataFrame({'msno':latest.index, 'num_25_1m_2nd':latest.values})\n",
    "\n",
    "data_train = pd.merge(data_train,latest_train,on='msno',how='left')\n",
    "data_test = pd.merge(data_test,latest_test,on='msno',how='left')"
   ]
  },
  {
   "cell_type": "code",
   "execution_count": 83,
   "metadata": {},
   "outputs": [],
   "source": [
    "data_train['num_25_1m_2nd'].fillna(0, inplace = True)\n",
    "data_test['num_25_1m_2nd'].fillna(0, inplace = True)\n",
    "\n",
    "data_train['num_25_1m_2nd']= data_train['num_25_1m_2nd'].astype(dtype= 'uint32')\n",
    "data_test['num_25_1m_2nd']= data_test['num_25_1m_2nd'].astype(dtype= 'uint32')"
   ]
  },
  {
   "cell_type": "code",
   "execution_count": 84,
   "metadata": {},
   "outputs": [],
   "source": [
    "#3. Trend num_25\n",
    "data_train['num_25_trend']= (data_train['num_25_1m_1st'] - data_train['num_25_1m_2nd'])/( data_train['num_25_1m_2nd'] + 0.001)\n",
    "\n",
    "data_test['num_25_trend']= (data_test['num_25_1m_1st'] - data_test['num_25_1m_2nd'])/( data_test['num_25_1m_2nd'] + 0.001)\n"
   ]
  },
  {
   "cell_type": "code",
   "execution_count": 85,
   "metadata": {},
   "outputs": [
    {
     "data": {
      "text/html": [
       "<div>\n",
       "<style scoped>\n",
       "    .dataframe tbody tr th:only-of-type {\n",
       "        vertical-align: middle;\n",
       "    }\n",
       "\n",
       "    .dataframe tbody tr th {\n",
       "        vertical-align: top;\n",
       "    }\n",
       "\n",
       "    .dataframe thead th {\n",
       "        text-align: right;\n",
       "    }\n",
       "</style>\n",
       "<table border=\"1\" class=\"dataframe\">\n",
       "  <thead>\n",
       "    <tr style=\"text-align: right;\">\n",
       "      <th></th>\n",
       "      <th>is_churn</th>\n",
       "      <th>num_25_1m_1st</th>\n",
       "      <th>num_25_1m_2nd</th>\n",
       "      <th>num_25_trend</th>\n",
       "    </tr>\n",
       "  </thead>\n",
       "  <tbody>\n",
       "    <tr>\n",
       "      <th>count</th>\n",
       "      <td>907471.0</td>\n",
       "      <td>907471.000000</td>\n",
       "      <td>907471.000000</td>\n",
       "      <td>9.074710e+05</td>\n",
       "    </tr>\n",
       "    <tr>\n",
       "      <th>mean</th>\n",
       "      <td>0.0</td>\n",
       "      <td>79.056248</td>\n",
       "      <td>22.269205</td>\n",
       "      <td>3.102718e+07</td>\n",
       "    </tr>\n",
       "    <tr>\n",
       "      <th>std</th>\n",
       "      <td>0.0</td>\n",
       "      <td>149.048461</td>\n",
       "      <td>57.240933</td>\n",
       "      <td>2.335728e+08</td>\n",
       "    </tr>\n",
       "    <tr>\n",
       "      <th>min</th>\n",
       "      <td>0.0</td>\n",
       "      <td>0.000000</td>\n",
       "      <td>0.000000</td>\n",
       "      <td>0.000000e+00</td>\n",
       "    </tr>\n",
       "    <tr>\n",
       "      <th>25%</th>\n",
       "      <td>0.0</td>\n",
       "      <td>1.000000</td>\n",
       "      <td>0.000000</td>\n",
       "      <td>9.638438e-02</td>\n",
       "    </tr>\n",
       "    <tr>\n",
       "      <th>50%</th>\n",
       "      <td>0.0</td>\n",
       "      <td>29.000000</td>\n",
       "      <td>1.000000</td>\n",
       "      <td>5.272607e+00</td>\n",
       "    </tr>\n",
       "    <tr>\n",
       "      <th>75%</th>\n",
       "      <td>0.0</td>\n",
       "      <td>96.000000</td>\n",
       "      <td>21.000000</td>\n",
       "      <td>1.500000e+04</td>\n",
       "    </tr>\n",
       "    <tr>\n",
       "      <th>max</th>\n",
       "      <td>0.0</td>\n",
       "      <td>25094.000000</td>\n",
       "      <td>11208.000000</td>\n",
       "      <td>4.290677e+09</td>\n",
       "    </tr>\n",
       "  </tbody>\n",
       "</table>\n",
       "</div>"
      ],
      "text/plain": [
       "       is_churn  num_25_1m_1st  num_25_1m_2nd  num_25_trend\n",
       "count  907471.0  907471.000000  907471.000000  9.074710e+05\n",
       "mean        0.0      79.056248      22.269205  3.102718e+07\n",
       "std         0.0     149.048461      57.240933  2.335728e+08\n",
       "min         0.0       0.000000       0.000000  0.000000e+00\n",
       "25%         0.0       1.000000       0.000000  9.638438e-02\n",
       "50%         0.0      29.000000       1.000000  5.272607e+00\n",
       "75%         0.0      96.000000      21.000000  1.500000e+04\n",
       "max         0.0   25094.000000   11208.000000  4.290677e+09"
      ]
     },
     "execution_count": 85,
     "metadata": {},
     "output_type": "execute_result"
    }
   ],
   "source": [
    "data_test.describe()"
   ]
  },
  {
   "cell_type": "code",
   "execution_count": 86,
   "metadata": {},
   "outputs": [
    {
     "data": {
      "text/plain": [
       "131"
      ]
     },
     "execution_count": 86,
     "metadata": {},
     "output_type": "execute_result"
    }
   ],
   "source": [
    "del train_logs, test_logs\n",
    "gc.collect()"
   ]
  },
  {
   "cell_type": "markdown",
   "metadata": {},
   "source": [
    "### 2.2  Featuring num_50"
   ]
  },
  {
   "cell_type": "code",
   "execution_count": 87,
   "metadata": {},
   "outputs": [],
   "source": [
    "cols = ['msno','date','num_50']\n"
   ]
  },
  {
   "cell_type": "code",
   "execution_count": 88,
   "metadata": {},
   "outputs": [],
   "source": [
    "user_logs1 = pd.read_csv('..\\\\data\\\\user_logs.csv',dtype=modified_column_types, usecols=cols)\n",
    "user_logs = pd.read_csv('..\\\\data\\\\refresh\\\\user_logs_v2.csv',dtype=modified_column_types, usecols=cols)"
   ]
  },
  {
   "cell_type": "code",
   "execution_count": 89,
   "metadata": {},
   "outputs": [],
   "source": [
    "user_logs = user_logs.append(user_logs1, ignore_index=True)"
   ]
  },
  {
   "cell_type": "code",
   "execution_count": 90,
   "metadata": {},
   "outputs": [
    {
     "data": {
      "text/plain": [
       "12215"
      ]
     },
     "execution_count": 90,
     "metadata": {},
     "output_type": "execute_result"
    }
   ],
   "source": [
    "del user_logs1\n",
    "gc.collect()"
   ]
  },
  {
   "cell_type": "code",
   "execution_count": 91,
   "metadata": {},
   "outputs": [
    {
     "data": {
      "text/plain": [
       "msno      0\n",
       "date      1\n",
       "num_50    1\n",
       "dtype: int64"
      ]
     },
     "execution_count": 91,
     "metadata": {},
     "output_type": "execute_result"
    }
   ],
   "source": [
    "user_logs.isnull().sum()"
   ]
  },
  {
   "cell_type": "code",
   "execution_count": 92,
   "metadata": {},
   "outputs": [],
   "source": [
    "user_logs.fillna(value = 0, inplace=True)"
   ]
  },
  {
   "cell_type": "code",
   "execution_count": 93,
   "metadata": {},
   "outputs": [
    {
     "data": {
      "text/plain": [
       "msno      0\n",
       "date      0\n",
       "num_50    0\n",
       "dtype: int64"
      ]
     },
     "execution_count": 93,
     "metadata": {},
     "output_type": "execute_result"
    }
   ],
   "source": [
    "user_logs.isnull().sum()"
   ]
  },
  {
   "cell_type": "code",
   "execution_count": 94,
   "metadata": {},
   "outputs": [],
   "source": [
    "user_logs['date'] = user_logs['date'].astype(dtype='uint32')\n",
    "user_logs['num_50'] = user_logs['num_50'].astype(dtype='uint16')"
   ]
  },
  {
   "cell_type": "code",
   "execution_count": 95,
   "metadata": {},
   "outputs": [
    {
     "data": {
      "text/plain": [
       "(78004433, 4)"
      ]
     },
     "execution_count": 95,
     "metadata": {},
     "output_type": "execute_result"
    }
   ],
   "source": [
    "# merging with  train and test\n",
    "train_logs = pd.merge(train,user_logs.sort_values(by=['msno','date']),on='msno',how='left')\n",
    "train_logs.shape"
   ]
  },
  {
   "cell_type": "code",
   "execution_count": 96,
   "metadata": {},
   "outputs": [
    {
     "data": {
      "text/plain": [
       "msno             0\n",
       "is_churn         0\n",
       "date        159018\n",
       "num_50      159018\n",
       "dtype: int64"
      ]
     },
     "execution_count": 96,
     "metadata": {},
     "output_type": "execute_result"
    }
   ],
   "source": [
    "train_logs.isnull().sum()"
   ]
  },
  {
   "cell_type": "code",
   "execution_count": 97,
   "metadata": {},
   "outputs": [
    {
     "data": {
      "text/plain": [
       "msno             0\n",
       "is_churn         0\n",
       "date        151741\n",
       "num_50      151741\n",
       "dtype: int64"
      ]
     },
     "execution_count": 97,
     "metadata": {},
     "output_type": "execute_result"
    }
   ],
   "source": [
    "test_logs = pd.merge(test,user_logs.sort_values(by=['msno','date']),on='msno',how='left')\n",
    "test_logs.isnull().sum()"
   ]
  },
  {
   "cell_type": "code",
   "execution_count": 98,
   "metadata": {},
   "outputs": [
    {
     "data": {
      "text/plain": [
       "70"
      ]
     },
     "execution_count": 98,
     "metadata": {},
     "output_type": "execute_result"
    }
   ],
   "source": [
    "del user_logs\n",
    "gc.collect()"
   ]
  },
  {
   "cell_type": "code",
   "execution_count": 99,
   "metadata": {},
   "outputs": [],
   "source": [
    "# filling missing value for date and num_50\n",
    "\n",
    "train_logs['date'].fillna(value=0, inplace = True) #### should fill with registration date? or zeros\n",
    "test_logs['date'].fillna(value= 0, inplace = True)\n",
    "\n",
    "train_logs['num_50'].fillna(value=0, inplace = True)\n",
    "test_logs['num_50'].fillna(value=0, inplace = True)"
   ]
  },
  {
   "cell_type": "code",
   "execution_count": 100,
   "metadata": {},
   "outputs": [],
   "source": [
    "# castdown datatypes\n",
    "train_logs['date'] = train_logs['date'].astype(dtype='uint32')\n",
    "test_logs['date'] = test_logs['date'].astype(dtype='uint32')\n",
    "\n",
    "train_logs['num_50'] = train_logs['num_50'].astype(dtype='uint16')\n",
    "test_logs['num_50'] = test_logs['num_50'].astype(dtype='uint16')"
   ]
  },
  {
   "cell_type": "code",
   "execution_count": 101,
   "metadata": {},
   "outputs": [],
   "source": [
    "# Convert date\n",
    "train_logs['date_relative']= train_logs['date'].apply(lambda x: cutoff_date_train - ((x//10**4)*365 + (x%10**4)//10**2*30 + (x%10**4)%10**2))\n",
    "test_logs['date_relative']= test_logs['date'].apply(lambda x: cutoff_date_test - ((x//10**4)*365 + (x%10**4)//10**2*30 + (x%10**4)%10**2))"
   ]
  },
  {
   "cell_type": "code",
   "execution_count": 102,
   "metadata": {},
   "outputs": [],
   "source": [
    "# 1. number of song 50% in 1st month\n",
    "\n",
    "\n",
    "latest = train_logs[(train_logs['date_relative']>=0) & (train_logs['date_relative']<31)].groupby(by='msno')['num_50'].apply(lambda x: x.sum())\n",
    "latest_train = pd.DataFrame({'msno':latest.index, 'num_50_1m_1st':latest.values})\n",
    "\n",
    "latest = test_logs[(test_logs['date_relative']>=0) & (test_logs['date_relative']<31)].groupby(by='msno')['num_50'].apply(lambda x: x.sum())\n",
    "latest_test = pd.DataFrame({'msno':latest.index, 'num_50_1m_1st':latest.values})\n",
    "\n",
    "data_train = pd.merge(data_train,latest_train,on='msno',how='left')\n",
    "data_test = pd.merge(data_test,latest_test,on='msno',how='left')"
   ]
  },
  {
   "cell_type": "code",
   "execution_count": 103,
   "metadata": {},
   "outputs": [
    {
     "data": {
      "text/html": [
       "<div>\n",
       "<style scoped>\n",
       "    .dataframe tbody tr th:only-of-type {\n",
       "        vertical-align: middle;\n",
       "    }\n",
       "\n",
       "    .dataframe tbody tr th {\n",
       "        vertical-align: top;\n",
       "    }\n",
       "\n",
       "    .dataframe thead th {\n",
       "        text-align: right;\n",
       "    }\n",
       "</style>\n",
       "<table border=\"1\" class=\"dataframe\">\n",
       "  <thead>\n",
       "    <tr style=\"text-align: right;\">\n",
       "      <th></th>\n",
       "      <th>is_churn</th>\n",
       "      <th>num_25_1m_1st</th>\n",
       "      <th>num_25_1m_2nd</th>\n",
       "      <th>num_25_trend</th>\n",
       "      <th>num_50_1m_1st</th>\n",
       "    </tr>\n",
       "  </thead>\n",
       "  <tbody>\n",
       "    <tr>\n",
       "      <th>count</th>\n",
       "      <td>992931.000000</td>\n",
       "      <td>992931.000000</td>\n",
       "      <td>992931.000000</td>\n",
       "      <td>9.929310e+05</td>\n",
       "      <td>460143.000000</td>\n",
       "    </tr>\n",
       "    <tr>\n",
       "      <th>mean</th>\n",
       "      <td>0.063923</td>\n",
       "      <td>22.432983</td>\n",
       "      <td>20.273772</td>\n",
       "      <td>9.641255e+07</td>\n",
       "      <td>11.651178</td>\n",
       "    </tr>\n",
       "    <tr>\n",
       "      <th>std</th>\n",
       "      <td>0.244616</td>\n",
       "      <td>57.430276</td>\n",
       "      <td>55.100904</td>\n",
       "      <td>3.984116e+08</td>\n",
       "      <td>17.527473</td>\n",
       "    </tr>\n",
       "    <tr>\n",
       "      <th>min</th>\n",
       "      <td>0.000000</td>\n",
       "      <td>0.000000</td>\n",
       "      <td>0.000000</td>\n",
       "      <td>0.000000e+00</td>\n",
       "      <td>0.000000</td>\n",
       "    </tr>\n",
       "    <tr>\n",
       "      <th>25%</th>\n",
       "      <td>0.000000</td>\n",
       "      <td>0.000000</td>\n",
       "      <td>0.000000</td>\n",
       "      <td>0.000000e+00</td>\n",
       "      <td>2.000000</td>\n",
       "    </tr>\n",
       "    <tr>\n",
       "      <th>50%</th>\n",
       "      <td>0.000000</td>\n",
       "      <td>0.000000</td>\n",
       "      <td>0.000000</td>\n",
       "      <td>3.396603e+01</td>\n",
       "      <td>6.000000</td>\n",
       "    </tr>\n",
       "    <tr>\n",
       "      <th>75%</th>\n",
       "      <td>0.000000</td>\n",
       "      <td>21.000000</td>\n",
       "      <td>16.000000</td>\n",
       "      <td>3.278576e+07</td>\n",
       "      <td>15.000000</td>\n",
       "    </tr>\n",
       "    <tr>\n",
       "      <th>max</th>\n",
       "      <td>1.000000</td>\n",
       "      <td>7526.000000</td>\n",
       "      <td>3718.000000</td>\n",
       "      <td>4.290677e+09</td>\n",
       "      <td>1038.000000</td>\n",
       "    </tr>\n",
       "  </tbody>\n",
       "</table>\n",
       "</div>"
      ],
      "text/plain": [
       "            is_churn  num_25_1m_1st  num_25_1m_2nd  num_25_trend  \\\n",
       "count  992931.000000  992931.000000  992931.000000  9.929310e+05   \n",
       "mean        0.063923      22.432983      20.273772  9.641255e+07   \n",
       "std         0.244616      57.430276      55.100904  3.984116e+08   \n",
       "min         0.000000       0.000000       0.000000  0.000000e+00   \n",
       "25%         0.000000       0.000000       0.000000  0.000000e+00   \n",
       "50%         0.000000       0.000000       0.000000  3.396603e+01   \n",
       "75%         0.000000      21.000000      16.000000  3.278576e+07   \n",
       "max         1.000000    7526.000000    3718.000000  4.290677e+09   \n",
       "\n",
       "       num_50_1m_1st  \n",
       "count  460143.000000  \n",
       "mean       11.651178  \n",
       "std        17.527473  \n",
       "min         0.000000  \n",
       "25%         2.000000  \n",
       "50%         6.000000  \n",
       "75%        15.000000  \n",
       "max      1038.000000  "
      ]
     },
     "execution_count": 103,
     "metadata": {},
     "output_type": "execute_result"
    }
   ],
   "source": [
    "data_train.describe()"
   ]
  },
  {
   "cell_type": "code",
   "execution_count": 104,
   "metadata": {},
   "outputs": [],
   "source": [
    "data_train['num_50_1m_1st'].fillna(0, inplace = True)\n",
    "data_test['num_50_1m_1st'].fillna(0, inplace = True)\n",
    "\n",
    "data_train['num_50_1m_1st']= data_train['num_50_1m_1st'].astype(dtype= 'uint32')\n",
    "data_test['num_50_1m_1st']= data_test['num_50_1m_1st'].astype(dtype= 'uint32')"
   ]
  },
  {
   "cell_type": "code",
   "execution_count": 105,
   "metadata": {},
   "outputs": [],
   "source": [
    "# 2. number of song 50 in 2nd month\n",
    "latest = train_logs[(train_logs['date_relative']>=31) & (train_logs['date_relative']<62)].groupby(by='msno')['num_50'].apply(lambda x: x.sum())\n",
    "latest_train = pd.DataFrame({'msno':latest.index, 'num_50_1m_2nd':latest.values})\n",
    "\n",
    "latest = test_logs[(test_logs['date_relative']>=31) & (test_logs['date_relative']<62)].groupby(by='msno')['num_50'].apply(lambda x: x.sum())\n",
    "latest_test = pd.DataFrame({'msno':latest.index, 'num_50_1m_2nd':latest.values})\n",
    "\n",
    "data_train = pd.merge(data_train,latest_train,on='msno',how='left')\n",
    "data_test = pd.merge(data_test,latest_test,on='msno',how='left')"
   ]
  },
  {
   "cell_type": "code",
   "execution_count": 106,
   "metadata": {},
   "outputs": [],
   "source": [
    "data_train['num_50_1m_2nd'].fillna(0, inplace = True)\n",
    "data_test['num_50_1m_2nd'].fillna(0, inplace = True)\n",
    "\n",
    "data_train['num_50_1m_2nd']= data_train['num_50_1m_2nd'].astype(dtype= 'uint32')\n",
    "data_test['num_50_1m_2nd']= data_test['num_50_1m_2nd'].astype(dtype= 'uint32')"
   ]
  },
  {
   "cell_type": "code",
   "execution_count": 107,
   "metadata": {},
   "outputs": [],
   "source": [
    "#3. Trend num_50\n",
    "data_train['num_50_trend']= (data_train['num_50_1m_1st'] - data_train['num_50_1m_2nd'])/( data_train['num_50_1m_2nd'] + 0.001)\n",
    "\n",
    "data_test['num_50_trend']= (data_test['num_50_1m_1st'] - data_test['num_50_1m_2nd'])/( data_test['num_50_1m_2nd'] + 0.001)\n"
   ]
  },
  {
   "cell_type": "code",
   "execution_count": 108,
   "metadata": {},
   "outputs": [
    {
     "data": {
      "text/plain": [
       "133"
      ]
     },
     "execution_count": 108,
     "metadata": {},
     "output_type": "execute_result"
    }
   ],
   "source": [
    "del train_logs, test_logs\n",
    "gc.collect()"
   ]
  },
  {
   "cell_type": "code",
   "execution_count": 109,
   "metadata": {},
   "outputs": [
    {
     "data": {
      "text/html": [
       "<div>\n",
       "<style scoped>\n",
       "    .dataframe tbody tr th:only-of-type {\n",
       "        vertical-align: middle;\n",
       "    }\n",
       "\n",
       "    .dataframe tbody tr th {\n",
       "        vertical-align: top;\n",
       "    }\n",
       "\n",
       "    .dataframe thead th {\n",
       "        text-align: right;\n",
       "    }\n",
       "</style>\n",
       "<table border=\"1\" class=\"dataframe\">\n",
       "  <thead>\n",
       "    <tr style=\"text-align: right;\">\n",
       "      <th></th>\n",
       "      <th>msno</th>\n",
       "      <th>is_churn</th>\n",
       "      <th>num_25_1m_1st</th>\n",
       "      <th>num_25_1m_2nd</th>\n",
       "      <th>num_25_trend</th>\n",
       "      <th>num_50_1m_1st</th>\n",
       "      <th>num_50_1m_2nd</th>\n",
       "      <th>num_50_trend</th>\n",
       "    </tr>\n",
       "  </thead>\n",
       "  <tbody>\n",
       "    <tr>\n",
       "      <th>0</th>\n",
       "      <td>waLDQMmcOu2jLDaV1ddDkgCrB/jl6sD66Xzs0Vqax1Y=</td>\n",
       "      <td>1</td>\n",
       "      <td>9</td>\n",
       "      <td>0</td>\n",
       "      <td>9.000000e+03</td>\n",
       "      <td>3</td>\n",
       "      <td>0</td>\n",
       "      <td>3.000000e+03</td>\n",
       "    </tr>\n",
       "    <tr>\n",
       "      <th>1</th>\n",
       "      <td>QA7uiXy8vIbUSPOkCf9RwQ3FsT8jVq2OxDr8zqa7bRQ=</td>\n",
       "      <td>1</td>\n",
       "      <td>0</td>\n",
       "      <td>0</td>\n",
       "      <td>0.000000e+00</td>\n",
       "      <td>0</td>\n",
       "      <td>0</td>\n",
       "      <td>0.000000e+00</td>\n",
       "    </tr>\n",
       "    <tr>\n",
       "      <th>2</th>\n",
       "      <td>fGwBva6hikQmTJzrbz/2Ezjm5Cth5jZUNvXigKK2AFA=</td>\n",
       "      <td>1</td>\n",
       "      <td>20</td>\n",
       "      <td>0</td>\n",
       "      <td>2.000000e+04</td>\n",
       "      <td>6</td>\n",
       "      <td>0</td>\n",
       "      <td>6.000000e+03</td>\n",
       "    </tr>\n",
       "    <tr>\n",
       "      <th>3</th>\n",
       "      <td>mT5V8rEpa+8wuqi6x0DoVd3H5icMKkE9Prt49UlmK+4=</td>\n",
       "      <td>1</td>\n",
       "      <td>126</td>\n",
       "      <td>0</td>\n",
       "      <td>1.260000e+05</td>\n",
       "      <td>45</td>\n",
       "      <td>0</td>\n",
       "      <td>4.500000e+04</td>\n",
       "    </tr>\n",
       "    <tr>\n",
       "      <th>4</th>\n",
       "      <td>XaPhtGLk/5UvvOYHcONTwsnH97P4eGECeq+BARGItRw=</td>\n",
       "      <td>1</td>\n",
       "      <td>0</td>\n",
       "      <td>9</td>\n",
       "      <td>4.771656e+08</td>\n",
       "      <td>0</td>\n",
       "      <td>2</td>\n",
       "      <td>2.146410e+09</td>\n",
       "    </tr>\n",
       "  </tbody>\n",
       "</table>\n",
       "</div>"
      ],
      "text/plain": [
       "                                           msno  is_churn  num_25_1m_1st  \\\n",
       "0  waLDQMmcOu2jLDaV1ddDkgCrB/jl6sD66Xzs0Vqax1Y=         1              9   \n",
       "1  QA7uiXy8vIbUSPOkCf9RwQ3FsT8jVq2OxDr8zqa7bRQ=         1              0   \n",
       "2  fGwBva6hikQmTJzrbz/2Ezjm5Cth5jZUNvXigKK2AFA=         1             20   \n",
       "3  mT5V8rEpa+8wuqi6x0DoVd3H5icMKkE9Prt49UlmK+4=         1            126   \n",
       "4  XaPhtGLk/5UvvOYHcONTwsnH97P4eGECeq+BARGItRw=         1              0   \n",
       "\n",
       "   num_25_1m_2nd  num_25_trend  num_50_1m_1st  num_50_1m_2nd  num_50_trend  \n",
       "0              0  9.000000e+03              3              0  3.000000e+03  \n",
       "1              0  0.000000e+00              0              0  0.000000e+00  \n",
       "2              0  2.000000e+04              6              0  6.000000e+03  \n",
       "3              0  1.260000e+05             45              0  4.500000e+04  \n",
       "4              9  4.771656e+08              0              2  2.146410e+09  "
      ]
     },
     "execution_count": 109,
     "metadata": {},
     "output_type": "execute_result"
    }
   ],
   "source": [
    "data_train.head()"
   ]
  },
  {
   "cell_type": "markdown",
   "metadata": {},
   "source": [
    "### 2.3 EDA and Featuring num_75"
   ]
  },
  {
   "cell_type": "code",
   "execution_count": 110,
   "metadata": {},
   "outputs": [],
   "source": [
    "cols = ['msno','date','num_75']\n"
   ]
  },
  {
   "cell_type": "code",
   "execution_count": 111,
   "metadata": {},
   "outputs": [],
   "source": [
    "user_logs1 = pd.read_csv('..\\\\data\\\\user_logs.csv',dtype=modified_column_types, usecols=cols)\n",
    "user_logs = pd.read_csv('..\\\\data\\\\refresh\\\\user_logs_v2.csv',dtype=modified_column_types, usecols=cols)"
   ]
  },
  {
   "cell_type": "code",
   "execution_count": 112,
   "metadata": {},
   "outputs": [],
   "source": [
    "user_logs = user_logs.append(user_logs1, ignore_index=True)"
   ]
  },
  {
   "cell_type": "code",
   "execution_count": 113,
   "metadata": {},
   "outputs": [
    {
     "data": {
      "text/plain": [
       "12159"
      ]
     },
     "execution_count": 113,
     "metadata": {},
     "output_type": "execute_result"
    }
   ],
   "source": [
    "del user_logs1\n",
    "gc.collect()"
   ]
  },
  {
   "cell_type": "code",
   "execution_count": 114,
   "metadata": {
    "scrolled": true
   },
   "outputs": [
    {
     "data": {
      "text/plain": [
       "msno      0\n",
       "date      1\n",
       "num_75    1\n",
       "dtype: int64"
      ]
     },
     "execution_count": 114,
     "metadata": {},
     "output_type": "execute_result"
    }
   ],
   "source": [
    "user_logs.isnull().sum()"
   ]
  },
  {
   "cell_type": "code",
   "execution_count": 115,
   "metadata": {},
   "outputs": [],
   "source": [
    "user_logs.fillna(value = 0, inplace=True)"
   ]
  },
  {
   "cell_type": "code",
   "execution_count": 116,
   "metadata": {},
   "outputs": [
    {
     "name": "stdout",
     "output_type": "stream",
     "text": [
      "<class 'pandas.core.frame.DataFrame'>\n",
      "RangeIndex: 121501386 entries, 0 to 121501385\n",
      "Data columns (total 3 columns):\n",
      "msno      object\n",
      "date      float32\n",
      "num_75    float32\n",
      "dtypes: float32(2), object(1)\n",
      "memory usage: 1.8+ GB\n"
     ]
    }
   ],
   "source": [
    "user_logs.info()"
   ]
  },
  {
   "cell_type": "code",
   "execution_count": 117,
   "metadata": {},
   "outputs": [],
   "source": [
    "user_logs['date'] = user_logs['date'].astype(dtype='uint32')\n",
    "user_logs['num_75'] = user_logs['num_75'].astype(dtype='uint16')"
   ]
  },
  {
   "cell_type": "code",
   "execution_count": 118,
   "metadata": {},
   "outputs": [
    {
     "data": {
      "text/plain": [
       "(78004433, 4)"
      ]
     },
     "execution_count": 118,
     "metadata": {},
     "output_type": "execute_result"
    }
   ],
   "source": [
    "# merging with  train and test\n",
    "train_logs = pd.merge(train,user_logs.sort_values(by=['msno','date']),on='msno',how='left')\n",
    "train_logs.shape"
   ]
  },
  {
   "cell_type": "code",
   "execution_count": 119,
   "metadata": {},
   "outputs": [
    {
     "data": {
      "text/plain": [
       "msno             0\n",
       "is_churn         0\n",
       "date        151741\n",
       "num_75      151741\n",
       "dtype: int64"
      ]
     },
     "execution_count": 119,
     "metadata": {},
     "output_type": "execute_result"
    }
   ],
   "source": [
    "test_logs = pd.merge(test,user_logs.sort_values(by=['msno','date']),on='msno',how='left')\n",
    "test_logs.isnull().sum()"
   ]
  },
  {
   "cell_type": "code",
   "execution_count": 120,
   "metadata": {},
   "outputs": [
    {
     "data": {
      "text/plain": [
       "84"
      ]
     },
     "execution_count": 120,
     "metadata": {},
     "output_type": "execute_result"
    }
   ],
   "source": [
    "del user_logs\n",
    "gc.collect()"
   ]
  },
  {
   "cell_type": "code",
   "execution_count": 121,
   "metadata": {},
   "outputs": [],
   "source": [
    "# filling missing value for date and num_75\n",
    "\n",
    "train_logs['date'].fillna(value=0, inplace = True) #### should fill with registration date? or zeros\n",
    "test_logs['date'].fillna(value= 0, inplace = True)\n",
    "\n",
    "train_logs['num_75'].fillna(value=0, inplace = True)\n",
    "test_logs['num_75'].fillna(value=0, inplace = True)"
   ]
  },
  {
   "cell_type": "code",
   "execution_count": 122,
   "metadata": {},
   "outputs": [],
   "source": [
    "# castdown datatypes\n",
    "train_logs['date'] = train_logs['date'].astype(dtype='uint32')\n",
    "test_logs['date'] = test_logs['date'].astype(dtype='uint32')\n",
    "\n",
    "train_logs['num_75'] = train_logs['num_75'].astype(dtype='uint16')\n",
    "test_logs['num_75'] = test_logs['num_75'].astype(dtype='uint16')"
   ]
  },
  {
   "cell_type": "code",
   "execution_count": 123,
   "metadata": {},
   "outputs": [],
   "source": [
    "# Convert date\n",
    "train_logs['date_relative']= train_logs['date'].apply(lambda x: cutoff_date_train - ((x//10**4)*365 + (x%10**4)//10**2*30 + (x%10**4)%10**2))\n",
    "test_logs['date_relative']= test_logs['date'].apply(lambda x: cutoff_date_test - ((x//10**4)*365 + (x%10**4)//10**2*30 + (x%10**4)%10**2))"
   ]
  },
  {
   "cell_type": "code",
   "execution_count": 124,
   "metadata": {},
   "outputs": [],
   "source": [
    "# 1. number of song 75% in 1st month\n",
    "\n",
    "\n",
    "latest = train_logs[(train_logs['date_relative']>=0) & (train_logs['date_relative']<31)].groupby(by='msno')['num_75'].apply(lambda x: x.sum())\n",
    "latest_train = pd.DataFrame({'msno':latest.index, 'num_75_1m_1st':latest.values})\n",
    "\n",
    "latest = test_logs[(test_logs['date_relative']>=0) & (test_logs['date_relative']<31)].groupby(by='msno')['num_75'].apply(lambda x: x.sum())\n",
    "latest_test = pd.DataFrame({'msno':latest.index, 'num_75_1m_1st':latest.values})\n",
    "\n",
    "data_train = pd.merge(data_train,latest_train,on='msno',how='left')\n",
    "data_test = pd.merge(data_test,latest_test,on='msno',how='left')"
   ]
  },
  {
   "cell_type": "code",
   "execution_count": 125,
   "metadata": {},
   "outputs": [],
   "source": [
    "data_train['num_75_1m_1st'].fillna(0, inplace = True)\n",
    "data_test['num_75_1m_1st'].fillna(0, inplace = True)\n",
    "\n",
    "data_train['num_75_1m_1st']= data_train['num_75_1m_1st'].astype(dtype= 'uint32')\n",
    "data_test['num_75_1m_1st']= data_test['num_75_1m_1st'].astype(dtype= 'uint32')"
   ]
  },
  {
   "cell_type": "code",
   "execution_count": 126,
   "metadata": {},
   "outputs": [],
   "source": [
    "# 2. number of song 75 in 2nd month\n",
    "latest = train_logs[(train_logs['date_relative']>=31) & (train_logs['date_relative']<62)].groupby(by='msno')['num_75'].apply(lambda x: x.sum())\n",
    "latest_train = pd.DataFrame({'msno':latest.index, 'num_75_1m_2nd':latest.values})\n",
    "\n",
    "latest = test_logs[(test_logs['date_relative']>=31) & (test_logs['date_relative']<62)].groupby(by='msno')['num_75'].apply(lambda x: x.sum())\n",
    "latest_test = pd.DataFrame({'msno':latest.index, 'num_75_1m_2nd':latest.values})\n",
    "\n",
    "data_train = pd.merge(data_train,latest_train,on='msno',how='left')\n",
    "data_test = pd.merge(data_test,latest_test,on='msno',how='left')"
   ]
  },
  {
   "cell_type": "code",
   "execution_count": 127,
   "metadata": {},
   "outputs": [],
   "source": [
    "data_train['num_75_1m_2nd'].fillna(0, inplace = True)\n",
    "data_test['num_75_1m_2nd'].fillna(0, inplace = True)\n",
    "\n",
    "data_train['num_75_1m_2nd']= data_train['num_75_1m_2nd'].astype(dtype= 'uint32')\n",
    "data_test['num_75_1m_2nd']= data_test['num_75_1m_2nd'].astype(dtype= 'uint32')"
   ]
  },
  {
   "cell_type": "code",
   "execution_count": 128,
   "metadata": {},
   "outputs": [],
   "source": [
    "#3. Trend num_75\n",
    "data_train['num_75_trend']= (data_train['num_75_1m_1st'] - data_train['num_75_1m_2nd'])/( data_train['num_75_1m_2nd'] + 0.001)\n",
    "\n",
    "data_test['num_75_trend']= (data_test['num_75_1m_1st'] - data_test['num_75_1m_2nd'])/( data_test['num_75_1m_2nd'] + 0.001)\n"
   ]
  },
  {
   "cell_type": "code",
   "execution_count": 129,
   "metadata": {},
   "outputs": [
    {
     "data": {
      "text/html": [
       "<div>\n",
       "<style scoped>\n",
       "    .dataframe tbody tr th:only-of-type {\n",
       "        vertical-align: middle;\n",
       "    }\n",
       "\n",
       "    .dataframe tbody tr th {\n",
       "        vertical-align: top;\n",
       "    }\n",
       "\n",
       "    .dataframe thead th {\n",
       "        text-align: right;\n",
       "    }\n",
       "</style>\n",
       "<table border=\"1\" class=\"dataframe\">\n",
       "  <thead>\n",
       "    <tr style=\"text-align: right;\">\n",
       "      <th></th>\n",
       "      <th>is_churn</th>\n",
       "      <th>num_75_trend</th>\n",
       "    </tr>\n",
       "  </thead>\n",
       "  <tbody>\n",
       "    <tr>\n",
       "      <th>is_churn</th>\n",
       "      <td>1.000000</td>\n",
       "      <td>-0.012274</td>\n",
       "    </tr>\n",
       "    <tr>\n",
       "      <th>num_75_trend</th>\n",
       "      <td>-0.012274</td>\n",
       "      <td>1.000000</td>\n",
       "    </tr>\n",
       "  </tbody>\n",
       "</table>\n",
       "</div>"
      ],
      "text/plain": [
       "              is_churn  num_75_trend\n",
       "is_churn      1.000000     -0.012274\n",
       "num_75_trend -0.012274      1.000000"
      ]
     },
     "execution_count": 129,
     "metadata": {},
     "output_type": "execute_result"
    }
   ],
   "source": [
    "data_train[['is_churn','num_75_trend']].corr()"
   ]
  },
  {
   "cell_type": "code",
   "execution_count": 130,
   "metadata": {},
   "outputs": [
    {
     "data": {
      "text/html": [
       "<div>\n",
       "<style scoped>\n",
       "    .dataframe tbody tr th:only-of-type {\n",
       "        vertical-align: middle;\n",
       "    }\n",
       "\n",
       "    .dataframe tbody tr th {\n",
       "        vertical-align: top;\n",
       "    }\n",
       "\n",
       "    .dataframe thead th {\n",
       "        text-align: right;\n",
       "    }\n",
       "</style>\n",
       "<table border=\"1\" class=\"dataframe\">\n",
       "  <thead>\n",
       "    <tr style=\"text-align: right;\">\n",
       "      <th></th>\n",
       "      <th>msno</th>\n",
       "      <th>is_churn</th>\n",
       "      <th>num_25_1m_1st</th>\n",
       "      <th>num_25_1m_2nd</th>\n",
       "      <th>num_25_trend</th>\n",
       "      <th>num_50_1m_1st</th>\n",
       "      <th>num_50_1m_2nd</th>\n",
       "      <th>num_50_trend</th>\n",
       "      <th>num_75_1m_1st</th>\n",
       "      <th>num_75_1m_2nd</th>\n",
       "      <th>num_75_trend</th>\n",
       "    </tr>\n",
       "  </thead>\n",
       "  <tbody>\n",
       "    <tr>\n",
       "      <th>0</th>\n",
       "      <td>waLDQMmcOu2jLDaV1ddDkgCrB/jl6sD66Xzs0Vqax1Y=</td>\n",
       "      <td>1</td>\n",
       "      <td>9</td>\n",
       "      <td>0</td>\n",
       "      <td>9.000000e+03</td>\n",
       "      <td>3</td>\n",
       "      <td>0</td>\n",
       "      <td>3.000000e+03</td>\n",
       "      <td>3</td>\n",
       "      <td>0</td>\n",
       "      <td>3.000000e+03</td>\n",
       "    </tr>\n",
       "    <tr>\n",
       "      <th>1</th>\n",
       "      <td>QA7uiXy8vIbUSPOkCf9RwQ3FsT8jVq2OxDr8zqa7bRQ=</td>\n",
       "      <td>1</td>\n",
       "      <td>0</td>\n",
       "      <td>0</td>\n",
       "      <td>0.000000e+00</td>\n",
       "      <td>0</td>\n",
       "      <td>0</td>\n",
       "      <td>0.000000e+00</td>\n",
       "      <td>0</td>\n",
       "      <td>0</td>\n",
       "      <td>0.000000e+00</td>\n",
       "    </tr>\n",
       "    <tr>\n",
       "      <th>2</th>\n",
       "      <td>fGwBva6hikQmTJzrbz/2Ezjm5Cth5jZUNvXigKK2AFA=</td>\n",
       "      <td>1</td>\n",
       "      <td>20</td>\n",
       "      <td>0</td>\n",
       "      <td>2.000000e+04</td>\n",
       "      <td>6</td>\n",
       "      <td>0</td>\n",
       "      <td>6.000000e+03</td>\n",
       "      <td>2</td>\n",
       "      <td>0</td>\n",
       "      <td>2.000000e+03</td>\n",
       "    </tr>\n",
       "    <tr>\n",
       "      <th>3</th>\n",
       "      <td>mT5V8rEpa+8wuqi6x0DoVd3H5icMKkE9Prt49UlmK+4=</td>\n",
       "      <td>1</td>\n",
       "      <td>126</td>\n",
       "      <td>0</td>\n",
       "      <td>1.260000e+05</td>\n",
       "      <td>45</td>\n",
       "      <td>0</td>\n",
       "      <td>4.500000e+04</td>\n",
       "      <td>33</td>\n",
       "      <td>0</td>\n",
       "      <td>3.300000e+04</td>\n",
       "    </tr>\n",
       "    <tr>\n",
       "      <th>4</th>\n",
       "      <td>XaPhtGLk/5UvvOYHcONTwsnH97P4eGECeq+BARGItRw=</td>\n",
       "      <td>1</td>\n",
       "      <td>0</td>\n",
       "      <td>9</td>\n",
       "      <td>4.771656e+08</td>\n",
       "      <td>0</td>\n",
       "      <td>2</td>\n",
       "      <td>2.146410e+09</td>\n",
       "      <td>0</td>\n",
       "      <td>6</td>\n",
       "      <td>7.157086e+08</td>\n",
       "    </tr>\n",
       "  </tbody>\n",
       "</table>\n",
       "</div>"
      ],
      "text/plain": [
       "                                           msno  is_churn  num_25_1m_1st  \\\n",
       "0  waLDQMmcOu2jLDaV1ddDkgCrB/jl6sD66Xzs0Vqax1Y=         1              9   \n",
       "1  QA7uiXy8vIbUSPOkCf9RwQ3FsT8jVq2OxDr8zqa7bRQ=         1              0   \n",
       "2  fGwBva6hikQmTJzrbz/2Ezjm5Cth5jZUNvXigKK2AFA=         1             20   \n",
       "3  mT5V8rEpa+8wuqi6x0DoVd3H5icMKkE9Prt49UlmK+4=         1            126   \n",
       "4  XaPhtGLk/5UvvOYHcONTwsnH97P4eGECeq+BARGItRw=         1              0   \n",
       "\n",
       "   num_25_1m_2nd  num_25_trend  num_50_1m_1st  num_50_1m_2nd  num_50_trend  \\\n",
       "0              0  9.000000e+03              3              0  3.000000e+03   \n",
       "1              0  0.000000e+00              0              0  0.000000e+00   \n",
       "2              0  2.000000e+04              6              0  6.000000e+03   \n",
       "3              0  1.260000e+05             45              0  4.500000e+04   \n",
       "4              9  4.771656e+08              0              2  2.146410e+09   \n",
       "\n",
       "   num_75_1m_1st  num_75_1m_2nd  num_75_trend  \n",
       "0              3              0  3.000000e+03  \n",
       "1              0              0  0.000000e+00  \n",
       "2              2              0  2.000000e+03  \n",
       "3             33              0  3.300000e+04  \n",
       "4              0              6  7.157086e+08  "
      ]
     },
     "execution_count": 130,
     "metadata": {},
     "output_type": "execute_result"
    }
   ],
   "source": [
    "data_train.head()"
   ]
  },
  {
   "cell_type": "code",
   "execution_count": 131,
   "metadata": {},
   "outputs": [
    {
     "data": {
      "text/html": [
       "<div>\n",
       "<style scoped>\n",
       "    .dataframe tbody tr th:only-of-type {\n",
       "        vertical-align: middle;\n",
       "    }\n",
       "\n",
       "    .dataframe tbody tr th {\n",
       "        vertical-align: top;\n",
       "    }\n",
       "\n",
       "    .dataframe thead th {\n",
       "        text-align: right;\n",
       "    }\n",
       "</style>\n",
       "<table border=\"1\" class=\"dataframe\">\n",
       "  <thead>\n",
       "    <tr style=\"text-align: right;\">\n",
       "      <th></th>\n",
       "      <th>msno</th>\n",
       "      <th>is_churn</th>\n",
       "      <th>num_25_1m_1st</th>\n",
       "      <th>num_25_1m_2nd</th>\n",
       "      <th>num_25_trend</th>\n",
       "      <th>num_50_1m_1st</th>\n",
       "      <th>num_50_1m_2nd</th>\n",
       "      <th>num_50_trend</th>\n",
       "      <th>num_75_1m_1st</th>\n",
       "      <th>num_75_1m_2nd</th>\n",
       "      <th>num_75_trend</th>\n",
       "    </tr>\n",
       "  </thead>\n",
       "  <tbody>\n",
       "    <tr>\n",
       "      <th>0</th>\n",
       "      <td>4n+fXlyJvfQnTeKXTWT507Ll4JVYGrOC8LHCfwBmPE4=</td>\n",
       "      <td>0</td>\n",
       "      <td>0</td>\n",
       "      <td>0</td>\n",
       "      <td>0.000000</td>\n",
       "      <td>0</td>\n",
       "      <td>0</td>\n",
       "      <td>0.000000</td>\n",
       "      <td>0</td>\n",
       "      <td>0</td>\n",
       "      <td>0.000000e+00</td>\n",
       "    </tr>\n",
       "    <tr>\n",
       "      <th>1</th>\n",
       "      <td>aNmbC1GvFUxQyQUidCVmfbQ0YeCuwkPzEdQ0RwWyeZM=</td>\n",
       "      <td>0</td>\n",
       "      <td>504</td>\n",
       "      <td>15</td>\n",
       "      <td>32.597827</td>\n",
       "      <td>167</td>\n",
       "      <td>2</td>\n",
       "      <td>82.458771</td>\n",
       "      <td>115</td>\n",
       "      <td>6</td>\n",
       "      <td>1.816364e+01</td>\n",
       "    </tr>\n",
       "    <tr>\n",
       "      <th>2</th>\n",
       "      <td>rFC9eSG/tMuzpre6cwcMLZHEYM89xY02qcz7HL4//jc=</td>\n",
       "      <td>0</td>\n",
       "      <td>79</td>\n",
       "      <td>54</td>\n",
       "      <td>0.462954</td>\n",
       "      <td>19</td>\n",
       "      <td>4</td>\n",
       "      <td>3.749063</td>\n",
       "      <td>1</td>\n",
       "      <td>3</td>\n",
       "      <td>1.431179e+09</td>\n",
       "    </tr>\n",
       "    <tr>\n",
       "      <th>3</th>\n",
       "      <td>WZ59dLyrQcE7ft06MZ5dj40BnlYQY7PHgg/54+HaCSE=</td>\n",
       "      <td>0</td>\n",
       "      <td>0</td>\n",
       "      <td>0</td>\n",
       "      <td>0.000000</td>\n",
       "      <td>0</td>\n",
       "      <td>0</td>\n",
       "      <td>0.000000</td>\n",
       "      <td>0</td>\n",
       "      <td>0</td>\n",
       "      <td>0.000000e+00</td>\n",
       "    </tr>\n",
       "    <tr>\n",
       "      <th>4</th>\n",
       "      <td>aky/Iv8hMp1/V/yQHLtaVuEmmAxkB5GuasQZePJ7NU4=</td>\n",
       "      <td>0</td>\n",
       "      <td>0</td>\n",
       "      <td>0</td>\n",
       "      <td>0.000000</td>\n",
       "      <td>0</td>\n",
       "      <td>0</td>\n",
       "      <td>0.000000</td>\n",
       "      <td>0</td>\n",
       "      <td>0</td>\n",
       "      <td>0.000000e+00</td>\n",
       "    </tr>\n",
       "  </tbody>\n",
       "</table>\n",
       "</div>"
      ],
      "text/plain": [
       "                                           msno  is_churn  num_25_1m_1st  \\\n",
       "0  4n+fXlyJvfQnTeKXTWT507Ll4JVYGrOC8LHCfwBmPE4=         0              0   \n",
       "1  aNmbC1GvFUxQyQUidCVmfbQ0YeCuwkPzEdQ0RwWyeZM=         0            504   \n",
       "2  rFC9eSG/tMuzpre6cwcMLZHEYM89xY02qcz7HL4//jc=         0             79   \n",
       "3  WZ59dLyrQcE7ft06MZ5dj40BnlYQY7PHgg/54+HaCSE=         0              0   \n",
       "4  aky/Iv8hMp1/V/yQHLtaVuEmmAxkB5GuasQZePJ7NU4=         0              0   \n",
       "\n",
       "   num_25_1m_2nd  num_25_trend  num_50_1m_1st  num_50_1m_2nd  num_50_trend  \\\n",
       "0              0      0.000000              0              0      0.000000   \n",
       "1             15     32.597827            167              2     82.458771   \n",
       "2             54      0.462954             19              4      3.749063   \n",
       "3              0      0.000000              0              0      0.000000   \n",
       "4              0      0.000000              0              0      0.000000   \n",
       "\n",
       "   num_75_1m_1st  num_75_1m_2nd  num_75_trend  \n",
       "0              0              0  0.000000e+00  \n",
       "1            115              6  1.816364e+01  \n",
       "2              1              3  1.431179e+09  \n",
       "3              0              0  0.000000e+00  \n",
       "4              0              0  0.000000e+00  "
      ]
     },
     "execution_count": 131,
     "metadata": {},
     "output_type": "execute_result"
    }
   ],
   "source": [
    "data_test.head()"
   ]
  },
  {
   "cell_type": "code",
   "execution_count": 132,
   "metadata": {},
   "outputs": [],
   "source": [
    "data_test.to_csv('features\\\\test_logs_part2.csv',index=False)\n",
    "data_train.to_csv('features\\\\train_logs_part2.csv',index=False)"
   ]
  },
  {
   "cell_type": "code",
   "execution_count": 133,
   "metadata": {},
   "outputs": [
    {
     "data": {
      "text/plain": [
       "112"
      ]
     },
     "execution_count": 133,
     "metadata": {},
     "output_type": "execute_result"
    }
   ],
   "source": [
    "del data_train, data_test\n",
    "gc.collect()"
   ]
  },
  {
   "cell_type": "markdown",
   "metadata": {},
   "source": [
    "### 2.4 EDA and Featuring num_985"
   ]
  },
  {
   "cell_type": "code",
   "execution_count": 134,
   "metadata": {},
   "outputs": [],
   "source": [
    "data_train = train\n",
    "data_test = test\n"
   ]
  },
  {
   "cell_type": "code",
   "execution_count": 135,
   "metadata": {},
   "outputs": [],
   "source": [
    "cols = ['msno','date','num_985']"
   ]
  },
  {
   "cell_type": "code",
   "execution_count": 136,
   "metadata": {},
   "outputs": [],
   "source": [
    "user_logs1 = pd.read_csv('..\\\\data\\\\user_logs.csv',dtype=modified_column_types, usecols=cols)\n"
   ]
  },
  {
   "cell_type": "code",
   "execution_count": 137,
   "metadata": {},
   "outputs": [
    {
     "name": "stdout",
     "output_type": "stream",
     "text": [
      "<class 'pandas.core.frame.DataFrame'>\n",
      "RangeIndex: 103105024 entries, 0 to 103105023\n",
      "Data columns (total 3 columns):\n",
      "msno       category\n",
      "date       float32\n",
      "num_985    float32\n",
      "dtypes: category(1), float32(2)\n",
      "memory usage: 1.2 GB\n"
     ]
    }
   ],
   "source": [
    "user_logs1.info()"
   ]
  },
  {
   "cell_type": "code",
   "execution_count": 138,
   "metadata": {},
   "outputs": [],
   "source": [
    "user_logs = pd.read_csv('..\\\\data\\\\refresh\\\\user_logs_v2.csv',dtype=modified_column_types, usecols=cols)"
   ]
  },
  {
   "cell_type": "code",
   "execution_count": 139,
   "metadata": {},
   "outputs": [],
   "source": [
    "user_logs = user_logs.append(user_logs1, ignore_index=True)"
   ]
  },
  {
   "cell_type": "code",
   "execution_count": 140,
   "metadata": {},
   "outputs": [
    {
     "data": {
      "text/plain": [
       "12250"
      ]
     },
     "execution_count": 140,
     "metadata": {},
     "output_type": "execute_result"
    }
   ],
   "source": [
    "del user_logs1\n",
    "gc.collect()"
   ]
  },
  {
   "cell_type": "code",
   "execution_count": 141,
   "metadata": {},
   "outputs": [],
   "source": [
    "user_logs.fillna(value = 0, inplace=True)"
   ]
  },
  {
   "cell_type": "code",
   "execution_count": 142,
   "metadata": {},
   "outputs": [
    {
     "data": {
      "text/plain": [
       "msno       0\n",
       "date       0\n",
       "num_985    0\n",
       "dtype: int64"
      ]
     },
     "execution_count": 142,
     "metadata": {},
     "output_type": "execute_result"
    }
   ],
   "source": [
    "user_logs.isnull().sum()"
   ]
  },
  {
   "cell_type": "code",
   "execution_count": 143,
   "metadata": {},
   "outputs": [],
   "source": [
    "user_logs['date'] = user_logs['date'].astype(dtype='uint32')\n",
    "user_logs['num_985'] = user_logs['num_985'].astype(dtype='uint16')"
   ]
  },
  {
   "cell_type": "code",
   "execution_count": 144,
   "metadata": {},
   "outputs": [
    {
     "data": {
      "text/plain": [
       "(78004433, 4)"
      ]
     },
     "execution_count": 144,
     "metadata": {},
     "output_type": "execute_result"
    }
   ],
   "source": [
    "# merging with  train and test\n",
    "train_logs = pd.merge(train,user_logs.sort_values(by=['msno','date']),on='msno',how='left')\n",
    "train_logs.shape"
   ]
  },
  {
   "cell_type": "code",
   "execution_count": 145,
   "metadata": {},
   "outputs": [
    {
     "data": {
      "text/plain": [
       "msno             0\n",
       "is_churn         0\n",
       "date        151741\n",
       "num_985     151741\n",
       "dtype: int64"
      ]
     },
     "execution_count": 145,
     "metadata": {},
     "output_type": "execute_result"
    }
   ],
   "source": [
    "test_logs = pd.merge(test,user_logs.sort_values(by=['msno','date']),on='msno',how='left')\n",
    "test_logs.isnull().sum()"
   ]
  },
  {
   "cell_type": "code",
   "execution_count": 146,
   "metadata": {},
   "outputs": [
    {
     "data": {
      "text/plain": [
       "84"
      ]
     },
     "execution_count": 146,
     "metadata": {},
     "output_type": "execute_result"
    }
   ],
   "source": [
    "del user_logs\n",
    "gc.collect()"
   ]
  },
  {
   "cell_type": "code",
   "execution_count": 147,
   "metadata": {},
   "outputs": [],
   "source": [
    "# filling missing value for date and num_75\n",
    "train_logs['date'].fillna(value=0, inplace = True) #### should fill with registration date? or zeros\n",
    "test_logs['date'].fillna(value= 0, inplace = True)\n",
    "\n",
    "train_logs['num_985'].fillna(value=0, inplace = True)\n",
    "test_logs['num_985'].fillna(value=0, inplace = True)"
   ]
  },
  {
   "cell_type": "code",
   "execution_count": 148,
   "metadata": {},
   "outputs": [],
   "source": [
    "# castdown datatypes\n",
    "train_logs['date'] = train_logs['date'].astype(dtype='uint32')\n",
    "test_logs['date'] = test_logs['date'].astype(dtype='uint32')\n",
    "\n",
    "train_logs['num_985'] = train_logs['num_985'].astype(dtype='uint16')\n",
    "test_logs['num_985'] = test_logs['num_985'].astype(dtype='uint16')"
   ]
  },
  {
   "cell_type": "code",
   "execution_count": 149,
   "metadata": {},
   "outputs": [],
   "source": [
    "# Convert date\n",
    "train_logs['date_relative']= train_logs['date'].apply(lambda x: cutoff_date_train - ((x//10**4)*365 + (x%10**4)//10**2*30 + (x%10**4)%10**2))\n",
    "test_logs['date_relative']= test_logs['date'].apply(lambda x: cutoff_date_test - ((x//10**4)*365 + (x%10**4)//10**2*30 + (x%10**4)%10**2))"
   ]
  },
  {
   "cell_type": "code",
   "execution_count": 150,
   "metadata": {},
   "outputs": [],
   "source": [
    "# 1. number of song 985% in 1st month\n",
    "\n",
    "\n",
    "latest = train_logs[(train_logs['date_relative']>=0) & (train_logs['date_relative']<31)].groupby(by='msno')['num_985'].apply(lambda x: x.sum())\n",
    "latest_train = pd.DataFrame({'msno':latest.index, 'num_985_1m_1st':latest.values})\n",
    "\n",
    "latest = test_logs[(test_logs['date_relative']>=0) & (test_logs['date_relative']<31)].groupby(by='msno')['num_985'].apply(lambda x: x.sum())\n",
    "latest_test = pd.DataFrame({'msno':latest.index, 'num_985_1m_1st':latest.values})\n",
    "\n",
    "data_train = pd.merge(data_train,latest_train,on='msno',how='left')\n",
    "data_test = pd.merge(data_test,latest_test,on='msno',how='left')"
   ]
  },
  {
   "cell_type": "code",
   "execution_count": 151,
   "metadata": {},
   "outputs": [],
   "source": [
    "data_train['num_985_1m_1st'].fillna(0, inplace = True)\n",
    "data_test['num_985_1m_1st'].fillna(0, inplace = True)\n",
    "\n",
    "data_train['num_985_1m_1st']= data_train['num_985_1m_1st'].astype(dtype= 'uint32')\n",
    "data_test['num_985_1m_1st']= data_test['num_985_1m_1st'].astype(dtype= 'uint32')"
   ]
  },
  {
   "cell_type": "code",
   "execution_count": 152,
   "metadata": {},
   "outputs": [],
   "source": [
    "# 2. number of song 985 in 2nd month\n",
    "latest = train_logs[(train_logs['date_relative']>=31) & (train_logs['date_relative']<62)].groupby(by='msno')['num_985'].apply(lambda x: x.sum())\n",
    "latest_train = pd.DataFrame({'msno':latest.index, 'num_985_1m_2nd':latest.values})\n",
    "\n",
    "latest = test_logs[(test_logs['date_relative']>=31) & (test_logs['date_relative']<62)].groupby(by='msno')['num_985'].apply(lambda x: x.sum())\n",
    "latest_test = pd.DataFrame({'msno':latest.index, 'num_985_1m_2nd':latest.values})\n",
    "\n",
    "data_train = pd.merge(data_train,latest_train,on='msno',how='left')\n",
    "data_test = pd.merge(data_test,latest_test,on='msno',how='left')"
   ]
  },
  {
   "cell_type": "code",
   "execution_count": 153,
   "metadata": {},
   "outputs": [
    {
     "data": {
      "text/html": [
       "<div>\n",
       "<style scoped>\n",
       "    .dataframe tbody tr th:only-of-type {\n",
       "        vertical-align: middle;\n",
       "    }\n",
       "\n",
       "    .dataframe tbody tr th {\n",
       "        vertical-align: top;\n",
       "    }\n",
       "\n",
       "    .dataframe thead th {\n",
       "        text-align: right;\n",
       "    }\n",
       "</style>\n",
       "<table border=\"1\" class=\"dataframe\">\n",
       "  <thead>\n",
       "    <tr style=\"text-align: right;\">\n",
       "      <th></th>\n",
       "      <th>msno</th>\n",
       "      <th>is_churn</th>\n",
       "      <th>num_985_1m_1st</th>\n",
       "      <th>num_985_1m_2nd</th>\n",
       "    </tr>\n",
       "  </thead>\n",
       "  <tbody>\n",
       "    <tr>\n",
       "      <th>0</th>\n",
       "      <td>waLDQMmcOu2jLDaV1ddDkgCrB/jl6sD66Xzs0Vqax1Y=</td>\n",
       "      <td>1</td>\n",
       "      <td>1</td>\n",
       "      <td>NaN</td>\n",
       "    </tr>\n",
       "    <tr>\n",
       "      <th>1</th>\n",
       "      <td>QA7uiXy8vIbUSPOkCf9RwQ3FsT8jVq2OxDr8zqa7bRQ=</td>\n",
       "      <td>1</td>\n",
       "      <td>0</td>\n",
       "      <td>NaN</td>\n",
       "    </tr>\n",
       "    <tr>\n",
       "      <th>2</th>\n",
       "      <td>fGwBva6hikQmTJzrbz/2Ezjm5Cth5jZUNvXigKK2AFA=</td>\n",
       "      <td>1</td>\n",
       "      <td>9</td>\n",
       "      <td>NaN</td>\n",
       "    </tr>\n",
       "    <tr>\n",
       "      <th>3</th>\n",
       "      <td>mT5V8rEpa+8wuqi6x0DoVd3H5icMKkE9Prt49UlmK+4=</td>\n",
       "      <td>1</td>\n",
       "      <td>37</td>\n",
       "      <td>NaN</td>\n",
       "    </tr>\n",
       "    <tr>\n",
       "      <th>4</th>\n",
       "      <td>XaPhtGLk/5UvvOYHcONTwsnH97P4eGECeq+BARGItRw=</td>\n",
       "      <td>1</td>\n",
       "      <td>0</td>\n",
       "      <td>15.0</td>\n",
       "    </tr>\n",
       "  </tbody>\n",
       "</table>\n",
       "</div>"
      ],
      "text/plain": [
       "                                           msno  is_churn  num_985_1m_1st  \\\n",
       "0  waLDQMmcOu2jLDaV1ddDkgCrB/jl6sD66Xzs0Vqax1Y=         1               1   \n",
       "1  QA7uiXy8vIbUSPOkCf9RwQ3FsT8jVq2OxDr8zqa7bRQ=         1               0   \n",
       "2  fGwBva6hikQmTJzrbz/2Ezjm5Cth5jZUNvXigKK2AFA=         1               9   \n",
       "3  mT5V8rEpa+8wuqi6x0DoVd3H5icMKkE9Prt49UlmK+4=         1              37   \n",
       "4  XaPhtGLk/5UvvOYHcONTwsnH97P4eGECeq+BARGItRw=         1               0   \n",
       "\n",
       "   num_985_1m_2nd  \n",
       "0             NaN  \n",
       "1             NaN  \n",
       "2             NaN  \n",
       "3             NaN  \n",
       "4            15.0  "
      ]
     },
     "execution_count": 153,
     "metadata": {},
     "output_type": "execute_result"
    }
   ],
   "source": [
    "data_train.head()"
   ]
  },
  {
   "cell_type": "code",
   "execution_count": 154,
   "metadata": {},
   "outputs": [],
   "source": [
    "data_train['num_985_1m_2nd'].fillna(0, inplace = True)\n",
    "data_test['num_985_1m_2nd'].fillna(0, inplace = True)\n",
    "\n",
    "data_train['num_985_1m_2nd']= data_train['num_985_1m_2nd'].astype(dtype= 'uint32')\n",
    "data_test['num_985_1m_2nd']= data_test['num_985_1m_2nd'].astype(dtype= 'uint32')"
   ]
  },
  {
   "cell_type": "code",
   "execution_count": 155,
   "metadata": {},
   "outputs": [],
   "source": [
    "#3. Trend num_985\n",
    "data_train['num_985_trend']= (data_train['num_985_1m_1st'] - data_train['num_985_1m_2nd'])/( data_train['num_985_1m_2nd'] + 0.001)\n",
    "\n",
    "data_test['num_985_trend']= (data_test['num_985_1m_1st'] - data_test['num_985_1m_2nd'])/( data_test['num_985_1m_2nd'] + 0.001)\n"
   ]
  },
  {
   "cell_type": "code",
   "execution_count": 156,
   "metadata": {},
   "outputs": [
    {
     "data": {
      "text/html": [
       "<div>\n",
       "<style scoped>\n",
       "    .dataframe tbody tr th:only-of-type {\n",
       "        vertical-align: middle;\n",
       "    }\n",
       "\n",
       "    .dataframe tbody tr th {\n",
       "        vertical-align: top;\n",
       "    }\n",
       "\n",
       "    .dataframe thead th {\n",
       "        text-align: right;\n",
       "    }\n",
       "</style>\n",
       "<table border=\"1\" class=\"dataframe\">\n",
       "  <thead>\n",
       "    <tr style=\"text-align: right;\">\n",
       "      <th></th>\n",
       "      <th>is_churn</th>\n",
       "      <th>num_985_1m_1st</th>\n",
       "      <th>num_985_1m_2nd</th>\n",
       "      <th>num_985_trend</th>\n",
       "    </tr>\n",
       "  </thead>\n",
       "  <tbody>\n",
       "    <tr>\n",
       "      <th>count</th>\n",
       "      <td>992931.000000</td>\n",
       "      <td>992931.000000</td>\n",
       "      <td>992931.000000</td>\n",
       "      <td>9.929310e+05</td>\n",
       "    </tr>\n",
       "    <tr>\n",
       "      <th>mean</th>\n",
       "      <td>0.063923</td>\n",
       "      <td>3.920234</td>\n",
       "      <td>3.462063</td>\n",
       "      <td>2.634287e+08</td>\n",
       "    </tr>\n",
       "    <tr>\n",
       "      <th>std</th>\n",
       "      <td>0.244616</td>\n",
       "      <td>12.091860</td>\n",
       "      <td>11.502450</td>\n",
       "      <td>7.286044e+08</td>\n",
       "    </tr>\n",
       "    <tr>\n",
       "      <th>min</th>\n",
       "      <td>0.000000</td>\n",
       "      <td>0.000000</td>\n",
       "      <td>0.000000</td>\n",
       "      <td>0.000000e+00</td>\n",
       "    </tr>\n",
       "    <tr>\n",
       "      <th>25%</th>\n",
       "      <td>0.000000</td>\n",
       "      <td>0.000000</td>\n",
       "      <td>0.000000</td>\n",
       "      <td>0.000000e+00</td>\n",
       "    </tr>\n",
       "    <tr>\n",
       "      <th>50%</th>\n",
       "      <td>0.000000</td>\n",
       "      <td>0.000000</td>\n",
       "      <td>0.000000</td>\n",
       "      <td>3.499125e+00</td>\n",
       "    </tr>\n",
       "    <tr>\n",
       "      <th>75%</th>\n",
       "      <td>0.000000</td>\n",
       "      <td>4.000000</td>\n",
       "      <td>3.000000</td>\n",
       "      <td>1.130225e+08</td>\n",
       "    </tr>\n",
       "    <tr>\n",
       "      <th>max</th>\n",
       "      <td>1.000000</td>\n",
       "      <td>2215.000000</td>\n",
       "      <td>2957.000000</td>\n",
       "      <td>4.290677e+09</td>\n",
       "    </tr>\n",
       "  </tbody>\n",
       "</table>\n",
       "</div>"
      ],
      "text/plain": [
       "            is_churn  num_985_1m_1st  num_985_1m_2nd  num_985_trend\n",
       "count  992931.000000   992931.000000   992931.000000   9.929310e+05\n",
       "mean        0.063923        3.920234        3.462063   2.634287e+08\n",
       "std         0.244616       12.091860       11.502450   7.286044e+08\n",
       "min         0.000000        0.000000        0.000000   0.000000e+00\n",
       "25%         0.000000        0.000000        0.000000   0.000000e+00\n",
       "50%         0.000000        0.000000        0.000000   3.499125e+00\n",
       "75%         0.000000        4.000000        3.000000   1.130225e+08\n",
       "max         1.000000     2215.000000     2957.000000   4.290677e+09"
      ]
     },
     "execution_count": 156,
     "metadata": {},
     "output_type": "execute_result"
    }
   ],
   "source": [
    "data_train.describe()"
   ]
  },
  {
   "cell_type": "code",
   "execution_count": 157,
   "metadata": {},
   "outputs": [
    {
     "data": {
      "text/html": [
       "<div>\n",
       "<style scoped>\n",
       "    .dataframe tbody tr th:only-of-type {\n",
       "        vertical-align: middle;\n",
       "    }\n",
       "\n",
       "    .dataframe tbody tr th {\n",
       "        vertical-align: top;\n",
       "    }\n",
       "\n",
       "    .dataframe thead th {\n",
       "        text-align: right;\n",
       "    }\n",
       "</style>\n",
       "<table border=\"1\" class=\"dataframe\">\n",
       "  <thead>\n",
       "    <tr style=\"text-align: right;\">\n",
       "      <th></th>\n",
       "      <th>is_churn</th>\n",
       "      <th>num_985_1m_1st</th>\n",
       "      <th>num_985_1m_2nd</th>\n",
       "      <th>num_985_trend</th>\n",
       "    </tr>\n",
       "  </thead>\n",
       "  <tbody>\n",
       "    <tr>\n",
       "      <th>count</th>\n",
       "      <td>907471.0</td>\n",
       "      <td>907471.000000</td>\n",
       "      <td>907471.000000</td>\n",
       "      <td>9.074710e+05</td>\n",
       "    </tr>\n",
       "    <tr>\n",
       "      <th>mean</th>\n",
       "      <td>0.0</td>\n",
       "      <td>13.366472</td>\n",
       "      <td>3.916034</td>\n",
       "      <td>8.632279e+07</td>\n",
       "    </tr>\n",
       "    <tr>\n",
       "      <th>std</th>\n",
       "      <td>0.0</td>\n",
       "      <td>35.158903</td>\n",
       "      <td>13.151092</td>\n",
       "      <td>4.448256e+08</td>\n",
       "    </tr>\n",
       "    <tr>\n",
       "      <th>min</th>\n",
       "      <td>0.0</td>\n",
       "      <td>0.000000</td>\n",
       "      <td>0.000000</td>\n",
       "      <td>0.000000e+00</td>\n",
       "    </tr>\n",
       "    <tr>\n",
       "      <th>25%</th>\n",
       "      <td>0.0</td>\n",
       "      <td>0.000000</td>\n",
       "      <td>0.000000</td>\n",
       "      <td>0.000000e+00</td>\n",
       "    </tr>\n",
       "    <tr>\n",
       "      <th>50%</th>\n",
       "      <td>0.0</td>\n",
       "      <td>5.000000</td>\n",
       "      <td>0.000000</td>\n",
       "      <td>3.272430e+00</td>\n",
       "    </tr>\n",
       "    <tr>\n",
       "      <th>75%</th>\n",
       "      <td>0.0</td>\n",
       "      <td>16.000000</td>\n",
       "      <td>4.000000</td>\n",
       "      <td>5.000000e+03</td>\n",
       "    </tr>\n",
       "    <tr>\n",
       "      <th>max</th>\n",
       "      <td>0.0</td>\n",
       "      <td>15081.000000</td>\n",
       "      <td>3782.000000</td>\n",
       "      <td>4.290677e+09</td>\n",
       "    </tr>\n",
       "  </tbody>\n",
       "</table>\n",
       "</div>"
      ],
      "text/plain": [
       "       is_churn  num_985_1m_1st  num_985_1m_2nd  num_985_trend\n",
       "count  907471.0   907471.000000   907471.000000   9.074710e+05\n",
       "mean        0.0       13.366472        3.916034   8.632279e+07\n",
       "std         0.0       35.158903       13.151092   4.448256e+08\n",
       "min         0.0        0.000000        0.000000   0.000000e+00\n",
       "25%         0.0        0.000000        0.000000   0.000000e+00\n",
       "50%         0.0        5.000000        0.000000   3.272430e+00\n",
       "75%         0.0       16.000000        4.000000   5.000000e+03\n",
       "max         0.0    15081.000000     3782.000000   4.290677e+09"
      ]
     },
     "execution_count": 157,
     "metadata": {},
     "output_type": "execute_result"
    }
   ],
   "source": [
    "data_test.describe()"
   ]
  },
  {
   "cell_type": "markdown",
   "metadata": {},
   "source": [
    "### 2.5 EDA and Featuring num_100"
   ]
  },
  {
   "cell_type": "code",
   "execution_count": 158,
   "metadata": {},
   "outputs": [],
   "source": [
    "cols = ['msno','date','num_100']"
   ]
  },
  {
   "cell_type": "code",
   "execution_count": 159,
   "metadata": {},
   "outputs": [
    {
     "name": "stdout",
     "output_type": "stream",
     "text": [
      "<class 'pandas.core.frame.DataFrame'>\n",
      "RangeIndex: 103105024 entries, 0 to 103105023\n",
      "Data columns (total 3 columns):\n",
      "msno       category\n",
      "date       float32\n",
      "num_100    float32\n",
      "dtypes: category(1), float32(2)\n",
      "memory usage: 1.2 GB\n"
     ]
    }
   ],
   "source": [
    "user_logs1 = pd.read_csv('..\\\\data\\\\user_logs.csv',dtype=modified_column_types, usecols=cols)\n",
    "user_logs1.info()"
   ]
  },
  {
   "cell_type": "code",
   "execution_count": 160,
   "metadata": {},
   "outputs": [],
   "source": [
    "user_logs = pd.read_csv('..\\\\data\\\\refresh\\\\user_logs_v2.csv',dtype=modified_column_types, usecols=cols)"
   ]
  },
  {
   "cell_type": "code",
   "execution_count": 161,
   "metadata": {},
   "outputs": [],
   "source": [
    "user_logs = user_logs.append(user_logs1, ignore_index=True)"
   ]
  },
  {
   "cell_type": "code",
   "execution_count": 162,
   "metadata": {},
   "outputs": [
    {
     "data": {
      "text/plain": [
       "11837"
      ]
     },
     "execution_count": 162,
     "metadata": {},
     "output_type": "execute_result"
    }
   ],
   "source": [
    "del user_logs1\n",
    "gc.collect()"
   ]
  },
  {
   "cell_type": "code",
   "execution_count": 163,
   "metadata": {},
   "outputs": [
    {
     "data": {
      "text/plain": [
       "msno       0\n",
       "date       1\n",
       "num_100    1\n",
       "dtype: int64"
      ]
     },
     "execution_count": 163,
     "metadata": {},
     "output_type": "execute_result"
    }
   ],
   "source": [
    "user_logs.isnull().sum()"
   ]
  },
  {
   "cell_type": "code",
   "execution_count": 164,
   "metadata": {},
   "outputs": [],
   "source": [
    "user_logs.fillna(value = 0, inplace=True)"
   ]
  },
  {
   "cell_type": "code",
   "execution_count": 165,
   "metadata": {},
   "outputs": [],
   "source": [
    "user_logs['date'] = user_logs['date'].astype(dtype='uint32')\n",
    "user_logs['num_100'] = user_logs['num_100'].astype(dtype='uint16')"
   ]
  },
  {
   "cell_type": "code",
   "execution_count": 166,
   "metadata": {},
   "outputs": [
    {
     "data": {
      "text/plain": [
       "msno             0\n",
       "is_churn         0\n",
       "date        159018\n",
       "num_100     159018\n",
       "dtype: int64"
      ]
     },
     "execution_count": 166,
     "metadata": {},
     "output_type": "execute_result"
    }
   ],
   "source": [
    "# merging with  train and test\n",
    "train_logs = pd.merge(train,user_logs.sort_values(by=['msno','date']),on='msno',how='left')\n",
    "train_logs.isnull().sum()"
   ]
  },
  {
   "cell_type": "code",
   "execution_count": 167,
   "metadata": {},
   "outputs": [
    {
     "data": {
      "text/plain": [
       "msno             0\n",
       "is_churn         0\n",
       "date        151741\n",
       "num_100     151741\n",
       "dtype: int64"
      ]
     },
     "execution_count": 167,
     "metadata": {},
     "output_type": "execute_result"
    }
   ],
   "source": [
    "test_logs = pd.merge(test,user_logs.sort_values(by=['msno','date']),on='msno',how='left')\n",
    "test_logs.isnull().sum()"
   ]
  },
  {
   "cell_type": "code",
   "execution_count": 168,
   "metadata": {},
   "outputs": [
    {
     "data": {
      "text/plain": [
       "84"
      ]
     },
     "execution_count": 168,
     "metadata": {},
     "output_type": "execute_result"
    }
   ],
   "source": [
    "del user_logs\n",
    "gc.collect()"
   ]
  },
  {
   "cell_type": "code",
   "execution_count": 169,
   "metadata": {},
   "outputs": [],
   "source": [
    "# filling missing value for date and num_100\n",
    "train_logs['date'].fillna(value=0, inplace = True) #### should fill with registration date? or zeros\n",
    "test_logs['date'].fillna(value= 0, inplace = True)\n",
    "\n",
    "train_logs['num_100'].fillna(value=0, inplace = True)\n",
    "test_logs['num_100'].fillna(value=0, inplace = True)"
   ]
  },
  {
   "cell_type": "code",
   "execution_count": 170,
   "metadata": {},
   "outputs": [],
   "source": [
    "# castdown datatypes\n",
    "train_logs['date'] = train_logs['date'].astype(dtype='uint32')\n",
    "test_logs['date'] = test_logs['date'].astype(dtype='uint32')\n",
    "\n",
    "train_logs['num_100'] = train_logs['num_100'].astype(dtype='uint16')\n",
    "test_logs['num_100'] = test_logs['num_100'].astype(dtype='uint16')"
   ]
  },
  {
   "cell_type": "code",
   "execution_count": 171,
   "metadata": {},
   "outputs": [],
   "source": [
    "# Convert date\n",
    "train_logs['date_relative']= train_logs['date'].apply(lambda x: cutoff_date_train - ((x//10**4)*365 + (x%10**4)//10**2*30 + (x%10**4)%10**2))\n",
    "test_logs['date_relative']= test_logs['date'].apply(lambda x: cutoff_date_test - ((x//10**4)*365 + (x%10**4)//10**2*30 + (x%10**4)%10**2))"
   ]
  },
  {
   "cell_type": "code",
   "execution_count": 172,
   "metadata": {},
   "outputs": [],
   "source": [
    "# 1. number of song 100% in 1st month\n",
    "\n",
    "\n",
    "latest = train_logs[(train_logs['date_relative']>=0) & (train_logs['date_relative']<31)].groupby(by='msno')['num_100'].apply(lambda x: x.sum())\n",
    "latest_train = pd.DataFrame({'msno':latest.index, 'num_100_1m_1st':latest.values})\n",
    "\n",
    "latest = test_logs[(test_logs['date_relative']>=0) & (test_logs['date_relative']<31)].groupby(by='msno')['num_100'].apply(lambda x: x.sum())\n",
    "latest_test = pd.DataFrame({'msno':latest.index, 'num_100_1m_1st':latest.values})\n",
    "\n",
    "data_train = pd.merge(data_train,latest_train,on='msno',how='left')\n",
    "data_test = pd.merge(data_test,latest_test,on='msno',how='left')"
   ]
  },
  {
   "cell_type": "code",
   "execution_count": 173,
   "metadata": {},
   "outputs": [],
   "source": [
    "data_train['num_100_1m_1st'].fillna(0, inplace = True)\n",
    "data_test['num_100_1m_1st'].fillna(0, inplace = True)\n",
    "\n",
    "data_train['num_100_1m_1st']= data_train['num_100_1m_1st'].astype(dtype= 'uint32')\n",
    "data_test['num_100_1m_1st']= data_test['num_100_1m_1st'].astype(dtype= 'uint32')"
   ]
  },
  {
   "cell_type": "code",
   "execution_count": null,
   "metadata": {},
   "outputs": [],
   "source": []
  },
  {
   "cell_type": "code",
   "execution_count": 174,
   "metadata": {},
   "outputs": [],
   "source": [
    "# 2. number of song 100 in 2nd month\n",
    "latest = train_logs[(train_logs['date_relative']>=31) & (train_logs['date_relative']<62)].groupby(by='msno')['num_100'].apply(lambda x: x.sum())\n",
    "latest_train = pd.DataFrame({'msno':latest.index, 'num_100_1m_2nd':latest.values})\n",
    "\n",
    "latest = test_logs[(test_logs['date_relative']>=31) & (test_logs['date_relative']<62)].groupby(by='msno')['num_100'].apply(lambda x: x.sum())\n",
    "latest_test = pd.DataFrame({'msno':latest.index, 'num_100_1m_2nd':latest.values})\n",
    "\n",
    "data_train = pd.merge(data_train,latest_train,on='msno',how='left')\n",
    "data_test = pd.merge(data_test,latest_test,on='msno',how='left')"
   ]
  },
  {
   "cell_type": "code",
   "execution_count": 175,
   "metadata": {},
   "outputs": [],
   "source": [
    "data_train['num_100_1m_2nd'].fillna(0, inplace = True)\n",
    "data_test['num_100_1m_2nd'].fillna(0, inplace = True)\n",
    "\n",
    "data_train['num_100_1m_2nd']= data_train['num_100_1m_2nd'].astype(dtype= 'uint32')\n",
    "data_test['num_100_1m_2nd']= data_test['num_100_1m_2nd'].astype(dtype= 'uint32')"
   ]
  },
  {
   "cell_type": "code",
   "execution_count": 176,
   "metadata": {},
   "outputs": [],
   "source": [
    "#3. Trend num_100\n",
    "data_train['num_100_trend']= (data_train['num_100_1m_1st'] - data_train['num_100_1m_2nd'])/( data_train['num_100_1m_2nd'] + 0.001)\n",
    "\n",
    "data_test['num_100_trend']= (data_test['num_100_1m_1st'] - data_test['num_100_1m_2nd'])/( data_test['num_100_1m_2nd'] + 0.001)\n"
   ]
  },
  {
   "cell_type": "code",
   "execution_count": 177,
   "metadata": {},
   "outputs": [
    {
     "data": {
      "text/html": [
       "<div>\n",
       "<style scoped>\n",
       "    .dataframe tbody tr th:only-of-type {\n",
       "        vertical-align: middle;\n",
       "    }\n",
       "\n",
       "    .dataframe tbody tr th {\n",
       "        vertical-align: top;\n",
       "    }\n",
       "\n",
       "    .dataframe thead th {\n",
       "        text-align: right;\n",
       "    }\n",
       "</style>\n",
       "<table border=\"1\" class=\"dataframe\">\n",
       "  <thead>\n",
       "    <tr style=\"text-align: right;\">\n",
       "      <th></th>\n",
       "      <th>msno</th>\n",
       "      <th>is_churn</th>\n",
       "      <th>num_985_1m_1st</th>\n",
       "      <th>num_985_1m_2nd</th>\n",
       "      <th>num_985_trend</th>\n",
       "      <th>num_100_1m_1st</th>\n",
       "      <th>num_100_1m_2nd</th>\n",
       "      <th>num_100_trend</th>\n",
       "    </tr>\n",
       "  </thead>\n",
       "  <tbody>\n",
       "    <tr>\n",
       "      <th>0</th>\n",
       "      <td>waLDQMmcOu2jLDaV1ddDkgCrB/jl6sD66Xzs0Vqax1Y=</td>\n",
       "      <td>1</td>\n",
       "      <td>1</td>\n",
       "      <td>0</td>\n",
       "      <td>1.000000e+03</td>\n",
       "      <td>93</td>\n",
       "      <td>0</td>\n",
       "      <td>9.300000e+04</td>\n",
       "    </tr>\n",
       "    <tr>\n",
       "      <th>1</th>\n",
       "      <td>QA7uiXy8vIbUSPOkCf9RwQ3FsT8jVq2OxDr8zqa7bRQ=</td>\n",
       "      <td>1</td>\n",
       "      <td>0</td>\n",
       "      <td>0</td>\n",
       "      <td>0.000000e+00</td>\n",
       "      <td>0</td>\n",
       "      <td>0</td>\n",
       "      <td>0.000000e+00</td>\n",
       "    </tr>\n",
       "    <tr>\n",
       "      <th>2</th>\n",
       "      <td>fGwBva6hikQmTJzrbz/2Ezjm5Cth5jZUNvXigKK2AFA=</td>\n",
       "      <td>1</td>\n",
       "      <td>9</td>\n",
       "      <td>0</td>\n",
       "      <td>9.000000e+03</td>\n",
       "      <td>89</td>\n",
       "      <td>0</td>\n",
       "      <td>8.900000e+04</td>\n",
       "    </tr>\n",
       "    <tr>\n",
       "      <th>3</th>\n",
       "      <td>mT5V8rEpa+8wuqi6x0DoVd3H5icMKkE9Prt49UlmK+4=</td>\n",
       "      <td>1</td>\n",
       "      <td>37</td>\n",
       "      <td>0</td>\n",
       "      <td>3.700000e+04</td>\n",
       "      <td>230</td>\n",
       "      <td>0</td>\n",
       "      <td>2.300000e+05</td>\n",
       "    </tr>\n",
       "    <tr>\n",
       "      <th>4</th>\n",
       "      <td>XaPhtGLk/5UvvOYHcONTwsnH97P4eGECeq+BARGItRw=</td>\n",
       "      <td>1</td>\n",
       "      <td>0</td>\n",
       "      <td>15</td>\n",
       "      <td>2.863121e+08</td>\n",
       "      <td>0</td>\n",
       "      <td>1138</td>\n",
       "      <td>3.774132e+06</td>\n",
       "    </tr>\n",
       "  </tbody>\n",
       "</table>\n",
       "</div>"
      ],
      "text/plain": [
       "                                           msno  is_churn  num_985_1m_1st  \\\n",
       "0  waLDQMmcOu2jLDaV1ddDkgCrB/jl6sD66Xzs0Vqax1Y=         1               1   \n",
       "1  QA7uiXy8vIbUSPOkCf9RwQ3FsT8jVq2OxDr8zqa7bRQ=         1               0   \n",
       "2  fGwBva6hikQmTJzrbz/2Ezjm5Cth5jZUNvXigKK2AFA=         1               9   \n",
       "3  mT5V8rEpa+8wuqi6x0DoVd3H5icMKkE9Prt49UlmK+4=         1              37   \n",
       "4  XaPhtGLk/5UvvOYHcONTwsnH97P4eGECeq+BARGItRw=         1               0   \n",
       "\n",
       "   num_985_1m_2nd  num_985_trend  num_100_1m_1st  num_100_1m_2nd  \\\n",
       "0               0   1.000000e+03              93               0   \n",
       "1               0   0.000000e+00               0               0   \n",
       "2               0   9.000000e+03              89               0   \n",
       "3               0   3.700000e+04             230               0   \n",
       "4              15   2.863121e+08               0            1138   \n",
       "\n",
       "   num_100_trend  \n",
       "0   9.300000e+04  \n",
       "1   0.000000e+00  \n",
       "2   8.900000e+04  \n",
       "3   2.300000e+05  \n",
       "4   3.774132e+06  "
      ]
     },
     "execution_count": 177,
     "metadata": {},
     "output_type": "execute_result"
    }
   ],
   "source": [
    "data_train.head()"
   ]
  },
  {
   "cell_type": "code",
   "execution_count": 178,
   "metadata": {},
   "outputs": [
    {
     "data": {
      "text/html": [
       "<div>\n",
       "<style scoped>\n",
       "    .dataframe tbody tr th:only-of-type {\n",
       "        vertical-align: middle;\n",
       "    }\n",
       "\n",
       "    .dataframe tbody tr th {\n",
       "        vertical-align: top;\n",
       "    }\n",
       "\n",
       "    .dataframe thead th {\n",
       "        text-align: right;\n",
       "    }\n",
       "</style>\n",
       "<table border=\"1\" class=\"dataframe\">\n",
       "  <thead>\n",
       "    <tr style=\"text-align: right;\">\n",
       "      <th></th>\n",
       "      <th>msno</th>\n",
       "      <th>is_churn</th>\n",
       "      <th>num_985_1m_1st</th>\n",
       "      <th>num_985_1m_2nd</th>\n",
       "      <th>num_985_trend</th>\n",
       "      <th>num_100_1m_1st</th>\n",
       "      <th>num_100_1m_2nd</th>\n",
       "      <th>num_100_trend</th>\n",
       "    </tr>\n",
       "  </thead>\n",
       "  <tbody>\n",
       "    <tr>\n",
       "      <th>0</th>\n",
       "      <td>4n+fXlyJvfQnTeKXTWT507Ll4JVYGrOC8LHCfwBmPE4=</td>\n",
       "      <td>0</td>\n",
       "      <td>0</td>\n",
       "      <td>0</td>\n",
       "      <td>0.000000</td>\n",
       "      <td>0</td>\n",
       "      <td>0</td>\n",
       "      <td>0.000000e+00</td>\n",
       "    </tr>\n",
       "    <tr>\n",
       "      <th>1</th>\n",
       "      <td>aNmbC1GvFUxQyQUidCVmfbQ0YeCuwkPzEdQ0RwWyeZM=</td>\n",
       "      <td>0</td>\n",
       "      <td>119</td>\n",
       "      <td>6</td>\n",
       "      <td>18.830195</td>\n",
       "      <td>1493</td>\n",
       "      <td>112</td>\n",
       "      <td>1.233025e+01</td>\n",
       "    </tr>\n",
       "    <tr>\n",
       "      <th>2</th>\n",
       "      <td>rFC9eSG/tMuzpre6cwcMLZHEYM89xY02qcz7HL4//jc=</td>\n",
       "      <td>0</td>\n",
       "      <td>2</td>\n",
       "      <td>1</td>\n",
       "      <td>0.999001</td>\n",
       "      <td>81</td>\n",
       "      <td>54</td>\n",
       "      <td>4.999907e-01</td>\n",
       "    </tr>\n",
       "    <tr>\n",
       "      <th>3</th>\n",
       "      <td>WZ59dLyrQcE7ft06MZ5dj40BnlYQY7PHgg/54+HaCSE=</td>\n",
       "      <td>0</td>\n",
       "      <td>0</td>\n",
       "      <td>0</td>\n",
       "      <td>0.000000</td>\n",
       "      <td>0</td>\n",
       "      <td>0</td>\n",
       "      <td>0.000000e+00</td>\n",
       "    </tr>\n",
       "    <tr>\n",
       "      <th>4</th>\n",
       "      <td>aky/Iv8hMp1/V/yQHLtaVuEmmAxkB5GuasQZePJ7NU4=</td>\n",
       "      <td>0</td>\n",
       "      <td>0</td>\n",
       "      <td>0</td>\n",
       "      <td>0.000000</td>\n",
       "      <td>0</td>\n",
       "      <td>25</td>\n",
       "      <td>1.717918e+08</td>\n",
       "    </tr>\n",
       "  </tbody>\n",
       "</table>\n",
       "</div>"
      ],
      "text/plain": [
       "                                           msno  is_churn  num_985_1m_1st  \\\n",
       "0  4n+fXlyJvfQnTeKXTWT507Ll4JVYGrOC8LHCfwBmPE4=         0               0   \n",
       "1  aNmbC1GvFUxQyQUidCVmfbQ0YeCuwkPzEdQ0RwWyeZM=         0             119   \n",
       "2  rFC9eSG/tMuzpre6cwcMLZHEYM89xY02qcz7HL4//jc=         0               2   \n",
       "3  WZ59dLyrQcE7ft06MZ5dj40BnlYQY7PHgg/54+HaCSE=         0               0   \n",
       "4  aky/Iv8hMp1/V/yQHLtaVuEmmAxkB5GuasQZePJ7NU4=         0               0   \n",
       "\n",
       "   num_985_1m_2nd  num_985_trend  num_100_1m_1st  num_100_1m_2nd  \\\n",
       "0               0       0.000000               0               0   \n",
       "1               6      18.830195            1493             112   \n",
       "2               1       0.999001              81              54   \n",
       "3               0       0.000000               0               0   \n",
       "4               0       0.000000               0              25   \n",
       "\n",
       "   num_100_trend  \n",
       "0   0.000000e+00  \n",
       "1   1.233025e+01  \n",
       "2   4.999907e-01  \n",
       "3   0.000000e+00  \n",
       "4   1.717918e+08  "
      ]
     },
     "execution_count": 178,
     "metadata": {},
     "output_type": "execute_result"
    }
   ],
   "source": [
    "data_test.head()"
   ]
  },
  {
   "cell_type": "code",
   "execution_count": 179,
   "metadata": {},
   "outputs": [],
   "source": [
    "data_test.to_csv('features\\\\test_logs_part3.csv',index=False) \n",
    "data_train.to_csv('features\\\\train_logs_part3.csv',index=False)"
   ]
  },
  {
   "cell_type": "code",
   "execution_count": 180,
   "metadata": {},
   "outputs": [
    {
     "data": {
      "text/plain": [
       "112"
      ]
     },
     "execution_count": 180,
     "metadata": {},
     "output_type": "execute_result"
    }
   ],
   "source": [
    "del data_train, data_test\n",
    "gc.collect()"
   ]
  },
  {
   "cell_type": "markdown",
   "metadata": {},
   "source": [
    "### 2.6 EDA and Featuring num_unq"
   ]
  },
  {
   "cell_type": "code",
   "execution_count": 181,
   "metadata": {},
   "outputs": [],
   "source": [
    "data_train = train\n",
    "data_test = test\n"
   ]
  },
  {
   "cell_type": "code",
   "execution_count": 182,
   "metadata": {},
   "outputs": [],
   "source": [
    "cols = ['msno','date','num_unq']"
   ]
  },
  {
   "cell_type": "code",
   "execution_count": 183,
   "metadata": {},
   "outputs": [
    {
     "name": "stdout",
     "output_type": "stream",
     "text": [
      "<class 'pandas.core.frame.DataFrame'>\n",
      "RangeIndex: 103105024 entries, 0 to 103105023\n",
      "Data columns (total 3 columns):\n",
      "msno       category\n",
      "date       float32\n",
      "num_unq    float32\n",
      "dtypes: category(1), float32(2)\n",
      "memory usage: 1.2 GB\n"
     ]
    }
   ],
   "source": [
    "user_logs1 = pd.read_csv('..\\\\data\\\\user_logs.csv',dtype=modified_column_types, usecols=cols)\n",
    "user_logs1.info()"
   ]
  },
  {
   "cell_type": "code",
   "execution_count": 184,
   "metadata": {},
   "outputs": [],
   "source": [
    "user_logs = pd.read_csv('..\\\\data\\\\refresh\\\\user_logs_v2.csv',dtype=modified_column_types, usecols=cols)"
   ]
  },
  {
   "cell_type": "code",
   "execution_count": 185,
   "metadata": {},
   "outputs": [],
   "source": [
    "user_logs = user_logs.append(user_logs1, ignore_index=True)"
   ]
  },
  {
   "cell_type": "code",
   "execution_count": 186,
   "metadata": {},
   "outputs": [
    {
     "data": {
      "text/plain": [
       "12222"
      ]
     },
     "execution_count": 186,
     "metadata": {},
     "output_type": "execute_result"
    }
   ],
   "source": [
    "del user_logs1\n",
    "gc.collect()"
   ]
  },
  {
   "cell_type": "code",
   "execution_count": 187,
   "metadata": {},
   "outputs": [
    {
     "data": {
      "text/plain": [
       "msno       0\n",
       "date       1\n",
       "num_unq    1\n",
       "dtype: int64"
      ]
     },
     "execution_count": 187,
     "metadata": {},
     "output_type": "execute_result"
    }
   ],
   "source": [
    "user_logs.isnull().sum()"
   ]
  },
  {
   "cell_type": "code",
   "execution_count": 188,
   "metadata": {},
   "outputs": [],
   "source": [
    "user_logs.fillna(value = 0, inplace=True)"
   ]
  },
  {
   "cell_type": "code",
   "execution_count": 189,
   "metadata": {},
   "outputs": [],
   "source": [
    "user_logs['date'] = user_logs['date'].astype(dtype='uint32')\n",
    "user_logs['num_unq'] = user_logs['num_unq'].astype(dtype='uint16')"
   ]
  },
  {
   "cell_type": "code",
   "execution_count": 190,
   "metadata": {},
   "outputs": [
    {
     "data": {
      "text/plain": [
       "msno             0\n",
       "is_churn         0\n",
       "date        159018\n",
       "num_unq     159018\n",
       "dtype: int64"
      ]
     },
     "execution_count": 190,
     "metadata": {},
     "output_type": "execute_result"
    }
   ],
   "source": [
    "# merging with  train and test\n",
    "train_logs = pd.merge(train,user_logs.sort_values(by=['msno','date']),on='msno',how='left')\n",
    "train_logs.isnull().sum()"
   ]
  },
  {
   "cell_type": "code",
   "execution_count": 191,
   "metadata": {},
   "outputs": [
    {
     "data": {
      "text/plain": [
       "msno             0\n",
       "is_churn         0\n",
       "date        151741\n",
       "num_unq     151741\n",
       "dtype: int64"
      ]
     },
     "execution_count": 191,
     "metadata": {},
     "output_type": "execute_result"
    }
   ],
   "source": [
    "test_logs = pd.merge(test,user_logs.sort_values(by=['msno','date']),on='msno',how='left')\n",
    "test_logs.isnull().sum()"
   ]
  },
  {
   "cell_type": "code",
   "execution_count": 192,
   "metadata": {},
   "outputs": [
    {
     "data": {
      "text/plain": [
       "84"
      ]
     },
     "execution_count": 192,
     "metadata": {},
     "output_type": "execute_result"
    }
   ],
   "source": [
    "del user_logs\n",
    "gc.collect()"
   ]
  },
  {
   "cell_type": "code",
   "execution_count": 193,
   "metadata": {},
   "outputs": [],
   "source": [
    "# filling missing value for date and num_100\n",
    "train_logs['date'].fillna(value=0, inplace = True) #### should fill with registration date? or zeros\n",
    "test_logs['date'].fillna(value= 0, inplace = True)\n",
    "\n",
    "train_logs['num_unq'].fillna(value=0, inplace = True)\n",
    "test_logs['num_unq'].fillna(value=0, inplace = True)"
   ]
  },
  {
   "cell_type": "code",
   "execution_count": 194,
   "metadata": {},
   "outputs": [],
   "source": [
    "# castdown datatypes\n",
    "train_logs['date'] = train_logs['date'].astype(dtype='uint32')\n",
    "test_logs['date'] = test_logs['date'].astype(dtype='uint32')\n",
    "\n",
    "train_logs['num_unq'] = train_logs['num_unq'].astype(dtype='uint16')\n",
    "test_logs['num_unq'] = test_logs['num_unq'].astype(dtype='uint16')"
   ]
  },
  {
   "cell_type": "code",
   "execution_count": 195,
   "metadata": {},
   "outputs": [],
   "source": [
    "# Convert date\n",
    "train_logs['date_relative']= train_logs['date'].apply(lambda x: cutoff_date_train - ((x//10**4)*365 + (x%10**4)//10**2*30 + (x%10**4)%10**2))\n",
    "test_logs['date_relative']= test_logs['date'].apply(lambda x: cutoff_date_test - ((x//10**4)*365 + (x%10**4)//10**2*30 + (x%10**4)%10**2))"
   ]
  },
  {
   "cell_type": "code",
   "execution_count": 196,
   "metadata": {},
   "outputs": [],
   "source": [
    "# 1. number of song unq in 1st month\n",
    "\n",
    "\n",
    "latest = train_logs[(train_logs['date_relative']>=0) & (train_logs['date_relative']<31)].groupby(by='msno')['num_unq'].apply(lambda x: x.sum())\n",
    "latest_train = pd.DataFrame({'msno':latest.index, 'num_unq_1m_1st':latest.values})\n",
    "\n",
    "latest = test_logs[(test_logs['date_relative']>=0) & (test_logs['date_relative']<31)].groupby(by='msno')['num_unq'].apply(lambda x: x.sum())\n",
    "latest_test = pd.DataFrame({'msno':latest.index, 'num_unq_1m_1st':latest.values})\n",
    "\n",
    "data_train = pd.merge(data_train,latest_train,on='msno',how='left')\n",
    "data_test = pd.merge(data_test,latest_test,on='msno',how='left')"
   ]
  },
  {
   "cell_type": "code",
   "execution_count": 197,
   "metadata": {},
   "outputs": [],
   "source": [
    "data_train['num_unq_1m_1st'].fillna(0, inplace = True)\n",
    "data_test['num_unq_1m_1st'].fillna(0, inplace = True)\n",
    "\n",
    "data_train['num_unq_1m_1st']= data_train['num_unq_1m_1st'].astype(dtype= 'uint32')\n",
    "data_test['num_unq_1m_1st']= data_test['num_unq_1m_1st'].astype(dtype= 'uint32')"
   ]
  },
  {
   "cell_type": "code",
   "execution_count": 198,
   "metadata": {},
   "outputs": [],
   "source": [
    "# 2. number of song unq in 2nd month\n",
    "latest = train_logs[(train_logs['date_relative']>=31) & (train_logs['date_relative']<62)].groupby(by='msno')['num_unq'].apply(lambda x: x.sum())\n",
    "latest_train = pd.DataFrame({'msno':latest.index, 'num_unq_1m_2nd':latest.values})\n",
    "\n",
    "latest = test_logs[(test_logs['date_relative']>=31) & (test_logs['date_relative']<62)].groupby(by='msno')['num_unq'].apply(lambda x: x.sum())\n",
    "latest_test = pd.DataFrame({'msno':latest.index, 'num_unq_1m_2nd':latest.values})\n",
    "\n",
    "data_train = pd.merge(data_train,latest_train,on='msno',how='left')\n",
    "data_test = pd.merge(data_test,latest_test,on='msno',how='left')"
   ]
  },
  {
   "cell_type": "code",
   "execution_count": 199,
   "metadata": {},
   "outputs": [],
   "source": [
    "data_train['num_unq_1m_2nd'].fillna(0, inplace = True)\n",
    "data_test['num_unq_1m_2nd'].fillna(0, inplace = True)\n",
    "\n",
    "data_train['num_unq_1m_2nd']= data_train['num_unq_1m_2nd'].astype(dtype= 'uint32')\n",
    "data_test['num_unq_1m_2nd']= data_test['num_unq_1m_2nd'].astype(dtype= 'uint32')"
   ]
  },
  {
   "cell_type": "code",
   "execution_count": 200,
   "metadata": {},
   "outputs": [],
   "source": [
    "#3. Trend num_unq\n",
    "data_train['num_unq_trend']= (data_train['num_unq_1m_1st'] - data_train['num_unq_1m_2nd'])/( data_train['num_unq_1m_2nd'] + 0.001)\n",
    "\n",
    "data_test['num_unq_trend']= (data_test['num_unq_1m_1st'] - data_test['num_unq_1m_2nd'])/( data_test['num_unq_1m_2nd'] + 0.001)\n"
   ]
  },
  {
   "cell_type": "code",
   "execution_count": 201,
   "metadata": {},
   "outputs": [
    {
     "data": {
      "text/html": [
       "<div>\n",
       "<style scoped>\n",
       "    .dataframe tbody tr th:only-of-type {\n",
       "        vertical-align: middle;\n",
       "    }\n",
       "\n",
       "    .dataframe tbody tr th {\n",
       "        vertical-align: top;\n",
       "    }\n",
       "\n",
       "    .dataframe thead th {\n",
       "        text-align: right;\n",
       "    }\n",
       "</style>\n",
       "<table border=\"1\" class=\"dataframe\">\n",
       "  <thead>\n",
       "    <tr style=\"text-align: right;\">\n",
       "      <th></th>\n",
       "      <th>msno</th>\n",
       "      <th>is_churn</th>\n",
       "      <th>num_unq_1m_1st</th>\n",
       "      <th>num_unq_1m_2nd</th>\n",
       "      <th>num_unq_trend</th>\n",
       "    </tr>\n",
       "  </thead>\n",
       "  <tbody>\n",
       "    <tr>\n",
       "      <th>0</th>\n",
       "      <td>waLDQMmcOu2jLDaV1ddDkgCrB/jl6sD66Xzs0Vqax1Y=</td>\n",
       "      <td>1</td>\n",
       "      <td>105</td>\n",
       "      <td>0</td>\n",
       "      <td>1.050000e+05</td>\n",
       "    </tr>\n",
       "    <tr>\n",
       "      <th>1</th>\n",
       "      <td>QA7uiXy8vIbUSPOkCf9RwQ3FsT8jVq2OxDr8zqa7bRQ=</td>\n",
       "      <td>1</td>\n",
       "      <td>0</td>\n",
       "      <td>0</td>\n",
       "      <td>0.000000e+00</td>\n",
       "    </tr>\n",
       "    <tr>\n",
       "      <th>2</th>\n",
       "      <td>fGwBva6hikQmTJzrbz/2Ezjm5Cth5jZUNvXigKK2AFA=</td>\n",
       "      <td>1</td>\n",
       "      <td>119</td>\n",
       "      <td>0</td>\n",
       "      <td>1.190000e+05</td>\n",
       "    </tr>\n",
       "    <tr>\n",
       "      <th>3</th>\n",
       "      <td>mT5V8rEpa+8wuqi6x0DoVd3H5icMKkE9Prt49UlmK+4=</td>\n",
       "      <td>1</td>\n",
       "      <td>299</td>\n",
       "      <td>0</td>\n",
       "      <td>2.990000e+05</td>\n",
       "    </tr>\n",
       "    <tr>\n",
       "      <th>4</th>\n",
       "      <td>XaPhtGLk/5UvvOYHcONTwsnH97P4eGECeq+BARGItRw=</td>\n",
       "      <td>1</td>\n",
       "      <td>0</td>\n",
       "      <td>1124</td>\n",
       "      <td>3.821141e+06</td>\n",
       "    </tr>\n",
       "  </tbody>\n",
       "</table>\n",
       "</div>"
      ],
      "text/plain": [
       "                                           msno  is_churn  num_unq_1m_1st  \\\n",
       "0  waLDQMmcOu2jLDaV1ddDkgCrB/jl6sD66Xzs0Vqax1Y=         1             105   \n",
       "1  QA7uiXy8vIbUSPOkCf9RwQ3FsT8jVq2OxDr8zqa7bRQ=         1               0   \n",
       "2  fGwBva6hikQmTJzrbz/2Ezjm5Cth5jZUNvXigKK2AFA=         1             119   \n",
       "3  mT5V8rEpa+8wuqi6x0DoVd3H5icMKkE9Prt49UlmK+4=         1             299   \n",
       "4  XaPhtGLk/5UvvOYHcONTwsnH97P4eGECeq+BARGItRw=         1               0   \n",
       "\n",
       "   num_unq_1m_2nd  num_unq_trend  \n",
       "0               0   1.050000e+05  \n",
       "1               0   0.000000e+00  \n",
       "2               0   1.190000e+05  \n",
       "3               0   2.990000e+05  \n",
       "4            1124   3.821141e+06  "
      ]
     },
     "execution_count": 201,
     "metadata": {},
     "output_type": "execute_result"
    }
   ],
   "source": [
    "data_train.head()"
   ]
  },
  {
   "cell_type": "code",
   "execution_count": 202,
   "metadata": {},
   "outputs": [
    {
     "data": {
      "text/html": [
       "<div>\n",
       "<style scoped>\n",
       "    .dataframe tbody tr th:only-of-type {\n",
       "        vertical-align: middle;\n",
       "    }\n",
       "\n",
       "    .dataframe tbody tr th {\n",
       "        vertical-align: top;\n",
       "    }\n",
       "\n",
       "    .dataframe thead th {\n",
       "        text-align: right;\n",
       "    }\n",
       "</style>\n",
       "<table border=\"1\" class=\"dataframe\">\n",
       "  <thead>\n",
       "    <tr style=\"text-align: right;\">\n",
       "      <th></th>\n",
       "      <th>msno</th>\n",
       "      <th>is_churn</th>\n",
       "      <th>num_unq_1m_1st</th>\n",
       "      <th>num_unq_1m_2nd</th>\n",
       "      <th>num_unq_trend</th>\n",
       "    </tr>\n",
       "  </thead>\n",
       "  <tbody>\n",
       "    <tr>\n",
       "      <th>0</th>\n",
       "      <td>4n+fXlyJvfQnTeKXTWT507Ll4JVYGrOC8LHCfwBmPE4=</td>\n",
       "      <td>0</td>\n",
       "      <td>0</td>\n",
       "      <td>0</td>\n",
       "      <td>0.000000e+00</td>\n",
       "    </tr>\n",
       "    <tr>\n",
       "      <th>1</th>\n",
       "      <td>aNmbC1GvFUxQyQUidCVmfbQ0YeCuwkPzEdQ0RwWyeZM=</td>\n",
       "      <td>0</td>\n",
       "      <td>2034</td>\n",
       "      <td>120</td>\n",
       "      <td>1.594987e+01</td>\n",
       "    </tr>\n",
       "    <tr>\n",
       "      <th>2</th>\n",
       "      <td>rFC9eSG/tMuzpre6cwcMLZHEYM89xY02qcz7HL4//jc=</td>\n",
       "      <td>0</td>\n",
       "      <td>147</td>\n",
       "      <td>105</td>\n",
       "      <td>3.999962e-01</td>\n",
       "    </tr>\n",
       "    <tr>\n",
       "      <th>3</th>\n",
       "      <td>WZ59dLyrQcE7ft06MZ5dj40BnlYQY7PHgg/54+HaCSE=</td>\n",
       "      <td>0</td>\n",
       "      <td>0</td>\n",
       "      <td>0</td>\n",
       "      <td>0.000000e+00</td>\n",
       "    </tr>\n",
       "    <tr>\n",
       "      <th>4</th>\n",
       "      <td>aky/Iv8hMp1/V/yQHLtaVuEmmAxkB5GuasQZePJ7NU4=</td>\n",
       "      <td>0</td>\n",
       "      <td>0</td>\n",
       "      <td>23</td>\n",
       "      <td>1.867296e+08</td>\n",
       "    </tr>\n",
       "  </tbody>\n",
       "</table>\n",
       "</div>"
      ],
      "text/plain": [
       "                                           msno  is_churn  num_unq_1m_1st  \\\n",
       "0  4n+fXlyJvfQnTeKXTWT507Ll4JVYGrOC8LHCfwBmPE4=         0               0   \n",
       "1  aNmbC1GvFUxQyQUidCVmfbQ0YeCuwkPzEdQ0RwWyeZM=         0            2034   \n",
       "2  rFC9eSG/tMuzpre6cwcMLZHEYM89xY02qcz7HL4//jc=         0             147   \n",
       "3  WZ59dLyrQcE7ft06MZ5dj40BnlYQY7PHgg/54+HaCSE=         0               0   \n",
       "4  aky/Iv8hMp1/V/yQHLtaVuEmmAxkB5GuasQZePJ7NU4=         0               0   \n",
       "\n",
       "   num_unq_1m_2nd  num_unq_trend  \n",
       "0               0   0.000000e+00  \n",
       "1             120   1.594987e+01  \n",
       "2             105   3.999962e-01  \n",
       "3               0   0.000000e+00  \n",
       "4              23   1.867296e+08  "
      ]
     },
     "execution_count": 202,
     "metadata": {},
     "output_type": "execute_result"
    }
   ],
   "source": [
    "data_test.head()"
   ]
  },
  {
   "cell_type": "code",
   "execution_count": 203,
   "metadata": {},
   "outputs": [
    {
     "data": {
      "text/plain": [
       "112"
      ]
     },
     "execution_count": 203,
     "metadata": {},
     "output_type": "execute_result"
    }
   ],
   "source": [
    "del train_logs, test_logs\n",
    "gc.collect()"
   ]
  },
  {
   "cell_type": "markdown",
   "metadata": {},
   "source": [
    "### 2.7 total_secs"
   ]
  },
  {
   "cell_type": "code",
   "execution_count": 204,
   "metadata": {},
   "outputs": [],
   "source": [
    "cols = ['msno','date','total_secs']"
   ]
  },
  {
   "cell_type": "code",
   "execution_count": 205,
   "metadata": {},
   "outputs": [
    {
     "name": "stdout",
     "output_type": "stream",
     "text": [
      "<class 'pandas.core.frame.DataFrame'>\n",
      "RangeIndex: 103105024 entries, 0 to 103105023\n",
      "Data columns (total 3 columns):\n",
      "msno          category\n",
      "date          float32\n",
      "total_secs    float32\n",
      "dtypes: category(1), float32(2)\n",
      "memory usage: 1.2 GB\n"
     ]
    }
   ],
   "source": [
    "user_logs1 = pd.read_csv('..\\\\data\\\\user_logs.csv',dtype=modified_column_types, usecols=cols)\n",
    "user_logs1.info()"
   ]
  },
  {
   "cell_type": "code",
   "execution_count": 206,
   "metadata": {},
   "outputs": [],
   "source": [
    "user_logs = pd.read_csv('..\\\\data\\\\refresh\\\\user_logs_v2.csv',dtype=modified_column_types, usecols=cols)"
   ]
  },
  {
   "cell_type": "code",
   "execution_count": 207,
   "metadata": {},
   "outputs": [],
   "source": [
    "user_logs = user_logs.append(user_logs1, ignore_index=True)"
   ]
  },
  {
   "cell_type": "code",
   "execution_count": 208,
   "metadata": {},
   "outputs": [
    {
     "data": {
      "text/plain": [
       "12215"
      ]
     },
     "execution_count": 208,
     "metadata": {},
     "output_type": "execute_result"
    }
   ],
   "source": [
    "del user_logs1\n",
    "gc.collect()"
   ]
  },
  {
   "cell_type": "code",
   "execution_count": 209,
   "metadata": {},
   "outputs": [
    {
     "data": {
      "text/plain": [
       "msno          0\n",
       "date          1\n",
       "total_secs    1\n",
       "dtype: int64"
      ]
     },
     "execution_count": 209,
     "metadata": {},
     "output_type": "execute_result"
    }
   ],
   "source": [
    "user_logs.isnull().sum()"
   ]
  },
  {
   "cell_type": "code",
   "execution_count": 210,
   "metadata": {},
   "outputs": [],
   "source": [
    "user_logs.fillna(value = 0, inplace=True)"
   ]
  },
  {
   "cell_type": "code",
   "execution_count": 211,
   "metadata": {},
   "outputs": [],
   "source": [
    "user_logs['date'] = user_logs['date'].astype(dtype='uint32')\n",
    "#user_logs['total_secs'] = user_logs['total_secs'].astype(dtype='uint16')"
   ]
  },
  {
   "cell_type": "code",
   "execution_count": 212,
   "metadata": {},
   "outputs": [
    {
     "data": {
      "text/plain": [
       "msno               0\n",
       "is_churn           0\n",
       "date          159018\n",
       "total_secs    159018\n",
       "dtype: int64"
      ]
     },
     "execution_count": 212,
     "metadata": {},
     "output_type": "execute_result"
    }
   ],
   "source": [
    "# merging with  train and test\n",
    "train_logs = pd.merge(train,user_logs.sort_values(by=['msno','date']),on='msno',how='left')\n",
    "train_logs.isnull().sum()"
   ]
  },
  {
   "cell_type": "code",
   "execution_count": 213,
   "metadata": {},
   "outputs": [
    {
     "data": {
      "text/plain": [
       "msno               0\n",
       "is_churn           0\n",
       "date          151741\n",
       "total_secs    151741\n",
       "dtype: int64"
      ]
     },
     "execution_count": 213,
     "metadata": {},
     "output_type": "execute_result"
    }
   ],
   "source": [
    "test_logs = pd.merge(test,user_logs.sort_values(by=['msno','date']),on='msno',how='left')\n",
    "test_logs.isnull().sum()"
   ]
  },
  {
   "cell_type": "code",
   "execution_count": 214,
   "metadata": {},
   "outputs": [
    {
     "data": {
      "text/plain": [
       "70"
      ]
     },
     "execution_count": 214,
     "metadata": {},
     "output_type": "execute_result"
    }
   ],
   "source": [
    "del user_logs\n",
    "gc.collect()"
   ]
  },
  {
   "cell_type": "code",
   "execution_count": 215,
   "metadata": {},
   "outputs": [],
   "source": [
    "# filling missing value for date and num_100\n",
    "train_logs['date'].fillna(value=0, inplace = True) #### should fill with registration date? or zeros\n",
    "test_logs['date'].fillna(value= 0, inplace = True)\n",
    "\n",
    "train_logs['total_secs'].fillna(value=0, inplace = True)\n",
    "test_logs['total_secs'].fillna(value=0, inplace = True)"
   ]
  },
  {
   "cell_type": "code",
   "execution_count": 216,
   "metadata": {},
   "outputs": [],
   "source": [
    "# castdown datatypes\n",
    "train_logs['date'] = train_logs['date'].astype(dtype='uint32')\n",
    "test_logs['date'] = test_logs['date'].astype(dtype='uint32')\n",
    "\n",
    "train_logs['total_secs'] = train_logs['total_secs'].astype(dtype='float32')\n",
    "test_logs['total_secs'] = test_logs['total_secs'].astype(dtype='float32')"
   ]
  },
  {
   "cell_type": "code",
   "execution_count": 217,
   "metadata": {},
   "outputs": [],
   "source": [
    "# Convert date\n",
    "train_logs['date_relative']= train_logs['date'].apply(lambda x: cutoff_date_train - ((x//10**4)*365 + (x%10**4)//10**2*30 + (x%10**4)%10**2))\n",
    "test_logs['date_relative']= test_logs['date'].apply(lambda x: cutoff_date_test - ((x//10**4)*365 + (x%10**4)//10**2*30 + (x%10**4)%10**2))"
   ]
  },
  {
   "cell_type": "code",
   "execution_count": 218,
   "metadata": {},
   "outputs": [],
   "source": [
    "# 1. total_secs in 1st m ->convert to minute\n",
    "\n",
    "\n",
    "latest = train_logs[(train_logs['date_relative']>=0) & (train_logs['date_relative']<31)].groupby(by='msno')['total_secs'].apply(lambda x: x.sum())\n",
    "latest_train = pd.DataFrame({'msno':latest.index, 'total_secs_1m_1st':latest.values/60})\n",
    "\n",
    "latest = test_logs[(test_logs['date_relative']>=0) & (test_logs['date_relative']<31)].groupby(by='msno')['total_secs'].apply(lambda x: x.sum())\n",
    "latest_test = pd.DataFrame({'msno':latest.index, 'total_secs_1m_1st':latest.values/60})\n",
    "\n",
    "data_train = pd.merge(data_train,latest_train,on='msno',how='left')\n",
    "data_test = pd.merge(data_test,latest_test,on='msno',how='left')"
   ]
  },
  {
   "cell_type": "code",
   "execution_count": 219,
   "metadata": {},
   "outputs": [
    {
     "name": "stdout",
     "output_type": "stream",
     "text": [
      "<class 'pandas.core.frame.DataFrame'>\n",
      "Int64Index: 992931 entries, 0 to 992930\n",
      "Data columns (total 6 columns):\n",
      "msno                 992931 non-null object\n",
      "is_churn             992931 non-null uint8\n",
      "num_unq_1m_1st       992931 non-null uint32\n",
      "num_unq_1m_2nd       992931 non-null uint32\n",
      "num_unq_trend        992931 non-null float64\n",
      "total_secs_1m_1st    460143 non-null float64\n",
      "dtypes: float64(2), object(1), uint32(2), uint8(1)\n",
      "memory usage: 38.8+ MB\n"
     ]
    }
   ],
   "source": [
    "data_train.info()"
   ]
  },
  {
   "cell_type": "code",
   "execution_count": 220,
   "metadata": {},
   "outputs": [],
   "source": [
    "data_train['total_secs_1m_1st'].fillna(0, inplace = True)\n",
    "data_test['total_secs_1m_1st'].fillna(0, inplace = True)\n",
    "\n",
    "data_train['total_secs_1m_1st']= data_train['total_secs_1m_1st'].astype(dtype= 'float32')\n",
    "data_test['total_secs_1m_1st']= data_test['total_secs_1m_1st'].astype(dtype= 'float32')"
   ]
  },
  {
   "cell_type": "code",
   "execution_count": 221,
   "metadata": {},
   "outputs": [],
   "source": [
    "# 2. total_secs in 2nd month\n",
    "latest = train_logs[(train_logs['date_relative']>=31) & (train_logs['date_relative']<62)].groupby(by='msno')['total_secs'].apply(lambda x: x.sum())\n",
    "latest_train = pd.DataFrame({'msno':latest.index, 'total_secs_1m_2nd':latest.values/60})\n",
    "\n",
    "latest = test_logs[(test_logs['date_relative']>=31) & (test_logs['date_relative']<62)].groupby(by='msno')['total_secs'].apply(lambda x: x.sum())\n",
    "latest_test = pd.DataFrame({'msno':latest.index, 'total_secs_1m_2nd':latest.values/60})\n",
    "\n",
    "data_train = pd.merge(data_train,latest_train,on='msno',how='left')\n",
    "data_test = pd.merge(data_test,latest_test,on='msno',how='left')"
   ]
  },
  {
   "cell_type": "code",
   "execution_count": 222,
   "metadata": {},
   "outputs": [],
   "source": [
    "data_train['total_secs_1m_2nd'].fillna(0, inplace = True)\n",
    "data_test['total_secs_1m_2nd'].fillna(0, inplace = True)\n",
    "\n",
    "data_train['total_secs_1m_2nd']= data_train['total_secs_1m_2nd'].astype(dtype= 'float32')\n",
    "data_test['total_secs_1m_2nd']= data_test['total_secs_1m_2nd'].astype(dtype= 'float32')"
   ]
  },
  {
   "cell_type": "code",
   "execution_count": 223,
   "metadata": {},
   "outputs": [],
   "source": [
    "#3. Trend num_unq\n",
    "data_train['total_secs_trend']= (data_train['total_secs_1m_1st'] - data_train['total_secs_1m_2nd'])/( data_train['total_secs_1m_2nd'] + 0.001)\n",
    "\n",
    "data_test['total_secs_trend']= (data_test['total_secs_1m_1st'] - data_test['total_secs_1m_2nd'])/( data_test['total_secs_1m_2nd'] + 0.001)\n"
   ]
  },
  {
   "cell_type": "code",
   "execution_count": 224,
   "metadata": {},
   "outputs": [
    {
     "data": {
      "text/html": [
       "<div>\n",
       "<style scoped>\n",
       "    .dataframe tbody tr th:only-of-type {\n",
       "        vertical-align: middle;\n",
       "    }\n",
       "\n",
       "    .dataframe tbody tr th {\n",
       "        vertical-align: top;\n",
       "    }\n",
       "\n",
       "    .dataframe thead th {\n",
       "        text-align: right;\n",
       "    }\n",
       "</style>\n",
       "<table border=\"1\" class=\"dataframe\">\n",
       "  <thead>\n",
       "    <tr style=\"text-align: right;\">\n",
       "      <th></th>\n",
       "      <th>msno</th>\n",
       "      <th>is_churn</th>\n",
       "      <th>num_unq_1m_1st</th>\n",
       "      <th>num_unq_1m_2nd</th>\n",
       "      <th>num_unq_trend</th>\n",
       "      <th>total_secs_1m_1st</th>\n",
       "      <th>total_secs_1m_2nd</th>\n",
       "      <th>total_secs_trend</th>\n",
       "    </tr>\n",
       "  </thead>\n",
       "  <tbody>\n",
       "    <tr>\n",
       "      <th>0</th>\n",
       "      <td>waLDQMmcOu2jLDaV1ddDkgCrB/jl6sD66Xzs0Vqax1Y=</td>\n",
       "      <td>1</td>\n",
       "      <td>105</td>\n",
       "      <td>0</td>\n",
       "      <td>1.050000e+05</td>\n",
       "      <td>419.115051</td>\n",
       "      <td>0.000000</td>\n",
       "      <td>4.191151e+05</td>\n",
       "    </tr>\n",
       "    <tr>\n",
       "      <th>1</th>\n",
       "      <td>QA7uiXy8vIbUSPOkCf9RwQ3FsT8jVq2OxDr8zqa7bRQ=</td>\n",
       "      <td>1</td>\n",
       "      <td>0</td>\n",
       "      <td>0</td>\n",
       "      <td>0.000000e+00</td>\n",
       "      <td>0.000000</td>\n",
       "      <td>0.000000</td>\n",
       "      <td>0.000000e+00</td>\n",
       "    </tr>\n",
       "    <tr>\n",
       "      <th>2</th>\n",
       "      <td>fGwBva6hikQmTJzrbz/2Ezjm5Cth5jZUNvXigKK2AFA=</td>\n",
       "      <td>1</td>\n",
       "      <td>119</td>\n",
       "      <td>0</td>\n",
       "      <td>1.190000e+05</td>\n",
       "      <td>383.069244</td>\n",
       "      <td>0.000000</td>\n",
       "      <td>3.830692e+05</td>\n",
       "    </tr>\n",
       "    <tr>\n",
       "      <th>3</th>\n",
       "      <td>mT5V8rEpa+8wuqi6x0DoVd3H5icMKkE9Prt49UlmK+4=</td>\n",
       "      <td>1</td>\n",
       "      <td>299</td>\n",
       "      <td>0</td>\n",
       "      <td>2.990000e+05</td>\n",
       "      <td>1114.661255</td>\n",
       "      <td>0.000000</td>\n",
       "      <td>1.114661e+06</td>\n",
       "    </tr>\n",
       "    <tr>\n",
       "      <th>4</th>\n",
       "      <td>XaPhtGLk/5UvvOYHcONTwsnH97P4eGECeq+BARGItRw=</td>\n",
       "      <td>1</td>\n",
       "      <td>0</td>\n",
       "      <td>1124</td>\n",
       "      <td>3.821141e+06</td>\n",
       "      <td>0.000000</td>\n",
       "      <td>4929.274902</td>\n",
       "      <td>-9.999998e-01</td>\n",
       "    </tr>\n",
       "  </tbody>\n",
       "</table>\n",
       "</div>"
      ],
      "text/plain": [
       "                                           msno  is_churn  num_unq_1m_1st  \\\n",
       "0  waLDQMmcOu2jLDaV1ddDkgCrB/jl6sD66Xzs0Vqax1Y=         1             105   \n",
       "1  QA7uiXy8vIbUSPOkCf9RwQ3FsT8jVq2OxDr8zqa7bRQ=         1               0   \n",
       "2  fGwBva6hikQmTJzrbz/2Ezjm5Cth5jZUNvXigKK2AFA=         1             119   \n",
       "3  mT5V8rEpa+8wuqi6x0DoVd3H5icMKkE9Prt49UlmK+4=         1             299   \n",
       "4  XaPhtGLk/5UvvOYHcONTwsnH97P4eGECeq+BARGItRw=         1               0   \n",
       "\n",
       "   num_unq_1m_2nd  num_unq_trend  total_secs_1m_1st  total_secs_1m_2nd  \\\n",
       "0               0   1.050000e+05         419.115051           0.000000   \n",
       "1               0   0.000000e+00           0.000000           0.000000   \n",
       "2               0   1.190000e+05         383.069244           0.000000   \n",
       "3               0   2.990000e+05        1114.661255           0.000000   \n",
       "4            1124   3.821141e+06           0.000000        4929.274902   \n",
       "\n",
       "   total_secs_trend  \n",
       "0      4.191151e+05  \n",
       "1      0.000000e+00  \n",
       "2      3.830692e+05  \n",
       "3      1.114661e+06  \n",
       "4     -9.999998e-01  "
      ]
     },
     "execution_count": 224,
     "metadata": {},
     "output_type": "execute_result"
    }
   ],
   "source": [
    "data_train.head()"
   ]
  },
  {
   "cell_type": "code",
   "execution_count": 225,
   "metadata": {},
   "outputs": [
    {
     "data": {
      "text/html": [
       "<div>\n",
       "<style scoped>\n",
       "    .dataframe tbody tr th:only-of-type {\n",
       "        vertical-align: middle;\n",
       "    }\n",
       "\n",
       "    .dataframe tbody tr th {\n",
       "        vertical-align: top;\n",
       "    }\n",
       "\n",
       "    .dataframe thead th {\n",
       "        text-align: right;\n",
       "    }\n",
       "</style>\n",
       "<table border=\"1\" class=\"dataframe\">\n",
       "  <thead>\n",
       "    <tr style=\"text-align: right;\">\n",
       "      <th></th>\n",
       "      <th>msno</th>\n",
       "      <th>is_churn</th>\n",
       "      <th>num_unq_1m_1st</th>\n",
       "      <th>num_unq_1m_2nd</th>\n",
       "      <th>num_unq_trend</th>\n",
       "      <th>total_secs_1m_1st</th>\n",
       "      <th>total_secs_1m_2nd</th>\n",
       "      <th>total_secs_trend</th>\n",
       "    </tr>\n",
       "  </thead>\n",
       "  <tbody>\n",
       "    <tr>\n",
       "      <th>0</th>\n",
       "      <td>4n+fXlyJvfQnTeKXTWT507Ll4JVYGrOC8LHCfwBmPE4=</td>\n",
       "      <td>0</td>\n",
       "      <td>0</td>\n",
       "      <td>0</td>\n",
       "      <td>0.000000e+00</td>\n",
       "      <td>0.000000</td>\n",
       "      <td>0.000000</td>\n",
       "      <td>0.000000</td>\n",
       "    </tr>\n",
       "    <tr>\n",
       "      <th>1</th>\n",
       "      <td>aNmbC1GvFUxQyQUidCVmfbQ0YeCuwkPzEdQ0RwWyeZM=</td>\n",
       "      <td>0</td>\n",
       "      <td>2034</td>\n",
       "      <td>120</td>\n",
       "      <td>1.594987e+01</td>\n",
       "      <td>7383.818359</td>\n",
       "      <td>508.141479</td>\n",
       "      <td>13.531002</td>\n",
       "    </tr>\n",
       "    <tr>\n",
       "      <th>2</th>\n",
       "      <td>rFC9eSG/tMuzpre6cwcMLZHEYM89xY02qcz7HL4//jc=</td>\n",
       "      <td>0</td>\n",
       "      <td>147</td>\n",
       "      <td>105</td>\n",
       "      <td>3.999962e-01</td>\n",
       "      <td>385.685760</td>\n",
       "      <td>229.975235</td>\n",
       "      <td>0.677072</td>\n",
       "    </tr>\n",
       "    <tr>\n",
       "      <th>3</th>\n",
       "      <td>WZ59dLyrQcE7ft06MZ5dj40BnlYQY7PHgg/54+HaCSE=</td>\n",
       "      <td>0</td>\n",
       "      <td>0</td>\n",
       "      <td>0</td>\n",
       "      <td>0.000000e+00</td>\n",
       "      <td>0.000000</td>\n",
       "      <td>0.000000</td>\n",
       "      <td>0.000000</td>\n",
       "    </tr>\n",
       "    <tr>\n",
       "      <th>4</th>\n",
       "      <td>aky/Iv8hMp1/V/yQHLtaVuEmmAxkB5GuasQZePJ7NU4=</td>\n",
       "      <td>0</td>\n",
       "      <td>0</td>\n",
       "      <td>23</td>\n",
       "      <td>1.867296e+08</td>\n",
       "      <td>0.000000</td>\n",
       "      <td>109.004501</td>\n",
       "      <td>-0.999991</td>\n",
       "    </tr>\n",
       "  </tbody>\n",
       "</table>\n",
       "</div>"
      ],
      "text/plain": [
       "                                           msno  is_churn  num_unq_1m_1st  \\\n",
       "0  4n+fXlyJvfQnTeKXTWT507Ll4JVYGrOC8LHCfwBmPE4=         0               0   \n",
       "1  aNmbC1GvFUxQyQUidCVmfbQ0YeCuwkPzEdQ0RwWyeZM=         0            2034   \n",
       "2  rFC9eSG/tMuzpre6cwcMLZHEYM89xY02qcz7HL4//jc=         0             147   \n",
       "3  WZ59dLyrQcE7ft06MZ5dj40BnlYQY7PHgg/54+HaCSE=         0               0   \n",
       "4  aky/Iv8hMp1/V/yQHLtaVuEmmAxkB5GuasQZePJ7NU4=         0               0   \n",
       "\n",
       "   num_unq_1m_2nd  num_unq_trend  total_secs_1m_1st  total_secs_1m_2nd  \\\n",
       "0               0   0.000000e+00           0.000000           0.000000   \n",
       "1             120   1.594987e+01        7383.818359         508.141479   \n",
       "2             105   3.999962e-01         385.685760         229.975235   \n",
       "3               0   0.000000e+00           0.000000           0.000000   \n",
       "4              23   1.867296e+08           0.000000         109.004501   \n",
       "\n",
       "   total_secs_trend  \n",
       "0          0.000000  \n",
       "1         13.531002  \n",
       "2          0.677072  \n",
       "3          0.000000  \n",
       "4         -0.999991  "
      ]
     },
     "execution_count": 225,
     "metadata": {},
     "output_type": "execute_result"
    }
   ],
   "source": [
    "data_test.head()"
   ]
  },
  {
   "cell_type": "code",
   "execution_count": 226,
   "metadata": {},
   "outputs": [],
   "source": [
    "change_datatype_numeric(data_test)\n",
    "change_datatype_numeric(data_train)"
   ]
  },
  {
   "cell_type": "code",
   "execution_count": 227,
   "metadata": {},
   "outputs": [],
   "source": [
    "data_test.to_csv('features\\\\test_logs_part4.csv',index=False) \n",
    "data_train.to_csv('features\\\\train_logs_part4.csv',index=False)"
   ]
  },
  {
   "cell_type": "code",
   "execution_count": 228,
   "metadata": {},
   "outputs": [
    {
     "data": {
      "text/html": [
       "<div>\n",
       "<style scoped>\n",
       "    .dataframe tbody tr th:only-of-type {\n",
       "        vertical-align: middle;\n",
       "    }\n",
       "\n",
       "    .dataframe tbody tr th {\n",
       "        vertical-align: top;\n",
       "    }\n",
       "\n",
       "    .dataframe thead th {\n",
       "        text-align: right;\n",
       "    }\n",
       "</style>\n",
       "<table border=\"1\" class=\"dataframe\">\n",
       "  <thead>\n",
       "    <tr style=\"text-align: right;\">\n",
       "      <th></th>\n",
       "      <th>is_churn</th>\n",
       "      <th>num_unq_1m_1st</th>\n",
       "      <th>num_unq_1m_2nd</th>\n",
       "      <th>num_unq_trend</th>\n",
       "      <th>total_secs_1m_1st</th>\n",
       "      <th>total_secs_1m_2nd</th>\n",
       "      <th>total_secs_trend</th>\n",
       "    </tr>\n",
       "  </thead>\n",
       "  <tbody>\n",
       "    <tr>\n",
       "      <th>count</th>\n",
       "      <td>992931.000000</td>\n",
       "      <td>992931.000000</td>\n",
       "      <td>992931.000000</td>\n",
       "      <td>9.929310e+05</td>\n",
       "      <td>992931.000000</td>\n",
       "      <td>992931.000000</td>\n",
       "      <td>9.929310e+05</td>\n",
       "    </tr>\n",
       "    <tr>\n",
       "      <th>mean</th>\n",
       "      <td>0.063923</td>\n",
       "      <td>102.303109</td>\n",
       "      <td>91.007829</td>\n",
       "      <td>2.423370e+07</td>\n",
       "      <td>461.366669</td>\n",
       "      <td>407.993042</td>\n",
       "      <td>2.466013e+05</td>\n",
       "    </tr>\n",
       "    <tr>\n",
       "      <th>std</th>\n",
       "      <td>0.244616</td>\n",
       "      <td>199.946914</td>\n",
       "      <td>191.575074</td>\n",
       "      <td>1.801714e+08</td>\n",
       "      <td>984.878723</td>\n",
       "      <td>936.491150</td>\n",
       "      <td>7.987638e+05</td>\n",
       "    </tr>\n",
       "    <tr>\n",
       "      <th>min</th>\n",
       "      <td>0.000000</td>\n",
       "      <td>0.000000</td>\n",
       "      <td>0.000000</td>\n",
       "      <td>0.000000e+00</td>\n",
       "      <td>0.000000</td>\n",
       "      <td>0.000000</td>\n",
       "      <td>-1.000000e+00</td>\n",
       "    </tr>\n",
       "    <tr>\n",
       "      <th>25%</th>\n",
       "      <td>0.000000</td>\n",
       "      <td>0.000000</td>\n",
       "      <td>0.000000</td>\n",
       "      <td>0.000000e+00</td>\n",
       "      <td>0.000000</td>\n",
       "      <td>0.000000</td>\n",
       "      <td>-4.869914e-01</td>\n",
       "    </tr>\n",
       "    <tr>\n",
       "      <th>50%</th>\n",
       "      <td>0.000000</td>\n",
       "      <td>0.000000</td>\n",
       "      <td>0.000000</td>\n",
       "      <td>8.395802e+01</td>\n",
       "      <td>0.000000</td>\n",
       "      <td>0.000000</td>\n",
       "      <td>0.000000e+00</td>\n",
       "    </tr>\n",
       "    <tr>\n",
       "      <th>75%</th>\n",
       "      <td>0.000000</td>\n",
       "      <td>131.000000</td>\n",
       "      <td>104.000000</td>\n",
       "      <td>8.694248e+06</td>\n",
       "      <td>547.449280</td>\n",
       "      <td>434.542679</td>\n",
       "      <td>3.820588e+00</td>\n",
       "    </tr>\n",
       "    <tr>\n",
       "      <th>max</th>\n",
       "      <td>1.000000</td>\n",
       "      <td>7604.000000</td>\n",
       "      <td>4507.000000</td>\n",
       "      <td>4.290677e+09</td>\n",
       "      <td>55041.871094</td>\n",
       "      <td>54627.203125</td>\n",
       "      <td>5.504187e+07</td>\n",
       "    </tr>\n",
       "  </tbody>\n",
       "</table>\n",
       "</div>"
      ],
      "text/plain": [
       "            is_churn  num_unq_1m_1st  num_unq_1m_2nd  num_unq_trend  \\\n",
       "count  992931.000000   992931.000000   992931.000000   9.929310e+05   \n",
       "mean        0.063923      102.303109       91.007829   2.423370e+07   \n",
       "std         0.244616      199.946914      191.575074   1.801714e+08   \n",
       "min         0.000000        0.000000        0.000000   0.000000e+00   \n",
       "25%         0.000000        0.000000        0.000000   0.000000e+00   \n",
       "50%         0.000000        0.000000        0.000000   8.395802e+01   \n",
       "75%         0.000000      131.000000      104.000000   8.694248e+06   \n",
       "max         1.000000     7604.000000     4507.000000   4.290677e+09   \n",
       "\n",
       "       total_secs_1m_1st  total_secs_1m_2nd  total_secs_trend  \n",
       "count      992931.000000      992931.000000      9.929310e+05  \n",
       "mean          461.366669         407.993042      2.466013e+05  \n",
       "std           984.878723         936.491150      7.987638e+05  \n",
       "min             0.000000           0.000000     -1.000000e+00  \n",
       "25%             0.000000           0.000000     -4.869914e-01  \n",
       "50%             0.000000           0.000000      0.000000e+00  \n",
       "75%           547.449280         434.542679      3.820588e+00  \n",
       "max         55041.871094       54627.203125      5.504187e+07  "
      ]
     },
     "execution_count": 228,
     "metadata": {},
     "output_type": "execute_result"
    }
   ],
   "source": [
    "data_train.describe()"
   ]
  },
  {
   "cell_type": "code",
   "execution_count": 229,
   "metadata": {},
   "outputs": [
    {
     "name": "stdout",
     "output_type": "stream",
     "text": [
      "<class 'pandas.core.frame.DataFrame'>\n",
      "Int64Index: 907471 entries, 0 to 907470\n",
      "Data columns (total 8 columns):\n",
      "msno                 907471 non-null object\n",
      "is_churn             907471 non-null uint8\n",
      "num_unq_1m_1st       907471 non-null uint32\n",
      "num_unq_1m_2nd       907471 non-null uint32\n",
      "num_unq_trend        907471 non-null float32\n",
      "total_secs_1m_1st    907471 non-null float32\n",
      "total_secs_1m_2nd    907471 non-null float32\n",
      "total_secs_trend     907471 non-null float32\n",
      "dtypes: float32(4), object(1), uint32(2), uint8(1)\n",
      "memory usage: 35.5+ MB\n"
     ]
    }
   ],
   "source": [
    "data_test.info()"
   ]
  },
  {
   "cell_type": "code",
   "execution_count": 230,
   "metadata": {},
   "outputs": [
    {
     "name": "stdout",
     "output_type": "stream",
     "text": [
      "<class 'pandas.core.frame.DataFrame'>\n",
      "Int64Index: 992931 entries, 0 to 992930\n",
      "Data columns (total 8 columns):\n",
      "msno                 992931 non-null object\n",
      "is_churn             992931 non-null uint8\n",
      "num_unq_1m_1st       992931 non-null uint32\n",
      "num_unq_1m_2nd       992931 non-null uint32\n",
      "num_unq_trend        992931 non-null float32\n",
      "total_secs_1m_1st    992931 non-null float32\n",
      "total_secs_1m_2nd    992931 non-null float32\n",
      "total_secs_trend     992931 non-null float32\n",
      "dtypes: float32(4), object(1), uint32(2), uint8(1)\n",
      "memory usage: 38.8+ MB\n"
     ]
    }
   ],
   "source": [
    "data_train.info()"
   ]
  }
 ],
 "metadata": {
  "kernelspec": {
   "display_name": "Python 3",
   "language": "python",
   "name": "python3"
  },
  "language_info": {
   "codemirror_mode": {
    "name": "ipython",
    "version": 3
   },
   "file_extension": ".py",
   "mimetype": "text/x-python",
   "name": "python",
   "nbconvert_exporter": "python",
   "pygments_lexer": "ipython3",
   "version": "3.5.5"
  }
 },
 "nbformat": 4,
 "nbformat_minor": 2
}
